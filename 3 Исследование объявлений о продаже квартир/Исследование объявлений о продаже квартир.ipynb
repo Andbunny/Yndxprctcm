{
 "cells": [
  {
   "cell_type": "markdown",
   "metadata": {
    "toc": true
   },
   "source": [
    "<h1>Содержание<span class=\"tocSkip\"></span></h1>\n",
    "<div class=\"toc\"><ul class=\"toc-item\"><li><span><a href=\"#Изучение-данных-из-файла\" data-toc-modified-id=\"Изучение-данных-из-файла-1\"><span class=\"toc-item-num\">1&nbsp;&nbsp;</span>Изучение данных из файла</a></span><ul class=\"toc-item\"><li><span><a href=\"#Вывод\" data-toc-modified-id=\"Вывод-1.1\"><span class=\"toc-item-num\">1.1&nbsp;&nbsp;</span>Вывод</a></span></li></ul></li><li><span><a href=\"#Предобработка-данных\" data-toc-modified-id=\"Предобработка-данных-2\"><span class=\"toc-item-num\">2&nbsp;&nbsp;</span>Предобработка данных</a></span></li><li><span><a href=\"#Расчёты-и-добавление-результатов-в-таблицу\" data-toc-modified-id=\"Расчёты-и-добавление-результатов-в-таблицу-3\"><span class=\"toc-item-num\">3&nbsp;&nbsp;</span>Расчёты и добавление результатов в таблицу</a></span></li><li><span><a href=\"#Исследовательский-анализ-данных\" data-toc-modified-id=\"Исследовательский-анализ-данных-4\"><span class=\"toc-item-num\">4&nbsp;&nbsp;</span>Исследовательский анализ данных</a></span></li><li><span><a href=\"#Общий-вывод\" data-toc-modified-id=\"Общий-вывод-5\"><span class=\"toc-item-num\">5&nbsp;&nbsp;</span>Общий вывод</a></span></li><li><span><a href=\"#Чек-лист-готовности-проекта\" data-toc-modified-id=\"Чек-лист-готовности-проекта-6\"><span class=\"toc-item-num\">6&nbsp;&nbsp;</span>Чек-лист готовности проекта</a></span></li></ul></div>"
   ]
  },
  {
   "cell_type": "markdown",
   "metadata": {},
   "source": [
    "# Исследование объявлений о продаже квартир\n",
    "\n",
    "В вашем распоряжении данные сервиса Яндекс.Недвижимость — архив объявлений о продаже квартир в Санкт-Петербурге и соседних населённых пунктах за несколько лет. Нужно научиться определять рыночную стоимость объектов недвижимости. Ваша задача — установить параметры. Это позволит построить автоматизированную систему: она отследит аномалии и мошенническую деятельность. \n",
    "\n",
    "По каждой квартире на продажу доступны два вида данных. Первые вписаны пользователем, вторые получены автоматически на основе картографических данных. Например, расстояние до центра, аэропорта, ближайшего парка и водоёма. "
   ]
  },
  {
   "cell_type": "markdown",
   "metadata": {},
   "source": [
    "## Изучение данных из файла"
   ]
  },
  {
   "cell_type": "markdown",
   "metadata": {},
   "source": [
    "Прочитаем данные"
   ]
  },
  {
   "cell_type": "code",
   "execution_count": 76,
   "metadata": {},
   "outputs": [],
   "source": [
    "import pandas as pd\n",
    "import matplotlib.pyplot as plt\n",
    "import seaborn as sns\n",
    "data = pd.read_csv('/datasets/real_estate_data.csv', sep = '\\t')\n",
    "import warnings\n",
    "\n",
    "warnings.simplefilter('ignore')\n"
   ]
  },
  {
   "cell_type": "code",
   "execution_count": 77,
   "metadata": {},
   "outputs": [
    {
     "name": "stdout",
     "output_type": "stream",
     "text": [
      "<class 'pandas.core.frame.DataFrame'>\n",
      "RangeIndex: 23699 entries, 0 to 23698\n",
      "Data columns (total 22 columns):\n",
      "total_images            23699 non-null int64\n",
      "last_price              23699 non-null float64\n",
      "total_area              23699 non-null float64\n",
      "first_day_exposition    23699 non-null object\n",
      "rooms                   23699 non-null int64\n",
      "ceiling_height          14504 non-null float64\n",
      "floors_total            23613 non-null float64\n",
      "living_area             21796 non-null float64\n",
      "floor                   23699 non-null int64\n",
      "is_apartment            2775 non-null object\n",
      "studio                  23699 non-null bool\n",
      "open_plan               23699 non-null bool\n",
      "kitchen_area            21421 non-null float64\n",
      "balcony                 12180 non-null float64\n",
      "locality_name           23650 non-null object\n",
      "airports_nearest        18157 non-null float64\n",
      "cityCenters_nearest     18180 non-null float64\n",
      "parks_around3000        18181 non-null float64\n",
      "parks_nearest           8079 non-null float64\n",
      "ponds_around3000        18181 non-null float64\n",
      "ponds_nearest           9110 non-null float64\n",
      "days_exposition         20518 non-null float64\n",
      "dtypes: bool(2), float64(14), int64(3), object(3)\n",
      "memory usage: 3.7+ MB\n"
     ]
    }
   ],
   "source": [
    "data.info()"
   ]
  },
  {
   "cell_type": "code",
   "execution_count": 78,
   "metadata": {},
   "outputs": [
    {
     "data": {
      "text/html": [
       "<div>\n",
       "<style scoped>\n",
       "    .dataframe tbody tr th:only-of-type {\n",
       "        vertical-align: middle;\n",
       "    }\n",
       "\n",
       "    .dataframe tbody tr th {\n",
       "        vertical-align: top;\n",
       "    }\n",
       "\n",
       "    .dataframe thead th {\n",
       "        text-align: right;\n",
       "    }\n",
       "</style>\n",
       "<table border=\"1\" class=\"dataframe\">\n",
       "  <thead>\n",
       "    <tr style=\"text-align: right;\">\n",
       "      <th></th>\n",
       "      <th>total_images</th>\n",
       "      <th>last_price</th>\n",
       "      <th>total_area</th>\n",
       "      <th>first_day_exposition</th>\n",
       "      <th>rooms</th>\n",
       "      <th>ceiling_height</th>\n",
       "      <th>floors_total</th>\n",
       "      <th>living_area</th>\n",
       "      <th>floor</th>\n",
       "      <th>is_apartment</th>\n",
       "      <th>...</th>\n",
       "      <th>kitchen_area</th>\n",
       "      <th>balcony</th>\n",
       "      <th>locality_name</th>\n",
       "      <th>airports_nearest</th>\n",
       "      <th>cityCenters_nearest</th>\n",
       "      <th>parks_around3000</th>\n",
       "      <th>parks_nearest</th>\n",
       "      <th>ponds_around3000</th>\n",
       "      <th>ponds_nearest</th>\n",
       "      <th>days_exposition</th>\n",
       "    </tr>\n",
       "  </thead>\n",
       "  <tbody>\n",
       "    <tr>\n",
       "      <td>0</td>\n",
       "      <td>20</td>\n",
       "      <td>13000000.0</td>\n",
       "      <td>108.00</td>\n",
       "      <td>2019-03-07T00:00:00</td>\n",
       "      <td>3</td>\n",
       "      <td>2.70</td>\n",
       "      <td>16.0</td>\n",
       "      <td>51.00</td>\n",
       "      <td>8</td>\n",
       "      <td>NaN</td>\n",
       "      <td>...</td>\n",
       "      <td>25.00</td>\n",
       "      <td>NaN</td>\n",
       "      <td>Санкт-Петербург</td>\n",
       "      <td>18863.0</td>\n",
       "      <td>16028.0</td>\n",
       "      <td>1.0</td>\n",
       "      <td>482.0</td>\n",
       "      <td>2.0</td>\n",
       "      <td>755.0</td>\n",
       "      <td>NaN</td>\n",
       "    </tr>\n",
       "    <tr>\n",
       "      <td>1</td>\n",
       "      <td>7</td>\n",
       "      <td>3350000.0</td>\n",
       "      <td>40.40</td>\n",
       "      <td>2018-12-04T00:00:00</td>\n",
       "      <td>1</td>\n",
       "      <td>NaN</td>\n",
       "      <td>11.0</td>\n",
       "      <td>18.60</td>\n",
       "      <td>1</td>\n",
       "      <td>NaN</td>\n",
       "      <td>...</td>\n",
       "      <td>11.00</td>\n",
       "      <td>2.0</td>\n",
       "      <td>посёлок Шушары</td>\n",
       "      <td>12817.0</td>\n",
       "      <td>18603.0</td>\n",
       "      <td>0.0</td>\n",
       "      <td>NaN</td>\n",
       "      <td>0.0</td>\n",
       "      <td>NaN</td>\n",
       "      <td>81.0</td>\n",
       "    </tr>\n",
       "    <tr>\n",
       "      <td>2</td>\n",
       "      <td>10</td>\n",
       "      <td>5196000.0</td>\n",
       "      <td>56.00</td>\n",
       "      <td>2015-08-20T00:00:00</td>\n",
       "      <td>2</td>\n",
       "      <td>NaN</td>\n",
       "      <td>5.0</td>\n",
       "      <td>34.30</td>\n",
       "      <td>4</td>\n",
       "      <td>NaN</td>\n",
       "      <td>...</td>\n",
       "      <td>8.30</td>\n",
       "      <td>0.0</td>\n",
       "      <td>Санкт-Петербург</td>\n",
       "      <td>21741.0</td>\n",
       "      <td>13933.0</td>\n",
       "      <td>1.0</td>\n",
       "      <td>90.0</td>\n",
       "      <td>2.0</td>\n",
       "      <td>574.0</td>\n",
       "      <td>558.0</td>\n",
       "    </tr>\n",
       "    <tr>\n",
       "      <td>3</td>\n",
       "      <td>0</td>\n",
       "      <td>64900000.0</td>\n",
       "      <td>159.00</td>\n",
       "      <td>2015-07-24T00:00:00</td>\n",
       "      <td>3</td>\n",
       "      <td>NaN</td>\n",
       "      <td>14.0</td>\n",
       "      <td>NaN</td>\n",
       "      <td>9</td>\n",
       "      <td>NaN</td>\n",
       "      <td>...</td>\n",
       "      <td>NaN</td>\n",
       "      <td>0.0</td>\n",
       "      <td>Санкт-Петербург</td>\n",
       "      <td>28098.0</td>\n",
       "      <td>6800.0</td>\n",
       "      <td>2.0</td>\n",
       "      <td>84.0</td>\n",
       "      <td>3.0</td>\n",
       "      <td>234.0</td>\n",
       "      <td>424.0</td>\n",
       "    </tr>\n",
       "    <tr>\n",
       "      <td>4</td>\n",
       "      <td>2</td>\n",
       "      <td>10000000.0</td>\n",
       "      <td>100.00</td>\n",
       "      <td>2018-06-19T00:00:00</td>\n",
       "      <td>2</td>\n",
       "      <td>3.03</td>\n",
       "      <td>14.0</td>\n",
       "      <td>32.00</td>\n",
       "      <td>13</td>\n",
       "      <td>NaN</td>\n",
       "      <td>...</td>\n",
       "      <td>41.00</td>\n",
       "      <td>NaN</td>\n",
       "      <td>Санкт-Петербург</td>\n",
       "      <td>31856.0</td>\n",
       "      <td>8098.0</td>\n",
       "      <td>2.0</td>\n",
       "      <td>112.0</td>\n",
       "      <td>1.0</td>\n",
       "      <td>48.0</td>\n",
       "      <td>121.0</td>\n",
       "    </tr>\n",
       "    <tr>\n",
       "      <td>5</td>\n",
       "      <td>10</td>\n",
       "      <td>2890000.0</td>\n",
       "      <td>30.40</td>\n",
       "      <td>2018-09-10T00:00:00</td>\n",
       "      <td>1</td>\n",
       "      <td>NaN</td>\n",
       "      <td>12.0</td>\n",
       "      <td>14.40</td>\n",
       "      <td>5</td>\n",
       "      <td>NaN</td>\n",
       "      <td>...</td>\n",
       "      <td>9.10</td>\n",
       "      <td>NaN</td>\n",
       "      <td>городской посёлок Янино-1</td>\n",
       "      <td>NaN</td>\n",
       "      <td>NaN</td>\n",
       "      <td>NaN</td>\n",
       "      <td>NaN</td>\n",
       "      <td>NaN</td>\n",
       "      <td>NaN</td>\n",
       "      <td>55.0</td>\n",
       "    </tr>\n",
       "    <tr>\n",
       "      <td>6</td>\n",
       "      <td>6</td>\n",
       "      <td>3700000.0</td>\n",
       "      <td>37.30</td>\n",
       "      <td>2017-11-02T00:00:00</td>\n",
       "      <td>1</td>\n",
       "      <td>NaN</td>\n",
       "      <td>26.0</td>\n",
       "      <td>10.60</td>\n",
       "      <td>6</td>\n",
       "      <td>NaN</td>\n",
       "      <td>...</td>\n",
       "      <td>14.40</td>\n",
       "      <td>1.0</td>\n",
       "      <td>посёлок Парголово</td>\n",
       "      <td>52996.0</td>\n",
       "      <td>19143.0</td>\n",
       "      <td>0.0</td>\n",
       "      <td>NaN</td>\n",
       "      <td>0.0</td>\n",
       "      <td>NaN</td>\n",
       "      <td>155.0</td>\n",
       "    </tr>\n",
       "    <tr>\n",
       "      <td>7</td>\n",
       "      <td>5</td>\n",
       "      <td>7915000.0</td>\n",
       "      <td>71.60</td>\n",
       "      <td>2019-04-18T00:00:00</td>\n",
       "      <td>2</td>\n",
       "      <td>NaN</td>\n",
       "      <td>24.0</td>\n",
       "      <td>NaN</td>\n",
       "      <td>22</td>\n",
       "      <td>NaN</td>\n",
       "      <td>...</td>\n",
       "      <td>18.90</td>\n",
       "      <td>2.0</td>\n",
       "      <td>Санкт-Петербург</td>\n",
       "      <td>23982.0</td>\n",
       "      <td>11634.0</td>\n",
       "      <td>0.0</td>\n",
       "      <td>NaN</td>\n",
       "      <td>0.0</td>\n",
       "      <td>NaN</td>\n",
       "      <td>NaN</td>\n",
       "    </tr>\n",
       "    <tr>\n",
       "      <td>8</td>\n",
       "      <td>20</td>\n",
       "      <td>2900000.0</td>\n",
       "      <td>33.16</td>\n",
       "      <td>2018-05-23T00:00:00</td>\n",
       "      <td>1</td>\n",
       "      <td>NaN</td>\n",
       "      <td>27.0</td>\n",
       "      <td>15.43</td>\n",
       "      <td>26</td>\n",
       "      <td>NaN</td>\n",
       "      <td>...</td>\n",
       "      <td>8.81</td>\n",
       "      <td>NaN</td>\n",
       "      <td>посёлок Мурино</td>\n",
       "      <td>NaN</td>\n",
       "      <td>NaN</td>\n",
       "      <td>NaN</td>\n",
       "      <td>NaN</td>\n",
       "      <td>NaN</td>\n",
       "      <td>NaN</td>\n",
       "      <td>189.0</td>\n",
       "    </tr>\n",
       "    <tr>\n",
       "      <td>9</td>\n",
       "      <td>18</td>\n",
       "      <td>5400000.0</td>\n",
       "      <td>61.00</td>\n",
       "      <td>2017-02-26T00:00:00</td>\n",
       "      <td>3</td>\n",
       "      <td>2.50</td>\n",
       "      <td>9.0</td>\n",
       "      <td>43.60</td>\n",
       "      <td>7</td>\n",
       "      <td>NaN</td>\n",
       "      <td>...</td>\n",
       "      <td>6.50</td>\n",
       "      <td>2.0</td>\n",
       "      <td>Санкт-Петербург</td>\n",
       "      <td>50898.0</td>\n",
       "      <td>15008.0</td>\n",
       "      <td>0.0</td>\n",
       "      <td>NaN</td>\n",
       "      <td>0.0</td>\n",
       "      <td>NaN</td>\n",
       "      <td>289.0</td>\n",
       "    </tr>\n",
       "    <tr>\n",
       "      <td>10</td>\n",
       "      <td>5</td>\n",
       "      <td>5050000.0</td>\n",
       "      <td>39.60</td>\n",
       "      <td>2017-11-16T00:00:00</td>\n",
       "      <td>1</td>\n",
       "      <td>2.67</td>\n",
       "      <td>12.0</td>\n",
       "      <td>20.30</td>\n",
       "      <td>3</td>\n",
       "      <td>NaN</td>\n",
       "      <td>...</td>\n",
       "      <td>8.50</td>\n",
       "      <td>NaN</td>\n",
       "      <td>Санкт-Петербург</td>\n",
       "      <td>38357.0</td>\n",
       "      <td>13878.0</td>\n",
       "      <td>1.0</td>\n",
       "      <td>310.0</td>\n",
       "      <td>2.0</td>\n",
       "      <td>553.0</td>\n",
       "      <td>137.0</td>\n",
       "    </tr>\n",
       "    <tr>\n",
       "      <td>11</td>\n",
       "      <td>9</td>\n",
       "      <td>3300000.0</td>\n",
       "      <td>44.00</td>\n",
       "      <td>2018-08-27T00:00:00</td>\n",
       "      <td>2</td>\n",
       "      <td>NaN</td>\n",
       "      <td>5.0</td>\n",
       "      <td>31.00</td>\n",
       "      <td>4</td>\n",
       "      <td>False</td>\n",
       "      <td>...</td>\n",
       "      <td>6.00</td>\n",
       "      <td>1.0</td>\n",
       "      <td>Ломоносов</td>\n",
       "      <td>48252.0</td>\n",
       "      <td>51677.0</td>\n",
       "      <td>0.0</td>\n",
       "      <td>NaN</td>\n",
       "      <td>0.0</td>\n",
       "      <td>NaN</td>\n",
       "      <td>7.0</td>\n",
       "    </tr>\n",
       "    <tr>\n",
       "      <td>12</td>\n",
       "      <td>10</td>\n",
       "      <td>3890000.0</td>\n",
       "      <td>54.00</td>\n",
       "      <td>2016-06-30T00:00:00</td>\n",
       "      <td>2</td>\n",
       "      <td>NaN</td>\n",
       "      <td>5.0</td>\n",
       "      <td>30.00</td>\n",
       "      <td>5</td>\n",
       "      <td>NaN</td>\n",
       "      <td>...</td>\n",
       "      <td>9.00</td>\n",
       "      <td>0.0</td>\n",
       "      <td>Сертолово</td>\n",
       "      <td>NaN</td>\n",
       "      <td>NaN</td>\n",
       "      <td>NaN</td>\n",
       "      <td>NaN</td>\n",
       "      <td>NaN</td>\n",
       "      <td>NaN</td>\n",
       "      <td>90.0</td>\n",
       "    </tr>\n",
       "    <tr>\n",
       "      <td>13</td>\n",
       "      <td>20</td>\n",
       "      <td>3550000.0</td>\n",
       "      <td>42.80</td>\n",
       "      <td>2017-07-01T00:00:00</td>\n",
       "      <td>2</td>\n",
       "      <td>2.56</td>\n",
       "      <td>5.0</td>\n",
       "      <td>27.00</td>\n",
       "      <td>5</td>\n",
       "      <td>NaN</td>\n",
       "      <td>...</td>\n",
       "      <td>5.20</td>\n",
       "      <td>1.0</td>\n",
       "      <td>Петергоф</td>\n",
       "      <td>37868.0</td>\n",
       "      <td>33058.0</td>\n",
       "      <td>1.0</td>\n",
       "      <td>294.0</td>\n",
       "      <td>3.0</td>\n",
       "      <td>298.0</td>\n",
       "      <td>366.0</td>\n",
       "    </tr>\n",
       "    <tr>\n",
       "      <td>14</td>\n",
       "      <td>1</td>\n",
       "      <td>4400000.0</td>\n",
       "      <td>36.00</td>\n",
       "      <td>2016-06-23T00:00:00</td>\n",
       "      <td>1</td>\n",
       "      <td>NaN</td>\n",
       "      <td>6.0</td>\n",
       "      <td>17.00</td>\n",
       "      <td>1</td>\n",
       "      <td>NaN</td>\n",
       "      <td>...</td>\n",
       "      <td>8.00</td>\n",
       "      <td>0.0</td>\n",
       "      <td>Пушкин</td>\n",
       "      <td>20782.0</td>\n",
       "      <td>30759.0</td>\n",
       "      <td>0.0</td>\n",
       "      <td>NaN</td>\n",
       "      <td>1.0</td>\n",
       "      <td>96.0</td>\n",
       "      <td>203.0</td>\n",
       "    </tr>\n",
       "  </tbody>\n",
       "</table>\n",
       "<p>15 rows × 22 columns</p>\n",
       "</div>"
      ],
      "text/plain": [
       "    total_images  last_price  total_area first_day_exposition  rooms  \\\n",
       "0             20  13000000.0      108.00  2019-03-07T00:00:00      3   \n",
       "1              7   3350000.0       40.40  2018-12-04T00:00:00      1   \n",
       "2             10   5196000.0       56.00  2015-08-20T00:00:00      2   \n",
       "3              0  64900000.0      159.00  2015-07-24T00:00:00      3   \n",
       "4              2  10000000.0      100.00  2018-06-19T00:00:00      2   \n",
       "5             10   2890000.0       30.40  2018-09-10T00:00:00      1   \n",
       "6              6   3700000.0       37.30  2017-11-02T00:00:00      1   \n",
       "7              5   7915000.0       71.60  2019-04-18T00:00:00      2   \n",
       "8             20   2900000.0       33.16  2018-05-23T00:00:00      1   \n",
       "9             18   5400000.0       61.00  2017-02-26T00:00:00      3   \n",
       "10             5   5050000.0       39.60  2017-11-16T00:00:00      1   \n",
       "11             9   3300000.0       44.00  2018-08-27T00:00:00      2   \n",
       "12            10   3890000.0       54.00  2016-06-30T00:00:00      2   \n",
       "13            20   3550000.0       42.80  2017-07-01T00:00:00      2   \n",
       "14             1   4400000.0       36.00  2016-06-23T00:00:00      1   \n",
       "\n",
       "    ceiling_height  floors_total  living_area  floor is_apartment  ...  \\\n",
       "0             2.70          16.0        51.00      8          NaN  ...   \n",
       "1              NaN          11.0        18.60      1          NaN  ...   \n",
       "2              NaN           5.0        34.30      4          NaN  ...   \n",
       "3              NaN          14.0          NaN      9          NaN  ...   \n",
       "4             3.03          14.0        32.00     13          NaN  ...   \n",
       "5              NaN          12.0        14.40      5          NaN  ...   \n",
       "6              NaN          26.0        10.60      6          NaN  ...   \n",
       "7              NaN          24.0          NaN     22          NaN  ...   \n",
       "8              NaN          27.0        15.43     26          NaN  ...   \n",
       "9             2.50           9.0        43.60      7          NaN  ...   \n",
       "10            2.67          12.0        20.30      3          NaN  ...   \n",
       "11             NaN           5.0        31.00      4        False  ...   \n",
       "12             NaN           5.0        30.00      5          NaN  ...   \n",
       "13            2.56           5.0        27.00      5          NaN  ...   \n",
       "14             NaN           6.0        17.00      1          NaN  ...   \n",
       "\n",
       "    kitchen_area  balcony              locality_name  airports_nearest  \\\n",
       "0          25.00      NaN            Санкт-Петербург           18863.0   \n",
       "1          11.00      2.0             посёлок Шушары           12817.0   \n",
       "2           8.30      0.0            Санкт-Петербург           21741.0   \n",
       "3            NaN      0.0            Санкт-Петербург           28098.0   \n",
       "4          41.00      NaN            Санкт-Петербург           31856.0   \n",
       "5           9.10      NaN  городской посёлок Янино-1               NaN   \n",
       "6          14.40      1.0          посёлок Парголово           52996.0   \n",
       "7          18.90      2.0            Санкт-Петербург           23982.0   \n",
       "8           8.81      NaN             посёлок Мурино               NaN   \n",
       "9           6.50      2.0            Санкт-Петербург           50898.0   \n",
       "10          8.50      NaN            Санкт-Петербург           38357.0   \n",
       "11          6.00      1.0                  Ломоносов           48252.0   \n",
       "12          9.00      0.0                  Сертолово               NaN   \n",
       "13          5.20      1.0                   Петергоф           37868.0   \n",
       "14          8.00      0.0                     Пушкин           20782.0   \n",
       "\n",
       "   cityCenters_nearest  parks_around3000  parks_nearest  ponds_around3000  \\\n",
       "0              16028.0               1.0          482.0               2.0   \n",
       "1              18603.0               0.0            NaN               0.0   \n",
       "2              13933.0               1.0           90.0               2.0   \n",
       "3               6800.0               2.0           84.0               3.0   \n",
       "4               8098.0               2.0          112.0               1.0   \n",
       "5                  NaN               NaN            NaN               NaN   \n",
       "6              19143.0               0.0            NaN               0.0   \n",
       "7              11634.0               0.0            NaN               0.0   \n",
       "8                  NaN               NaN            NaN               NaN   \n",
       "9              15008.0               0.0            NaN               0.0   \n",
       "10             13878.0               1.0          310.0               2.0   \n",
       "11             51677.0               0.0            NaN               0.0   \n",
       "12                 NaN               NaN            NaN               NaN   \n",
       "13             33058.0               1.0          294.0               3.0   \n",
       "14             30759.0               0.0            NaN               1.0   \n",
       "\n",
       "    ponds_nearest  days_exposition  \n",
       "0           755.0              NaN  \n",
       "1             NaN             81.0  \n",
       "2           574.0            558.0  \n",
       "3           234.0            424.0  \n",
       "4            48.0            121.0  \n",
       "5             NaN             55.0  \n",
       "6             NaN            155.0  \n",
       "7             NaN              NaN  \n",
       "8             NaN            189.0  \n",
       "9             NaN            289.0  \n",
       "10          553.0            137.0  \n",
       "11            NaN              7.0  \n",
       "12            NaN             90.0  \n",
       "13          298.0            366.0  \n",
       "14           96.0            203.0  \n",
       "\n",
       "[15 rows x 22 columns]"
      ]
     },
     "execution_count": 78,
     "metadata": {},
     "output_type": "execute_result"
    }
   ],
   "source": [
    "data.head(15)"
   ]
  },
  {
   "cell_type": "code",
   "execution_count": 79,
   "metadata": {},
   "outputs": [
    {
     "data": {
      "text/plain": [
       "total_images                0\n",
       "last_price                  0\n",
       "total_area                  0\n",
       "first_day_exposition        0\n",
       "rooms                       0\n",
       "ceiling_height           9195\n",
       "floors_total               86\n",
       "living_area              1903\n",
       "floor                       0\n",
       "is_apartment            20924\n",
       "studio                      0\n",
       "open_plan                   0\n",
       "kitchen_area             2278\n",
       "balcony                 11519\n",
       "locality_name              49\n",
       "airports_nearest         5542\n",
       "cityCenters_nearest      5519\n",
       "parks_around3000         5518\n",
       "parks_nearest           15620\n",
       "ponds_around3000         5518\n",
       "ponds_nearest           14589\n",
       "days_exposition          3181\n",
       "dtype: int64"
      ]
     },
     "execution_count": 79,
     "metadata": {},
     "output_type": "execute_result"
    }
   ],
   "source": [
    "data.isnull().sum()"
   ]
  },
  {
   "cell_type": "code",
   "execution_count": 80,
   "metadata": {},
   "outputs": [
    {
     "data": {
      "text/plain": [
       "0"
      ]
     },
     "execution_count": 80,
     "metadata": {},
     "output_type": "execute_result"
    }
   ],
   "source": [
    "data.duplicated().sum()"
   ]
  },
  {
   "cell_type": "markdown",
   "metadata": {},
   "source": [
    "### Вывод"
   ]
  },
  {
   "cell_type": "markdown",
   "metadata": {},
   "source": [
    "**Проблемки:**  \n",
    "first_day_exposition - должен быть тип datetime  \n",
    "ceiling_height - есть пропущенные значения  \n",
    "floors_total - должен быть тип int, т.к. количество этажей - целое значение, а так же пропущенные значения  \n",
    "is_apartment - должен быть тип bool, а так же пропущенные значения  \n",
    "living_area - пропущенные значения  \n",
    "kitchen_area - пропущенные значения  \n",
    "balcony - пропущенные значения  \n",
    "locality_name - пропущенные значения  \n",
    "airports_nearest - пропущенные значения  \n",
    "cityCenters_nearest - пропущенные значения  \n",
    "parks_around3000 - тип должен быть int, а так же пропущенные значения  \n",
    "parks_nearest - пропущенные значения  \n",
    "ponds_around3000 - тип должен быть int, а так же пропущенные значения  \n",
    "ponds_nearest - пропущенные значения  \n",
    "days_exposition - тип должен быть int, а так же пропущенные значения"
   ]
  },
  {
   "cell_type": "markdown",
   "metadata": {},
   "source": [
    "## Предобработка данных"
   ]
  },
  {
   "cell_type": "markdown",
   "metadata": {},
   "source": [
    "Изменяем тип на целые числа"
   ]
  },
  {
   "cell_type": "code",
   "execution_count": 81,
   "metadata": {},
   "outputs": [],
   "source": [
    "data['last_price'] = data['last_price'].astype(int)"
   ]
  },
  {
   "cell_type": "markdown",
   "metadata": {},
   "source": [
    "Меняем тип данных на даты"
   ]
  },
  {
   "cell_type": "code",
   "execution_count": 82,
   "metadata": {},
   "outputs": [],
   "source": [
    "data['first_day_exposition'] = pd.to_datetime(data['first_day_exposition'], format='%Y-%m-%dT%H:%M:%S')"
   ]
  },
  {
   "cell_type": "markdown",
   "metadata": {},
   "source": [
    "Заменяем проаущенные значения в аппартаментах на False, скорее всего человек увидел  вопрос \"у вас аппартаменты\" и зная что у него квартира, просто пропустил данный вопрос"
   ]
  },
  {
   "cell_type": "code",
   "execution_count": 83,
   "metadata": {},
   "outputs": [],
   "source": [
    "data['is_apartment'] = data['is_apartment'].fillna(value=False)"
   ]
  },
  {
   "cell_type": "markdown",
   "metadata": {},
   "source": [
    "Нет балкона, парков и пруда - нет проблем, меняем на 0"
   ]
  },
  {
   "cell_type": "code",
   "execution_count": 84,
   "metadata": {},
   "outputs": [],
   "source": [
    "data['balcony'] = data['balcony'].fillna(value=0).astype(int)"
   ]
  },
  {
   "cell_type": "code",
   "execution_count": 85,
   "metadata": {},
   "outputs": [],
   "source": [
    "data['parks_around3000'] = data['parks_around3000'].fillna(value=0).astype(int)\n",
    "data['parks_nearest'] = data['parks_nearest'].fillna(value=0).astype(int)"
   ]
  },
  {
   "cell_type": "code",
   "execution_count": 86,
   "metadata": {},
   "outputs": [],
   "source": [
    "data['ponds_around3000'] = data['ponds_around3000'].fillna(value=0).astype(int)\n",
    "data['ponds_nearest'] = data['ponds_nearest'].fillna(value=0).astype(int)"
   ]
  },
  {
   "cell_type": "markdown",
   "metadata": {},
   "source": [
    "```python\n",
    "\n",
    "columns = [col1, col2, col3]\n",
    "\n",
    "for i in columns:\n",
    "    df[i] = df[i].fillna(0)\n",
    "\n",
    "```"
   ]
  },
  {
   "cell_type": "markdown",
   "metadata": {},
   "source": [
    "Ввиду малого числа пропущенных значений в названии нас. пункта и общей этажности здания и невозможности их корректно заполнить - все сносим"
   ]
  },
  {
   "cell_type": "code",
   "execution_count": 87,
   "metadata": {},
   "outputs": [],
   "source": [
    "data.dropna(subset=['locality_name'], inplace=True)\n",
    "data.dropna(subset=['floors_total'], inplace=True)"
   ]
  },
  {
   "cell_type": "markdown",
   "metadata": {},
   "source": [
    "Оставшаяся этажность - к целым числам"
   ]
  },
  {
   "cell_type": "code",
   "execution_count": 88,
   "metadata": {},
   "outputs": [],
   "source": [
    "data['floors_total'] = data['floors_total'].astype(int)"
   ]
  },
  {
   "cell_type": "markdown",
   "metadata": {},
   "source": [
    "Пропущенные значения высоты потолка заполним медианным значением"
   ]
  },
  {
   "cell_type": "code",
   "execution_count": 89,
   "metadata": {},
   "outputs": [],
   "source": [
    "data['ceiling_height'] = data.groupby(['locality_name', 'floors_total'])['ceiling_height'].apply(lambda x: x.fillna(x.median()))\n",
    "data['ceiling_height'].fillna(data['ceiling_height'].median(), inplace=True)"
   ]
  },
  {
   "cell_type": "markdown",
   "metadata": {},
   "source": [
    "Высчитываем пропущенные значения в жилой площади и плозади кухонь"
   ]
  },
  {
   "cell_type": "code",
   "execution_count": 91,
   "metadata": {},
   "outputs": [],
   "source": [
    "living_ratio = data['living_area'].mean() / data['total_area'].mean()\n",
    "kitchen_ratio = data['kitchen_area'].mean() / data['total_area'].mean()\n",
    "data['living_area'].fillna(living_ratio * data['total_area'], inplace=True)\n",
    "data['kitchen_area'].fillna(kitchen_ratio * data['total_area'], inplace=True)"
   ]
  },
  {
   "cell_type": "code",
   "execution_count": 92,
   "metadata": {},
   "outputs": [
    {
     "data": {
      "image/png": "[encoded data removed]",
      "text/plain": [
       "<Figure size 432x288 with 1 Axes>"
      ]
     },
     "metadata": {
      "needs_background": "light"
     },
     "output_type": "display_data"
    }
   ],
   "source": [
    "data[data['days_exposition'].isna()]['first_day_exposition'].hist(xrot=45)\n",
    "plt.show()"
   ]
  },
  {
   "cell_type": "markdown",
   "metadata": {},
   "source": [
    "Скорее всего пропущенные значения в days_explosioin - это квартиры которые еще продаются"
   ]
  },
  {
   "cell_type": "code",
   "execution_count": 93,
   "metadata": {},
   "outputs": [
    {
     "data": {
      "text/plain": [
       "total_images               0\n",
       "last_price                 0\n",
       "total_area                 0\n",
       "first_day_exposition       0\n",
       "rooms                      0\n",
       "ceiling_height             0\n",
       "floors_total               0\n",
       "living_area                0\n",
       "floor                      0\n",
       "is_apartment               0\n",
       "studio                     0\n",
       "open_plan                  0\n",
       "kitchen_area               0\n",
       "balcony                    0\n",
       "locality_name              0\n",
       "airports_nearest        5524\n",
       "cityCenters_nearest     5501\n",
       "parks_around3000           0\n",
       "parks_nearest              0\n",
       "ponds_around3000           0\n",
       "ponds_nearest              0\n",
       "days_exposition         3171\n",
       "dtype: int64"
      ]
     },
     "execution_count": 93,
     "metadata": {},
     "output_type": "execute_result"
    }
   ],
   "source": [
    "data.isnull().sum()"
   ]
  },
  {
   "cell_type": "markdown",
   "metadata": {},
   "source": [
    "## Расчёты и добавление результатов в таблицу"
   ]
  },
  {
   "cell_type": "markdown",
   "metadata": {},
   "source": [
    "Посчитаем стоимость квадратного метра и сразу сделаем его целым числом"
   ]
  },
  {
   "cell_type": "code",
   "execution_count": 94,
   "metadata": {},
   "outputs": [],
   "source": [
    "data['sm_price'] = data['last_price'] / data['total_area']\n",
    "data['sm_price'] = data['sm_price'].astype(int)"
   ]
  },
  {
   "cell_type": "markdown",
   "metadata": {},
   "source": [
    "добавим столбцы дней недели, месяце и годов"
   ]
  },
  {
   "cell_type": "code",
   "execution_count": 95,
   "metadata": {},
   "outputs": [],
   "source": [
    "data['weekday'] = data['first_day_exposition'].dt.weekday\n",
    "data['month'] = data['first_day_exposition'].dt.month\n",
    "data['year'] = data['first_day_exposition'].dt.year"
   ]
  },
  {
   "cell_type": "markdown",
   "metadata": {},
   "source": [
    "Обзовем этаж первым, последним и остальными"
   ]
  },
  {
   "cell_type": "code",
   "execution_count": 96,
   "metadata": {},
   "outputs": [],
   "source": [
    "def floor_group(row):\n",
    "    if row['floor'] == 1:\n",
    "        return 'первый'\n",
    "    elif row['floor'] == row['floors_total']:\n",
    "        return 'последний'\n",
    "    else:\n",
    "        return 'другой'\n",
    "data['floor_type'] = data.apply(floor_group, axis=1)"
   ]
  },
  {
   "cell_type": "markdown",
   "metadata": {},
   "source": [
    "Добавим стоблцы соотношения жилой прощади к общей и кухни к общей площади"
   ]
  },
  {
   "cell_type": "code",
   "execution_count": 97,
   "metadata": {},
   "outputs": [],
   "source": [
    "data['area_ratio'] = data['living_area'] / data['total_area'] * 100\n",
    "data['area_ratio'] = data['area_ratio'].fillna(value=0).astype(int)"
   ]
  },
  {
   "cell_type": "code",
   "execution_count": 98,
   "metadata": {},
   "outputs": [],
   "source": [
    "data['kitchen_ratio'] = data['kitchen_area'] / data['total_area'] * 100\n",
    "data['kitchen_ratio'] = data['kitchen_ratio'].fillna(value=0).astype(int)"
   ]
  },
  {
   "cell_type": "markdown",
   "metadata": {},
   "source": [
    "## Исследовательский анализ данных"
   ]
  },
  {
   "cell_type": "markdown",
   "metadata": {},
   "source": [
    "Изучим следующие параметры: площадь, цена, число комнат, высота потолков. Построим гистограммы для каждого параметра."
   ]
  },
  {
   "cell_type": "markdown",
   "metadata": {},
   "source": [
    "Визуализирум площадь квартир"
   ]
  },
  {
   "cell_type": "markdown",
   "metadata": {},
   "source": [
    "<div class=\"alert alert-info\"> <b>Постарался изобразить функцию, работает</b></div>"
   ]
  },
  {
   "cell_type": "code",
   "execution_count": 99,
   "metadata": {},
   "outputs": [],
   "source": [
    "def histing(df, column, title):\n",
    "    d = df[column].describe()\n",
    "    r1 = d['25%'] - 3 * (d['75%'] - d['25%'])\n",
    "    r2 = d['25%'] + 5 * (d['75%'] - d['25%'])\n",
    "    if r1 < 0: r1 = 0 \n",
    "    df[column].plot(kind='hist', bins=30, range=(r1, r2), grid=True, title=title, figsize=(10,5), legend=True)"
   ]
  },
  {
   "cell_type": "code",
   "execution_count": 100,
   "metadata": {},
   "outputs": [
    {
     "data": {
      "image/png": "[encoded data removed]",
      "text/plain": [
       "<Figure size 720x360 with 1 Axes>"
      ]
     },
     "metadata": {
      "needs_background": "light"
     },
     "output_type": "display_data"
    }
   ],
   "source": [
    "histing(data, 'total_area', 'Площадь, кв.м')"
   ]
  },
  {
   "cell_type": "code",
   "execution_count": 101,
   "metadata": {},
   "outputs": [
    {
     "data": {
      "image/png": "[encoded data removed]",
      "text/plain": [
       "<Figure size 720x360 with 1 Axes>"
      ]
     },
     "metadata": {
      "needs_background": "light"
     },
     "output_type": "display_data"
    }
   ],
   "source": [
    "histing(data, 'last_price', 'Стоимость квартир')"
   ]
  },
  {
   "cell_type": "code",
   "execution_count": 102,
   "metadata": {},
   "outputs": [
    {
     "data": {
      "image/png": "[encoded data removed]",
      "text/plain": [
       "<Figure size 432x288 with 1 Axes>"
      ]
     },
     "metadata": {
      "needs_background": "light"
     },
     "output_type": "display_data"
    },
    {
     "name": "stdout",
     "output_type": "stream",
     "text": [
      "Наибольшие по площади варианты:\n",
      "19540    900.0\n",
      "12859    631.2\n",
      "3117     631.0\n",
      "15651    618.0\n",
      "5358     590.0\n",
      "4237     517.0\n",
      "8018     507.0\n",
      "5893     500.0\n",
      "15016    500.0\n",
      "12401    495.0\n",
      "Name: total_area, dtype: float64\n"
     ]
    }
   ],
   "source": [
    "plt.hist(data['total_area'], bins=30, range=(10,200))\n",
    "plt.title('Площадь квартир')\n",
    "plt.xlabel('Квадратные метры')\n",
    "plt.ylabel('Количество квартир')\n",
    "plt.show()\n",
    "print('Наибольшие по площади варианты:')\n",
    "print(data['total_area'].sort_values(ascending=False).head(10))"
   ]
  },
  {
   "cell_type": "markdown",
   "metadata": {},
   "source": [
    "Посмотрм на стоимость квартир"
   ]
  },
  {
   "cell_type": "code",
   "execution_count": 103,
   "metadata": {},
   "outputs": [
    {
     "data": {
      "image/png": "[encoded data removed]",
      "text/plain": [
       "<Figure size 432x288 with 1 Axes>"
      ]
     },
     "metadata": {
      "needs_background": "light"
     },
     "output_type": "display_data"
    },
    {
     "name": "stdout",
     "output_type": "stream",
     "text": [
      "Наибольшие по цене варианты:\n",
      "12971    763000000\n",
      "19540    420000000\n",
      "14706    401300000\n",
      "1436     330000000\n",
      "15651    300000000\n",
      "22831    289238400\n",
      "16461    245000000\n",
      "13749    240000000\n",
      "5893     230000000\n",
      "8900     190870000\n",
      "Name: last_price, dtype: int64\n"
     ]
    }
   ],
   "source": [
    "plt.hist(data['last_price'], bins=30, range=(0,20000000))\n",
    "plt.title('Стоимость квартир')\n",
    "plt.xlabel('Стоимость')\n",
    "plt.ylabel('Количество квартир')\n",
    "plt.show()\n",
    "print('Наибольшие по цене варианты:')\n",
    "print(data['last_price'].sort_values(ascending=False).head(10))"
   ]
  },
  {
   "cell_type": "markdown",
   "metadata": {},
   "source": [
    "Посмотрим на количество комнат в квартирах"
   ]
  },
  {
   "cell_type": "code",
   "execution_count": 104,
   "metadata": {},
   "outputs": [
    {
     "data": {
      "image/png": "[encoded data removed]",
      "text/plain": [
       "<Figure size 432x288 with 1 Axes>"
      ]
     },
     "metadata": {
      "needs_background": "light"
     },
     "output_type": "display_data"
    },
    {
     "name": "stdout",
     "output_type": "stream",
     "text": [
      "Наибольшие по числу комнат варианты:\n",
      "14498    19\n",
      "18848    16\n",
      "5358     15\n",
      "20829    14\n",
      "866      14\n",
      "19540    12\n",
      "9688     11\n",
      "648      11\n",
      "18119    10\n",
      "18891    10\n",
      "Name: rooms, dtype: int64\n"
     ]
    }
   ],
   "source": [
    "plt.hist(data['rooms'], bins=7, range=(1,7))\n",
    "plt.title('Комнаты')\n",
    "plt.xlabel('Количество комнат')\n",
    "plt.ylabel('Количество квартир')\n",
    "plt.show()\n",
    "print('Наибольшие по числу комнат варианты:')\n",
    "print(data['rooms'].sort_values(ascending=False).head(10))"
   ]
  },
  {
   "cell_type": "markdown",
   "metadata": {},
   "source": [
    "Работа с потолками"
   ]
  },
  {
   "cell_type": "code",
   "execution_count": 105,
   "metadata": {},
   "outputs": [
    {
     "data": {
      "image/png": "[encoded data removed]",
      "text/plain": [
       "<Figure size 432x288 with 1 Axes>"
      ]
     },
     "metadata": {
      "needs_background": "light"
     },
     "output_type": "display_data"
    },
    {
     "name": "stdout",
     "output_type": "stream",
     "text": [
      "Наибольшие по высоте потолков варианты:\n",
      "22869    100.0\n",
      "3148      32.0\n",
      "22336     32.0\n",
      "21377     27.5\n",
      "5246      27.0\n",
      "10773     27.0\n",
      "21824     27.0\n",
      "5807      27.0\n",
      "22938     27.0\n",
      "4876      27.0\n",
      "Name: ceiling_height, dtype: float64\n"
     ]
    }
   ],
   "source": [
    "plt.hist(data.query('(ceiling_height > 2) & (ceiling_height < 4)')['ceiling_height'], bins=20)\n",
    "plt.title('Высота потолков')\n",
    "plt.xlabel('Метры')\n",
    "plt.ylabel('Количество квартир')\n",
    "plt.show()\n",
    "print('Наибольшие по высоте потолков варианты:')\n",
    "print(data['ceiling_height'].sort_values(ascending=False).head(10))"
   ]
  },
  {
   "cell_type": "markdown",
   "metadata": {},
   "source": [
    "Площади кухни"
   ]
  },
  {
   "cell_type": "code",
   "execution_count": 106,
   "metadata": {
    "scrolled": true
   },
   "outputs": [
    {
     "data": {
      "image/png": "[encoded data removed]",
      "text/plain": [
       "<Figure size 432x288 with 1 Axes>"
      ]
     },
     "metadata": {
      "needs_background": "light"
     },
     "output_type": "display_data"
    },
    {
     "name": "stdout",
     "output_type": "stream",
     "text": [
      "Наибольшие по площади кухни варианты:\n",
      "19540    112.000000\n",
      "20215    107.000000\n",
      "2489     100.700000\n",
      "5358     100.000000\n",
      "16239     93.200000\n",
      "16797     93.000000\n",
      "15016     87.537299\n",
      "10867     87.200000\n",
      "9826      86.504359\n",
      "4394      77.000000\n",
      "Name: kitchen_area, dtype: float64\n"
     ]
    }
   ],
   "source": [
    "plt.hist(data['kitchen_area'], bins=30, range=(0,30))\n",
    "plt.title('Площадь кухни')\n",
    "plt.xlabel('Квадратные метры')\n",
    "plt.ylabel('Количество квартир')\n",
    "plt.show()\n",
    "print('Наибольшие по площади кухни варианты:')\n",
    "print(data['kitchen_area'].sort_values(ascending=False).head(10))"
   ]
  },
  {
   "cell_type": "markdown",
   "metadata": {},
   "source": [
    "Жилая прощадь"
   ]
  },
  {
   "cell_type": "code",
   "execution_count": 107,
   "metadata": {},
   "outputs": [
    {
     "data": {
      "image/png": "[encoded data removed]",
      "text/plain": [
       "<Figure size 432x288 with 1 Axes>"
      ]
     },
     "metadata": {
      "needs_background": "light"
     },
     "output_type": "display_data"
    },
    {
     "name": "stdout",
     "output_type": "stream",
     "text": [
      "Наибольшие по жилой площади варианты:\n",
      "19540    409.700000\n",
      "5358     409.000000\n",
      "3117     360.410721\n",
      "12401    347.500000\n",
      "4237     332.000000\n",
      "12859    322.300000\n",
      "660      312.500000\n",
      "8018     301.500000\n",
      "14088    300.000000\n",
      "5893     285.586942\n",
      "Name: living_area, dtype: float64\n"
     ]
    }
   ],
   "source": [
    "plt.hist(data['living_area'], bins=70, range=(10,80))\n",
    "plt.title('Жилая площадь')\n",
    "plt.xlabel('Квадратные метры')\n",
    "plt.ylabel('Количество квартир')\n",
    "plt.show()\n",
    "print('Наибольшие по жилой площади варианты:')\n",
    "print(data['living_area'].sort_values(ascending=False).head(10))"
   ]
  },
  {
   "cell_type": "markdown",
   "metadata": {},
   "source": [
    "Посмотрим на распределение по стоимости квадратного метра"
   ]
  },
  {
   "cell_type": "code",
   "execution_count": 108,
   "metadata": {},
   "outputs": [
    {
     "data": {
      "image/png": "[encoded data removed]",
      "text/plain": [
       "<Figure size 432x288 with 1 Axes>"
      ]
     },
     "metadata": {
      "needs_background": "light"
     },
     "output_type": "display_data"
    },
    {
     "name": "stdout",
     "output_type": "stream",
     "text": [
      "Наибольшие по цене за квадрат варианты:\n",
      "12971    1907500\n",
      "1436     1736842\n",
      "22831    1542604\n",
      "14706    1000748\n",
      "4996      995983\n",
      "16461     857542\n",
      "4859      848484\n",
      "17172     848484\n",
      "16647     841379\n",
      "17912     813253\n",
      "Name: sm_price, dtype: int64\n"
     ]
    }
   ],
   "source": [
    "plt.hist(data['sm_price'], bins=50, range=(0,250000))\n",
    "plt.title('Стоимость квадратного метра')\n",
    "plt.xlabel('Стоимость')\n",
    "plt.ylabel('Количество квартир')\n",
    "plt.show()\n",
    "print('Наибольшие по цене за квадрат варианты:')\n",
    "print(data['sm_price'].sort_values(ascending=False).head(10))"
   ]
  },
  {
   "cell_type": "markdown",
   "metadata": {},
   "source": [
    "Вывод\n",
    "- Площадь:\n",
    "Квартиры площадью больше 75 м2 меркнут на фоне количества квартир меньшей площадью, но есть и гиганты, я бы сказал дворцы с плозади несколько сотен квадратов.\n",
    "- Стоимость:\n",
    "Тоже самое и прослеживается в стоимости - все смещено влево, до 8 млн собрана большая часть квартир, но те же дворцы могут стоить больше 15 миллонов.\n",
    "- Комнаты:\n",
    "Как и ожидалось одно, двух и трехкомнатные квартиры самые популярные, дальше - все реже и реже\n",
    "- Высота потолков:\n",
    "Самые популярыне потолки 2,5 метра, есть и аномалии в 100 и 30 метров, скорее всего ошибка в неправильно поставленных знаках, их число невелико \n",
    "- Площадь кухни:\n",
    "от 5 до 11 - уверенные лидеры квартир Санкт-Петербурга, остальные редки или являются фантазиями домохозяек)\n",
    "- Жилая площадь:\n",
    "Видим 3х горбового верблюда, но не стоит боятся - эти пики показывают 1, 2 и 3 комнатные квартиры\n",
    "- Стоимость квадратного метра:\n",
    "Красивый график нормального распределения"
   ]
  },
  {
   "cell_type": "markdown",
   "metadata": {},
   "source": [
    "2. Изучение времени продажи квартиры"
   ]
  },
  {
   "cell_type": "markdown",
   "metadata": {},
   "source": [
    "Узнаем медиану и среднее в днях продажи квартир"
   ]
  },
  {
   "cell_type": "code",
   "execution_count": 109,
   "metadata": {},
   "outputs": [
    {
     "name": "stdout",
     "output_type": "stream",
     "text": [
      "Время продажи (медиана): 121 \n",
      "\n",
      "Время продажи (среднее): 193 \n",
      "\n"
     ]
    }
   ],
   "source": [
    "print('Время продажи (медиана):', round(data.query('days_exposition')['days_exposition'].median()),'\\n')\n",
    "print('Время продажи (среднее):', round(data.query('days_exposition')['days_exposition'].mean()),'\\n')"
   ]
  },
  {
   "cell_type": "markdown",
   "metadata": {},
   "source": [
    "Гистограмма"
   ]
  },
  {
   "cell_type": "code",
   "execution_count": 110,
   "metadata": {},
   "outputs": [
    {
     "data": {
      "image/png": "[encoded data removed]",
      "text/plain": [
       "<Figure size 432x288 with 1 Axes>"
      ]
     },
     "metadata": {
      "needs_background": "light"
     },
     "output_type": "display_data"
    },
    {
     "data": {
      "text/plain": [
       "count    14480.000000\n",
       "mean       193.290470\n",
       "std        211.510707\n",
       "min          3.000000\n",
       "25%         46.000000\n",
       "50%        121.000000\n",
       "75%        265.000000\n",
       "max       1572.000000\n",
       "Name: days_exposition, dtype: float64"
      ]
     },
     "execution_count": 110,
     "metadata": {},
     "output_type": "execute_result"
    }
   ],
   "source": [
    "\n",
    "plt.hist(data.query('days_exposition')['days_exposition'], bins=100, range=(0,500))\n",
    "plt.title('Время продажи')\n",
    "plt.xlabel('Дни')\n",
    "plt.ylabel('Количество квартир')\n",
    "plt.show()\n",
    "\n",
    "data.query('days_exposition')['days_exposition'].describe()"
   ]
  },
  {
   "cell_type": "markdown",
   "metadata": {},
   "source": [
    "Вывод:\n",
    "- Медианное время продажи 121 дней, хотя можно увидеть что много квартир почти сразу продаются, а есть прям \"висяки\""
   ]
  },
  {
   "cell_type": "markdown",
   "metadata": {},
   "source": [
    "3. Работа с редкими и выбивающимися значениями"
   ]
  },
  {
   "cell_type": "markdown",
   "metadata": {},
   "source": [
    "Отбросим значения на основе 1,5 размаха"
   ]
  },
  {
   "cell_type": "code",
   "execution_count": 111,
   "metadata": {},
   "outputs": [
    {
     "data": {
      "text/html": [
       "<div>\n",
       "<style scoped>\n",
       "    .dataframe tbody tr th:only-of-type {\n",
       "        vertical-align: middle;\n",
       "    }\n",
       "\n",
       "    .dataframe tbody tr th {\n",
       "        vertical-align: top;\n",
       "    }\n",
       "\n",
       "    .dataframe thead th {\n",
       "        text-align: right;\n",
       "    }\n",
       "</style>\n",
       "<table border=\"1\" class=\"dataframe\">\n",
       "  <thead>\n",
       "    <tr style=\"text-align: right;\">\n",
       "      <th></th>\n",
       "      <th>total_images</th>\n",
       "      <th>last_price</th>\n",
       "      <th>total_area</th>\n",
       "      <th>rooms</th>\n",
       "      <th>ceiling_height</th>\n",
       "      <th>floors_total</th>\n",
       "      <th>living_area</th>\n",
       "      <th>floor</th>\n",
       "      <th>kitchen_area</th>\n",
       "      <th>balcony</th>\n",
       "      <th>...</th>\n",
       "      <th>parks_nearest</th>\n",
       "      <th>ponds_around3000</th>\n",
       "      <th>ponds_nearest</th>\n",
       "      <th>days_exposition</th>\n",
       "      <th>sm_price</th>\n",
       "      <th>weekday</th>\n",
       "      <th>month</th>\n",
       "      <th>year</th>\n",
       "      <th>area_ratio</th>\n",
       "      <th>kitchen_ratio</th>\n",
       "    </tr>\n",
       "  </thead>\n",
       "  <tbody>\n",
       "    <tr>\n",
       "      <td>count</td>\n",
       "      <td>23565.000000</td>\n",
       "      <td>2.151900e+04</td>\n",
       "      <td>22326.000000</td>\n",
       "      <td>23565.000000</td>\n",
       "      <td>21837.000000</td>\n",
       "      <td>23565.000000</td>\n",
       "      <td>22682.000000</td>\n",
       "      <td>23565.000000</td>\n",
       "      <td>22250.000000</td>\n",
       "      <td>23565.000000</td>\n",
       "      <td>...</td>\n",
       "      <td>23565.000000</td>\n",
       "      <td>23565.000000</td>\n",
       "      <td>23565.000000</td>\n",
       "      <td>18721.000000</td>\n",
       "      <td>2.356500e+04</td>\n",
       "      <td>23565.000000</td>\n",
       "      <td>23565.000000</td>\n",
       "      <td>23565.000000</td>\n",
       "      <td>23565.000000</td>\n",
       "      <td>23565.000000</td>\n",
       "    </tr>\n",
       "    <tr>\n",
       "      <td>mean</td>\n",
       "      <td>9.878421</td>\n",
       "      <td>4.837115e+06</td>\n",
       "      <td>54.319704</td>\n",
       "      <td>2.013495</td>\n",
       "      <td>2.659333</td>\n",
       "      <td>10.675875</td>\n",
       "      <td>31.526984</td>\n",
       "      <td>5.878124</td>\n",
       "      <td>9.417840</td>\n",
       "      <td>0.593677</td>\n",
       "      <td>...</td>\n",
       "      <td>167.169998</td>\n",
       "      <td>0.589900</td>\n",
       "      <td>198.738129</td>\n",
       "      <td>128.299343</td>\n",
       "      <td>9.940539e+04</td>\n",
       "      <td>2.567367</td>\n",
       "      <td>6.401570</td>\n",
       "      <td>2017.371016</td>\n",
       "      <td>56.098748</td>\n",
       "      <td>18.140208</td>\n",
       "    </tr>\n",
       "    <tr>\n",
       "      <td>std</td>\n",
       "      <td>5.681156</td>\n",
       "      <td>2.215774e+06</td>\n",
       "      <td>19.331030</td>\n",
       "      <td>0.986750</td>\n",
       "      <td>0.143003</td>\n",
       "      <td>6.594823</td>\n",
       "      <td>13.752739</td>\n",
       "      <td>4.871485</td>\n",
       "      <td>3.177523</td>\n",
       "      <td>0.960660</td>\n",
       "      <td>...</td>\n",
       "      <td>306.301628</td>\n",
       "      <td>0.883966</td>\n",
       "      <td>305.195521</td>\n",
       "      <td>121.064671</td>\n",
       "      <td>5.038944e+04</td>\n",
       "      <td>1.788279</td>\n",
       "      <td>3.492948</td>\n",
       "      <td>1.037393</td>\n",
       "      <td>10.108382</td>\n",
       "      <td>6.962338</td>\n",
       "    </tr>\n",
       "    <tr>\n",
       "      <td>min</td>\n",
       "      <td>0.000000</td>\n",
       "      <td>1.219000e+04</td>\n",
       "      <td>12.000000</td>\n",
       "      <td>0.000000</td>\n",
       "      <td>2.250000</td>\n",
       "      <td>1.000000</td>\n",
       "      <td>2.000000</td>\n",
       "      <td>1.000000</td>\n",
       "      <td>1.300000</td>\n",
       "      <td>0.000000</td>\n",
       "      <td>...</td>\n",
       "      <td>0.000000</td>\n",
       "      <td>0.000000</td>\n",
       "      <td>0.000000</td>\n",
       "      <td>1.000000</td>\n",
       "      <td>1.110000e+02</td>\n",
       "      <td>0.000000</td>\n",
       "      <td>1.000000</td>\n",
       "      <td>2014.000000</td>\n",
       "      <td>2.000000</td>\n",
       "      <td>2.000000</td>\n",
       "    </tr>\n",
       "    <tr>\n",
       "      <td>25%</td>\n",
       "      <td>6.000000</td>\n",
       "      <td>3.300000e+06</td>\n",
       "      <td>39.400000</td>\n",
       "      <td>1.000000</td>\n",
       "      <td>2.550000</td>\n",
       "      <td>5.000000</td>\n",
       "      <td>18.700000</td>\n",
       "      <td>2.000000</td>\n",
       "      <td>7.000000</td>\n",
       "      <td>0.000000</td>\n",
       "      <td>...</td>\n",
       "      <td>0.000000</td>\n",
       "      <td>0.000000</td>\n",
       "      <td>0.000000</td>\n",
       "      <td>41.000000</td>\n",
       "      <td>7.656600e+04</td>\n",
       "      <td>1.000000</td>\n",
       "      <td>3.000000</td>\n",
       "      <td>2017.000000</td>\n",
       "      <td>50.000000</td>\n",
       "      <td>13.000000</td>\n",
       "    </tr>\n",
       "    <tr>\n",
       "      <td>50%</td>\n",
       "      <td>9.000000</td>\n",
       "      <td>4.400000e+06</td>\n",
       "      <td>50.000000</td>\n",
       "      <td>2.000000</td>\n",
       "      <td>2.640000</td>\n",
       "      <td>9.000000</td>\n",
       "      <td>30.000000</td>\n",
       "      <td>4.000000</td>\n",
       "      <td>9.000000</td>\n",
       "      <td>0.000000</td>\n",
       "      <td>...</td>\n",
       "      <td>0.000000</td>\n",
       "      <td>0.000000</td>\n",
       "      <td>0.000000</td>\n",
       "      <td>85.000000</td>\n",
       "      <td>9.500000e+04</td>\n",
       "      <td>3.000000</td>\n",
       "      <td>6.000000</td>\n",
       "      <td>2017.000000</td>\n",
       "      <td>57.000000</td>\n",
       "      <td>17.000000</td>\n",
       "    </tr>\n",
       "    <tr>\n",
       "      <td>75%</td>\n",
       "      <td>14.000000</td>\n",
       "      <td>6.000000e+06</td>\n",
       "      <td>65.500000</td>\n",
       "      <td>3.000000</td>\n",
       "      <td>2.750000</td>\n",
       "      <td>16.000000</td>\n",
       "      <td>40.600000</td>\n",
       "      <td>8.000000</td>\n",
       "      <td>11.000000</td>\n",
       "      <td>1.000000</td>\n",
       "      <td>...</td>\n",
       "      <td>301.000000</td>\n",
       "      <td>1.000000</td>\n",
       "      <td>389.000000</td>\n",
       "      <td>182.000000</td>\n",
       "      <td>1.142130e+05</td>\n",
       "      <td>4.000000</td>\n",
       "      <td>10.000000</td>\n",
       "      <td>2018.000000</td>\n",
       "      <td>63.000000</td>\n",
       "      <td>22.000000</td>\n",
       "    </tr>\n",
       "    <tr>\n",
       "      <td>max</td>\n",
       "      <td>50.000000</td>\n",
       "      <td>1.186686e+07</td>\n",
       "      <td>114.200000</td>\n",
       "      <td>5.000000</td>\n",
       "      <td>3.050000</td>\n",
       "      <td>60.000000</td>\n",
       "      <td>76.700000</td>\n",
       "      <td>33.000000</td>\n",
       "      <td>19.450000</td>\n",
       "      <td>5.000000</td>\n",
       "      <td>...</td>\n",
       "      <td>3190.000000</td>\n",
       "      <td>3.000000</td>\n",
       "      <td>1344.000000</td>\n",
       "      <td>509.000000</td>\n",
       "      <td>1.907500e+06</td>\n",
       "      <td>6.000000</td>\n",
       "      <td>12.000000</td>\n",
       "      <td>2019.000000</td>\n",
       "      <td>100.000000</td>\n",
       "      <td>78.000000</td>\n",
       "    </tr>\n",
       "  </tbody>\n",
       "</table>\n",
       "<p>8 rows × 23 columns</p>\n",
       "</div>"
      ],
      "text/plain": [
       "       total_images    last_price    total_area         rooms  ceiling_height  \\\n",
       "count  23565.000000  2.151900e+04  22326.000000  23565.000000    21837.000000   \n",
       "mean       9.878421  4.837115e+06     54.319704      2.013495        2.659333   \n",
       "std        5.681156  2.215774e+06     19.331030      0.986750        0.143003   \n",
       "min        0.000000  1.219000e+04     12.000000      0.000000        2.250000   \n",
       "25%        6.000000  3.300000e+06     39.400000      1.000000        2.550000   \n",
       "50%        9.000000  4.400000e+06     50.000000      2.000000        2.640000   \n",
       "75%       14.000000  6.000000e+06     65.500000      3.000000        2.750000   \n",
       "max       50.000000  1.186686e+07    114.200000      5.000000        3.050000   \n",
       "\n",
       "       floors_total   living_area         floor  kitchen_area       balcony  \\\n",
       "count  23565.000000  22682.000000  23565.000000  22250.000000  23565.000000   \n",
       "mean      10.675875     31.526984      5.878124      9.417840      0.593677   \n",
       "std        6.594823     13.752739      4.871485      3.177523      0.960660   \n",
       "min        1.000000      2.000000      1.000000      1.300000      0.000000   \n",
       "25%        5.000000     18.700000      2.000000      7.000000      0.000000   \n",
       "50%        9.000000     30.000000      4.000000      9.000000      0.000000   \n",
       "75%       16.000000     40.600000      8.000000     11.000000      1.000000   \n",
       "max       60.000000     76.700000     33.000000     19.450000      5.000000   \n",
       "\n",
       "       ...  parks_nearest  ponds_around3000  ponds_nearest  days_exposition  \\\n",
       "count  ...   23565.000000      23565.000000   23565.000000     18721.000000   \n",
       "mean   ...     167.169998          0.589900     198.738129       128.299343   \n",
       "std    ...     306.301628          0.883966     305.195521       121.064671   \n",
       "min    ...       0.000000          0.000000       0.000000         1.000000   \n",
       "25%    ...       0.000000          0.000000       0.000000        41.000000   \n",
       "50%    ...       0.000000          0.000000       0.000000        85.000000   \n",
       "75%    ...     301.000000          1.000000     389.000000       182.000000   \n",
       "max    ...    3190.000000          3.000000    1344.000000       509.000000   \n",
       "\n",
       "           sm_price       weekday         month          year    area_ratio  \\\n",
       "count  2.356500e+04  23565.000000  23565.000000  23565.000000  23565.000000   \n",
       "mean   9.940539e+04      2.567367      6.401570   2017.371016     56.098748   \n",
       "std    5.038944e+04      1.788279      3.492948      1.037393     10.108382   \n",
       "min    1.110000e+02      0.000000      1.000000   2014.000000      2.000000   \n",
       "25%    7.656600e+04      1.000000      3.000000   2017.000000     50.000000   \n",
       "50%    9.500000e+04      3.000000      6.000000   2017.000000     57.000000   \n",
       "75%    1.142130e+05      4.000000     10.000000   2018.000000     63.000000   \n",
       "max    1.907500e+06      6.000000     12.000000   2019.000000    100.000000   \n",
       "\n",
       "       kitchen_ratio  \n",
       "count   23565.000000  \n",
       "mean       18.140208  \n",
       "std         6.962338  \n",
       "min         2.000000  \n",
       "25%        13.000000  \n",
       "50%        17.000000  \n",
       "75%        22.000000  \n",
       "max        78.000000  \n",
       "\n",
       "[8 rows x 23 columns]"
      ]
     },
     "execution_count": 111,
     "metadata": {},
     "output_type": "execute_result"
    }
   ],
   "source": [
    "def quartile_range(df, column):\n",
    "    q1 = df[column].quantile(0.25)\n",
    "    q3 = df[column].quantile(0.75)\n",
    "    iqr = q3 - q1\n",
    "    dfq = df.loc[(df[column] < q3 + 1.5*iqr) & (df[column] > q1 - 1.5*iqr), column]\n",
    "    return dfq\n",
    "\n",
    "list_features = ['last_price', 'total_area', 'kitchen_area', 'living_area', 'days_exposition', 'ceiling_height', 'rooms']\n",
    "for col in list_features:\n",
    "    data[col] = quartile_range(data, col)\n",
    "\n",
    "\n",
    "data['rooms'] = data['rooms'].fillna(0).astype(int)\n",
    "\n",
    "data.describe()"
   ]
  },
  {
   "cell_type": "markdown",
   "metadata": {},
   "source": [
    "Вывод\n",
    "В датафрейме отброшены значения на основе 1.5 размаха."
   ]
  },
  {
   "cell_type": "markdown",
   "metadata": {},
   "source": [
    "4. Определение факторов, влияющих на стоимость квартиры"
   ]
  },
  {
   "cell_type": "markdown",
   "metadata": {},
   "source": [
    "Посмотрим на зависимость цены и площади:"
   ]
  },
  {
   "cell_type": "code",
   "execution_count": 112,
   "metadata": {},
   "outputs": [
    {
     "data": {
      "image/png": "[encoded data removed]",
      "text/plain": [
       "<Figure size 360x360 with 1 Axes>"
      ]
     },
     "metadata": {
      "needs_background": "light"
     },
     "output_type": "display_data"
    },
    {
     "name": "stdout",
     "output_type": "stream",
     "text": [
      "Корреляция цены и площади: \n",
      "\n",
      "            last_price  total_area\n",
      "last_price    1.000000    0.905372\n",
      "total_area    0.905372    1.000000 \n",
      "\n"
     ]
    }
   ],
   "source": [
    "(\n",
    "    data.pivot_table(index='total_area', values='last_price')\n",
    "    .plot(grid=True, style='o', figsize=(5, 5))\n",
    ")\n",
    "plt.show()\n",
    "print('Корреляция цены и площади:','\\n')\n",
    "print(data.pivot_table(index='floor', values=['total_area', 'last_price']).corr(),'\\n')\n"
   ]
  },
  {
   "cell_type": "markdown",
   "metadata": {},
   "source": [
    "Зависимость цены от комнат:"
   ]
  },
  {
   "cell_type": "code",
   "execution_count": 113,
   "metadata": {},
   "outputs": [
    {
     "data": {
      "image/png": "[encoded data removed]",
      "text/plain": [
       "<Figure size 360x360 with 1 Axes>"
      ]
     },
     "metadata": {
      "needs_background": "light"
     },
     "output_type": "display_data"
    },
    {
     "name": "stdout",
     "output_type": "stream",
     "text": [
      "Корреляция цены и числа комнат: \n",
      "\n",
      "            last_price     rooms\n",
      "last_price    1.000000  0.537551\n",
      "rooms         0.537551  1.000000 \n",
      "\n"
     ]
    }
   ],
   "source": [
    "(\n",
    "    data.query('rooms > 0').pivot_table(index='rooms', values='last_price')\n",
    "    .plot(grid=True, style='o-', figsize=(5, 5))\n",
    ")\n",
    "plt.show()\n",
    "print('Корреляция цены и числа комнат:','\\n')\n",
    "print(data.query('rooms > 0').pivot_table(index='floor', values=['rooms', 'last_price']).corr(),'\\n')"
   ]
  },
  {
   "cell_type": "markdown",
   "metadata": {},
   "source": [
    "Зависимость цены квартиры и удаленностью от центра:"
   ]
  },
  {
   "cell_type": "code",
   "execution_count": 114,
   "metadata": {},
   "outputs": [
    {
     "data": {
      "image/png": "[encoded data removed]",
      "text/plain": [
       "<Figure size 360x360 with 1 Axes>"
      ]
     },
     "metadata": {
      "needs_background": "light"
     },
     "output_type": "display_data"
    },
    {
     "name": "stdout",
     "output_type": "stream",
     "text": [
      "Корреляция цены и удалённости от центра: \n",
      "\n",
      "                     cityCenters_nearest  last_price\n",
      "cityCenters_nearest             1.000000    0.712077\n",
      "last_price                      0.712077    1.000000 \n",
      "\n"
     ]
    }
   ],
   "source": [
    "(\n",
    "    data.pivot_table(index='cityCenters_nearest', values='last_price')\n",
    "    .plot(grid=True, style='o', figsize=(5, 5))\n",
    ")\n",
    "plt.show()\n",
    "print('Корреляция цены и удалённости от центра:','\\n')\n",
    "print(data.pivot_table(index='floor', values=['cityCenters_nearest', 'last_price']).corr(),'\\n')"
   ]
  },
  {
   "cell_type": "markdown",
   "metadata": {},
   "source": [
    "Влияет ли этаж на стоимость"
   ]
  },
  {
   "cell_type": "code",
   "execution_count": 115,
   "metadata": {},
   "outputs": [
    {
     "data": {
      "image/png": "[encoded data removed]",
      "text/plain": [
       "<Figure size 360x360 with 1 Axes>"
      ]
     },
     "metadata": {
      "needs_background": "light"
     },
     "output_type": "display_data"
    }
   ],
   "source": [
    "(\n",
    "    data.pivot_table(index='floor_type', values='last_price', aggfunc='median')\n",
    "    .plot(grid=True, style='o-', figsize=(5, 5))\n",
    ")\n",
    "plt.show()"
   ]
  },
  {
   "cell_type": "markdown",
   "metadata": {},
   "source": [
    "Зависимость цены от общей площади:"
   ]
  },
  {
   "cell_type": "code",
   "execution_count": 116,
   "metadata": {},
   "outputs": [
    {
     "data": {
      "image/png": "[encoded data removed]",
      "text/plain": [
       "<Figure size 360x360 with 1 Axes>"
      ]
     },
     "metadata": {
      "needs_background": "light"
     },
     "output_type": "display_data"
    },
    {
     "name": "stdout",
     "output_type": "stream",
     "text": [
      "Корреляция цены за квадрат и площади: \n",
      "\n",
      "            sm_price  total_area\n",
      "sm_price    1.000000    0.047401\n",
      "total_area  0.047401    1.000000 \n",
      "\n"
     ]
    }
   ],
   "source": [
    "(\n",
    "    data.pivot_table(index='total_area', values='sm_price')\n",
    "    .plot(grid=True, style='o', figsize=(5, 5))\n",
    ")\n",
    "plt.show()\n",
    "print('Корреляция цены за квадрат и площади:','\\n')\n",
    "print(data.pivot_table(index='floor', values=['total_area', 'sm_price']).corr(),'\\n')"
   ]
  },
  {
   "cell_type": "markdown",
   "metadata": {},
   "source": [
    "Зависимость цены м2 от колличества комнат:"
   ]
  },
  {
   "cell_type": "code",
   "execution_count": 117,
   "metadata": {},
   "outputs": [
    {
     "data": {
      "image/png": "[encoded data removed]",
      "text/plain": [
       "<Figure size 360x360 with 1 Axes>"
      ]
     },
     "metadata": {
      "needs_background": "light"
     },
     "output_type": "display_data"
    },
    {
     "name": "stdout",
     "output_type": "stream",
     "text": [
      "Корреляция цены за квадрат и числа комнат: \n",
      "\n",
      "             rooms  sm_price\n",
      "rooms     1.000000 -0.263158\n",
      "sm_price -0.263158  1.000000 \n",
      "\n"
     ]
    }
   ],
   "source": [
    "(\n",
    "    data.query('rooms > 0').pivot_table(index='rooms', values='sm_price')\n",
    "    .plot(grid=True, style='o-', figsize=(5, 5))\n",
    ")\n",
    "plt.show()\n",
    "print('Корреляция цены за квадрат и числа комнат:','\\n')\n",
    "print(data.query('rooms > 0').pivot_table(index='floor', values=['rooms', 'sm_price']).corr(),'\\n')"
   ]
  },
  {
   "cell_type": "code",
   "execution_count": 118,
   "metadata": {},
   "outputs": [
    {
     "data": {
      "text/html": [
       "<div>\n",
       "<style scoped>\n",
       "    .dataframe tbody tr th:only-of-type {\n",
       "        vertical-align: middle;\n",
       "    }\n",
       "\n",
       "    .dataframe tbody tr th {\n",
       "        vertical-align: top;\n",
       "    }\n",
       "\n",
       "    .dataframe thead th {\n",
       "        text-align: right;\n",
       "    }\n",
       "</style>\n",
       "<table border=\"1\" class=\"dataframe\">\n",
       "  <thead>\n",
       "    <tr style=\"text-align: right;\">\n",
       "      <th></th>\n",
       "      <th>total_images</th>\n",
       "      <th>last_price</th>\n",
       "      <th>total_area</th>\n",
       "      <th>first_day_exposition</th>\n",
       "      <th>rooms</th>\n",
       "      <th>ceiling_height</th>\n",
       "      <th>floors_total</th>\n",
       "      <th>living_area</th>\n",
       "      <th>floor</th>\n",
       "      <th>is_apartment</th>\n",
       "      <th>...</th>\n",
       "      <th>ponds_around3000</th>\n",
       "      <th>ponds_nearest</th>\n",
       "      <th>days_exposition</th>\n",
       "      <th>sm_price</th>\n",
       "      <th>weekday</th>\n",
       "      <th>month</th>\n",
       "      <th>year</th>\n",
       "      <th>floor_type</th>\n",
       "      <th>area_ratio</th>\n",
       "      <th>kitchen_ratio</th>\n",
       "    </tr>\n",
       "  </thead>\n",
       "  <tbody>\n",
       "    <tr>\n",
       "      <td>0</td>\n",
       "      <td>20</td>\n",
       "      <td>NaN</td>\n",
       "      <td>108.0</td>\n",
       "      <td>2019-03-07</td>\n",
       "      <td>3</td>\n",
       "      <td>2.70</td>\n",
       "      <td>16</td>\n",
       "      <td>51.0</td>\n",
       "      <td>8</td>\n",
       "      <td>False</td>\n",
       "      <td>...</td>\n",
       "      <td>2</td>\n",
       "      <td>755</td>\n",
       "      <td>NaN</td>\n",
       "      <td>120370</td>\n",
       "      <td>3</td>\n",
       "      <td>3</td>\n",
       "      <td>2019</td>\n",
       "      <td>другой</td>\n",
       "      <td>47</td>\n",
       "      <td>23</td>\n",
       "    </tr>\n",
       "    <tr>\n",
       "      <td>1</td>\n",
       "      <td>7</td>\n",
       "      <td>3350000.0</td>\n",
       "      <td>40.4</td>\n",
       "      <td>2018-12-04</td>\n",
       "      <td>1</td>\n",
       "      <td>2.65</td>\n",
       "      <td>11</td>\n",
       "      <td>18.6</td>\n",
       "      <td>1</td>\n",
       "      <td>False</td>\n",
       "      <td>...</td>\n",
       "      <td>0</td>\n",
       "      <td>0</td>\n",
       "      <td>81.0</td>\n",
       "      <td>82920</td>\n",
       "      <td>1</td>\n",
       "      <td>12</td>\n",
       "      <td>2018</td>\n",
       "      <td>первый</td>\n",
       "      <td>46</td>\n",
       "      <td>27</td>\n",
       "    </tr>\n",
       "    <tr>\n",
       "      <td>2</td>\n",
       "      <td>10</td>\n",
       "      <td>5196000.0</td>\n",
       "      <td>56.0</td>\n",
       "      <td>2015-08-20</td>\n",
       "      <td>2</td>\n",
       "      <td>2.60</td>\n",
       "      <td>5</td>\n",
       "      <td>34.3</td>\n",
       "      <td>4</td>\n",
       "      <td>False</td>\n",
       "      <td>...</td>\n",
       "      <td>2</td>\n",
       "      <td>574</td>\n",
       "      <td>NaN</td>\n",
       "      <td>92785</td>\n",
       "      <td>3</td>\n",
       "      <td>8</td>\n",
       "      <td>2015</td>\n",
       "      <td>другой</td>\n",
       "      <td>61</td>\n",
       "      <td>14</td>\n",
       "    </tr>\n",
       "    <tr>\n",
       "      <td>3</td>\n",
       "      <td>0</td>\n",
       "      <td>NaN</td>\n",
       "      <td>NaN</td>\n",
       "      <td>2015-07-24</td>\n",
       "      <td>3</td>\n",
       "      <td>2.60</td>\n",
       "      <td>14</td>\n",
       "      <td>NaN</td>\n",
       "      <td>9</td>\n",
       "      <td>False</td>\n",
       "      <td>...</td>\n",
       "      <td>3</td>\n",
       "      <td>234</td>\n",
       "      <td>424.0</td>\n",
       "      <td>408176</td>\n",
       "      <td>4</td>\n",
       "      <td>7</td>\n",
       "      <td>2015</td>\n",
       "      <td>другой</td>\n",
       "      <td>57</td>\n",
       "      <td>17</td>\n",
       "    </tr>\n",
       "    <tr>\n",
       "      <td>4</td>\n",
       "      <td>2</td>\n",
       "      <td>10000000.0</td>\n",
       "      <td>100.0</td>\n",
       "      <td>2018-06-19</td>\n",
       "      <td>2</td>\n",
       "      <td>3.03</td>\n",
       "      <td>14</td>\n",
       "      <td>32.0</td>\n",
       "      <td>13</td>\n",
       "      <td>False</td>\n",
       "      <td>...</td>\n",
       "      <td>1</td>\n",
       "      <td>48</td>\n",
       "      <td>121.0</td>\n",
       "      <td>100000</td>\n",
       "      <td>1</td>\n",
       "      <td>6</td>\n",
       "      <td>2018</td>\n",
       "      <td>другой</td>\n",
       "      <td>32</td>\n",
       "      <td>41</td>\n",
       "    </tr>\n",
       "  </tbody>\n",
       "</table>\n",
       "<p>5 rows × 29 columns</p>\n",
       "</div>"
      ],
      "text/plain": [
       "   total_images  last_price  total_area first_day_exposition  rooms  \\\n",
       "0            20         NaN       108.0           2019-03-07      3   \n",
       "1             7   3350000.0        40.4           2018-12-04      1   \n",
       "2            10   5196000.0        56.0           2015-08-20      2   \n",
       "3             0         NaN         NaN           2015-07-24      3   \n",
       "4             2  10000000.0       100.0           2018-06-19      2   \n",
       "\n",
       "   ceiling_height  floors_total  living_area  floor  is_apartment  ...  \\\n",
       "0            2.70            16         51.0      8         False  ...   \n",
       "1            2.65            11         18.6      1         False  ...   \n",
       "2            2.60             5         34.3      4         False  ...   \n",
       "3            2.60            14          NaN      9         False  ...   \n",
       "4            3.03            14         32.0     13         False  ...   \n",
       "\n",
       "   ponds_around3000  ponds_nearest  days_exposition  sm_price weekday  month  \\\n",
       "0                 2            755              NaN    120370       3      3   \n",
       "1                 0              0             81.0     82920       1     12   \n",
       "2                 2            574              NaN     92785       3      8   \n",
       "3                 3            234            424.0    408176       4      7   \n",
       "4                 1             48            121.0    100000       1      6   \n",
       "\n",
       "   year  floor_type  area_ratio  kitchen_ratio  \n",
       "0  2019      другой          47             23  \n",
       "1  2018      первый          46             27  \n",
       "2  2015      другой          61             14  \n",
       "3  2015      другой          57             17  \n",
       "4  2018      другой          32             41  \n",
       "\n",
       "[5 rows x 29 columns]"
      ]
     },
     "execution_count": 118,
     "metadata": {},
     "output_type": "execute_result"
    }
   ],
   "source": [
    "data.head()"
   ]
  },
  {
   "cell_type": "markdown",
   "metadata": {},
   "source": [
    "Зависимость от дня:"
   ]
  },
  {
   "cell_type": "code",
   "execution_count": 119,
   "metadata": {},
   "outputs": [
    {
     "data": {
      "image/png": "[encoded data removed]",
      "text/plain": [
       "<Figure size 360x360 with 1 Axes>"
      ]
     },
     "metadata": {
      "needs_background": "light"
     },
     "output_type": "display_data"
    }
   ],
   "source": [
    "(\n",
    "    data.pivot_table(index='weekday', values='last_price')\n",
    "    .plot(grid=True, style='o-', figsize=(5, 5))\n",
    ")\n",
    "plt.show()"
   ]
  },
  {
   "cell_type": "markdown",
   "metadata": {},
   "source": [
    "Зависимость от месяца:"
   ]
  },
  {
   "cell_type": "code",
   "execution_count": 120,
   "metadata": {},
   "outputs": [
    {
     "data": {
      "image/png": "[encoded data removed]",
      "text/plain": [
       "<Figure size 720x360 with 1 Axes>"
      ]
     },
     "metadata": {
      "needs_background": "light"
     },
     "output_type": "display_data"
    }
   ],
   "source": [
    "(\n",
    "    data.pivot_table(index='month', values='last_price')\n",
    "    .plot(grid=True, style='o-', xlim=(1,12), figsize=(10, 5))\n",
    ")\n",
    "plt.show()"
   ]
  },
  {
   "cell_type": "markdown",
   "metadata": {},
   "source": [
    "Зависимость от года:"
   ]
  },
  {
   "cell_type": "code",
   "execution_count": 121,
   "metadata": {},
   "outputs": [
    {
     "data": {
      "image/png": "[encoded data removed]",
      "text/plain": [
       "<Figure size 360x360 with 1 Axes>"
      ]
     },
     "metadata": {
      "needs_background": "light"
     },
     "output_type": "display_data"
    }
   ],
   "source": [
    "(\n",
    "    data.pivot_table(index='year', values='last_price')\n",
    "    .plot(grid=True, style='o-', figsize=(5, 5))\n",
    ")\n",
    "plt.show()"
   ]
  },
  {
   "cell_type": "markdown",
   "metadata": {},
   "source": [
    "Вывод:\n",
    "- Прямая зависимоть цены и площади, тут все логично.\n",
    "- Чем больше комнат, тем больше площадь, тем дорое стоимость квартиры, логично.\n",
    "- Как бы не казалось странным, но чем ближе к центру - тем есть дороже квартиры, логика!)\n",
    "- Первые и последние этажи дешевле, видимо не всем нравятся крики и текущая крыша.\n",
    "- Стоимость м2 не сильно зависит от общей площади, этакий \"люля-кебаб стоимостей м2\" над тлеющими углями \"площадей квартиры\"\n",
    "- Самая низкая стоимость м2 у 2-3 комнатных квартир, как не самые популярные варианты. Однушки более ликвидны, цена м2 выше, а 4-5 и больше многокомнатные квартиры - видимо там уже совсем другой класс квартир.  \n",
    "\n",
    "Зависимость от времени:\n",
    "- Лучше все делать в будний день, и многие из графика согласны с этим.\n",
    "- Летом мервый сезон, есть всплески весной и осенью, в остальное время стабильно.\n",
    "- События 2014 года пошатнули экономику, но после 18 года начался уверенный рост."
   ]
  },
  {
   "cell_type": "markdown",
   "metadata": {},
   "source": [
    "5. Сравнение средней стоимости квадратного метра в топ-10 городов"
   ]
  },
  {
   "cell_type": "code",
   "execution_count": 122,
   "metadata": {},
   "outputs": [
    {
     "data": {
      "text/html": [
       "<div>\n",
       "<style scoped>\n",
       "    .dataframe tbody tr th:only-of-type {\n",
       "        vertical-align: middle;\n",
       "    }\n",
       "\n",
       "    .dataframe tbody tr th {\n",
       "        vertical-align: top;\n",
       "    }\n",
       "\n",
       "    .dataframe thead th {\n",
       "        text-align: right;\n",
       "    }\n",
       "</style>\n",
       "<table border=\"1\" class=\"dataframe\">\n",
       "  <thead>\n",
       "    <tr style=\"text-align: right;\">\n",
       "      <th></th>\n",
       "      <th>sm_price</th>\n",
       "    </tr>\n",
       "    <tr>\n",
       "      <th>locality_name</th>\n",
       "      <th></th>\n",
       "    </tr>\n",
       "  </thead>\n",
       "  <tbody>\n",
       "    <tr>\n",
       "      <td>Санкт-Петербург</td>\n",
       "      <td>114868</td>\n",
       "    </tr>\n",
       "    <tr>\n",
       "      <td>Пушкин</td>\n",
       "      <td>103125</td>\n",
       "    </tr>\n",
       "    <tr>\n",
       "      <td>деревня Кудрово</td>\n",
       "      <td>92473</td>\n",
       "    </tr>\n",
       "    <tr>\n",
       "      <td>посёлок Парголово</td>\n",
       "      <td>90175</td>\n",
       "    </tr>\n",
       "    <tr>\n",
       "      <td>посёлок Мурино</td>\n",
       "      <td>85672</td>\n",
       "    </tr>\n",
       "    <tr>\n",
       "      <td>посёлок Шушары</td>\n",
       "      <td>78550</td>\n",
       "    </tr>\n",
       "    <tr>\n",
       "      <td>Колпино</td>\n",
       "      <td>75424</td>\n",
       "    </tr>\n",
       "    <tr>\n",
       "      <td>Гатчина</td>\n",
       "      <td>68745</td>\n",
       "    </tr>\n",
       "    <tr>\n",
       "      <td>Всеволожск</td>\n",
       "      <td>68654</td>\n",
       "    </tr>\n",
       "    <tr>\n",
       "      <td>Выборг</td>\n",
       "      <td>58141</td>\n",
       "    </tr>\n",
       "  </tbody>\n",
       "</table>\n",
       "</div>"
      ],
      "text/plain": [
       "                   sm_price\n",
       "locality_name              \n",
       "Санкт-Петербург      114868\n",
       "Пушкин               103125\n",
       "деревня Кудрово       92473\n",
       "посёлок Парголово     90175\n",
       "посёлок Мурино        85672\n",
       "посёлок Шушары        78550\n",
       "Колпино               75424\n",
       "Гатчина               68745\n",
       "Всеволожск            68654\n",
       "Выборг                58141"
      ]
     },
     "execution_count": 122,
     "metadata": {},
     "output_type": "execute_result"
    }
   ],
   "source": [
    "city_ten = data['locality_name'].value_counts().head(10)\n",
    "city_sm_price = data.query('locality_name in (@city_ten.index)').pivot_table(values='sm_price', index='locality_name')\n",
    "city_sm_price = city_sm_price.astype(int)\n",
    "city_sm_price.sort_values('sm_price', ascending=False)"
   ]
  },
  {
   "cell_type": "markdown",
   "metadata": {},
   "source": [
    "**Вывод**\n",
    "- Логично что Спб будет самым с самым дорогим квадратным метром, а почти все остальное - по сути это пригород Спб, отдаленные районы. Только Выборг отличается своей удаленность от Санкт-Петербурга."
   ]
  },
  {
   "cell_type": "markdown",
   "metadata": {},
   "source": [
    "6. Определяем границу центральной зоны\n"
   ]
  },
  {
   "cell_type": "markdown",
   "metadata": {},
   "source": [
    "Сделаем столбец в км до центра, для удобства."
   ]
  },
  {
   "cell_type": "code",
   "execution_count": 123,
   "metadata": {},
   "outputs": [
    {
     "data": {
      "image/png": "[encoded data removed]",
      "text/plain": [
       "<Figure size 720x360 with 1 Axes>"
      ]
     },
     "metadata": {
      "needs_background": "light"
     },
     "output_type": "display_data"
    }
   ],
   "source": [
    "data['center_km'] = data['cityCenters_nearest'] / 1000\n",
    "data['center_km'] = data['center_km'].fillna(value=0).astype(int)\n",
    "(\n",
    "    data.query('locality_name == \"Санкт-Петербург\"')\n",
    "    .pivot_table(index='center_km', values='last_price')\n",
    "    .plot(grid=True, style='o-', xlim=(0,15), figsize=(10, 5))\n",
    ")\n",
    "plt.show()"
   ]
  },
  {
   "cell_type": "markdown",
   "metadata": {},
   "source": [
    "**Вывод**\n",
    "- После 8 км цена резко пошла вниз, наверное там и будет граница \"центральности\" Спб."
   ]
  },
  {
   "cell_type": "markdown",
   "metadata": {},
   "source": [
    "7. Анализ сегмента в центре"
   ]
  },
  {
   "cell_type": "code",
   "execution_count": 44,
   "metadata": {},
   "outputs": [
    {
     "name": "stdout",
     "output_type": "stream",
     "text": [
      "Площадь в СПБ(медиана): 52 \n",
      "\n",
      "Площадь в центре СПБ (медиана): 66 \n",
      "\n",
      "Площадь в СПБ(среднее): 56 \n",
      "\n",
      "Площадь в центре СПБ (среднее): 67 \n",
      "\n"
     ]
    }
   ],
   "source": [
    "spb_center = data.query('(locality_name == \"Санкт-Петербург\") & (center_km <= 8)')\n",
    "\n",
    "print('Площадь в СПБ(медиана):', round(data.query('locality_name == \"Санкт-Петербург\"')['total_area'].median()),'\\n')\n",
    "print('Площадь в центре СПБ (медиана):', round(spb_center['total_area'].median()),'\\n')\n",
    "print('Площадь в СПБ(среднее):', round(data.query('locality_name == \"Санкт-Петербург\"')['total_area'].mean()),'\\n')\n",
    "print('Площадь в центре СПБ (среднее):', round(spb_center['total_area'].mean()),'\\n')"
   ]
  },
  {
   "cell_type": "markdown",
   "metadata": {},
   "source": [
    "Число комнат в центре СПБ"
   ]
  },
  {
   "cell_type": "code",
   "execution_count": 45,
   "metadata": {},
   "outputs": [
    {
     "data": {
      "text/html": [
       "<div>\n",
       "<style scoped>\n",
       "    .dataframe tbody tr th:only-of-type {\n",
       "        vertical-align: middle;\n",
       "    }\n",
       "\n",
       "    .dataframe tbody tr th {\n",
       "        vertical-align: top;\n",
       "    }\n",
       "\n",
       "    .dataframe thead th {\n",
       "        text-align: right;\n",
       "    }\n",
       "</style>\n",
       "<table border=\"1\" class=\"dataframe\">\n",
       "  <thead>\n",
       "    <tr style=\"text-align: right;\">\n",
       "      <th></th>\n",
       "      <th>count</th>\n",
       "      <th>rooms_ratio</th>\n",
       "      <th>center_count</th>\n",
       "      <th>center_rooms_ratio</th>\n",
       "      <th>center_cap</th>\n",
       "    </tr>\n",
       "    <tr>\n",
       "      <th>rooms</th>\n",
       "      <th></th>\n",
       "      <th></th>\n",
       "      <th></th>\n",
       "      <th></th>\n",
       "      <th></th>\n",
       "    </tr>\n",
       "  </thead>\n",
       "  <tbody>\n",
       "    <tr>\n",
       "      <td>1</td>\n",
       "      <td>4912</td>\n",
       "      <td>31.985414</td>\n",
       "      <td>750</td>\n",
       "      <td>17.680339</td>\n",
       "      <td>15.0</td>\n",
       "    </tr>\n",
       "    <tr>\n",
       "      <td>2</td>\n",
       "      <td>5082</td>\n",
       "      <td>33.092401</td>\n",
       "      <td>1355</td>\n",
       "      <td>31.942480</td>\n",
       "      <td>27.0</td>\n",
       "    </tr>\n",
       "    <tr>\n",
       "      <td>3</td>\n",
       "      <td>4107</td>\n",
       "      <td>26.743505</td>\n",
       "      <td>1363</td>\n",
       "      <td>32.131070</td>\n",
       "      <td>33.0</td>\n",
       "    </tr>\n",
       "    <tr>\n",
       "      <td>4</td>\n",
       "      <td>966</td>\n",
       "      <td>6.290291</td>\n",
       "      <td>547</td>\n",
       "      <td>12.894861</td>\n",
       "      <td>57.0</td>\n",
       "    </tr>\n",
       "    <tr>\n",
       "      <td>5</td>\n",
       "      <td>290</td>\n",
       "      <td>1.888390</td>\n",
       "      <td>227</td>\n",
       "      <td>5.351249</td>\n",
       "      <td>78.0</td>\n",
       "    </tr>\n",
       "  </tbody>\n",
       "</table>\n",
       "</div>"
      ],
      "text/plain": [
       "       count  rooms_ratio  center_count  center_rooms_ratio  center_cap\n",
       "rooms                                                                  \n",
       "1       4912    31.985414           750           17.680339        15.0\n",
       "2       5082    33.092401          1355           31.942480        27.0\n",
       "3       4107    26.743505          1363           32.131070        33.0\n",
       "4        966     6.290291           547           12.894861        57.0\n",
       "5        290     1.888390           227            5.351249        78.0"
      ]
     },
     "metadata": {},
     "output_type": "display_data"
    }
   ],
   "source": [
    "spb_rooms = data.query('(locality_name == \"Санкт-Петербург\") & (rooms > 0)').pivot_table(index='rooms', values='floor', aggfunc='count')\n",
    "spb_rooms.columns = ['count']\n",
    "spb_rooms['rooms_ratio'] = spb_rooms['count'] / spb_rooms['count'].sum() * 100\n",
    "spb_rooms_center = data.query('(locality_name == \"Санкт-Петербург\") & (center_km <= 8)  & (rooms > 0)').pivot_table(index='rooms', values='floor', aggfunc='count')\n",
    "spb_rooms_center.columns = ['center_count']\n",
    "spb_rooms_center['center_rooms_ratio'] = spb_rooms_center['center_count'] / spb_rooms_center['center_count'].sum() * 100\n",
    "rooms_alldata = pd.merge(spb_rooms, spb_rooms_center, 'left', on = 'rooms')\n",
    "rooms_alldata['center_cap'] = round(rooms_alldata['center_count'] / rooms_alldata['count'] * 100)\n",
    "display(rooms_alldata)"
   ]
  },
  {
   "cell_type": "code",
   "execution_count": 46,
   "metadata": {},
   "outputs": [
    {
     "name": "stdout",
     "output_type": "stream",
     "text": [
      "Высота потолков в СПБ (медиана): 2.65 \n",
      "\n",
      "Высота потолков в центре СПБ(медиана): 2.75 \n",
      "\n",
      "Высота потолков в СПБ (среднее): 2.679183579335793 \n",
      "\n",
      "Высота потолков в центре СПБ(среднее): 2.778263002944063 \n",
      "\n"
     ]
    }
   ],
   "source": [
    "print('Высота потолков в СПБ (медиана):', data.query('locality_name == \"Санкт-Петербург\"')['ceiling_height'].median(),'\\n')\n",
    "print('Высота потолков в центре СПБ(медиана):', spb_center['ceiling_height'].median(),'\\n')\n",
    "print('Высота потолков в СПБ (среднее):', data.query('locality_name == \"Санкт-Петербург\"')['ceiling_height'].mean(),'\\n')\n",
    "print('Высота потолков в центре СПБ(среднее):', spb_center['ceiling_height'].mean(),'\\n')"
   ]
  },
  {
   "cell_type": "markdown",
   "metadata": {},
   "source": [
    "Зависимость цены от кол-ва комнат:"
   ]
  },
  {
   "cell_type": "code",
   "execution_count": 47,
   "metadata": {},
   "outputs": [
    {
     "data": {
      "image/png": "[encoded data removed]",
      "text/plain": [
       "<Figure size 360x360 with 1 Axes>"
      ]
     },
     "metadata": {
      "needs_background": "light"
     },
     "output_type": "display_data"
    },
    {
     "name": "stdout",
     "output_type": "stream",
     "text": [
      "Корреляция цены и числа комнат: \n",
      "\n",
      "            last_price     rooms\n",
      "last_price    1.000000  0.172752\n",
      "rooms         0.172752  1.000000 \n",
      "\n"
     ]
    }
   ],
   "source": [
    "(\n",
    "    spb_center.query('(rooms > 0) & (rooms < 7)').pivot_table(index='rooms', values='last_price')\n",
    "    .plot(grid=True, style='o-', figsize=(5, 5))\n",
    ")\n",
    "plt.show()\n",
    "print('Корреляция цены и числа комнат:','\\n')\n",
    "print(spb_center.query('(rooms > 0) & (rooms < 7)').pivot_table(index='floor', values=['rooms', 'last_price']).corr(),'\\n')"
   ]
  },
  {
   "cell_type": "markdown",
   "metadata": {},
   "source": [
    "Зависимость цены от этажа:"
   ]
  },
  {
   "cell_type": "code",
   "execution_count": 48,
   "metadata": {},
   "outputs": [
    {
     "data": {
      "image/png": "[encoded data removed]",
      "text/plain": [
       "<Figure size 360x360 with 1 Axes>"
      ]
     },
     "metadata": {
      "needs_background": "light"
     },
     "output_type": "display_data"
    }
   ],
   "source": [
    "(\n",
    "    spb_center.pivot_table(index='floor_type', values='last_price', aggfunc='median')\n",
    "    .plot(grid=True, style='o-', figsize=(5, 5))\n",
    ")\n",
    "plt.show()"
   ]
  },
  {
   "cell_type": "code",
   "execution_count": 49,
   "metadata": {
    "scrolled": true
   },
   "outputs": [
    {
     "data": {
      "image/png": "[encoded data removed]",
      "text/plain": [
       "<Figure size 360x360 with 1 Axes>"
      ]
     },
     "metadata": {
      "needs_background": "light"
     },
     "output_type": "display_data"
    },
    {
     "name": "stdout",
     "output_type": "stream",
     "text": [
      "Корреляция цены и удалённости от центра: \n",
      "\n",
      "                     cityCenters_nearest  last_price\n",
      "cityCenters_nearest             1.000000    0.306924\n",
      "last_price                      0.306924    1.000000 \n",
      "\n"
     ]
    }
   ],
   "source": [
    "(\n",
    "    spb_center.pivot_table(index='cityCenters_nearest', values='last_price', aggfunc='median')\n",
    "    .plot(grid=True, style='o', figsize=(5, 5))\n",
    ")\n",
    "plt.show()\n",
    "print('Корреляция цены и удалённости от центра:','\\n')\n",
    "print(spb_center.pivot_table(index='floor', values=['cityCenters_nearest', 'last_price']).corr(),'\\n')"
   ]
  },
  {
   "cell_type": "markdown",
   "metadata": {},
   "source": [
    "Зависимость цены от м2:"
   ]
  },
  {
   "cell_type": "code",
   "execution_count": 50,
   "metadata": {},
   "outputs": [
    {
     "data": {
      "image/png": "[encoded data removed]",
      "text/plain": [
       "<Figure size 360x360 with 1 Axes>"
      ]
     },
     "metadata": {
      "needs_background": "light"
     },
     "output_type": "display_data"
    },
    {
     "name": "stdout",
     "output_type": "stream",
     "text": [
      "Корреляция цены за квадрат и площади: \n",
      "\n",
      "            sm_price  total_area\n",
      "sm_price     1.00000     0.01833\n",
      "total_area   0.01833     1.00000 \n",
      "\n"
     ]
    }
   ],
   "source": [
    "(\n",
    "    spb_center.pivot_table(index='total_area', values='sm_price')\n",
    "    .plot(grid=True, style='o', figsize=(5, 5))\n",
    ")\n",
    "plt.show()\n",
    "print('Корреляция цены за квадрат и площади:','\\n')\n",
    "print(spb_center.pivot_table(index='floor', values=['total_area', 'sm_price']).corr(),'\\n')"
   ]
  },
  {
   "cell_type": "markdown",
   "metadata": {},
   "source": [
    "Зависимость м2 от кол-ва комнат:"
   ]
  },
  {
   "cell_type": "code",
   "execution_count": 51,
   "metadata": {},
   "outputs": [
    {
     "data": {
      "image/png": "[encoded data removed]",
      "text/plain": [
       "<Figure size 360x360 with 1 Axes>"
      ]
     },
     "metadata": {
      "needs_background": "light"
     },
     "output_type": "display_data"
    },
    {
     "name": "stdout",
     "output_type": "stream",
     "text": [
      "Корреляция цены за квадрат и числа комнат: \n",
      "\n",
      "             rooms  sm_price\n",
      "rooms     1.000000  0.043452\n",
      "sm_price  0.043452  1.000000 \n",
      "\n"
     ]
    }
   ],
   "source": [
    "(\n",
    "    spb_center.query('rooms > 0').pivot_table(index='rooms', values='sm_price')\n",
    "    .plot(grid=True, style='o-', figsize=(5, 5))\n",
    ")\n",
    "plt.show()\n",
    "print('Корреляция цены за квадрат и числа комнат:','\\n')\n",
    "print(spb_center.query('rooms > 0').pivot_table(index='floor', values=['rooms', 'sm_price']).corr(),'\\n')"
   ]
  },
  {
   "cell_type": "markdown",
   "metadata": {},
   "source": [
    "Зависимость от дня размещения:"
   ]
  },
  {
   "cell_type": "code",
   "execution_count": 52,
   "metadata": {},
   "outputs": [
    {
     "data": {
      "image/png": "[encoded data removed]",
      "text/plain": [
       "<Figure size 360x360 with 1 Axes>"
      ]
     },
     "metadata": {
      "needs_background": "light"
     },
     "output_type": "display_data"
    }
   ],
   "source": [
    "(\n",
    "    spb_center.pivot_table(index='weekday', values='last_price')\n",
    "    .plot(grid=True, style='o-', figsize=(5, 5))\n",
    ")\n",
    "plt.show()"
   ]
  },
  {
   "cell_type": "markdown",
   "metadata": {},
   "source": [
    "Зависимость от месяца размещения:"
   ]
  },
  {
   "cell_type": "code",
   "execution_count": 53,
   "metadata": {},
   "outputs": [
    {
     "data": {
      "image/png": "[encoded data removed]",
      "text/plain": [
       "<Figure size 720x360 with 1 Axes>"
      ]
     },
     "metadata": {
      "needs_background": "light"
     },
     "output_type": "display_data"
    }
   ],
   "source": [
    "(\n",
    "    spb_center.pivot_table(index='month', values='last_price')\n",
    "    .plot(grid=True, style='o-', xlim=(1,12), figsize=(10, 5))\n",
    ")\n",
    "plt.show()"
   ]
  },
  {
   "cell_type": "markdown",
   "metadata": {},
   "source": [
    "Зависимость от года размещения:"
   ]
  },
  {
   "cell_type": "code",
   "execution_count": 54,
   "metadata": {},
   "outputs": [
    {
     "data": {
      "image/png": "[encoded data removed]",
      "text/plain": [
       "<Figure size 360x360 with 1 Axes>"
      ]
     },
     "metadata": {
      "needs_background": "light"
     },
     "output_type": "display_data"
    }
   ],
   "source": [
    "(\n",
    "    spb_center.pivot_table(index='year', values='last_price')\n",
    "    .plot(grid=True, style='o-', figsize=(5, 5))\n",
    ")\n",
    "plt.show()"
   ]
  },
  {
   "cell_type": "markdown",
   "metadata": {},
   "source": [
    "Вывод\n",
    "- В центре СПБ квартиры больше, потолки выше, \n",
    "- Интересно заметить: соотношение одномнатных кваритир в центре меньше чем в общем по городу, зато большая часть 4-5 комнатных квартр находится в центре\n",
    "- Зависимость цены квартиры от числа комнат в центре похожа на общую по городу\n",
    "- С качеством крыш в центре лучше, поэтому последние этажи так же ценятся как и остальные, кроме первого конечно)\n",
    "- В центре есть очень дорогие однокомнатные квартиры\n",
    "- Как бы странно не звучало: но в центра СПБ нет особой зависимости стоимости от расстояния до географической точки \"центра\", всё дорого)\n",
    "- Другое распредение по дням недели и месяцам, большой приток в вс и активный сезон осенью.\n",
    "- По годам: у кого были деньги - постарались сложить их недвижимость в центре города, поэтому появился рост и плавный спад, а потои опять очень мягкий подъем."
   ]
  },
  {
   "cell_type": "markdown",
   "metadata": {},
   "source": [
    "## Общий вывод"
   ]
  },
  {
   "cell_type": "markdown",
   "metadata": {},
   "source": [
    "Данные были с кучей пропусков, шумов мешающих нам окунутся в мир недвижимости Спб и Ленинградской области. \n",
    "Была сделана чистка датасета, заполнение пропусков для получения наиболее корректных результатов нашего иследования.\n",
    "По итогам выяснилось - что центр Санкт-петербурга лучше остальных, и квартиры больше, и потолки выше, а как любят последние этажи - обзваидуются в пригородах СПБ. "
   ]
  },
  {
   "cell_type": "markdown",
   "metadata": {},
   "source": [
    "## Чек-лист готовности проекта\n",
    "\n",
    "Поставьте 'x' в выполненных пунктах. Далее нажмите Shift+Enter."
   ]
  },
  {
   "cell_type": "markdown",
   "metadata": {},
   "source": [
    "- [x]  открыт файл\n",
    "- [x]  файлы изучены (выведены первые строки, метод info())\n",
    "- [x]  определены пропущенные значения\n",
    "- [x]  заполнены пропущенные значения\n",
    "- [x]  есть пояснение, какие пропущенные значения обнаружены\n",
    "- [x]  изменены типы данных\n",
    "- [x]  есть пояснение, в каких столбцах изменены типы и почему\n",
    "- [x]  посчитано и добавлено в таблицу: цена квадратного метра\n",
    "- [x]  посчитано и добавлено в таблицу: день недели, месяц и год публикации объявления\n",
    "- [x]  посчитано и добавлено в таблицу: этаж квартиры; варианты — первый, последний, другой\n",
    "- [x]  посчитано и добавлено в таблицу: соотношение жилой и общей площади, а также отношение площади кухни к общей\n",
    "- [x]  изучены следующие параметры: площадь, цена, число комнат, высота потолков\n",
    "- [x]  построены гистограммы для каждого параметра\n",
    "- [x]  выполнено задание: \"Изучите время продажи квартиры. Постройте гистограмму. Посчитайте среднее и медиану. Опишите, сколько обычно занимает продажа. Когда можно считать, что продажи прошли очень быстро, а когда необычно долго?\"\n",
    "- [x]  выполнено задание: \"Уберите редкие и выбивающиеся значения. Опишите, какие особенности обнаружили.\"\n",
    "- [x]  выполнено задание: \"Какие факторы больше всего влияют на стоимость квартиры? Изучите, зависит ли цена от квадратного метра, числа комнат, этажа (первого или последнего), удалённости от центра. Также изучите зависимость от даты размещения: дня недели, месяца и года. \"Выберите 10 населённых пунктов с наибольшим числом объявлений. Посчитайте среднюю цену квадратного метра в этих населённых пунктах. Выделите населённые пункты с самой высокой и низкой стоимостью жилья. Эти данные можно найти по имени в столбце '*locality_name'*. \"\n",
    "- [x]  выполнено задание: \"Изучите предложения квартир: для каждой квартиры есть информация о расстоянии до центра. Выделите квартиры в Санкт-Петербурге (*'locality_name'*). Ваша задача — выяснить, какая область входит в центр. Создайте столбец с расстоянием до центра в километрах: округлите до целых значений. После этого посчитайте среднюю цену для каждого километра. Постройте график: он должен показывать, как цена зависит от удалённости от центра. Определите границу, где график сильно меняется — это и будет центральная зона. \"\n",
    "- [x]  выполнено задание: \"Выделите сегмент квартир в центре. Проанализируйте эту территорию и изучите следующие параметры: площадь, цена, число комнат, высота потолков. Также выделите факторы, которые влияют на стоимость квартиры (число комнат, этаж, удалённость от центра, дата размещения объявления). Сделайте выводы. Отличаются ли они от общих выводов по всему городу?\"\n",
    "- [x]  в каждом этапе есть выводы\n",
    "- [x]  есть общий вывод"
   ]
  },
  {
   "cell_type": "code",
   "execution_count": null,
   "metadata": {},
   "outputs": [],
   "source": []
  }
 ],
 "metadata": {
  "ExecuteTimeLog": [
   {
    "duration": 630,
    "start_time": "2021-11-05T18:11:08.375Z"
   },
   {
    "duration": 98,
    "start_time": "2021-11-05T18:12:00.064Z"
   },
   {
    "duration": 3,
    "start_time": "2021-11-05T18:59:31.613Z"
   },
   {
    "duration": 20,
    "start_time": "2021-11-05T19:00:11.308Z"
   },
   {
    "duration": 6,
    "start_time": "2021-11-05T19:00:31.892Z"
   },
   {
    "duration": 8,
    "start_time": "2021-11-05T19:02:39.416Z"
   },
   {
    "duration": 7,
    "start_time": "2021-11-05T19:02:41.917Z"
   },
   {
    "duration": 7,
    "start_time": "2021-11-05T19:02:43.251Z"
   },
   {
    "duration": 7,
    "start_time": "2021-11-05T19:02:43.951Z"
   },
   {
    "duration": 7,
    "start_time": "2021-11-05T19:02:44.525Z"
   },
   {
    "duration": 7,
    "start_time": "2021-11-05T19:02:45.149Z"
   },
   {
    "duration": 8,
    "start_time": "2021-11-05T19:02:45.797Z"
   },
   {
    "duration": 6,
    "start_time": "2021-11-05T19:02:46.652Z"
   },
   {
    "duration": 6,
    "start_time": "2021-11-05T19:02:47.412Z"
   },
   {
    "duration": 6,
    "start_time": "2021-11-05T19:02:48.389Z"
   },
   {
    "duration": 82,
    "start_time": "2021-11-05T19:11:40.039Z"
   },
   {
    "duration": 641,
    "start_time": "2021-11-30T04:00:29.256Z"
   },
   {
    "duration": 1359,
    "start_time": "2021-11-30T09:34:50.497Z"
   },
   {
    "duration": 20,
    "start_time": "2021-11-30T09:35:22.267Z"
   },
   {
    "duration": 29,
    "start_time": "2021-11-30T09:35:25.034Z"
   },
   {
    "duration": 13,
    "start_time": "2021-11-30T09:35:26.858Z"
   },
   {
    "duration": 29,
    "start_time": "2021-11-30T09:35:53.376Z"
   },
   {
    "duration": 28,
    "start_time": "2021-11-30T09:36:04.715Z"
   },
   {
    "duration": 6,
    "start_time": "2021-11-30T09:37:18.163Z"
   },
   {
    "duration": 10,
    "start_time": "2021-11-30T09:37:19.098Z"
   },
   {
    "duration": 8,
    "start_time": "2021-11-30T09:37:19.643Z"
   },
   {
    "duration": 10,
    "start_time": "2021-11-30T09:37:20.130Z"
   },
   {
    "duration": 8,
    "start_time": "2021-11-30T09:37:20.587Z"
   },
   {
    "duration": 7,
    "start_time": "2021-11-30T09:37:21.045Z"
   },
   {
    "duration": 19,
    "start_time": "2021-11-30T09:37:59.923Z"
   },
   {
    "duration": 6,
    "start_time": "2021-11-30T09:38:00.444Z"
   },
   {
    "duration": 528,
    "start_time": "2021-11-30T09:38:00.870Z"
   },
   {
    "duration": 13,
    "start_time": "2021-11-30T09:38:01.400Z"
   },
   {
    "duration": 10,
    "start_time": "2021-11-30T09:38:58.499Z"
   },
   {
    "duration": 5,
    "start_time": "2021-11-30T09:40:46.793Z"
   },
   {
    "duration": 14,
    "start_time": "2021-11-30T09:40:47.737Z"
   },
   {
    "duration": 9,
    "start_time": "2021-11-30T09:40:48.273Z"
   },
   {
    "duration": 7,
    "start_time": "2021-11-30T09:40:49.067Z"
   },
   {
    "duration": 616,
    "start_time": "2021-11-30T09:40:49.579Z"
   },
   {
    "duration": 5,
    "start_time": "2021-11-30T09:40:50.238Z"
   },
   {
    "duration": 271,
    "start_time": "2021-11-30T09:41:43.644Z"
   },
   {
    "duration": 268,
    "start_time": "2021-11-30T09:41:48.036Z"
   },
   {
    "duration": 472,
    "start_time": "2021-11-30T09:43:02.393Z"
   },
   {
    "duration": 251,
    "start_time": "2021-11-30T09:43:03.981Z"
   },
   {
    "duration": 258,
    "start_time": "2021-11-30T09:43:43.340Z"
   },
   {
    "duration": 332,
    "start_time": "2021-11-30T09:43:44.316Z"
   },
   {
    "duration": 296,
    "start_time": "2021-11-30T09:43:45.635Z"
   },
   {
    "duration": 23,
    "start_time": "2021-11-30T09:44:58.369Z"
   },
   {
    "duration": 379,
    "start_time": "2021-11-30T09:45:00.603Z"
   },
   {
    "duration": 183,
    "start_time": "2021-11-30T09:46:36.682Z"
   },
   {
    "duration": 382,
    "start_time": "2021-11-30T09:48:12.256Z"
   },
   {
    "duration": 394,
    "start_time": "2021-11-30T09:48:13.685Z"
   },
   {
    "duration": 423,
    "start_time": "2021-11-30T09:48:15.444Z"
   },
   {
    "duration": 297,
    "start_time": "2021-11-30T09:48:15.925Z"
   },
   {
    "duration": 229,
    "start_time": "2021-11-30T09:48:44.533Z"
   },
   {
    "duration": 272,
    "start_time": "2021-11-30T09:48:45.806Z"
   },
   {
    "duration": 226,
    "start_time": "2021-11-30T09:49:56.995Z"
   },
   {
    "duration": 256,
    "start_time": "2021-11-30T09:49:58.261Z"
   },
   {
    "duration": 203,
    "start_time": "2021-11-30T09:49:59.172Z"
   },
   {
    "duration": 38,
    "start_time": "2021-11-30T09:54:41.266Z"
   },
   {
    "duration": 291,
    "start_time": "2021-11-30T09:55:56.041Z"
   },
   {
    "duration": 433,
    "start_time": "2021-11-30T09:57:24.805Z"
   },
   {
    "duration": 372,
    "start_time": "2021-11-30T09:58:01.091Z"
   },
   {
    "duration": 372,
    "start_time": "2021-11-30T09:58:04.357Z"
   },
   {
    "duration": 60,
    "start_time": "2021-11-30T09:58:06.132Z"
   },
   {
    "duration": 22,
    "start_time": "2021-11-30T09:58:08.325Z"
   },
   {
    "duration": 231,
    "start_time": "2021-11-30T10:06:05.819Z"
   },
   {
    "duration": 317,
    "start_time": "2021-11-30T10:06:07.704Z"
   },
   {
    "duration": 250,
    "start_time": "2021-11-30T10:06:09.878Z"
   },
   {
    "duration": 426,
    "start_time": "2021-11-30T10:07:02.343Z"
   },
   {
    "duration": 223,
    "start_time": "2021-11-30T10:07:05.143Z"
   },
   {
    "duration": 301,
    "start_time": "2021-11-30T10:07:45.211Z"
   },
   {
    "duration": 333,
    "start_time": "2021-11-30T10:07:46.430Z"
   },
   {
    "duration": 292,
    "start_time": "2021-11-30T10:07:47.406Z"
   },
   {
    "duration": 89,
    "start_time": "2021-11-30T10:12:14.603Z"
   },
   {
    "duration": 481,
    "start_time": "2021-11-30T10:19:28.284Z"
   },
   {
    "duration": 9,
    "start_time": "2021-11-30T10:20:51.027Z"
   },
   {
    "duration": 1280,
    "start_time": "2021-11-30T10:22:14.051Z"
   },
   {
    "duration": 14,
    "start_time": "2021-11-30T10:22:16.185Z"
   },
   {
    "duration": 42,
    "start_time": "2021-11-30T10:22:17.355Z"
   },
   {
    "duration": 11,
    "start_time": "2021-11-30T10:22:19.455Z"
   },
   {
    "duration": 38,
    "start_time": "2021-11-30T10:22:20.449Z"
   },
   {
    "duration": 7,
    "start_time": "2021-11-30T10:22:25.314Z"
   },
   {
    "duration": 14,
    "start_time": "2021-11-30T10:22:26.402Z"
   },
   {
    "duration": 6,
    "start_time": "2021-11-30T10:22:27.329Z"
   },
   {
    "duration": 6,
    "start_time": "2021-11-30T10:22:28.371Z"
   },
   {
    "duration": 6,
    "start_time": "2021-11-30T10:22:29.122Z"
   },
   {
    "duration": 5,
    "start_time": "2021-11-30T10:22:29.580Z"
   },
   {
    "duration": 16,
    "start_time": "2021-11-30T10:22:32.169Z"
   },
   {
    "duration": 5,
    "start_time": "2021-11-30T10:22:33.993Z"
   },
   {
    "duration": 457,
    "start_time": "2021-11-30T10:22:35.794Z"
   },
   {
    "duration": 12,
    "start_time": "2021-11-30T10:22:38.321Z"
   },
   {
    "duration": 8,
    "start_time": "2021-11-30T10:22:39.898Z"
   },
   {
    "duration": 6,
    "start_time": "2021-11-30T10:24:00.714Z"
   },
   {
    "duration": 5,
    "start_time": "2021-11-30T10:24:01.613Z"
   },
   {
    "duration": 13,
    "start_time": "2021-11-30T10:24:02.818Z"
   },
   {
    "duration": 4,
    "start_time": "2021-11-30T10:24:03.833Z"
   },
   {
    "duration": 442,
    "start_time": "2021-11-30T10:24:04.834Z"
   },
   {
    "duration": 8,
    "start_time": "2021-11-30T10:24:09.200Z"
   },
   {
    "duration": 8,
    "start_time": "2021-11-30T10:24:11.756Z"
   },
   {
    "duration": 226,
    "start_time": "2021-11-30T10:27:23.616Z"
   },
   {
    "duration": 83,
    "start_time": "2021-11-30T10:28:26.636Z"
   },
   {
    "duration": 8,
    "start_time": "2021-11-30T10:28:36.923Z"
   },
   {
    "duration": 5,
    "start_time": "2021-11-30T10:29:40.332Z"
   },
   {
    "duration": 605,
    "start_time": "2021-11-30T10:34:15.387Z"
   },
   {
    "duration": 79,
    "start_time": "2021-11-30T10:34:16.901Z"
   },
   {
    "duration": 7,
    "start_time": "2021-11-30T10:34:22.619Z"
   },
   {
    "duration": 6,
    "start_time": "2021-11-30T10:34:23.212Z"
   },
   {
    "duration": 231,
    "start_time": "2021-11-30T10:35:13.868Z"
   },
   {
    "duration": 198,
    "start_time": "2021-11-30T10:35:58.020Z"
   },
   {
    "duration": 216,
    "start_time": "2021-11-30T10:36:37.547Z"
   },
   {
    "duration": 214,
    "start_time": "2021-11-30T10:37:01.165Z"
   },
   {
    "duration": 286,
    "start_time": "2021-11-30T10:38:09.496Z"
   },
   {
    "duration": 250,
    "start_time": "2021-11-30T10:38:49.485Z"
   },
   {
    "duration": 209,
    "start_time": "2021-11-30T10:47:31.318Z"
   },
   {
    "duration": 83,
    "start_time": "2021-11-30T10:57:39.773Z"
   },
   {
    "duration": 402,
    "start_time": "2021-11-30T11:00:48.631Z"
   },
   {
    "duration": 94,
    "start_time": "2021-11-30T11:01:04.591Z"
   },
   {
    "duration": 97,
    "start_time": "2021-11-30T11:01:14.593Z"
   },
   {
    "duration": 431,
    "start_time": "2021-11-30T11:01:34.936Z"
   },
   {
    "duration": 91,
    "start_time": "2021-11-30T11:08:40.184Z"
   },
   {
    "duration": 508,
    "start_time": "2021-11-30T11:08:43.735Z"
   },
   {
    "duration": 1096,
    "start_time": "2021-11-30T11:10:07.914Z"
   },
   {
    "duration": 427,
    "start_time": "2021-11-30T11:11:03.368Z"
   },
   {
    "duration": 119,
    "start_time": "2021-11-30T11:13:37.004Z"
   },
   {
    "duration": 198,
    "start_time": "2021-11-30T11:14:21.047Z"
   },
   {
    "duration": 226,
    "start_time": "2021-11-30T11:15:38.745Z"
   },
   {
    "duration": 266,
    "start_time": "2021-11-30T11:16:43.177Z"
   },
   {
    "duration": 177,
    "start_time": "2021-11-30T11:17:09.986Z"
   },
   {
    "duration": 283,
    "start_time": "2021-11-30T11:17:47.824Z"
   },
   {
    "duration": 370,
    "start_time": "2021-11-30T11:19:07.558Z"
   },
   {
    "duration": 272,
    "start_time": "2021-11-30T11:30:39.248Z"
   },
   {
    "duration": 269,
    "start_time": "2021-11-30T11:31:19.184Z"
   },
   {
    "duration": 271,
    "start_time": "2021-11-30T11:31:58.104Z"
   },
   {
    "duration": 112,
    "start_time": "2021-11-30T11:32:06.368Z"
   },
   {
    "duration": 17,
    "start_time": "2021-11-30T11:32:07.504Z"
   },
   {
    "duration": 43,
    "start_time": "2021-11-30T11:32:08.235Z"
   },
   {
    "duration": 14,
    "start_time": "2021-11-30T11:32:08.736Z"
   },
   {
    "duration": 37,
    "start_time": "2021-11-30T11:32:09.523Z"
   },
   {
    "duration": 1420,
    "start_time": "2021-11-30T11:32:19.909Z"
   },
   {
    "duration": 13,
    "start_time": "2021-11-30T11:32:21.331Z"
   },
   {
    "duration": 34,
    "start_time": "2021-11-30T11:32:22.269Z"
   },
   {
    "duration": 10,
    "start_time": "2021-11-30T11:32:23.469Z"
   },
   {
    "duration": 40,
    "start_time": "2021-11-30T11:32:24.030Z"
   },
   {
    "duration": 7,
    "start_time": "2021-11-30T11:32:25.981Z"
   },
   {
    "duration": 14,
    "start_time": "2021-11-30T11:32:26.780Z"
   },
   {
    "duration": 8,
    "start_time": "2021-11-30T11:32:28.164Z"
   },
   {
    "duration": 7,
    "start_time": "2021-11-30T11:32:29.149Z"
   },
   {
    "duration": 8,
    "start_time": "2021-11-30T11:32:29.603Z"
   },
   {
    "duration": 8,
    "start_time": "2021-11-30T11:32:29.877Z"
   },
   {
    "duration": 23,
    "start_time": "2021-11-30T11:32:30.733Z"
   },
   {
    "duration": 7,
    "start_time": "2021-11-30T11:32:31.772Z"
   },
   {
    "duration": 787,
    "start_time": "2021-11-30T11:32:32.699Z"
   },
   {
    "duration": 412,
    "start_time": "2021-11-30T11:32:34.813Z"
   },
   {
    "duration": 10,
    "start_time": "2021-11-30T11:32:37.141Z"
   },
   {
    "duration": 14,
    "start_time": "2021-11-30T11:32:45.139Z"
   },
   {
    "duration": 19,
    "start_time": "2021-11-30T11:32:46.851Z"
   },
   {
    "duration": 1115,
    "start_time": "2021-11-30T11:32:48.079Z"
   },
   {
    "duration": 9,
    "start_time": "2021-11-30T11:32:51.933Z"
   },
   {
    "duration": 8,
    "start_time": "2021-11-30T11:32:52.581Z"
   },
   {
    "duration": 348,
    "start_time": "2021-11-30T11:32:55.181Z"
   },
   {
    "duration": 314,
    "start_time": "2021-11-30T11:32:56.749Z"
   },
   {
    "duration": 246,
    "start_time": "2021-11-30T11:32:58.124Z"
   },
   {
    "duration": 226,
    "start_time": "2021-11-30T11:32:59.614Z"
   },
   {
    "duration": 228,
    "start_time": "2021-11-30T11:33:01.025Z"
   },
   {
    "duration": 352,
    "start_time": "2021-11-30T11:33:04.918Z"
   },
   {
    "duration": 279,
    "start_time": "2021-11-30T11:33:07.884Z"
   },
   {
    "duration": 98,
    "start_time": "2021-11-30T11:33:12.437Z"
   },
   {
    "duration": 435,
    "start_time": "2021-11-30T11:33:14.813Z"
   },
   {
    "duration": 125,
    "start_time": "2021-11-30T11:33:18.970Z"
   },
   {
    "duration": 210,
    "start_time": "2021-11-30T11:33:23.009Z"
   },
   {
    "duration": 319,
    "start_time": "2021-11-30T11:33:26.423Z"
   },
   {
    "duration": 474,
    "start_time": "2021-11-30T11:33:29.197Z"
   },
   {
    "duration": 263,
    "start_time": "2021-11-30T11:33:30.837Z"
   },
   {
    "duration": 303,
    "start_time": "2021-11-30T11:33:32.417Z"
   },
   {
    "duration": 341,
    "start_time": "2021-11-30T11:33:33.933Z"
   },
   {
    "duration": 32,
    "start_time": "2021-11-30T11:34:17.733Z"
   },
   {
    "duration": 343,
    "start_time": "2021-11-30T11:36:59.466Z"
   },
   {
    "duration": 215,
    "start_time": "2021-11-30T11:38:00.471Z"
   },
   {
    "duration": 198,
    "start_time": "2021-11-30T11:39:14.435Z"
   },
   {
    "duration": 228,
    "start_time": "2021-11-30T11:39:21.169Z"
   },
   {
    "duration": 193,
    "start_time": "2021-11-30T11:39:24.907Z"
   },
   {
    "duration": 33,
    "start_time": "2021-11-30T11:45:33.459Z"
   },
   {
    "duration": 340,
    "start_time": "2021-11-30T11:50:59.423Z"
   },
   {
    "duration": 506,
    "start_time": "2021-11-30T11:52:19.416Z"
   },
   {
    "duration": 369,
    "start_time": "2021-11-30T11:55:49.800Z"
   },
   {
    "duration": 435,
    "start_time": "2021-11-30T11:56:10.951Z"
   },
   {
    "duration": 30,
    "start_time": "2021-11-30T11:56:22.359Z"
   },
   {
    "duration": 25,
    "start_time": "2021-11-30T11:57:35.455Z"
   },
   {
    "duration": 54,
    "start_time": "2021-11-30T11:59:07.997Z"
   },
   {
    "duration": 28,
    "start_time": "2021-11-30T11:59:42.341Z"
   },
   {
    "duration": 207,
    "start_time": "2021-11-30T12:07:54.247Z"
   },
   {
    "duration": 172,
    "start_time": "2021-11-30T12:08:34.736Z"
   },
   {
    "duration": 202,
    "start_time": "2021-11-30T12:09:14.355Z"
   },
   {
    "duration": 350,
    "start_time": "2021-11-30T12:09:40.976Z"
   },
   {
    "duration": 193,
    "start_time": "2021-11-30T12:10:24.520Z"
   },
   {
    "duration": 250,
    "start_time": "2021-11-30T12:10:45.491Z"
   },
   {
    "duration": 91,
    "start_time": "2021-11-30T12:26:47.729Z"
   },
   {
    "duration": 1665,
    "start_time": "2021-11-30T15:59:01.226Z"
   },
   {
    "duration": 16,
    "start_time": "2021-11-30T15:59:02.894Z"
   },
   {
    "duration": 73,
    "start_time": "2021-11-30T15:59:02.914Z"
   },
   {
    "duration": 13,
    "start_time": "2021-11-30T15:59:02.990Z"
   },
   {
    "duration": 72,
    "start_time": "2021-11-30T15:59:03.005Z"
   },
   {
    "duration": 5,
    "start_time": "2021-11-30T15:59:03.079Z"
   },
   {
    "duration": 13,
    "start_time": "2021-11-30T15:59:03.087Z"
   },
   {
    "duration": 11,
    "start_time": "2021-11-30T15:59:03.103Z"
   },
   {
    "duration": 11,
    "start_time": "2021-11-30T15:59:03.118Z"
   },
   {
    "duration": 40,
    "start_time": "2021-11-30T15:59:03.132Z"
   },
   {
    "duration": 9,
    "start_time": "2021-11-30T15:59:03.174Z"
   },
   {
    "duration": 21,
    "start_time": "2021-11-30T15:59:03.186Z"
   },
   {
    "duration": 5,
    "start_time": "2021-11-30T15:59:03.209Z"
   },
   {
    "duration": 986,
    "start_time": "2021-11-30T15:59:03.216Z"
   },
   {
    "duration": 1038,
    "start_time": "2021-11-30T15:59:04.215Z"
   },
   {
    "duration": 19,
    "start_time": "2021-11-30T15:59:05.255Z"
   },
   {
    "duration": 13,
    "start_time": "2021-11-30T15:59:05.276Z"
   },
   {
    "duration": 24,
    "start_time": "2021-11-30T15:59:05.291Z"
   },
   {
    "duration": 1010,
    "start_time": "2021-11-30T15:59:05.317Z"
   },
   {
    "duration": 9,
    "start_time": "2021-11-30T15:59:06.329Z"
   },
   {
    "duration": 27,
    "start_time": "2021-11-30T15:59:06.340Z"
   },
   {
    "duration": 398,
    "start_time": "2021-11-30T15:59:06.369Z"
   },
   {
    "duration": 482,
    "start_time": "2021-11-30T15:59:06.769Z"
   },
   {
    "duration": 338,
    "start_time": "2021-11-30T15:59:07.254Z"
   },
   {
    "duration": 393,
    "start_time": "2021-11-30T15:59:07.595Z"
   },
   {
    "duration": 391,
    "start_time": "2021-11-30T15:59:07.990Z"
   },
   {
    "duration": 520,
    "start_time": "2021-11-30T15:59:08.389Z"
   },
   {
    "duration": 444,
    "start_time": "2021-11-30T15:59:08.913Z"
   },
   {
    "duration": 148,
    "start_time": "2021-11-30T15:59:09.359Z"
   },
   {
    "duration": 717,
    "start_time": "2021-11-30T15:59:09.510Z"
   },
   {
    "duration": 205,
    "start_time": "2021-11-30T15:59:10.229Z"
   },
   {
    "duration": 348,
    "start_time": "2021-11-30T15:59:10.437Z"
   },
   {
    "duration": 368,
    "start_time": "2021-11-30T15:59:10.788Z"
   },
   {
    "duration": 483,
    "start_time": "2021-11-30T15:59:11.159Z"
   },
   {
    "duration": 304,
    "start_time": "2021-11-30T15:59:11.645Z"
   },
   {
    "duration": 338,
    "start_time": "2021-11-30T15:59:11.951Z"
   },
   {
    "duration": 389,
    "start_time": "2021-11-30T15:59:12.291Z"
   },
   {
    "duration": 36,
    "start_time": "2021-11-30T15:59:12.682Z"
   },
   {
    "duration": 336,
    "start_time": "2021-11-30T15:59:12.720Z"
   },
   {
    "duration": 364,
    "start_time": "2021-11-30T15:59:13.058Z"
   },
   {
    "duration": 314,
    "start_time": "2021-11-30T15:59:13.425Z"
   },
   {
    "duration": 41,
    "start_time": "2021-11-30T15:59:13.741Z"
   },
   {
    "duration": 403,
    "start_time": "2021-11-30T15:59:13.784Z"
   },
   {
    "duration": 34,
    "start_time": "2021-11-30T15:59:14.189Z"
   },
   {
    "duration": 78,
    "start_time": "2021-11-30T15:59:14.225Z"
   },
   {
    "duration": 24,
    "start_time": "2021-11-30T15:59:14.306Z"
   },
   {
    "duration": 367,
    "start_time": "2021-11-30T15:59:14.334Z"
   },
   {
    "duration": 364,
    "start_time": "2021-11-30T15:59:14.703Z"
   },
   {
    "duration": 544,
    "start_time": "2021-11-30T15:59:15.070Z"
   },
   {
    "duration": 614,
    "start_time": "2021-11-30T15:59:15.617Z"
   },
   {
    "duration": 418,
    "start_time": "2021-11-30T15:59:16.234Z"
   },
   {
    "duration": 335,
    "start_time": "2021-11-30T15:59:16.655Z"
   },
   {
    "duration": 386,
    "start_time": "2021-11-30T15:59:16.992Z"
   },
   {
    "duration": 329,
    "start_time": "2021-11-30T15:59:17.380Z"
   },
   {
    "duration": 6,
    "start_time": "2021-11-30T16:40:31.147Z"
   },
   {
    "duration": 375,
    "start_time": "2021-11-30T16:41:24.076Z"
   },
   {
    "duration": 5,
    "start_time": "2021-11-30T16:42:18.910Z"
   },
   {
    "duration": 358,
    "start_time": "2021-11-30T16:42:19.846Z"
   },
   {
    "duration": 1580,
    "start_time": "2021-11-30T16:43:43.311Z"
   },
   {
    "duration": 16,
    "start_time": "2021-11-30T16:43:45.825Z"
   },
   {
    "duration": 49,
    "start_time": "2021-11-30T16:43:47.799Z"
   },
   {
    "duration": 13,
    "start_time": "2021-11-30T16:43:48.608Z"
   },
   {
    "duration": 38,
    "start_time": "2021-11-30T16:43:49.286Z"
   },
   {
    "duration": 5,
    "start_time": "2021-11-30T16:43:52.926Z"
   },
   {
    "duration": 12,
    "start_time": "2021-11-30T16:43:54.135Z"
   },
   {
    "duration": 8,
    "start_time": "2021-11-30T16:43:54.566Z"
   },
   {
    "duration": 7,
    "start_time": "2021-11-30T16:43:54.975Z"
   },
   {
    "duration": 9,
    "start_time": "2021-11-30T16:43:55.383Z"
   },
   {
    "duration": 7,
    "start_time": "2021-11-30T16:43:55.670Z"
   },
   {
    "duration": 22,
    "start_time": "2021-11-30T16:44:01.790Z"
   },
   {
    "duration": 5,
    "start_time": "2021-11-30T16:44:09.032Z"
   },
   {
    "duration": 826,
    "start_time": "2021-11-30T16:44:11.470Z"
   },
   {
    "duration": 378,
    "start_time": "2021-11-30T16:44:14.832Z"
   },
   {
    "duration": 11,
    "start_time": "2021-11-30T16:44:21.991Z"
   },
   {
    "duration": 14,
    "start_time": "2021-11-30T16:44:24.007Z"
   },
   {
    "duration": 21,
    "start_time": "2021-11-30T16:44:24.843Z"
   },
   {
    "duration": 1574,
    "start_time": "2021-11-30T16:44:25.238Z"
   },
   {
    "duration": 9,
    "start_time": "2021-11-30T16:44:26.815Z"
   },
   {
    "duration": 8,
    "start_time": "2021-11-30T16:44:26.893Z"
   },
   {
    "duration": 4,
    "start_time": "2021-11-30T16:44:32.878Z"
   },
   {
    "duration": 371,
    "start_time": "2021-11-30T16:44:34.236Z"
   },
   {
    "duration": 1265,
    "start_time": "2021-11-30T16:47:03.639Z"
   },
   {
    "duration": 543,
    "start_time": "2021-11-30T16:48:21.368Z"
   },
   {
    "duration": 5,
    "start_time": "2021-11-30T16:48:40.903Z"
   },
   {
    "duration": 966,
    "start_time": "2021-11-30T16:48:42.110Z"
   },
   {
    "duration": 4,
    "start_time": "2021-11-30T16:48:54.509Z"
   },
   {
    "duration": 1031,
    "start_time": "2021-11-30T16:48:56.288Z"
   },
   {
    "duration": 832,
    "start_time": "2021-11-30T16:49:22.306Z"
   },
   {
    "duration": 6,
    "start_time": "2021-11-30T16:50:12.349Z"
   },
   {
    "duration": 811,
    "start_time": "2021-11-30T16:50:14.079Z"
   },
   {
    "duration": 888,
    "start_time": "2021-11-30T16:50:25.343Z"
   },
   {
    "duration": 755,
    "start_time": "2021-11-30T16:50:33.886Z"
   },
   {
    "duration": 759,
    "start_time": "2021-11-30T16:50:47.406Z"
   },
   {
    "duration": 156,
    "start_time": "2021-11-30T16:52:00.184Z"
   },
   {
    "duration": 109,
    "start_time": "2021-11-30T16:52:28.765Z"
   },
   {
    "duration": 192,
    "start_time": "2021-11-30T16:52:36.782Z"
   },
   {
    "duration": 5,
    "start_time": "2021-11-30T16:52:47.158Z"
   },
   {
    "duration": 794,
    "start_time": "2021-11-30T16:52:50.837Z"
   },
   {
    "duration": 5,
    "start_time": "2021-11-30T16:54:01.102Z"
   },
   {
    "duration": 822,
    "start_time": "2021-11-30T16:54:03.133Z"
   },
   {
    "duration": 5,
    "start_time": "2021-11-30T16:54:39.326Z"
   },
   {
    "duration": 864,
    "start_time": "2021-11-30T16:54:42.302Z"
   },
   {
    "duration": 134,
    "start_time": "2021-11-30T16:56:09.176Z"
   },
   {
    "duration": 782,
    "start_time": "2021-11-30T16:56:10.737Z"
   },
   {
    "duration": 10,
    "start_time": "2021-11-30T16:56:32.614Z"
   },
   {
    "duration": 1142,
    "start_time": "2021-11-30T16:56:36.378Z"
   },
   {
    "duration": 1774,
    "start_time": "2021-11-30T16:57:58.047Z"
   },
   {
    "duration": 5,
    "start_time": "2021-11-30T16:58:55.391Z"
   },
   {
    "duration": 1260,
    "start_time": "2021-11-30T16:58:57.114Z"
   },
   {
    "duration": 5,
    "start_time": "2021-11-30T16:59:14.015Z"
   },
   {
    "duration": 1254,
    "start_time": "2021-11-30T16:59:17.183Z"
   },
   {
    "duration": 5,
    "start_time": "2021-11-30T16:59:50.679Z"
   },
   {
    "duration": 1232,
    "start_time": "2021-11-30T16:59:52.394Z"
   },
   {
    "duration": 5,
    "start_time": "2021-11-30T17:00:18.567Z"
   },
   {
    "duration": 1237,
    "start_time": "2021-11-30T17:00:20.279Z"
   },
   {
    "duration": 5,
    "start_time": "2021-11-30T17:00:36.719Z"
   },
   {
    "duration": 1665,
    "start_time": "2021-11-30T17:00:39.216Z"
   },
   {
    "duration": 8,
    "start_time": "2021-11-30T17:03:25.775Z"
   },
   {
    "duration": 632,
    "start_time": "2021-11-30T17:03:27.181Z"
   },
   {
    "duration": 8,
    "start_time": "2021-11-30T17:04:10.752Z"
   },
   {
    "duration": 6,
    "start_time": "2021-11-30T17:04:55.976Z"
   },
   {
    "duration": 675,
    "start_time": "2021-11-30T17:04:56.890Z"
   },
   {
    "duration": 685,
    "start_time": "2021-11-30T17:05:13.404Z"
   },
   {
    "duration": 463,
    "start_time": "2021-11-30T17:05:22.832Z"
   },
   {
    "duration": 6,
    "start_time": "2021-11-30T17:05:42.658Z"
   },
   {
    "duration": 554,
    "start_time": "2021-11-30T17:05:44.039Z"
   },
   {
    "duration": 476,
    "start_time": "2021-11-30T17:05:45.785Z"
   },
   {
    "duration": 89,
    "start_time": "2021-11-30T17:06:19.256Z"
   },
   {
    "duration": 98,
    "start_time": "2021-11-30T17:10:57.464Z"
   },
   {
    "duration": 88,
    "start_time": "2021-11-30T17:11:30.171Z"
   },
   {
    "duration": 17,
    "start_time": "2021-11-30T17:11:30.279Z"
   },
   {
    "duration": 46,
    "start_time": "2021-11-30T17:11:30.953Z"
   },
   {
    "duration": 12,
    "start_time": "2021-11-30T17:11:31.455Z"
   },
   {
    "duration": 38,
    "start_time": "2021-11-30T17:11:32.232Z"
   },
   {
    "duration": 6,
    "start_time": "2021-11-30T17:11:36.463Z"
   },
   {
    "duration": 13,
    "start_time": "2021-11-30T17:11:37.799Z"
   },
   {
    "duration": 8,
    "start_time": "2021-11-30T17:11:39.335Z"
   },
   {
    "duration": 8,
    "start_time": "2021-11-30T17:11:42.659Z"
   },
   {
    "duration": 9,
    "start_time": "2021-11-30T17:11:43.086Z"
   },
   {
    "duration": 9,
    "start_time": "2021-11-30T17:11:43.537Z"
   },
   {
    "duration": 19,
    "start_time": "2021-11-30T17:11:47.840Z"
   },
   {
    "duration": 6,
    "start_time": "2021-11-30T17:11:52.407Z"
   },
   {
    "duration": 801,
    "start_time": "2021-11-30T17:11:53.499Z"
   },
   {
    "duration": 374,
    "start_time": "2021-11-30T17:11:58.272Z"
   },
   {
    "duration": 11,
    "start_time": "2021-11-30T17:12:08.736Z"
   },
   {
    "duration": 492,
    "start_time": "2021-11-30T17:12:10.072Z"
   },
   {
    "duration": 10,
    "start_time": "2021-11-30T17:12:35.105Z"
   },
   {
    "duration": 11,
    "start_time": "2021-11-30T17:12:37.175Z"
   },
   {
    "duration": 22,
    "start_time": "2021-11-30T17:12:38.159Z"
   },
   {
    "duration": 1533,
    "start_time": "2021-11-30T17:12:38.986Z"
   },
   {
    "duration": 9,
    "start_time": "2021-11-30T17:12:40.523Z"
   },
   {
    "duration": 7,
    "start_time": "2021-11-30T17:12:40.626Z"
   },
   {
    "duration": 6,
    "start_time": "2021-11-30T17:13:44.355Z"
   },
   {
    "duration": 444,
    "start_time": "2021-11-30T17:13:45.047Z"
   },
   {
    "duration": 463,
    "start_time": "2021-11-30T17:13:45.632Z"
   },
   {
    "duration": 364,
    "start_time": "2021-11-30T17:13:51.168Z"
   },
   {
    "duration": 373,
    "start_time": "2021-11-30T17:13:54.287Z"
   },
   {
    "duration": 324,
    "start_time": "2021-11-30T17:13:59.360Z"
   },
   {
    "duration": 353,
    "start_time": "2021-11-30T17:14:02.729Z"
   },
   {
    "duration": 349,
    "start_time": "2021-11-30T17:14:09.217Z"
   },
   {
    "duration": 501,
    "start_time": "2021-11-30T17:14:14.984Z"
   },
   {
    "duration": 612,
    "start_time": "2021-11-30T17:14:49.281Z"
   },
   {
    "duration": 132,
    "start_time": "2021-11-30T17:16:13.975Z"
   },
   {
    "duration": 785,
    "start_time": "2021-11-30T17:16:16.143Z"
   },
   {
    "duration": 175,
    "start_time": "2021-11-30T17:16:19.296Z"
   },
   {
    "duration": 314,
    "start_time": "2021-11-30T17:16:27.815Z"
   },
   {
    "duration": 333,
    "start_time": "2021-11-30T17:16:32.649Z"
   },
   {
    "duration": 515,
    "start_time": "2021-11-30T17:16:36.152Z"
   },
   {
    "duration": 276,
    "start_time": "2021-11-30T17:16:39.440Z"
   },
   {
    "duration": 318,
    "start_time": "2021-11-30T17:16:43.266Z"
   },
   {
    "duration": 352,
    "start_time": "2021-11-30T17:16:45.640Z"
   },
   {
    "duration": 35,
    "start_time": "2021-11-30T17:16:50.984Z"
   },
   {
    "duration": 301,
    "start_time": "2021-11-30T17:16:52.489Z"
   },
   {
    "duration": 334,
    "start_time": "2021-11-30T17:16:54.344Z"
   },
   {
    "duration": 286,
    "start_time": "2021-11-30T17:16:56.329Z"
   },
   {
    "duration": 33,
    "start_time": "2021-11-30T17:17:14.360Z"
   },
   {
    "duration": 469,
    "start_time": "2021-11-30T17:17:19.608Z"
   }
  ],
  "kernelspec": {
   "display_name": "Python 3",
   "language": "python",
   "name": "python3"
  },
  "language_info": {
   "codemirror_mode": {
    "name": "ipython",
    "version": 3
   },
   "file_extension": ".py",
   "mimetype": "text/x-python",
   "name": "python",
   "nbconvert_exporter": "python",
   "pygments_lexer": "ipython3",
   "version": "3.7.8"
  },
  "toc": {
   "base_numbering": 1,
   "nav_menu": {},
   "number_sections": true,
   "sideBar": true,
   "skip_h1_title": true,
   "title_cell": "Содержание",
   "title_sidebar": "Contents",
   "toc_cell": true,
   "toc_position": {},
   "toc_section_display": true,
   "toc_window_display": true
  }
 },
 "nbformat": 4,
 "nbformat_minor": 2
}
