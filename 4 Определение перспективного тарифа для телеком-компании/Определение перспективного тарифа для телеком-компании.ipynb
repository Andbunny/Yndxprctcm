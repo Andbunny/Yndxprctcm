{
 "cells": [
  {
   "cell_type": "markdown",
   "metadata": {
    "id": "Amjx7r3n5Qk_"
   },
   "source": [
    "Определение перспективного тарифа для телеком компании"
   ]
  },
  {
   "cell_type": "markdown",
   "metadata": {
    "id": "5UzwsdOQ5QlC"
   },
   "source": [
    "Вы аналитик компании «Мегалайн» — федерального оператора сотовой связи. Клиентам предлагают два тарифных плана: «Смарт» и «Ультра». Чтобы скорректировать рекламный бюджет, коммерческий департамент хочет понять, какой тариф приносит больше денег.  \n",
    "Вам предстоит сделать предварительный анализ тарифов на небольшой выборке клиентов. В вашем распоряжении данные 500 пользователей «Мегалайна»: кто они, откуда, каким тарифом пользуются, сколько звонков и сообщений каждый отправил за 2018 год. Нужно проанализировать поведение клиентов и сделать вывод — какой тариф лучше."
   ]
  },
  {
   "cell_type": "markdown",
   "metadata": {
    "id": "4Lb84zk55QlD"
   },
   "source": [
    "Описание тарифов"
   ]
  },
  {
   "cell_type": "markdown",
   "metadata": {
    "id": "Z2FH5XIX5QlE"
   },
   "source": [
    "1. Тариф «Смарт»\n",
    "- Ежемесячная плата: 550 рублей\n",
    "- Включено:\n",
    "   - 500 минут разговора\n",
    "   - 50 сообщений\n",
    "   - 15 Гб интернет-трафика\n",
    "- Стоимость услуг сверх тарифного пакета:\n",
    "   - минута разговора: 3 рубля\n",
    "   - сообщение: 3 рубля\n",
    "   - 1 Гб интернет-трафика: 200 рублей\n",
    "   \n",
    "2. Тариф «Ультра»\n",
    "- Ежемесячная плата: 1950 рублей\n",
    "- Включено:\n",
    "   - 3000 минут разговора\n",
    "   - 1000 сообщений\n",
    "   - 30 Гб интернет-трафика\n",
    "- Стоимость услуг сверх тарифного пакета:\n",
    "   - минута разговора: 1 рубль\n",
    "   - сообщение: 1 рубль\n",
    "   - 1 Гб интернет-трафика: 150 рублей\n",
    "\n",
    "Значения минут и мегабайтов всегда округляются вверх. Если пользователь проговорил всего 1 секунду, в тарифе засчитывается целая минута."
   ]
  },
  {
   "cell_type": "markdown",
   "metadata": {
    "id": "-68MC5Dc5QlH"
   },
   "source": [
    "Описание данных"
   ]
  },
  {
   "cell_type": "markdown",
   "metadata": {
    "id": "khR9IO-45QlI"
   },
   "source": [
    "Таблица ___users___ (информация о пользователях):\n",
    "- *user_id* — уникальный идентификатор пользователя\n",
    "- *first_name* — имя пользователя\n",
    "- *last_name* — фамилия пользователя\n",
    "- *age* — возраст пользователя (годы)\n",
    "- *reg_date* — дата подключения тарифа (день, месяц, год)\n",
    "- *churn_date* — дата прекращения пользования тарифом (если значение пропущено, то тариф ещё действовал на момент выгрузки данных)\n",
    "- *city* — город проживания пользователя\n",
    "- *tariff* — название тарифного плана\n",
    "\n",
    "Таблица ___calls___ (информация о звонках):\n",
    "- *id* — уникальный номер звонка\n",
    "- *call_date* — дата звонка\n",
    "- *duration* — длительность звонка в минутах\n",
    "- *user_id* — идентификатор пользователя, сделавшего звонок\n",
    "\n",
    "Таблица ___messages___ (информация о сообщениях):\n",
    "- *id* — уникальный номер сообщения\n",
    "- *message_date* — дата сообщения\n",
    "- *user_id* — идентификатор пользователя, отправившего сообщение\n",
    "\n",
    "Таблица ___internet___ (информация об интернет-сессиях):\n",
    "- *id* — уникальный номер сессии\n",
    "- *mb_used* — объём потраченного за сессию интернет-трафика (в мегабайтах)\n",
    "- *session_date* — дата интернет-сессии\n",
    "- *user_id* — идентификатор пользователя\n",
    "\n",
    "Таблица ___tariffs___ (информация о тарифах):\n",
    "- *tariff_name* — название тарифа\n",
    "- *rub_monthly_fee* — ежемесячная абонентская плата в рублях\n",
    "- *minutes_included* — количество минут разговора в месяц, включённых в абонентскую плату\n",
    "- *messages_included* — количество сообщений в месяц, включённых в абонентскую плату\n",
    "- *mb_per_month_included* — объём интернет-трафика, включённого в абонентскую плату (в мегабайтах)\n",
    "- *rub_per_minute* — стоимость минуты разговора сверх тарифного пакета (например, если в тарифе 100 минут разговора в месяц, то со 101 минуты будет взиматься плата)\n",
    "- *rub_per_message* — стоимость отправки сообщения сверх тарифного пакета\n",
    "- *rub_per_gb* — стоимость дополнительного гигабайта интернет-трафика сверх тарифного пакета (1 гигабайт = 1024 мегабайта)"
   ]
  },
  {
   "cell_type": "markdown",
   "metadata": {
    "id": "6yZWTs0z5QlK"
   },
   "source": [
    "План действий"
   ]
  },
  {
   "cell_type": "markdown",
   "metadata": {
    "id": "V7J7K_fg5QlM"
   },
   "source": [
    "1. Изучение общей информации о данных\n",
    "\n",
    "\n",
    "2. Подготовка данных\n",
    " - Приведение данных к нужным типам\n",
    " - Поиск и исправление ошибок в данных\n",
    " - Подсчет для каждого пользователя:\n",
    "    - количества сделанных звонков и израсходованных минут разговора по месяцам\n",
    "    - количества отправленных сообщений по месяцам\n",
    "    - объем израсходованного интернет-трафика по месяцам\n",
    "    - помесячную выручку с каждого пользователя\n",
    "\n",
    "\n",
    "3. Анализ данных\n",
    " - Описание поведения клиентов оператора, исходя из выборки (количество минут разговора, сообщений и какой объём интернет-трафика требуется пользователям каждого тарифа в месяц) \n",
    " - Подсчет среднего количества, дисперсии и стандартного отклонения\n",
    " - Построение гистограммы\n",
    " - Распределения\n",
    "\n",
    "\n",
    "4. Проверка гипотез:\n",
    " - средняя выручка пользователей тарифов «Ультра» и «Смарт» различается\n",
    " - средняя выручка пользователей из Москвы отличается от выручки пользователей из других регионов\n",
    "\n",
    "\n",
    "5. Общий вывод"
   ]
  },
  {
   "cell_type": "markdown",
   "metadata": {
    "id": "70OVG-ds5QlN"
   },
   "source": [
    "## Изучение общей информации о данных"
   ]
  },
  {
   "cell_type": "code",
   "execution_count": 1,
   "metadata": {
    "id": "LUoyEm8_5QlO"
   },
   "outputs": [],
   "source": [
    "import pandas as pd\n",
    "pd.options.display.float_format ='{:,.3f}'.format\n",
    "import matplotlib.pyplot as plt\n",
    "import math as m\n",
    "import numpy as np\n",
    "import seaborn as sns\n",
    "sns.set()\n",
    "\n",
    "import scipy.stats\n",
    "import warnings\n",
    "warnings.simplefilter('ignore')"
   ]
  },
  {
   "cell_type": "code",
   "execution_count": 2,
   "metadata": {
    "id": "iU1XNvVP5QlR"
   },
   "outputs": [],
   "source": [
    "calls = pd.read_csv('https://code.s3.yandex.net/datasets/calls.csv')\n",
    "internet = pd.read_csv('https://code.s3.yandex.net/datasets/internet.csv')\n",
    "messages = pd.read_csv('https://code.s3.yandex.net/datasets/messages.csv')\n",
    "tariffs = pd.read_csv('https://code.s3.yandex.net/datasets/tariffs.csv')\n",
    "users = pd.read_csv('https://code.s3.yandex.net/datasets/users.csv')"
   ]
  },
  {
   "cell_type": "markdown",
   "metadata": {
    "id": "-ssZssNH5QlR"
   },
   "source": [
    "Просматриваем информациб из calls:"
   ]
  },
  {
   "cell_type": "code",
   "execution_count": 3,
   "metadata": {
    "colab": {
     "base_uri": "https://localhost:8080/",
     "height": 701
    },
    "id": "ZaEEsXg85QlS",
    "outputId": "a55953fa-560c-4afd-90cf-c81ce8f30ce6"
   },
   "outputs": [
    {
     "name": "stdout",
     "output_type": "stream",
     "text": [
      "<class 'pandas.core.frame.DataFrame'>\n",
      "RangeIndex: 202607 entries, 0 to 202606\n",
      "Data columns (total 4 columns):\n",
      "id           202607 non-null object\n",
      "call_date    202607 non-null object\n",
      "duration     202607 non-null float64\n",
      "user_id      202607 non-null int64\n",
      "dtypes: float64(1), int64(1), object(2)\n",
      "memory usage: 6.2+ MB\n"
     ]
    },
    {
     "data": {
      "text/html": [
       "<div>\n",
       "<style scoped>\n",
       "    .dataframe tbody tr th:only-of-type {\n",
       "        vertical-align: middle;\n",
       "    }\n",
       "\n",
       "    .dataframe tbody tr th {\n",
       "        vertical-align: top;\n",
       "    }\n",
       "\n",
       "    .dataframe thead th {\n",
       "        text-align: right;\n",
       "    }\n",
       "</style>\n",
       "<table border=\"1\" class=\"dataframe\">\n",
       "  <thead>\n",
       "    <tr style=\"text-align: right;\">\n",
       "      <th></th>\n",
       "      <th>id</th>\n",
       "      <th>call_date</th>\n",
       "      <th>duration</th>\n",
       "      <th>user_id</th>\n",
       "    </tr>\n",
       "  </thead>\n",
       "  <tbody>\n",
       "    <tr>\n",
       "      <td>0</td>\n",
       "      <td>1000_0</td>\n",
       "      <td>2018-07-25</td>\n",
       "      <td>0.000</td>\n",
       "      <td>1000</td>\n",
       "    </tr>\n",
       "    <tr>\n",
       "      <td>1</td>\n",
       "      <td>1000_1</td>\n",
       "      <td>2018-08-17</td>\n",
       "      <td>0.000</td>\n",
       "      <td>1000</td>\n",
       "    </tr>\n",
       "    <tr>\n",
       "      <td>2</td>\n",
       "      <td>1000_2</td>\n",
       "      <td>2018-06-11</td>\n",
       "      <td>2.850</td>\n",
       "      <td>1000</td>\n",
       "    </tr>\n",
       "    <tr>\n",
       "      <td>3</td>\n",
       "      <td>1000_3</td>\n",
       "      <td>2018-09-21</td>\n",
       "      <td>13.800</td>\n",
       "      <td>1000</td>\n",
       "    </tr>\n",
       "    <tr>\n",
       "      <td>4</td>\n",
       "      <td>1000_4</td>\n",
       "      <td>2018-12-15</td>\n",
       "      <td>5.180</td>\n",
       "      <td>1000</td>\n",
       "    </tr>\n",
       "    <tr>\n",
       "      <td>5</td>\n",
       "      <td>1000_5</td>\n",
       "      <td>2018-11-02</td>\n",
       "      <td>0.000</td>\n",
       "      <td>1000</td>\n",
       "    </tr>\n",
       "    <tr>\n",
       "      <td>6</td>\n",
       "      <td>1000_6</td>\n",
       "      <td>2018-10-18</td>\n",
       "      <td>0.000</td>\n",
       "      <td>1000</td>\n",
       "    </tr>\n",
       "    <tr>\n",
       "      <td>7</td>\n",
       "      <td>1000_7</td>\n",
       "      <td>2018-08-22</td>\n",
       "      <td>18.310</td>\n",
       "      <td>1000</td>\n",
       "    </tr>\n",
       "    <tr>\n",
       "      <td>8</td>\n",
       "      <td>1000_8</td>\n",
       "      <td>2018-09-15</td>\n",
       "      <td>18.440</td>\n",
       "      <td>1000</td>\n",
       "    </tr>\n",
       "    <tr>\n",
       "      <td>9</td>\n",
       "      <td>1000_9</td>\n",
       "      <td>2018-08-15</td>\n",
       "      <td>0.000</td>\n",
       "      <td>1000</td>\n",
       "    </tr>\n",
       "    <tr>\n",
       "      <td>10</td>\n",
       "      <td>1000_10</td>\n",
       "      <td>2018-08-22</td>\n",
       "      <td>5.030</td>\n",
       "      <td>1000</td>\n",
       "    </tr>\n",
       "    <tr>\n",
       "      <td>11</td>\n",
       "      <td>1000_11</td>\n",
       "      <td>2018-05-28</td>\n",
       "      <td>18.820</td>\n",
       "      <td>1000</td>\n",
       "    </tr>\n",
       "    <tr>\n",
       "      <td>12</td>\n",
       "      <td>1000_12</td>\n",
       "      <td>2018-07-05</td>\n",
       "      <td>2.020</td>\n",
       "      <td>1000</td>\n",
       "    </tr>\n",
       "    <tr>\n",
       "      <td>13</td>\n",
       "      <td>1000_13</td>\n",
       "      <td>2018-09-29</td>\n",
       "      <td>7.150</td>\n",
       "      <td>1000</td>\n",
       "    </tr>\n",
       "    <tr>\n",
       "      <td>14</td>\n",
       "      <td>1000_14</td>\n",
       "      <td>2018-12-11</td>\n",
       "      <td>9.130</td>\n",
       "      <td>1000</td>\n",
       "    </tr>\n",
       "  </tbody>\n",
       "</table>\n",
       "</div>"
      ],
      "text/plain": [
       "         id   call_date  duration  user_id\n",
       "0    1000_0  2018-07-25     0.000     1000\n",
       "1    1000_1  2018-08-17     0.000     1000\n",
       "2    1000_2  2018-06-11     2.850     1000\n",
       "3    1000_3  2018-09-21    13.800     1000\n",
       "4    1000_4  2018-12-15     5.180     1000\n",
       "5    1000_5  2018-11-02     0.000     1000\n",
       "6    1000_6  2018-10-18     0.000     1000\n",
       "7    1000_7  2018-08-22    18.310     1000\n",
       "8    1000_8  2018-09-15    18.440     1000\n",
       "9    1000_9  2018-08-15     0.000     1000\n",
       "10  1000_10  2018-08-22     5.030     1000\n",
       "11  1000_11  2018-05-28    18.820     1000\n",
       "12  1000_12  2018-07-05     2.020     1000\n",
       "13  1000_13  2018-09-29     7.150     1000\n",
       "14  1000_14  2018-12-11     9.130     1000"
      ]
     },
     "execution_count": 3,
     "metadata": {},
     "output_type": "execute_result"
    }
   ],
   "source": [
    "calls.info()\n",
    "calls.head(15)"
   ]
  },
  {
   "cell_type": "code",
   "execution_count": 4,
   "metadata": {
    "colab": {
     "base_uri": "https://localhost:8080/"
    },
    "id": "ecJG155u5QlU",
    "outputId": "aa15db16-7daf-4675-82b5-f1f3eb92e58f"
   },
   "outputs": [
    {
     "data": {
      "text/plain": [
       "38.0"
      ]
     },
     "execution_count": 4,
     "metadata": {},
     "output_type": "execute_result"
    }
   ],
   "source": [
    "calls['duration'].max()"
   ]
  },
  {
   "cell_type": "markdown",
   "metadata": {
    "id": "RFfzFkUT5QlU"
   },
   "source": [
    "Проверим нулевые и близкие к нулю значения столбца calls. Для этого возьмем отрезок от 0 секунд до 0.1 минуты (6 секунд). \n",
    "Возможно это не ошибки, а недозвон и сброшенные вызовы."
   ]
  },
  {
   "cell_type": "code",
   "execution_count": 5,
   "metadata": {
    "colab": {
     "base_uri": "https://localhost:8080/",
     "height": 514
    },
    "id": "9oPnOCei5QlV",
    "outputId": "cfb03955-1a76-4b95-f208-f1534ff02ee6"
   },
   "outputs": [
    {
     "data": {
      "text/html": [
       "<div>\n",
       "<style scoped>\n",
       "    .dataframe tbody tr th:only-of-type {\n",
       "        vertical-align: middle;\n",
       "    }\n",
       "\n",
       "    .dataframe tbody tr th {\n",
       "        vertical-align: top;\n",
       "    }\n",
       "\n",
       "    .dataframe thead th {\n",
       "        text-align: right;\n",
       "    }\n",
       "</style>\n",
       "<table border=\"1\" class=\"dataframe\">\n",
       "  <thead>\n",
       "    <tr style=\"text-align: right;\">\n",
       "      <th></th>\n",
       "      <th>id</th>\n",
       "      <th>call_date</th>\n",
       "      <th>duration</th>\n",
       "      <th>user_id</th>\n",
       "    </tr>\n",
       "  </thead>\n",
       "  <tbody>\n",
       "    <tr>\n",
       "      <td>135</td>\n",
       "      <td>1000_135</td>\n",
       "      <td>2018-10-25</td>\n",
       "      <td>0.020</td>\n",
       "      <td>1000</td>\n",
       "    </tr>\n",
       "    <tr>\n",
       "      <td>334</td>\n",
       "      <td>1000_334</td>\n",
       "      <td>2018-12-03</td>\n",
       "      <td>0.090</td>\n",
       "      <td>1000</td>\n",
       "    </tr>\n",
       "    <tr>\n",
       "      <td>453</td>\n",
       "      <td>1001_85</td>\n",
       "      <td>2018-12-12</td>\n",
       "      <td>0.010</td>\n",
       "      <td>1001</td>\n",
       "    </tr>\n",
       "    <tr>\n",
       "      <td>624</td>\n",
       "      <td>1002_134</td>\n",
       "      <td>2018-12-07</td>\n",
       "      <td>0.030</td>\n",
       "      <td>1002</td>\n",
       "    </tr>\n",
       "    <tr>\n",
       "      <td>800</td>\n",
       "      <td>1003_93</td>\n",
       "      <td>2018-11-20</td>\n",
       "      <td>0.080</td>\n",
       "      <td>1003</td>\n",
       "    </tr>\n",
       "    <tr>\n",
       "      <td>1058</td>\n",
       "      <td>1003_351</td>\n",
       "      <td>2018-10-24</td>\n",
       "      <td>0.070</td>\n",
       "      <td>1003</td>\n",
       "    </tr>\n",
       "    <tr>\n",
       "      <td>1067</td>\n",
       "      <td>1003_360</td>\n",
       "      <td>2018-08-27</td>\n",
       "      <td>0.040</td>\n",
       "      <td>1003</td>\n",
       "    </tr>\n",
       "    <tr>\n",
       "      <td>1806</td>\n",
       "      <td>1005_403</td>\n",
       "      <td>2018-12-29</td>\n",
       "      <td>0.020</td>\n",
       "      <td>1005</td>\n",
       "    </tr>\n",
       "    <tr>\n",
       "      <td>1818</td>\n",
       "      <td>1005_415</td>\n",
       "      <td>2018-07-28</td>\n",
       "      <td>0.080</td>\n",
       "      <td>1005</td>\n",
       "    </tr>\n",
       "    <tr>\n",
       "      <td>1824</td>\n",
       "      <td>1005_421</td>\n",
       "      <td>2018-08-03</td>\n",
       "      <td>0.010</td>\n",
       "      <td>1005</td>\n",
       "    </tr>\n",
       "    <tr>\n",
       "      <td>2213</td>\n",
       "      <td>1005_810</td>\n",
       "      <td>2018-07-02</td>\n",
       "      <td>0.090</td>\n",
       "      <td>1005</td>\n",
       "    </tr>\n",
       "    <tr>\n",
       "      <td>2249</td>\n",
       "      <td>1005_846</td>\n",
       "      <td>2018-04-29</td>\n",
       "      <td>0.060</td>\n",
       "      <td>1005</td>\n",
       "    </tr>\n",
       "    <tr>\n",
       "      <td>2296</td>\n",
       "      <td>1006_5</td>\n",
       "      <td>2018-09-26</td>\n",
       "      <td>0.080</td>\n",
       "      <td>1006</td>\n",
       "    </tr>\n",
       "    <tr>\n",
       "      <td>3357</td>\n",
       "      <td>1007_560</td>\n",
       "      <td>2018-06-23</td>\n",
       "      <td>0.080</td>\n",
       "      <td>1007</td>\n",
       "    </tr>\n",
       "    <tr>\n",
       "      <td>3625</td>\n",
       "      <td>1009_164</td>\n",
       "      <td>2018-06-06</td>\n",
       "      <td>0.020</td>\n",
       "      <td>1009</td>\n",
       "    </tr>\n",
       "  </tbody>\n",
       "</table>\n",
       "</div>"
      ],
      "text/plain": [
       "            id   call_date  duration  user_id\n",
       "135   1000_135  2018-10-25     0.020     1000\n",
       "334   1000_334  2018-12-03     0.090     1000\n",
       "453    1001_85  2018-12-12     0.010     1001\n",
       "624   1002_134  2018-12-07     0.030     1002\n",
       "800    1003_93  2018-11-20     0.080     1003\n",
       "1058  1003_351  2018-10-24     0.070     1003\n",
       "1067  1003_360  2018-08-27     0.040     1003\n",
       "1806  1005_403  2018-12-29     0.020     1005\n",
       "1818  1005_415  2018-07-28     0.080     1005\n",
       "1824  1005_421  2018-08-03     0.010     1005\n",
       "2213  1005_810  2018-07-02     0.090     1005\n",
       "2249  1005_846  2018-04-29     0.060     1005\n",
       "2296    1006_5  2018-09-26     0.080     1006\n",
       "3357  1007_560  2018-06-23     0.080     1007\n",
       "3625  1009_164  2018-06-06     0.020     1009"
      ]
     },
     "execution_count": 5,
     "metadata": {},
     "output_type": "execute_result"
    }
   ],
   "source": [
    "calls[(calls['duration'] < 0.1) & (calls['duration'] > 0)].head(15)"
   ]
  },
  {
   "cell_type": "markdown",
   "metadata": {
    "id": "vHCzrqfl5QlW"
   },
   "source": [
    "Значения есть, причем их много - так что наша догадка (гипотеза) верна"
   ]
  },
  {
   "cell_type": "markdown",
   "metadata": {
    "id": "unCwbtTC5QlW"
   },
   "source": [
    "Займемся датасетом internet"
   ]
  },
  {
   "cell_type": "code",
   "execution_count": 6,
   "metadata": {
    "colab": {
     "base_uri": "https://localhost:8080/",
     "height": 718
    },
    "id": "0G0Rf0785QlX",
    "outputId": "2535e04f-42bd-49b5-c32a-855362214605"
   },
   "outputs": [
    {
     "name": "stdout",
     "output_type": "stream",
     "text": [
      "<class 'pandas.core.frame.DataFrame'>\n",
      "RangeIndex: 149396 entries, 0 to 149395\n",
      "Data columns (total 5 columns):\n",
      "Unnamed: 0      149396 non-null int64\n",
      "id              149396 non-null object\n",
      "mb_used         149396 non-null float64\n",
      "session_date    149396 non-null object\n",
      "user_id         149396 non-null int64\n",
      "dtypes: float64(1), int64(2), object(2)\n",
      "memory usage: 5.7+ MB\n"
     ]
    },
    {
     "data": {
      "text/html": [
       "<div>\n",
       "<style scoped>\n",
       "    .dataframe tbody tr th:only-of-type {\n",
       "        vertical-align: middle;\n",
       "    }\n",
       "\n",
       "    .dataframe tbody tr th {\n",
       "        vertical-align: top;\n",
       "    }\n",
       "\n",
       "    .dataframe thead th {\n",
       "        text-align: right;\n",
       "    }\n",
       "</style>\n",
       "<table border=\"1\" class=\"dataframe\">\n",
       "  <thead>\n",
       "    <tr style=\"text-align: right;\">\n",
       "      <th></th>\n",
       "      <th>Unnamed: 0</th>\n",
       "      <th>id</th>\n",
       "      <th>mb_used</th>\n",
       "      <th>session_date</th>\n",
       "      <th>user_id</th>\n",
       "    </tr>\n",
       "  </thead>\n",
       "  <tbody>\n",
       "    <tr>\n",
       "      <td>0</td>\n",
       "      <td>0</td>\n",
       "      <td>1000_0</td>\n",
       "      <td>112.950</td>\n",
       "      <td>2018-11-25</td>\n",
       "      <td>1000</td>\n",
       "    </tr>\n",
       "    <tr>\n",
       "      <td>1</td>\n",
       "      <td>1</td>\n",
       "      <td>1000_1</td>\n",
       "      <td>1,052.810</td>\n",
       "      <td>2018-09-07</td>\n",
       "      <td>1000</td>\n",
       "    </tr>\n",
       "    <tr>\n",
       "      <td>2</td>\n",
       "      <td>2</td>\n",
       "      <td>1000_2</td>\n",
       "      <td>1,197.260</td>\n",
       "      <td>2018-06-25</td>\n",
       "      <td>1000</td>\n",
       "    </tr>\n",
       "    <tr>\n",
       "      <td>3</td>\n",
       "      <td>3</td>\n",
       "      <td>1000_3</td>\n",
       "      <td>550.270</td>\n",
       "      <td>2018-08-22</td>\n",
       "      <td>1000</td>\n",
       "    </tr>\n",
       "    <tr>\n",
       "      <td>4</td>\n",
       "      <td>4</td>\n",
       "      <td>1000_4</td>\n",
       "      <td>302.560</td>\n",
       "      <td>2018-09-24</td>\n",
       "      <td>1000</td>\n",
       "    </tr>\n",
       "    <tr>\n",
       "      <td>5</td>\n",
       "      <td>5</td>\n",
       "      <td>1000_5</td>\n",
       "      <td>399.970</td>\n",
       "      <td>2018-10-02</td>\n",
       "      <td>1000</td>\n",
       "    </tr>\n",
       "    <tr>\n",
       "      <td>6</td>\n",
       "      <td>6</td>\n",
       "      <td>1000_6</td>\n",
       "      <td>540.080</td>\n",
       "      <td>2018-09-07</td>\n",
       "      <td>1000</td>\n",
       "    </tr>\n",
       "    <tr>\n",
       "      <td>7</td>\n",
       "      <td>7</td>\n",
       "      <td>1000_7</td>\n",
       "      <td>415.700</td>\n",
       "      <td>2018-07-11</td>\n",
       "      <td>1000</td>\n",
       "    </tr>\n",
       "    <tr>\n",
       "      <td>8</td>\n",
       "      <td>8</td>\n",
       "      <td>1000_8</td>\n",
       "      <td>505.400</td>\n",
       "      <td>2018-10-08</td>\n",
       "      <td>1000</td>\n",
       "    </tr>\n",
       "    <tr>\n",
       "      <td>9</td>\n",
       "      <td>9</td>\n",
       "      <td>1000_9</td>\n",
       "      <td>345.540</td>\n",
       "      <td>2018-09-03</td>\n",
       "      <td>1000</td>\n",
       "    </tr>\n",
       "    <tr>\n",
       "      <td>10</td>\n",
       "      <td>10</td>\n",
       "      <td>1000_10</td>\n",
       "      <td>385.140</td>\n",
       "      <td>2018-09-27</td>\n",
       "      <td>1000</td>\n",
       "    </tr>\n",
       "    <tr>\n",
       "      <td>11</td>\n",
       "      <td>11</td>\n",
       "      <td>1000_11</td>\n",
       "      <td>0.000</td>\n",
       "      <td>2018-08-28</td>\n",
       "      <td>1000</td>\n",
       "    </tr>\n",
       "    <tr>\n",
       "      <td>12</td>\n",
       "      <td>12</td>\n",
       "      <td>1000_12</td>\n",
       "      <td>375.870</td>\n",
       "      <td>2018-06-20</td>\n",
       "      <td>1000</td>\n",
       "    </tr>\n",
       "    <tr>\n",
       "      <td>13</td>\n",
       "      <td>13</td>\n",
       "      <td>1000_13</td>\n",
       "      <td>393.830</td>\n",
       "      <td>2018-08-09</td>\n",
       "      <td>1000</td>\n",
       "    </tr>\n",
       "    <tr>\n",
       "      <td>14</td>\n",
       "      <td>14</td>\n",
       "      <td>1000_14</td>\n",
       "      <td>180.640</td>\n",
       "      <td>2018-08-11</td>\n",
       "      <td>1000</td>\n",
       "    </tr>\n",
       "  </tbody>\n",
       "</table>\n",
       "</div>"
      ],
      "text/plain": [
       "    Unnamed: 0       id   mb_used session_date  user_id\n",
       "0            0   1000_0   112.950   2018-11-25     1000\n",
       "1            1   1000_1 1,052.810   2018-09-07     1000\n",
       "2            2   1000_2 1,197.260   2018-06-25     1000\n",
       "3            3   1000_3   550.270   2018-08-22     1000\n",
       "4            4   1000_4   302.560   2018-09-24     1000\n",
       "5            5   1000_5   399.970   2018-10-02     1000\n",
       "6            6   1000_6   540.080   2018-09-07     1000\n",
       "7            7   1000_7   415.700   2018-07-11     1000\n",
       "8            8   1000_8   505.400   2018-10-08     1000\n",
       "9            9   1000_9   345.540   2018-09-03     1000\n",
       "10          10  1000_10   385.140   2018-09-27     1000\n",
       "11          11  1000_11     0.000   2018-08-28     1000\n",
       "12          12  1000_12   375.870   2018-06-20     1000\n",
       "13          13  1000_13   393.830   2018-08-09     1000\n",
       "14          14  1000_14   180.640   2018-08-11     1000"
      ]
     },
     "execution_count": 6,
     "metadata": {},
     "output_type": "execute_result"
    }
   ],
   "source": [
    "internet.info()\n",
    "internet.head(15)"
   ]
  },
  {
   "cell_type": "markdown",
   "metadata": {
    "id": "Zd79hKVR5QlY"
   },
   "source": [
    "датасет с сообщениями messages:"
   ]
  },
  {
   "cell_type": "code",
   "execution_count": 7,
   "metadata": {
    "colab": {
     "base_uri": "https://localhost:8080/",
     "height": 684
    },
    "id": "2GDQ5W6m5QlY",
    "outputId": "cc04fcea-528f-4e07-ef1f-305af53b3a29"
   },
   "outputs": [
    {
     "name": "stdout",
     "output_type": "stream",
     "text": [
      "<class 'pandas.core.frame.DataFrame'>\n",
      "RangeIndex: 123036 entries, 0 to 123035\n",
      "Data columns (total 3 columns):\n",
      "id              123036 non-null object\n",
      "message_date    123036 non-null object\n",
      "user_id         123036 non-null int64\n",
      "dtypes: int64(1), object(2)\n",
      "memory usage: 2.8+ MB\n"
     ]
    },
    {
     "data": {
      "text/html": [
       "<div>\n",
       "<style scoped>\n",
       "    .dataframe tbody tr th:only-of-type {\n",
       "        vertical-align: middle;\n",
       "    }\n",
       "\n",
       "    .dataframe tbody tr th {\n",
       "        vertical-align: top;\n",
       "    }\n",
       "\n",
       "    .dataframe thead th {\n",
       "        text-align: right;\n",
       "    }\n",
       "</style>\n",
       "<table border=\"1\" class=\"dataframe\">\n",
       "  <thead>\n",
       "    <tr style=\"text-align: right;\">\n",
       "      <th></th>\n",
       "      <th>id</th>\n",
       "      <th>message_date</th>\n",
       "      <th>user_id</th>\n",
       "    </tr>\n",
       "  </thead>\n",
       "  <tbody>\n",
       "    <tr>\n",
       "      <td>0</td>\n",
       "      <td>1000_0</td>\n",
       "      <td>2018-06-27</td>\n",
       "      <td>1000</td>\n",
       "    </tr>\n",
       "    <tr>\n",
       "      <td>1</td>\n",
       "      <td>1000_1</td>\n",
       "      <td>2018-10-08</td>\n",
       "      <td>1000</td>\n",
       "    </tr>\n",
       "    <tr>\n",
       "      <td>2</td>\n",
       "      <td>1000_2</td>\n",
       "      <td>2018-08-04</td>\n",
       "      <td>1000</td>\n",
       "    </tr>\n",
       "    <tr>\n",
       "      <td>3</td>\n",
       "      <td>1000_3</td>\n",
       "      <td>2018-06-16</td>\n",
       "      <td>1000</td>\n",
       "    </tr>\n",
       "    <tr>\n",
       "      <td>4</td>\n",
       "      <td>1000_4</td>\n",
       "      <td>2018-12-05</td>\n",
       "      <td>1000</td>\n",
       "    </tr>\n",
       "    <tr>\n",
       "      <td>5</td>\n",
       "      <td>1000_5</td>\n",
       "      <td>2018-06-20</td>\n",
       "      <td>1000</td>\n",
       "    </tr>\n",
       "    <tr>\n",
       "      <td>6</td>\n",
       "      <td>1000_6</td>\n",
       "      <td>2018-11-19</td>\n",
       "      <td>1000</td>\n",
       "    </tr>\n",
       "    <tr>\n",
       "      <td>7</td>\n",
       "      <td>1000_7</td>\n",
       "      <td>2018-10-29</td>\n",
       "      <td>1000</td>\n",
       "    </tr>\n",
       "    <tr>\n",
       "      <td>8</td>\n",
       "      <td>1000_8</td>\n",
       "      <td>2018-06-25</td>\n",
       "      <td>1000</td>\n",
       "    </tr>\n",
       "    <tr>\n",
       "      <td>9</td>\n",
       "      <td>1000_9</td>\n",
       "      <td>2018-12-18</td>\n",
       "      <td>1000</td>\n",
       "    </tr>\n",
       "    <tr>\n",
       "      <td>10</td>\n",
       "      <td>1000_10</td>\n",
       "      <td>2018-05-30</td>\n",
       "      <td>1000</td>\n",
       "    </tr>\n",
       "    <tr>\n",
       "      <td>11</td>\n",
       "      <td>1000_11</td>\n",
       "      <td>2018-07-06</td>\n",
       "      <td>1000</td>\n",
       "    </tr>\n",
       "    <tr>\n",
       "      <td>12</td>\n",
       "      <td>1000_12</td>\n",
       "      <td>2018-08-20</td>\n",
       "      <td>1000</td>\n",
       "    </tr>\n",
       "    <tr>\n",
       "      <td>13</td>\n",
       "      <td>1000_13</td>\n",
       "      <td>2018-10-30</td>\n",
       "      <td>1000</td>\n",
       "    </tr>\n",
       "    <tr>\n",
       "      <td>14</td>\n",
       "      <td>1000_14</td>\n",
       "      <td>2018-09-14</td>\n",
       "      <td>1000</td>\n",
       "    </tr>\n",
       "  </tbody>\n",
       "</table>\n",
       "</div>"
      ],
      "text/plain": [
       "         id message_date  user_id\n",
       "0    1000_0   2018-06-27     1000\n",
       "1    1000_1   2018-10-08     1000\n",
       "2    1000_2   2018-08-04     1000\n",
       "3    1000_3   2018-06-16     1000\n",
       "4    1000_4   2018-12-05     1000\n",
       "5    1000_5   2018-06-20     1000\n",
       "6    1000_6   2018-11-19     1000\n",
       "7    1000_7   2018-10-29     1000\n",
       "8    1000_8   2018-06-25     1000\n",
       "9    1000_9   2018-12-18     1000\n",
       "10  1000_10   2018-05-30     1000\n",
       "11  1000_11   2018-07-06     1000\n",
       "12  1000_12   2018-08-20     1000\n",
       "13  1000_13   2018-10-30     1000\n",
       "14  1000_14   2018-09-14     1000"
      ]
     },
     "execution_count": 7,
     "metadata": {},
     "output_type": "execute_result"
    }
   ],
   "source": [
    "messages.info()\n",
    "messages.head(15)"
   ]
  },
  {
   "cell_type": "markdown",
   "metadata": {
    "id": "vurduazZ5QlZ"
   },
   "source": [
    "Посмотрим что есть в тарифах:"
   ]
  },
  {
   "cell_type": "code",
   "execution_count": 8,
   "metadata": {
    "colab": {
     "base_uri": "https://localhost:8080/",
     "height": 366
    },
    "id": "nQBHLiNW5QlZ",
    "outputId": "00fbb120-e695-4190-ecdf-deb117dccef4"
   },
   "outputs": [
    {
     "name": "stdout",
     "output_type": "stream",
     "text": [
      "<class 'pandas.core.frame.DataFrame'>\n",
      "RangeIndex: 2 entries, 0 to 1\n",
      "Data columns (total 8 columns):\n",
      "messages_included        2 non-null int64\n",
      "mb_per_month_included    2 non-null int64\n",
      "minutes_included         2 non-null int64\n",
      "rub_monthly_fee          2 non-null int64\n",
      "rub_per_gb               2 non-null int64\n",
      "rub_per_message          2 non-null int64\n",
      "rub_per_minute           2 non-null int64\n",
      "tariff_name              2 non-null object\n",
      "dtypes: int64(7), object(1)\n",
      "memory usage: 256.0+ bytes\n"
     ]
    },
    {
     "data": {
      "text/html": [
       "<div>\n",
       "<style scoped>\n",
       "    .dataframe tbody tr th:only-of-type {\n",
       "        vertical-align: middle;\n",
       "    }\n",
       "\n",
       "    .dataframe tbody tr th {\n",
       "        vertical-align: top;\n",
       "    }\n",
       "\n",
       "    .dataframe thead th {\n",
       "        text-align: right;\n",
       "    }\n",
       "</style>\n",
       "<table border=\"1\" class=\"dataframe\">\n",
       "  <thead>\n",
       "    <tr style=\"text-align: right;\">\n",
       "      <th></th>\n",
       "      <th>messages_included</th>\n",
       "      <th>mb_per_month_included</th>\n",
       "      <th>minutes_included</th>\n",
       "      <th>rub_monthly_fee</th>\n",
       "      <th>rub_per_gb</th>\n",
       "      <th>rub_per_message</th>\n",
       "      <th>rub_per_minute</th>\n",
       "      <th>tariff_name</th>\n",
       "    </tr>\n",
       "  </thead>\n",
       "  <tbody>\n",
       "    <tr>\n",
       "      <td>0</td>\n",
       "      <td>50</td>\n",
       "      <td>15360</td>\n",
       "      <td>500</td>\n",
       "      <td>550</td>\n",
       "      <td>200</td>\n",
       "      <td>3</td>\n",
       "      <td>3</td>\n",
       "      <td>smart</td>\n",
       "    </tr>\n",
       "    <tr>\n",
       "      <td>1</td>\n",
       "      <td>1000</td>\n",
       "      <td>30720</td>\n",
       "      <td>3000</td>\n",
       "      <td>1950</td>\n",
       "      <td>150</td>\n",
       "      <td>1</td>\n",
       "      <td>1</td>\n",
       "      <td>ultra</td>\n",
       "    </tr>\n",
       "  </tbody>\n",
       "</table>\n",
       "</div>"
      ],
      "text/plain": [
       "   messages_included  mb_per_month_included  minutes_included  \\\n",
       "0                 50                  15360               500   \n",
       "1               1000                  30720              3000   \n",
       "\n",
       "   rub_monthly_fee  rub_per_gb  rub_per_message  rub_per_minute tariff_name  \n",
       "0              550         200                3               3       smart  \n",
       "1             1950         150                1               1       ultra  "
      ]
     },
     "execution_count": 8,
     "metadata": {},
     "output_type": "execute_result"
    }
   ],
   "source": [
    "tariffs.info()\n",
    "tariffs.head()"
   ]
  },
  {
   "cell_type": "markdown",
   "metadata": {
    "id": "xMYVjtrj5Qla"
   },
   "source": [
    "И последний датасет users, наши клиенты"
   ]
  },
  {
   "cell_type": "code",
   "execution_count": 9,
   "metadata": {
    "colab": {
     "base_uri": "https://localhost:8080/",
     "height": 769
    },
    "id": "67qCrF1v5Qla",
    "outputId": "022f458b-c1b7-41e4-cb60-04c56091f641"
   },
   "outputs": [
    {
     "name": "stdout",
     "output_type": "stream",
     "text": [
      "<class 'pandas.core.frame.DataFrame'>\n",
      "RangeIndex: 500 entries, 0 to 499\n",
      "Data columns (total 8 columns):\n",
      "user_id       500 non-null int64\n",
      "age           500 non-null int64\n",
      "churn_date    38 non-null object\n",
      "city          500 non-null object\n",
      "first_name    500 non-null object\n",
      "last_name     500 non-null object\n",
      "reg_date      500 non-null object\n",
      "tariff        500 non-null object\n",
      "dtypes: int64(2), object(6)\n",
      "memory usage: 31.4+ KB\n"
     ]
    },
    {
     "data": {
      "text/html": [
       "<div>\n",
       "<style scoped>\n",
       "    .dataframe tbody tr th:only-of-type {\n",
       "        vertical-align: middle;\n",
       "    }\n",
       "\n",
       "    .dataframe tbody tr th {\n",
       "        vertical-align: top;\n",
       "    }\n",
       "\n",
       "    .dataframe thead th {\n",
       "        text-align: right;\n",
       "    }\n",
       "</style>\n",
       "<table border=\"1\" class=\"dataframe\">\n",
       "  <thead>\n",
       "    <tr style=\"text-align: right;\">\n",
       "      <th></th>\n",
       "      <th>user_id</th>\n",
       "      <th>age</th>\n",
       "      <th>churn_date</th>\n",
       "      <th>city</th>\n",
       "      <th>first_name</th>\n",
       "      <th>last_name</th>\n",
       "      <th>reg_date</th>\n",
       "      <th>tariff</th>\n",
       "    </tr>\n",
       "  </thead>\n",
       "  <tbody>\n",
       "    <tr>\n",
       "      <td>0</td>\n",
       "      <td>1000</td>\n",
       "      <td>52</td>\n",
       "      <td>NaN</td>\n",
       "      <td>Краснодар</td>\n",
       "      <td>Рафаил</td>\n",
       "      <td>Верещагин</td>\n",
       "      <td>2018-05-25</td>\n",
       "      <td>ultra</td>\n",
       "    </tr>\n",
       "    <tr>\n",
       "      <td>1</td>\n",
       "      <td>1001</td>\n",
       "      <td>41</td>\n",
       "      <td>NaN</td>\n",
       "      <td>Москва</td>\n",
       "      <td>Иван</td>\n",
       "      <td>Ежов</td>\n",
       "      <td>2018-11-01</td>\n",
       "      <td>smart</td>\n",
       "    </tr>\n",
       "    <tr>\n",
       "      <td>2</td>\n",
       "      <td>1002</td>\n",
       "      <td>59</td>\n",
       "      <td>NaN</td>\n",
       "      <td>Стерлитамак</td>\n",
       "      <td>Евгений</td>\n",
       "      <td>Абрамович</td>\n",
       "      <td>2018-06-17</td>\n",
       "      <td>smart</td>\n",
       "    </tr>\n",
       "    <tr>\n",
       "      <td>3</td>\n",
       "      <td>1003</td>\n",
       "      <td>23</td>\n",
       "      <td>NaN</td>\n",
       "      <td>Москва</td>\n",
       "      <td>Белла</td>\n",
       "      <td>Белякова</td>\n",
       "      <td>2018-08-17</td>\n",
       "      <td>ultra</td>\n",
       "    </tr>\n",
       "    <tr>\n",
       "      <td>4</td>\n",
       "      <td>1004</td>\n",
       "      <td>68</td>\n",
       "      <td>NaN</td>\n",
       "      <td>Новокузнецк</td>\n",
       "      <td>Татьяна</td>\n",
       "      <td>Авдеенко</td>\n",
       "      <td>2018-05-14</td>\n",
       "      <td>ultra</td>\n",
       "    </tr>\n",
       "    <tr>\n",
       "      <td>5</td>\n",
       "      <td>1005</td>\n",
       "      <td>67</td>\n",
       "      <td>NaN</td>\n",
       "      <td>Набережные Челны</td>\n",
       "      <td>Афанасий</td>\n",
       "      <td>Горлов</td>\n",
       "      <td>2018-01-25</td>\n",
       "      <td>smart</td>\n",
       "    </tr>\n",
       "    <tr>\n",
       "      <td>6</td>\n",
       "      <td>1006</td>\n",
       "      <td>21</td>\n",
       "      <td>NaN</td>\n",
       "      <td>Ульяновск</td>\n",
       "      <td>Леонид</td>\n",
       "      <td>Ермолаев</td>\n",
       "      <td>2018-02-26</td>\n",
       "      <td>smart</td>\n",
       "    </tr>\n",
       "    <tr>\n",
       "      <td>7</td>\n",
       "      <td>1007</td>\n",
       "      <td>65</td>\n",
       "      <td>NaN</td>\n",
       "      <td>Москва</td>\n",
       "      <td>Юна</td>\n",
       "      <td>Березина</td>\n",
       "      <td>2018-04-19</td>\n",
       "      <td>smart</td>\n",
       "    </tr>\n",
       "    <tr>\n",
       "      <td>8</td>\n",
       "      <td>1008</td>\n",
       "      <td>63</td>\n",
       "      <td>NaN</td>\n",
       "      <td>Челябинск</td>\n",
       "      <td>Рустэм</td>\n",
       "      <td>Пономарёв</td>\n",
       "      <td>2018-12-19</td>\n",
       "      <td>smart</td>\n",
       "    </tr>\n",
       "    <tr>\n",
       "      <td>9</td>\n",
       "      <td>1009</td>\n",
       "      <td>24</td>\n",
       "      <td>NaN</td>\n",
       "      <td>Пермь</td>\n",
       "      <td>Василиса</td>\n",
       "      <td>Блинова</td>\n",
       "      <td>2018-03-22</td>\n",
       "      <td>smart</td>\n",
       "    </tr>\n",
       "    <tr>\n",
       "      <td>10</td>\n",
       "      <td>1010</td>\n",
       "      <td>26</td>\n",
       "      <td>NaN</td>\n",
       "      <td>Тюмень</td>\n",
       "      <td>Эдуард</td>\n",
       "      <td>Кононов</td>\n",
       "      <td>2018-08-05</td>\n",
       "      <td>smart</td>\n",
       "    </tr>\n",
       "    <tr>\n",
       "      <td>11</td>\n",
       "      <td>1011</td>\n",
       "      <td>44</td>\n",
       "      <td>NaN</td>\n",
       "      <td>Самара</td>\n",
       "      <td>Веселина</td>\n",
       "      <td>Алёшко</td>\n",
       "      <td>2018-03-19</td>\n",
       "      <td>smart</td>\n",
       "    </tr>\n",
       "    <tr>\n",
       "      <td>12</td>\n",
       "      <td>1012</td>\n",
       "      <td>38</td>\n",
       "      <td>NaN</td>\n",
       "      <td>Санкт-Петербург</td>\n",
       "      <td>Варлам</td>\n",
       "      <td>Соловьев</td>\n",
       "      <td>2018-03-28</td>\n",
       "      <td>smart</td>\n",
       "    </tr>\n",
       "    <tr>\n",
       "      <td>13</td>\n",
       "      <td>1013</td>\n",
       "      <td>36</td>\n",
       "      <td>NaN</td>\n",
       "      <td>Иваново</td>\n",
       "      <td>Борис</td>\n",
       "      <td>Андреенко</td>\n",
       "      <td>2018-11-14</td>\n",
       "      <td>ultra</td>\n",
       "    </tr>\n",
       "    <tr>\n",
       "      <td>14</td>\n",
       "      <td>1014</td>\n",
       "      <td>64</td>\n",
       "      <td>NaN</td>\n",
       "      <td>Чебоксары</td>\n",
       "      <td>Яков</td>\n",
       "      <td>Акинфьев</td>\n",
       "      <td>2018-05-15</td>\n",
       "      <td>smart</td>\n",
       "    </tr>\n",
       "  </tbody>\n",
       "</table>\n",
       "</div>"
      ],
      "text/plain": [
       "    user_id  age churn_date              city first_name  last_name  \\\n",
       "0      1000   52        NaN         Краснодар     Рафаил  Верещагин   \n",
       "1      1001   41        NaN            Москва       Иван       Ежов   \n",
       "2      1002   59        NaN       Стерлитамак    Евгений  Абрамович   \n",
       "3      1003   23        NaN            Москва      Белла   Белякова   \n",
       "4      1004   68        NaN       Новокузнецк    Татьяна   Авдеенко   \n",
       "5      1005   67        NaN  Набережные Челны   Афанасий     Горлов   \n",
       "6      1006   21        NaN         Ульяновск     Леонид   Ермолаев   \n",
       "7      1007   65        NaN            Москва        Юна   Березина   \n",
       "8      1008   63        NaN         Челябинск     Рустэм  Пономарёв   \n",
       "9      1009   24        NaN             Пермь   Василиса    Блинова   \n",
       "10     1010   26        NaN            Тюмень     Эдуард    Кононов   \n",
       "11     1011   44        NaN            Самара   Веселина     Алёшко   \n",
       "12     1012   38        NaN   Санкт-Петербург     Варлам   Соловьев   \n",
       "13     1013   36        NaN           Иваново      Борис  Андреенко   \n",
       "14     1014   64        NaN         Чебоксары       Яков   Акинфьев   \n",
       "\n",
       "      reg_date tariff  \n",
       "0   2018-05-25  ultra  \n",
       "1   2018-11-01  smart  \n",
       "2   2018-06-17  smart  \n",
       "3   2018-08-17  ultra  \n",
       "4   2018-05-14  ultra  \n",
       "5   2018-01-25  smart  \n",
       "6   2018-02-26  smart  \n",
       "7   2018-04-19  smart  \n",
       "8   2018-12-19  smart  \n",
       "9   2018-03-22  smart  \n",
       "10  2018-08-05  smart  \n",
       "11  2018-03-19  smart  \n",
       "12  2018-03-28  smart  \n",
       "13  2018-11-14  ultra  \n",
       "14  2018-05-15  smart  "
      ]
     },
     "execution_count": 9,
     "metadata": {},
     "output_type": "execute_result"
    }
   ],
   "source": [
    "users.info()\n",
    "users.head(15)"
   ]
  },
  {
   "cell_type": "code",
   "execution_count": 10,
   "metadata": {
    "colab": {
     "base_uri": "https://localhost:8080/"
    },
    "id": "b3QD7Wbe5Qlb",
    "outputId": "5f4e1777-60f0-4f8d-a1fb-cf308fca2ccf"
   },
   "outputs": [
    {
     "data": {
      "text/plain": [
       "count             38\n",
       "unique            33\n",
       "top       2018-12-21\n",
       "freq               2\n",
       "Name: churn_date, dtype: object"
      ]
     },
     "execution_count": 10,
     "metadata": {},
     "output_type": "execute_result"
    }
   ],
   "source": [
    "users['churn_date'].describe()"
   ]
  },
  {
   "cell_type": "markdown",
   "metadata": {
    "id": "9EVNs7vj5Qlc"
   },
   "source": [
    "В столбце churn_date есть пропуски, это не ошибка, значит что клиенты продолжают сидеть на этих тарифах.\n",
    "Максимальное значение: 3 декабря 2018 года, для удобства заменим пропущенные значения на 31 декабря 2020."
   ]
  },
  {
   "cell_type": "code",
   "execution_count": 11,
   "metadata": {
    "id": "LhemI37i5Qlc"
   },
   "outputs": [],
   "source": [
    "users['churn_date'].fillna('2020-12-31', inplace=True)"
   ]
  },
  {
   "cell_type": "markdown",
   "metadata": {
    "id": "gJUB3uFr5Qlf"
   },
   "source": [
    "**ПЕРВЫЕ ВЫВОДЫ:**\n",
    "1. Звонки \"calls\" - пропусков нет, но есть вопросы:\n",
    "- call_date - показывает дату звонка, необходим перевод в формат даты\n",
    "- duration - дробные числа, но тариф подразумевает окруление в большую сторону, надо поменять на int\n",
    " \n",
    "2. Инет-сессии \"internet\" - попусков нет, но проблемки:\n",
    "- session_date - показывает дату сессии, необходим перевод в формат даты\n",
    "- mb_used - дробные числа, но тариф подразумевает окруление в большую сторону, надо поменять на int\n",
    "  \n",
    "3. Сообщения \"messages\" - Пропусков нет.\n",
    "- message_date - показывает дату сообщения, необходим перевод в формат даты\n",
    "\n",
    "4. tariffs - Пропусков нет\n",
    "  \n",
    "5. users - пропуски в churn_date, но они объяснимы. \n",
    "- reg_date, churn_date показывает даты регистрация и обнуления регистрации, необходим перевод в формат даты."
   ]
  },
  {
   "cell_type": "markdown",
   "metadata": {
    "id": "l8lRPMOL5Qlf"
   },
   "source": [
    "## Подготовка данных"
   ]
  },
  {
   "cell_type": "markdown",
   "metadata": {
    "id": "xoduCrtS5Qlg"
   },
   "source": [
    "### Приведение данных к нужным типам"
   ]
  },
  {
   "cell_type": "markdown",
   "metadata": {
    "id": "xvdnYdR-5Qlg"
   },
   "source": [
    "Чтобы не менять в ручную типы данных, округлять - создадим функцию которая все за нас сделает,\n",
    "назовем ее change_type,\n",
    "в ней будет указываться датасет в котором надо менять, название столбца, тип на который менять надо, а так же округление (с помощью библиотеки numpy и функции ceil, изначально была math, но чтото не пошло)"
   ]
  },
  {
   "cell_type": "code",
   "execution_count": 12,
   "metadata": {
    "id": "AirddWtT5Qlg"
   },
   "outputs": [],
   "source": [
    "def change_type(data, column, new_type, ceil):\n",
    "    if new_type == 'int':\n",
    "        temp_type = data[column].dtype\n",
    "        \n",
    "        if ceil == 'yes':            \n",
    "            data[column] = np.ceil(data[column])            \n",
    "        else:\n",
    "            data[column] = data[column]\n",
    "        data[column] = data[column].astype(new_type)\n",
    "        \n",
    "    elif new_type == 'DT':\n",
    "        temp_type = data[column].dtype\n",
    "        data[column] = pd.to_datetime(data[column])\n",
    "\n",
    "    else:\n",
    "        print('Проблемки')"
   ]
  },
  {
   "cell_type": "code",
   "execution_count": 13,
   "metadata": {
    "id": "KM3uK1km5Qlh"
   },
   "outputs": [],
   "source": [
    "change_type(calls, 'duration', 'int', 'yes')\n",
    "change_type(calls, 'call_date', 'DT', 'no')\n",
    "#change_type(internet, 'mb_used', 'int', 'no')\n",
    "change_type(internet, 'session_date', 'DT', 'no')\n",
    "change_type(messages, 'message_date', 'DT', 'no')\n",
    "change_type(users, 'reg_date', 'DT', 'no')\n",
    "change_type(users, 'churn_date', 'DT', 'no')"
   ]
  },
  {
   "cell_type": "code",
   "execution_count": 14,
   "metadata": {
    "colab": {
     "base_uri": "https://localhost:8080/"
    },
    "id": "1sDN8_Ec5Qlk",
    "outputId": "8c01b27e-1442-4032-8efc-b7c9ec83324f"
   },
   "outputs": [
    {
     "name": "stdout",
     "output_type": "stream",
     "text": [
      "<class 'pandas.core.frame.DataFrame'>\n",
      "RangeIndex: 202607 entries, 0 to 202606\n",
      "Data columns (total 4 columns):\n",
      "id           202607 non-null object\n",
      "call_date    202607 non-null datetime64[ns]\n",
      "duration     202607 non-null int64\n",
      "user_id      202607 non-null int64\n",
      "dtypes: datetime64[ns](1), int64(2), object(1)\n",
      "memory usage: 6.2+ MB\n"
     ]
    }
   ],
   "source": [
    "calls.info()"
   ]
  },
  {
   "cell_type": "code",
   "execution_count": 15,
   "metadata": {
    "colab": {
     "base_uri": "https://localhost:8080/"
    },
    "id": "37pzRxBl5Qll",
    "outputId": "3ee2af91-d31a-4b16-ee41-66964a413b4c"
   },
   "outputs": [
    {
     "name": "stdout",
     "output_type": "stream",
     "text": [
      "<class 'pandas.core.frame.DataFrame'>\n",
      "RangeIndex: 149396 entries, 0 to 149395\n",
      "Data columns (total 5 columns):\n",
      "Unnamed: 0      149396 non-null int64\n",
      "id              149396 non-null object\n",
      "mb_used         149396 non-null float64\n",
      "session_date    149396 non-null datetime64[ns]\n",
      "user_id         149396 non-null int64\n",
      "dtypes: datetime64[ns](1), float64(1), int64(2), object(1)\n",
      "memory usage: 5.7+ MB\n"
     ]
    }
   ],
   "source": [
    "internet.info()"
   ]
  },
  {
   "cell_type": "code",
   "execution_count": 16,
   "metadata": {
    "colab": {
     "base_uri": "https://localhost:8080/"
    },
    "id": "B02YevSB5Qln",
    "outputId": "785c6ff4-254d-4c08-8a1e-3b95a1822139"
   },
   "outputs": [
    {
     "name": "stdout",
     "output_type": "stream",
     "text": [
      "<class 'pandas.core.frame.DataFrame'>\n",
      "RangeIndex: 123036 entries, 0 to 123035\n",
      "Data columns (total 3 columns):\n",
      "id              123036 non-null object\n",
      "message_date    123036 non-null datetime64[ns]\n",
      "user_id         123036 non-null int64\n",
      "dtypes: datetime64[ns](1), int64(1), object(1)\n",
      "memory usage: 2.8+ MB\n"
     ]
    }
   ],
   "source": [
    "messages.info()"
   ]
  },
  {
   "cell_type": "code",
   "execution_count": 17,
   "metadata": {
    "colab": {
     "base_uri": "https://localhost:8080/"
    },
    "id": "hNvK9pOS5Qln",
    "outputId": "a63e98f2-b542-43dc-869e-21d17e910d0a"
   },
   "outputs": [
    {
     "name": "stdout",
     "output_type": "stream",
     "text": [
      "<class 'pandas.core.frame.DataFrame'>\n",
      "RangeIndex: 500 entries, 0 to 499\n",
      "Data columns (total 8 columns):\n",
      "user_id       500 non-null int64\n",
      "age           500 non-null int64\n",
      "churn_date    500 non-null datetime64[ns]\n",
      "city          500 non-null object\n",
      "first_name    500 non-null object\n",
      "last_name     500 non-null object\n",
      "reg_date      500 non-null datetime64[ns]\n",
      "tariff        500 non-null object\n",
      "dtypes: datetime64[ns](2), int64(2), object(4)\n",
      "memory usage: 31.4+ KB\n"
     ]
    }
   ],
   "source": [
    "users.info()"
   ]
  },
  {
   "cell_type": "markdown",
   "metadata": {
    "id": "FbSva1XC5Qlo"
   },
   "source": [
    "#### Выводы"
   ]
  },
  {
   "cell_type": "markdown",
   "metadata": {
    "id": "Tw2iaTrf5Qlo"
   },
   "source": [
    "Просмотрели методом info(0) измененные данные, все получилось. "
   ]
  },
  {
   "cell_type": "markdown",
   "metadata": {
    "id": "Fp8a3s7k5Qlp"
   },
   "source": [
    "### Поиск и исправление ошибок в данных"
   ]
  },
  {
   "cell_type": "markdown",
   "metadata": {
    "id": "9tYA55xO5Qlp"
   },
   "source": [
    "Предположим что в интернет сессия, если отображается в датасете состоялась, а значит хоть чтото, но передалось, но было настолько мало, что появился 0. По правилам тарифа округляется до 1, округлим до 1."
   ]
  },
  {
   "cell_type": "code",
   "execution_count": 18,
   "metadata": {
    "id": "RVaBx21B5Qlq"
   },
   "outputs": [],
   "source": [
    "internet['mb_used'].replace(0, 1, inplace = True)"
   ]
  },
  {
   "cell_type": "markdown",
   "metadata": {
    "id": "0HwMbMoV5Qls"
   },
   "source": [
    "#### Вывод"
   ]
  },
  {
   "cell_type": "markdown",
   "metadata": {
    "id": "u_uT5H-U5Qlt"
   },
   "source": [
    "Убрали некорректные значения, которые привели бы к ошибкам в итоге."
   ]
  },
  {
   "cell_type": "markdown",
   "metadata": {
    "id": "ZXbyw32O5Qlt"
   },
   "source": [
    "### Подсчет для каждого пользователя"
   ]
  },
  {
   "cell_type": "markdown",
   "metadata": {
    "id": "vF37a5Yy5Qlu"
   },
   "source": [
    "#### Количество сделанных звонков и израсходованных минут разговора по месяцам"
   ]
  },
  {
   "cell_type": "markdown",
   "metadata": {
    "id": "59lW5QWq5Qlv"
   },
   "source": [
    "Создадим сводную таблицу с помощью функции. В ней будет отображаться количество звонков и минут по каждому клиенту."
   ]
  },
  {
   "cell_type": "code",
   "execution_count": 19,
   "metadata": {
    "id": "UzlnrNbh5Qlw"
   },
   "outputs": [],
   "source": [
    "def pivot_by_month(data, duration_column, date_column, data_name):\n",
    "\n",
    "    if (data_name == 'calls') | (data_name == 'internet'):\n",
    "        temp_pivot = data.pivot_table(index=[data[date_column].dt.month, 'user_id'],\n",
    "                                                values=[duration_column, 'id'],\n",
    "                                                aggfunc={'id': 'count',\n",
    "                                                         duration_column: 'sum'})[[duration_column, 'id']]\n",
    "        if data_name == 'calls':\n",
    "            temp_pivot.columns = ['minutes_per_month', 'calls_per_month']\n",
    "    \n",
    "        elif data_name == 'internet':\n",
    "            temp_pivot.columns = ['mb_per_month', 'sessions_per_month']\n",
    "        \n",
    "    elif data_name == 'messages':\n",
    "        temp_pivot = data.pivot_table(index=[data[date_column].dt.month, 'user_id'],\n",
    "                                                values='id',\n",
    "                                                aggfunc='count')\n",
    "        \n",
    "        \n",
    "        temp_pivot.columns = ['messages_per_month']\n",
    "    \n",
    "    temp_pivot.index.names = ['month', 'user_id']\n",
    "    \n",
    "    return temp_pivot"
   ]
  },
  {
   "cell_type": "markdown",
   "metadata": {
    "id": "VEjfqId_5Qlz"
   },
   "source": [
    "Звонки:"
   ]
  },
  {
   "cell_type": "code",
   "execution_count": 20,
   "metadata": {
    "colab": {
     "base_uri": "https://localhost:8080/",
     "height": 450
    },
    "id": "VtQI41eK5Qlz",
    "outputId": "07090cdd-d634-4862-809c-cf0751c0bcff"
   },
   "outputs": [
    {
     "data": {
      "text/html": [
       "<div>\n",
       "<style scoped>\n",
       "    .dataframe tbody tr th:only-of-type {\n",
       "        vertical-align: middle;\n",
       "    }\n",
       "\n",
       "    .dataframe tbody tr th {\n",
       "        vertical-align: top;\n",
       "    }\n",
       "\n",
       "    .dataframe thead th {\n",
       "        text-align: right;\n",
       "    }\n",
       "</style>\n",
       "<table border=\"1\" class=\"dataframe\">\n",
       "  <thead>\n",
       "    <tr style=\"text-align: right;\">\n",
       "      <th></th>\n",
       "      <th></th>\n",
       "      <th>minutes_per_month</th>\n",
       "      <th>calls_per_month</th>\n",
       "    </tr>\n",
       "    <tr>\n",
       "      <th>month</th>\n",
       "      <th>user_id</th>\n",
       "      <th></th>\n",
       "      <th></th>\n",
       "    </tr>\n",
       "  </thead>\n",
       "  <tbody>\n",
       "    <tr>\n",
       "      <td rowspan=\"5\" valign=\"top\">1</td>\n",
       "      <td>1005</td>\n",
       "      <td>95</td>\n",
       "      <td>15</td>\n",
       "    </tr>\n",
       "    <tr>\n",
       "      <td>1032</td>\n",
       "      <td>380</td>\n",
       "      <td>61</td>\n",
       "    </tr>\n",
       "    <tr>\n",
       "      <td>1045</td>\n",
       "      <td>9</td>\n",
       "      <td>1</td>\n",
       "    </tr>\n",
       "    <tr>\n",
       "      <td>1055</td>\n",
       "      <td>551</td>\n",
       "      <td>64</td>\n",
       "    </tr>\n",
       "    <tr>\n",
       "      <td>1071</td>\n",
       "      <td>194</td>\n",
       "      <td>24</td>\n",
       "    </tr>\n",
       "    <tr>\n",
       "      <td>...</td>\n",
       "      <td>...</td>\n",
       "      <td>...</td>\n",
       "      <td>...</td>\n",
       "    </tr>\n",
       "    <tr>\n",
       "      <td rowspan=\"5\" valign=\"top\">12</td>\n",
       "      <td>1494</td>\n",
       "      <td>418</td>\n",
       "      <td>62</td>\n",
       "    </tr>\n",
       "    <tr>\n",
       "      <td>1495</td>\n",
       "      <td>1031</td>\n",
       "      <td>155</td>\n",
       "    </tr>\n",
       "    <tr>\n",
       "      <td>1496</td>\n",
       "      <td>518</td>\n",
       "      <td>80</td>\n",
       "    </tr>\n",
       "    <tr>\n",
       "      <td>1497</td>\n",
       "      <td>545</td>\n",
       "      <td>71</td>\n",
       "    </tr>\n",
       "    <tr>\n",
       "      <td>1499</td>\n",
       "      <td>492</td>\n",
       "      <td>69</td>\n",
       "    </tr>\n",
       "  </tbody>\n",
       "</table>\n",
       "<p>3174 rows × 2 columns</p>\n",
       "</div>"
      ],
      "text/plain": [
       "               minutes_per_month  calls_per_month\n",
       "month user_id                                    \n",
       "1     1005                    95               15\n",
       "      1032                   380               61\n",
       "      1045                     9                1\n",
       "      1055                   551               64\n",
       "      1071                   194               24\n",
       "...                          ...              ...\n",
       "12    1494                   418               62\n",
       "      1495                  1031              155\n",
       "      1496                   518               80\n",
       "      1497                   545               71\n",
       "      1499                   492               69\n",
       "\n",
       "[3174 rows x 2 columns]"
      ]
     },
     "execution_count": 20,
     "metadata": {},
     "output_type": "execute_result"
    }
   ],
   "source": [
    "calls_by_month = pivot_by_month(calls, 'duration', 'call_date', 'calls')\n",
    "calls_by_month"
   ]
  },
  {
   "cell_type": "markdown",
   "metadata": {
    "id": "ZJqOWRRz5Ql0"
   },
   "source": [
    "Сообщения по месяцам:"
   ]
  },
  {
   "cell_type": "code",
   "execution_count": 21,
   "metadata": {
    "colab": {
     "base_uri": "https://localhost:8080/",
     "height": 450
    },
    "id": "CLYGYgXB5Ql1",
    "outputId": "0588dffd-1fe9-493e-d86e-2b87f0c25b6d"
   },
   "outputs": [
    {
     "data": {
      "text/html": [
       "<div>\n",
       "<style scoped>\n",
       "    .dataframe tbody tr th:only-of-type {\n",
       "        vertical-align: middle;\n",
       "    }\n",
       "\n",
       "    .dataframe tbody tr th {\n",
       "        vertical-align: top;\n",
       "    }\n",
       "\n",
       "    .dataframe thead th {\n",
       "        text-align: right;\n",
       "    }\n",
       "</style>\n",
       "<table border=\"1\" class=\"dataframe\">\n",
       "  <thead>\n",
       "    <tr style=\"text-align: right;\">\n",
       "      <th></th>\n",
       "      <th></th>\n",
       "      <th>messages_per_month</th>\n",
       "    </tr>\n",
       "    <tr>\n",
       "      <th>month</th>\n",
       "      <th>user_id</th>\n",
       "      <th></th>\n",
       "    </tr>\n",
       "  </thead>\n",
       "  <tbody>\n",
       "    <tr>\n",
       "      <td rowspan=\"5\" valign=\"top\">1</td>\n",
       "      <td>1005</td>\n",
       "      <td>7</td>\n",
       "    </tr>\n",
       "    <tr>\n",
       "      <td>1032</td>\n",
       "      <td>38</td>\n",
       "    </tr>\n",
       "    <tr>\n",
       "      <td>1045</td>\n",
       "      <td>5</td>\n",
       "    </tr>\n",
       "    <tr>\n",
       "      <td>1055</td>\n",
       "      <td>30</td>\n",
       "    </tr>\n",
       "    <tr>\n",
       "      <td>1071</td>\n",
       "      <td>16</td>\n",
       "    </tr>\n",
       "    <tr>\n",
       "      <td>...</td>\n",
       "      <td>...</td>\n",
       "      <td>...</td>\n",
       "    </tr>\n",
       "    <tr>\n",
       "      <td rowspan=\"5\" valign=\"top\">12</td>\n",
       "      <td>1493</td>\n",
       "      <td>78</td>\n",
       "    </tr>\n",
       "    <tr>\n",
       "      <td>1495</td>\n",
       "      <td>84</td>\n",
       "    </tr>\n",
       "    <tr>\n",
       "      <td>1496</td>\n",
       "      <td>51</td>\n",
       "    </tr>\n",
       "    <tr>\n",
       "      <td>1497</td>\n",
       "      <td>17</td>\n",
       "    </tr>\n",
       "    <tr>\n",
       "      <td>1499</td>\n",
       "      <td>66</td>\n",
       "    </tr>\n",
       "  </tbody>\n",
       "</table>\n",
       "<p>2717 rows × 1 columns</p>\n",
       "</div>"
      ],
      "text/plain": [
       "               messages_per_month\n",
       "month user_id                    \n",
       "1     1005                      7\n",
       "      1032                     38\n",
       "      1045                      5\n",
       "      1055                     30\n",
       "      1071                     16\n",
       "...                           ...\n",
       "12    1493                     78\n",
       "      1495                     84\n",
       "      1496                     51\n",
       "      1497                     17\n",
       "      1499                     66\n",
       "\n",
       "[2717 rows x 1 columns]"
      ]
     },
     "execution_count": 21,
     "metadata": {},
     "output_type": "execute_result"
    }
   ],
   "source": [
    "messages_by_month = pivot_by_month(messages, 'XXX', 'message_date', 'messages')\n",
    "messages_by_month"
   ]
  },
  {
   "cell_type": "markdown",
   "metadata": {
    "id": "dH9ejA6u5Ql2"
   },
   "source": [
    "Интернет по месяцам:"
   ]
  },
  {
   "cell_type": "code",
   "execution_count": 22,
   "metadata": {
    "colab": {
     "base_uri": "https://localhost:8080/",
     "height": 450
    },
    "id": "UHBwiHdh5Ql2",
    "outputId": "6143ab7c-5985-4f03-f06c-149c78a32472"
   },
   "outputs": [
    {
     "data": {
      "text/html": [
       "<div>\n",
       "<style scoped>\n",
       "    .dataframe tbody tr th:only-of-type {\n",
       "        vertical-align: middle;\n",
       "    }\n",
       "\n",
       "    .dataframe tbody tr th {\n",
       "        vertical-align: top;\n",
       "    }\n",
       "\n",
       "    .dataframe thead th {\n",
       "        text-align: right;\n",
       "    }\n",
       "</style>\n",
       "<table border=\"1\" class=\"dataframe\">\n",
       "  <thead>\n",
       "    <tr style=\"text-align: right;\">\n",
       "      <th></th>\n",
       "      <th></th>\n",
       "      <th>mb_per_month</th>\n",
       "      <th>sessions_per_month</th>\n",
       "    </tr>\n",
       "    <tr>\n",
       "      <th>month</th>\n",
       "      <th>user_id</th>\n",
       "      <th></th>\n",
       "      <th></th>\n",
       "    </tr>\n",
       "  </thead>\n",
       "  <tbody>\n",
       "    <tr>\n",
       "      <td rowspan=\"5\" valign=\"top\">1</td>\n",
       "      <td>1005</td>\n",
       "      <td>2,727.970</td>\n",
       "      <td>6</td>\n",
       "    </tr>\n",
       "    <tr>\n",
       "      <td>1032</td>\n",
       "      <td>24,138.690</td>\n",
       "      <td>62</td>\n",
       "    </tr>\n",
       "    <tr>\n",
       "      <td>1045</td>\n",
       "      <td>2,346.710</td>\n",
       "      <td>5</td>\n",
       "    </tr>\n",
       "    <tr>\n",
       "      <td>1055</td>\n",
       "      <td>17,094.880</td>\n",
       "      <td>47</td>\n",
       "    </tr>\n",
       "    <tr>\n",
       "      <td>1071</td>\n",
       "      <td>15,607.340</td>\n",
       "      <td>40</td>\n",
       "    </tr>\n",
       "    <tr>\n",
       "      <td>...</td>\n",
       "      <td>...</td>\n",
       "      <td>...</td>\n",
       "      <td>...</td>\n",
       "    </tr>\n",
       "    <tr>\n",
       "      <td rowspan=\"5\" valign=\"top\">12</td>\n",
       "      <td>1494</td>\n",
       "      <td>17,626.210</td>\n",
       "      <td>49</td>\n",
       "    </tr>\n",
       "    <tr>\n",
       "      <td>1495</td>\n",
       "      <td>23,427.760</td>\n",
       "      <td>47</td>\n",
       "    </tr>\n",
       "    <tr>\n",
       "      <td>1496</td>\n",
       "      <td>20,749.150</td>\n",
       "      <td>68</td>\n",
       "    </tr>\n",
       "    <tr>\n",
       "      <td>1497</td>\n",
       "      <td>19,924.600</td>\n",
       "      <td>47</td>\n",
       "    </tr>\n",
       "    <tr>\n",
       "      <td>1499</td>\n",
       "      <td>13,060.580</td>\n",
       "      <td>45</td>\n",
       "    </tr>\n",
       "  </tbody>\n",
       "</table>\n",
       "<p>3203 rows × 2 columns</p>\n",
       "</div>"
      ],
      "text/plain": [
       "               mb_per_month  sessions_per_month\n",
       "month user_id                                  \n",
       "1     1005        2,727.970                   6\n",
       "      1032       24,138.690                  62\n",
       "      1045        2,346.710                   5\n",
       "      1055       17,094.880                  47\n",
       "      1071       15,607.340                  40\n",
       "...                     ...                 ...\n",
       "12    1494       17,626.210                  49\n",
       "      1495       23,427.760                  47\n",
       "      1496       20,749.150                  68\n",
       "      1497       19,924.600                  47\n",
       "      1499       13,060.580                  45\n",
       "\n",
       "[3203 rows x 2 columns]"
      ]
     },
     "execution_count": 22,
     "metadata": {},
     "output_type": "execute_result"
    }
   ],
   "source": [
    "internet_by_month = pivot_by_month(internet, 'mb_used', 'session_date', 'internet')\n",
    "internet_by_month"
   ]
  },
  {
   "cell_type": "markdown",
   "metadata": {
    "id": "rD95G2Ec5Ql3"
   },
   "source": [
    "#### Помесячная выручка с каждого пользователя"
   ]
  },
  {
   "cell_type": "markdown",
   "metadata": {
    "id": "lkG0uB6P5Ql3"
   },
   "source": [
    "Соединяем полученные данные:"
   ]
  },
  {
   "cell_type": "code",
   "execution_count": 23,
   "metadata": {
    "colab": {
     "base_uri": "https://localhost:8080/"
    },
    "id": "e8pmL2fR5Ql4",
    "outputId": "dbd94a08-a75f-4e65-ffec-212c1001bb96"
   },
   "outputs": [
    {
     "name": "stdout",
     "output_type": "stream",
     "text": [
      "<class 'pandas.core.frame.DataFrame'>\n",
      "MultiIndex: 2717 entries, (1, 1005) to (12, 1499)\n",
      "Data columns (total 1 columns):\n",
      "messages_per_month    2717 non-null int64\n",
      "dtypes: int64(1)\n",
      "memory usage: 32.7 KB\n"
     ]
    }
   ],
   "source": [
    "messages_by_month.info()"
   ]
  },
  {
   "cell_type": "code",
   "execution_count": 24,
   "metadata": {
    "colab": {
     "base_uri": "https://localhost:8080/"
    },
    "id": "vUx0BSD45Ql4",
    "outputId": "14c2ab78-f4aa-41d1-d83f-c164e60e52bc"
   },
   "outputs": [
    {
     "name": "stdout",
     "output_type": "stream",
     "text": [
      "<class 'pandas.core.frame.DataFrame'>\n",
      "MultiIndex: 2717 entries, (1, 1005) to (12, 1499)\n",
      "Data columns (total 1 columns):\n",
      "messages_per_month    2717 non-null int64\n",
      "dtypes: int64(1)\n",
      "memory usage: 32.7 KB\n"
     ]
    }
   ],
   "source": [
    "messages_by_month.info()"
   ]
  },
  {
   "cell_type": "code",
   "execution_count": 25,
   "metadata": {
    "colab": {
     "base_uri": "https://localhost:8080/",
     "height": 235
    },
    "id": "m584fhCU5Ql5",
    "outputId": "7c37049c-7e0b-4df0-d0ae-90d300473751"
   },
   "outputs": [
    {
     "data": {
      "text/html": [
       "<div>\n",
       "<style scoped>\n",
       "    .dataframe tbody tr th:only-of-type {\n",
       "        vertical-align: middle;\n",
       "    }\n",
       "\n",
       "    .dataframe tbody tr th {\n",
       "        vertical-align: top;\n",
       "    }\n",
       "\n",
       "    .dataframe thead th {\n",
       "        text-align: right;\n",
       "    }\n",
       "</style>\n",
       "<table border=\"1\" class=\"dataframe\">\n",
       "  <thead>\n",
       "    <tr style=\"text-align: right;\">\n",
       "      <th></th>\n",
       "      <th></th>\n",
       "      <th>mb_per_month</th>\n",
       "      <th>sessions_per_month</th>\n",
       "    </tr>\n",
       "    <tr>\n",
       "      <th>month</th>\n",
       "      <th>user_id</th>\n",
       "      <th></th>\n",
       "      <th></th>\n",
       "    </tr>\n",
       "  </thead>\n",
       "  <tbody>\n",
       "    <tr>\n",
       "      <td rowspan=\"5\" valign=\"top\">1</td>\n",
       "      <td>1005</td>\n",
       "      <td>2,727.970</td>\n",
       "      <td>6</td>\n",
       "    </tr>\n",
       "    <tr>\n",
       "      <td>1032</td>\n",
       "      <td>24,138.690</td>\n",
       "      <td>62</td>\n",
       "    </tr>\n",
       "    <tr>\n",
       "      <td>1045</td>\n",
       "      <td>2,346.710</td>\n",
       "      <td>5</td>\n",
       "    </tr>\n",
       "    <tr>\n",
       "      <td>1055</td>\n",
       "      <td>17,094.880</td>\n",
       "      <td>47</td>\n",
       "    </tr>\n",
       "    <tr>\n",
       "      <td>1071</td>\n",
       "      <td>15,607.340</td>\n",
       "      <td>40</td>\n",
       "    </tr>\n",
       "  </tbody>\n",
       "</table>\n",
       "</div>"
      ],
      "text/plain": [
       "               mb_per_month  sessions_per_month\n",
       "month user_id                                  \n",
       "1     1005        2,727.970                   6\n",
       "      1032       24,138.690                  62\n",
       "      1045        2,346.710                   5\n",
       "      1055       17,094.880                  47\n",
       "      1071       15,607.340                  40"
      ]
     },
     "execution_count": 25,
     "metadata": {},
     "output_type": "execute_result"
    }
   ],
   "source": [
    "internet_by_month.head()"
   ]
  },
  {
   "cell_type": "code",
   "execution_count": 26,
   "metadata": {
    "id": "AZjB0JQD5Ql5"
   },
   "outputs": [],
   "source": [
    "all_calls_messages_internet = (\n",
    "    calls_by_month.join([messages_by_month, internet_by_month], \n",
    "                                     how='outer')\n",
    ")"
   ]
  },
  {
   "cell_type": "code",
   "execution_count": 27,
   "metadata": {
    "colab": {
     "base_uri": "https://localhost:8080/"
    },
    "id": "soD27aPN5Ql5",
    "outputId": "7951e385-9673-43fb-d120-d88f6614163f"
   },
   "outputs": [
    {
     "name": "stdout",
     "output_type": "stream",
     "text": [
      "<class 'pandas.core.frame.DataFrame'>\n",
      "MultiIndex: 3214 entries, (1, 1005) to (12, 1499)\n",
      "Data columns (total 5 columns):\n",
      "minutes_per_month     3174 non-null float64\n",
      "calls_per_month       3174 non-null float64\n",
      "messages_per_month    2717 non-null float64\n",
      "mb_per_month          3203 non-null float64\n",
      "sessions_per_month    3203 non-null float64\n",
      "dtypes: float64(5)\n",
      "memory usage: 139.1 KB\n"
     ]
    }
   ],
   "source": [
    "all_calls_messages_internet.info()"
   ]
  },
  {
   "cell_type": "code",
   "execution_count": 28,
   "metadata": {
    "colab": {
     "base_uri": "https://localhost:8080/",
     "height": 545
    },
    "id": "h_ix8VWk5Ql6",
    "outputId": "4f9f6c43-0e08-4546-bbdc-865ba71ca4e3"
   },
   "outputs": [
    {
     "data": {
      "text/html": [
       "<div>\n",
       "<style scoped>\n",
       "    .dataframe tbody tr th:only-of-type {\n",
       "        vertical-align: middle;\n",
       "    }\n",
       "\n",
       "    .dataframe tbody tr th {\n",
       "        vertical-align: top;\n",
       "    }\n",
       "\n",
       "    .dataframe thead th {\n",
       "        text-align: right;\n",
       "    }\n",
       "</style>\n",
       "<table border=\"1\" class=\"dataframe\">\n",
       "  <thead>\n",
       "    <tr style=\"text-align: right;\">\n",
       "      <th></th>\n",
       "      <th></th>\n",
       "      <th>minutes_per_month</th>\n",
       "      <th>calls_per_month</th>\n",
       "      <th>messages_per_month</th>\n",
       "      <th>mb_per_month</th>\n",
       "      <th>sessions_per_month</th>\n",
       "    </tr>\n",
       "    <tr>\n",
       "      <th>month</th>\n",
       "      <th>user_id</th>\n",
       "      <th></th>\n",
       "      <th></th>\n",
       "      <th></th>\n",
       "      <th></th>\n",
       "      <th></th>\n",
       "    </tr>\n",
       "  </thead>\n",
       "  <tbody>\n",
       "    <tr>\n",
       "      <td rowspan=\"15\" valign=\"top\">1</td>\n",
       "      <td>1005</td>\n",
       "      <td>95.000</td>\n",
       "      <td>15.000</td>\n",
       "      <td>7.000</td>\n",
       "      <td>2,727.970</td>\n",
       "      <td>6.000</td>\n",
       "    </tr>\n",
       "    <tr>\n",
       "      <td>1032</td>\n",
       "      <td>380.000</td>\n",
       "      <td>61.000</td>\n",
       "      <td>38.000</td>\n",
       "      <td>24,138.690</td>\n",
       "      <td>62.000</td>\n",
       "    </tr>\n",
       "    <tr>\n",
       "      <td>1045</td>\n",
       "      <td>9.000</td>\n",
       "      <td>1.000</td>\n",
       "      <td>5.000</td>\n",
       "      <td>2,346.710</td>\n",
       "      <td>5.000</td>\n",
       "    </tr>\n",
       "    <tr>\n",
       "      <td>1055</td>\n",
       "      <td>551.000</td>\n",
       "      <td>64.000</td>\n",
       "      <td>30.000</td>\n",
       "      <td>17,094.880</td>\n",
       "      <td>47.000</td>\n",
       "    </tr>\n",
       "    <tr>\n",
       "      <td>1071</td>\n",
       "      <td>194.000</td>\n",
       "      <td>24.000</td>\n",
       "      <td>16.000</td>\n",
       "      <td>15,607.340</td>\n",
       "      <td>40.000</td>\n",
       "    </tr>\n",
       "    <tr>\n",
       "      <td>1113</td>\n",
       "      <td>110.000</td>\n",
       "      <td>18.000</td>\n",
       "      <td>14.000</td>\n",
       "      <td>767.220</td>\n",
       "      <td>2.000</td>\n",
       "    </tr>\n",
       "    <tr>\n",
       "      <td>1120</td>\n",
       "      <td>55.000</td>\n",
       "      <td>5.000</td>\n",
       "      <td>nan</td>\n",
       "      <td>656.750</td>\n",
       "      <td>1.000</td>\n",
       "    </tr>\n",
       "    <tr>\n",
       "      <td>1126</td>\n",
       "      <td>272.000</td>\n",
       "      <td>35.000</td>\n",
       "      <td>4.000</td>\n",
       "      <td>16,364.030</td>\n",
       "      <td>30.000</td>\n",
       "    </tr>\n",
       "    <tr>\n",
       "      <td>1134</td>\n",
       "      <td>332.000</td>\n",
       "      <td>42.000</td>\n",
       "      <td>32.000</td>\n",
       "      <td>10,203.010</td>\n",
       "      <td>31.000</td>\n",
       "    </tr>\n",
       "    <tr>\n",
       "      <td>1135</td>\n",
       "      <td>90.000</td>\n",
       "      <td>9.000</td>\n",
       "      <td>1.000</td>\n",
       "      <td>1,601.280</td>\n",
       "      <td>4.000</td>\n",
       "    </tr>\n",
       "    <tr>\n",
       "      <td>1155</td>\n",
       "      <td>337.000</td>\n",
       "      <td>44.000</td>\n",
       "      <td>48.000</td>\n",
       "      <td>20,136.870</td>\n",
       "      <td>64.000</td>\n",
       "    </tr>\n",
       "    <tr>\n",
       "      <td>1168</td>\n",
       "      <td>277.000</td>\n",
       "      <td>38.000</td>\n",
       "      <td>14.000</td>\n",
       "      <td>8,156.070</td>\n",
       "      <td>20.000</td>\n",
       "    </tr>\n",
       "    <tr>\n",
       "      <td>1176</td>\n",
       "      <td>187.000</td>\n",
       "      <td>25.000</td>\n",
       "      <td>20.000</td>\n",
       "      <td>6,856.920</td>\n",
       "      <td>20.000</td>\n",
       "    </tr>\n",
       "    <tr>\n",
       "      <td>1189</td>\n",
       "      <td>51.000</td>\n",
       "      <td>7.000</td>\n",
       "      <td>1.000</td>\n",
       "      <td>540.360</td>\n",
       "      <td>3.000</td>\n",
       "    </tr>\n",
       "    <tr>\n",
       "      <td>1193</td>\n",
       "      <td>388.000</td>\n",
       "      <td>53.000</td>\n",
       "      <td>24.000</td>\n",
       "      <td>7,144.310</td>\n",
       "      <td>30.000</td>\n",
       "    </tr>\n",
       "  </tbody>\n",
       "</table>\n",
       "</div>"
      ],
      "text/plain": [
       "               minutes_per_month  calls_per_month  messages_per_month  \\\n",
       "month user_id                                                           \n",
       "1     1005                95.000           15.000               7.000   \n",
       "      1032               380.000           61.000              38.000   \n",
       "      1045                 9.000            1.000               5.000   \n",
       "      1055               551.000           64.000              30.000   \n",
       "      1071               194.000           24.000              16.000   \n",
       "      1113               110.000           18.000              14.000   \n",
       "      1120                55.000            5.000                 nan   \n",
       "      1126               272.000           35.000               4.000   \n",
       "      1134               332.000           42.000              32.000   \n",
       "      1135                90.000            9.000               1.000   \n",
       "      1155               337.000           44.000              48.000   \n",
       "      1168               277.000           38.000              14.000   \n",
       "      1176               187.000           25.000              20.000   \n",
       "      1189                51.000            7.000               1.000   \n",
       "      1193               388.000           53.000              24.000   \n",
       "\n",
       "               mb_per_month  sessions_per_month  \n",
       "month user_id                                    \n",
       "1     1005        2,727.970               6.000  \n",
       "      1032       24,138.690              62.000  \n",
       "      1045        2,346.710               5.000  \n",
       "      1055       17,094.880              47.000  \n",
       "      1071       15,607.340              40.000  \n",
       "      1113          767.220               2.000  \n",
       "      1120          656.750               1.000  \n",
       "      1126       16,364.030              30.000  \n",
       "      1134       10,203.010              31.000  \n",
       "      1135        1,601.280               4.000  \n",
       "      1155       20,136.870              64.000  \n",
       "      1168        8,156.070              20.000  \n",
       "      1176        6,856.920              20.000  \n",
       "      1189          540.360               3.000  \n",
       "      1193        7,144.310              30.000  "
      ]
     },
     "execution_count": 28,
     "metadata": {},
     "output_type": "execute_result"
    }
   ],
   "source": [
    "all_calls_messages_internet.head(15)"
   ]
  },
  {
   "cell_type": "code",
   "execution_count": 29,
   "metadata": {
    "colab": {
     "base_uri": "https://localhost:8080/",
     "height": 450
    },
    "id": "lKKsuvxA5Ql6",
    "outputId": "88195af3-794d-43d0-e2f7-66f2b05529c5"
   },
   "outputs": [
    {
     "data": {
      "text/html": [
       "<div>\n",
       "<style scoped>\n",
       "    .dataframe tbody tr th:only-of-type {\n",
       "        vertical-align: middle;\n",
       "    }\n",
       "\n",
       "    .dataframe tbody tr th {\n",
       "        vertical-align: top;\n",
       "    }\n",
       "\n",
       "    .dataframe thead th {\n",
       "        text-align: right;\n",
       "    }\n",
       "</style>\n",
       "<table border=\"1\" class=\"dataframe\">\n",
       "  <thead>\n",
       "    <tr style=\"text-align: right;\">\n",
       "      <th></th>\n",
       "      <th></th>\n",
       "      <th>minutes_per_month</th>\n",
       "      <th>calls_per_month</th>\n",
       "      <th>messages_per_month</th>\n",
       "      <th>mb_per_month</th>\n",
       "      <th>sessions_per_month</th>\n",
       "    </tr>\n",
       "    <tr>\n",
       "      <th>month</th>\n",
       "      <th>user_id</th>\n",
       "      <th></th>\n",
       "      <th></th>\n",
       "      <th></th>\n",
       "      <th></th>\n",
       "      <th></th>\n",
       "    </tr>\n",
       "  </thead>\n",
       "  <tbody>\n",
       "    <tr>\n",
       "      <td rowspan=\"5\" valign=\"top\">1</td>\n",
       "      <td>1005</td>\n",
       "      <td>95.000</td>\n",
       "      <td>15.000</td>\n",
       "      <td>7.000</td>\n",
       "      <td>2,727.970</td>\n",
       "      <td>6.000</td>\n",
       "    </tr>\n",
       "    <tr>\n",
       "      <td>1032</td>\n",
       "      <td>380.000</td>\n",
       "      <td>61.000</td>\n",
       "      <td>38.000</td>\n",
       "      <td>24,138.690</td>\n",
       "      <td>62.000</td>\n",
       "    </tr>\n",
       "    <tr>\n",
       "      <td>1045</td>\n",
       "      <td>9.000</td>\n",
       "      <td>1.000</td>\n",
       "      <td>5.000</td>\n",
       "      <td>2,346.710</td>\n",
       "      <td>5.000</td>\n",
       "    </tr>\n",
       "    <tr>\n",
       "      <td>1055</td>\n",
       "      <td>551.000</td>\n",
       "      <td>64.000</td>\n",
       "      <td>30.000</td>\n",
       "      <td>17,094.880</td>\n",
       "      <td>47.000</td>\n",
       "    </tr>\n",
       "    <tr>\n",
       "      <td>1071</td>\n",
       "      <td>194.000</td>\n",
       "      <td>24.000</td>\n",
       "      <td>16.000</td>\n",
       "      <td>15,607.340</td>\n",
       "      <td>40.000</td>\n",
       "    </tr>\n",
       "    <tr>\n",
       "      <td>...</td>\n",
       "      <td>...</td>\n",
       "      <td>...</td>\n",
       "      <td>...</td>\n",
       "      <td>...</td>\n",
       "      <td>...</td>\n",
       "      <td>...</td>\n",
       "    </tr>\n",
       "    <tr>\n",
       "      <td rowspan=\"5\" valign=\"top\">12</td>\n",
       "      <td>1494</td>\n",
       "      <td>418.000</td>\n",
       "      <td>62.000</td>\n",
       "      <td>0.000</td>\n",
       "      <td>17,626.210</td>\n",
       "      <td>49.000</td>\n",
       "    </tr>\n",
       "    <tr>\n",
       "      <td>1495</td>\n",
       "      <td>1,031.000</td>\n",
       "      <td>155.000</td>\n",
       "      <td>84.000</td>\n",
       "      <td>23,427.760</td>\n",
       "      <td>47.000</td>\n",
       "    </tr>\n",
       "    <tr>\n",
       "      <td>1496</td>\n",
       "      <td>518.000</td>\n",
       "      <td>80.000</td>\n",
       "      <td>51.000</td>\n",
       "      <td>20,749.150</td>\n",
       "      <td>68.000</td>\n",
       "    </tr>\n",
       "    <tr>\n",
       "      <td>1497</td>\n",
       "      <td>545.000</td>\n",
       "      <td>71.000</td>\n",
       "      <td>17.000</td>\n",
       "      <td>19,924.600</td>\n",
       "      <td>47.000</td>\n",
       "    </tr>\n",
       "    <tr>\n",
       "      <td>1499</td>\n",
       "      <td>492.000</td>\n",
       "      <td>69.000</td>\n",
       "      <td>66.000</td>\n",
       "      <td>13,060.580</td>\n",
       "      <td>45.000</td>\n",
       "    </tr>\n",
       "  </tbody>\n",
       "</table>\n",
       "<p>3214 rows × 5 columns</p>\n",
       "</div>"
      ],
      "text/plain": [
       "               minutes_per_month  calls_per_month  messages_per_month  \\\n",
       "month user_id                                                           \n",
       "1     1005                95.000           15.000               7.000   \n",
       "      1032               380.000           61.000              38.000   \n",
       "      1045                 9.000            1.000               5.000   \n",
       "      1055               551.000           64.000              30.000   \n",
       "      1071               194.000           24.000              16.000   \n",
       "...                          ...              ...                 ...   \n",
       "12    1494               418.000           62.000               0.000   \n",
       "      1495             1,031.000          155.000              84.000   \n",
       "      1496               518.000           80.000              51.000   \n",
       "      1497               545.000           71.000              17.000   \n",
       "      1499               492.000           69.000              66.000   \n",
       "\n",
       "               mb_per_month  sessions_per_month  \n",
       "month user_id                                    \n",
       "1     1005        2,727.970               6.000  \n",
       "      1032       24,138.690              62.000  \n",
       "      1045        2,346.710               5.000  \n",
       "      1055       17,094.880              47.000  \n",
       "      1071       15,607.340              40.000  \n",
       "...                     ...                 ...  \n",
       "12    1494       17,626.210              49.000  \n",
       "      1495       23,427.760              47.000  \n",
       "      1496       20,749.150              68.000  \n",
       "      1497       19,924.600              47.000  \n",
       "      1499       13,060.580              45.000  \n",
       "\n",
       "[3214 rows x 5 columns]"
      ]
     },
     "execution_count": 29,
     "metadata": {},
     "output_type": "execute_result"
    }
   ],
   "source": [
    "all_calls_messages_internet.fillna(0)"
   ]
  },
  {
   "cell_type": "markdown",
   "metadata": {
    "id": "rY3M0tJkQzw5"
   },
   "source": [
    "<div class=\"alert alert-info\"> <b>Сравним цифры с исходными данными:</b></div>"
   ]
  },
  {
   "cell_type": "code",
   "execution_count": 30,
   "metadata": {
    "colab": {
     "base_uri": "https://localhost:8080/"
    },
    "id": "DwMbmT7mRiAW",
    "outputId": "6fb9a70e-f5a6-487f-fbb7-721cceb6f9d9"
   },
   "outputs": [
    {
     "name": "stdout",
     "output_type": "stream",
     "text": [
      "55324865.73\n",
      "55324865.73\n"
     ]
    }
   ],
   "source": [
    "print(internet['mb_used'].sum())\n",
    "print(all_calls_messages_internet['mb_per_month'].sum())"
   ]
  },
  {
   "cell_type": "code",
   "execution_count": 31,
   "metadata": {
    "colab": {
     "base_uri": "https://localhost:8080/"
    },
    "id": "hZNw8LwrSTDU",
    "outputId": "c81596c6-2c87-4b79-df80-64935abe6c02"
   },
   "outputs": [
    {
     "name": "stdout",
     "output_type": "stream",
     "text": [
      "1450301\n",
      "1450301.0\n"
     ]
    }
   ],
   "source": [
    "print(calls['duration'].sum())\n",
    "print(all_calls_messages_internet['minutes_per_month'].sum())"
   ]
  },
  {
   "cell_type": "code",
   "execution_count": 32,
   "metadata": {
    "colab": {
     "base_uri": "https://localhost:8080/"
    },
    "id": "dIAO6cAISv8m",
    "outputId": "4bf2c55f-a5cd-4a8a-991a-67a36bc352b2"
   },
   "outputs": [
    {
     "name": "stdout",
     "output_type": "stream",
     "text": [
      "123036\n",
      "123036.0\n"
     ]
    }
   ],
   "source": [
    "print(len(messages['id']))\n",
    "print(all_calls_messages_internet['messages_per_month'].sum())"
   ]
  },
  {
   "cell_type": "markdown",
   "metadata": {
    "id": "DIaVzGK6U-DH"
   },
   "source": [
    "<div class=\"alert alert-info\"> <b>Звонки, интернет и сообщения совпали, наверное все сделали верно</b></div>"
   ]
  },
  {
   "cell_type": "markdown",
   "metadata": {
    "id": "6FKb4QJr5Ql7"
   },
   "source": [
    "Проверяем что у нас получилось:"
   ]
  },
  {
   "cell_type": "code",
   "execution_count": 33,
   "metadata": {
    "colab": {
     "base_uri": "https://localhost:8080/",
     "height": 545
    },
    "id": "USxQQQ8l5Ql7",
    "outputId": "4c4c6d35-f67e-4779-f504-840b206e6bd2"
   },
   "outputs": [
    {
     "data": {
      "text/html": [
       "<div>\n",
       "<style scoped>\n",
       "    .dataframe tbody tr th:only-of-type {\n",
       "        vertical-align: middle;\n",
       "    }\n",
       "\n",
       "    .dataframe tbody tr th {\n",
       "        vertical-align: top;\n",
       "    }\n",
       "\n",
       "    .dataframe thead th {\n",
       "        text-align: right;\n",
       "    }\n",
       "</style>\n",
       "<table border=\"1\" class=\"dataframe\">\n",
       "  <thead>\n",
       "    <tr style=\"text-align: right;\">\n",
       "      <th></th>\n",
       "      <th></th>\n",
       "      <th>minutes_per_month</th>\n",
       "      <th>calls_per_month</th>\n",
       "      <th>messages_per_month</th>\n",
       "      <th>mb_per_month</th>\n",
       "      <th>sessions_per_month</th>\n",
       "    </tr>\n",
       "    <tr>\n",
       "      <th>month</th>\n",
       "      <th>user_id</th>\n",
       "      <th></th>\n",
       "      <th></th>\n",
       "      <th></th>\n",
       "      <th></th>\n",
       "      <th></th>\n",
       "    </tr>\n",
       "  </thead>\n",
       "  <tbody>\n",
       "    <tr>\n",
       "      <td rowspan=\"15\" valign=\"top\">1</td>\n",
       "      <td>1005</td>\n",
       "      <td>95.000</td>\n",
       "      <td>15.000</td>\n",
       "      <td>7.000</td>\n",
       "      <td>2,727.970</td>\n",
       "      <td>6.000</td>\n",
       "    </tr>\n",
       "    <tr>\n",
       "      <td>1032</td>\n",
       "      <td>380.000</td>\n",
       "      <td>61.000</td>\n",
       "      <td>38.000</td>\n",
       "      <td>24,138.690</td>\n",
       "      <td>62.000</td>\n",
       "    </tr>\n",
       "    <tr>\n",
       "      <td>1045</td>\n",
       "      <td>9.000</td>\n",
       "      <td>1.000</td>\n",
       "      <td>5.000</td>\n",
       "      <td>2,346.710</td>\n",
       "      <td>5.000</td>\n",
       "    </tr>\n",
       "    <tr>\n",
       "      <td>1055</td>\n",
       "      <td>551.000</td>\n",
       "      <td>64.000</td>\n",
       "      <td>30.000</td>\n",
       "      <td>17,094.880</td>\n",
       "      <td>47.000</td>\n",
       "    </tr>\n",
       "    <tr>\n",
       "      <td>1071</td>\n",
       "      <td>194.000</td>\n",
       "      <td>24.000</td>\n",
       "      <td>16.000</td>\n",
       "      <td>15,607.340</td>\n",
       "      <td>40.000</td>\n",
       "    </tr>\n",
       "    <tr>\n",
       "      <td>1113</td>\n",
       "      <td>110.000</td>\n",
       "      <td>18.000</td>\n",
       "      <td>14.000</td>\n",
       "      <td>767.220</td>\n",
       "      <td>2.000</td>\n",
       "    </tr>\n",
       "    <tr>\n",
       "      <td>1120</td>\n",
       "      <td>55.000</td>\n",
       "      <td>5.000</td>\n",
       "      <td>nan</td>\n",
       "      <td>656.750</td>\n",
       "      <td>1.000</td>\n",
       "    </tr>\n",
       "    <tr>\n",
       "      <td>1126</td>\n",
       "      <td>272.000</td>\n",
       "      <td>35.000</td>\n",
       "      <td>4.000</td>\n",
       "      <td>16,364.030</td>\n",
       "      <td>30.000</td>\n",
       "    </tr>\n",
       "    <tr>\n",
       "      <td>1134</td>\n",
       "      <td>332.000</td>\n",
       "      <td>42.000</td>\n",
       "      <td>32.000</td>\n",
       "      <td>10,203.010</td>\n",
       "      <td>31.000</td>\n",
       "    </tr>\n",
       "    <tr>\n",
       "      <td>1135</td>\n",
       "      <td>90.000</td>\n",
       "      <td>9.000</td>\n",
       "      <td>1.000</td>\n",
       "      <td>1,601.280</td>\n",
       "      <td>4.000</td>\n",
       "    </tr>\n",
       "    <tr>\n",
       "      <td>1155</td>\n",
       "      <td>337.000</td>\n",
       "      <td>44.000</td>\n",
       "      <td>48.000</td>\n",
       "      <td>20,136.870</td>\n",
       "      <td>64.000</td>\n",
       "    </tr>\n",
       "    <tr>\n",
       "      <td>1168</td>\n",
       "      <td>277.000</td>\n",
       "      <td>38.000</td>\n",
       "      <td>14.000</td>\n",
       "      <td>8,156.070</td>\n",
       "      <td>20.000</td>\n",
       "    </tr>\n",
       "    <tr>\n",
       "      <td>1176</td>\n",
       "      <td>187.000</td>\n",
       "      <td>25.000</td>\n",
       "      <td>20.000</td>\n",
       "      <td>6,856.920</td>\n",
       "      <td>20.000</td>\n",
       "    </tr>\n",
       "    <tr>\n",
       "      <td>1189</td>\n",
       "      <td>51.000</td>\n",
       "      <td>7.000</td>\n",
       "      <td>1.000</td>\n",
       "      <td>540.360</td>\n",
       "      <td>3.000</td>\n",
       "    </tr>\n",
       "    <tr>\n",
       "      <td>1193</td>\n",
       "      <td>388.000</td>\n",
       "      <td>53.000</td>\n",
       "      <td>24.000</td>\n",
       "      <td>7,144.310</td>\n",
       "      <td>30.000</td>\n",
       "    </tr>\n",
       "  </tbody>\n",
       "</table>\n",
       "</div>"
      ],
      "text/plain": [
       "               minutes_per_month  calls_per_month  messages_per_month  \\\n",
       "month user_id                                                           \n",
       "1     1005                95.000           15.000               7.000   \n",
       "      1032               380.000           61.000              38.000   \n",
       "      1045                 9.000            1.000               5.000   \n",
       "      1055               551.000           64.000              30.000   \n",
       "      1071               194.000           24.000              16.000   \n",
       "      1113               110.000           18.000              14.000   \n",
       "      1120                55.000            5.000                 nan   \n",
       "      1126               272.000           35.000               4.000   \n",
       "      1134               332.000           42.000              32.000   \n",
       "      1135                90.000            9.000               1.000   \n",
       "      1155               337.000           44.000              48.000   \n",
       "      1168               277.000           38.000              14.000   \n",
       "      1176               187.000           25.000              20.000   \n",
       "      1189                51.000            7.000               1.000   \n",
       "      1193               388.000           53.000              24.000   \n",
       "\n",
       "               mb_per_month  sessions_per_month  \n",
       "month user_id                                    \n",
       "1     1005        2,727.970               6.000  \n",
       "      1032       24,138.690              62.000  \n",
       "      1045        2,346.710               5.000  \n",
       "      1055       17,094.880              47.000  \n",
       "      1071       15,607.340              40.000  \n",
       "      1113          767.220               2.000  \n",
       "      1120          656.750               1.000  \n",
       "      1126       16,364.030              30.000  \n",
       "      1134       10,203.010              31.000  \n",
       "      1135        1,601.280               4.000  \n",
       "      1155       20,136.870              64.000  \n",
       "      1168        8,156.070              20.000  \n",
       "      1176        6,856.920              20.000  \n",
       "      1189          540.360               3.000  \n",
       "      1193        7,144.310              30.000  "
      ]
     },
     "execution_count": 33,
     "metadata": {},
     "output_type": "execute_result"
    }
   ],
   "source": [
    "all_calls_messages_internet.head(15)"
   ]
  },
  {
   "cell_type": "markdown",
   "metadata": {
    "id": "d3Zf5YP-5Ql8"
   },
   "source": [
    "Появившиеся NaN заменяем на 0, так как возможно кто-то не воспользовался той или иной услугой. "
   ]
  },
  {
   "cell_type": "code",
   "execution_count": 34,
   "metadata": {
    "id": "QgGimQ4g5Ql9"
   },
   "outputs": [],
   "source": [
    "all_calls_messages_internet.fillna(0, inplace=True)"
   ]
  },
  {
   "cell_type": "markdown",
   "metadata": {
    "id": "jTnw579r5Ql-"
   },
   "source": [
    "Меняем типы данных нашей старой функцией:"
   ]
  },
  {
   "cell_type": "code",
   "execution_count": 35,
   "metadata": {
    "colab": {
     "base_uri": "https://localhost:8080/"
    },
    "id": "n7wMRKpvZ8jA",
    "outputId": "83b19bb4-97d6-4ea3-9b1a-ff8f997bf7a3"
   },
   "outputs": [
    {
     "data": {
      "text/plain": [
       "month  user_id\n",
       "1      1005        2728\n",
       "       1032       24139\n",
       "       1045        2347\n",
       "       1055       17095\n",
       "       1071       15608\n",
       "                  ...  \n",
       "12     1494       17627\n",
       "       1495       23428\n",
       "       1496       20750\n",
       "       1497       19925\n",
       "       1499       13061\n",
       "Name: mb_per_month, Length: 3214, dtype: int64"
      ]
     },
     "execution_count": 35,
     "metadata": {},
     "output_type": "execute_result"
    }
   ],
   "source": [
    "all_calls_messages_internet['mb_per_month'].apply(lambda x: m.ceil(x))"
   ]
  },
  {
   "cell_type": "code",
   "execution_count": 36,
   "metadata": {
    "id": "bw2JaOHeY00g"
   },
   "outputs": [],
   "source": [
    "all_calls_messages_internet['gb_per_month'] = all_calls_messages_internet['mb_per_month'] / 1024"
   ]
  },
  {
   "cell_type": "code",
   "execution_count": 37,
   "metadata": {
    "id": "YxSUcGON5Ql_"
   },
   "outputs": [],
   "source": [
    "for column_name in all_calls_messages_internet.columns:\n",
    "    change_type(all_calls_messages_internet, column_name, 'int', 'no')"
   ]
  },
  {
   "cell_type": "code",
   "execution_count": 38,
   "metadata": {
    "colab": {
     "base_uri": "https://localhost:8080/",
     "height": 545
    },
    "id": "__60i-bm5Ql_",
    "outputId": "a2660904-8ce1-45dd-bd39-9b9f373cb93d"
   },
   "outputs": [
    {
     "data": {
      "text/html": [
       "<div>\n",
       "<style scoped>\n",
       "    .dataframe tbody tr th:only-of-type {\n",
       "        vertical-align: middle;\n",
       "    }\n",
       "\n",
       "    .dataframe tbody tr th {\n",
       "        vertical-align: top;\n",
       "    }\n",
       "\n",
       "    .dataframe thead th {\n",
       "        text-align: right;\n",
       "    }\n",
       "</style>\n",
       "<table border=\"1\" class=\"dataframe\">\n",
       "  <thead>\n",
       "    <tr style=\"text-align: right;\">\n",
       "      <th></th>\n",
       "      <th></th>\n",
       "      <th>minutes_per_month</th>\n",
       "      <th>calls_per_month</th>\n",
       "      <th>messages_per_month</th>\n",
       "      <th>mb_per_month</th>\n",
       "      <th>sessions_per_month</th>\n",
       "      <th>gb_per_month</th>\n",
       "    </tr>\n",
       "    <tr>\n",
       "      <th>month</th>\n",
       "      <th>user_id</th>\n",
       "      <th></th>\n",
       "      <th></th>\n",
       "      <th></th>\n",
       "      <th></th>\n",
       "      <th></th>\n",
       "      <th></th>\n",
       "    </tr>\n",
       "  </thead>\n",
       "  <tbody>\n",
       "    <tr>\n",
       "      <td rowspan=\"15\" valign=\"top\">1</td>\n",
       "      <td>1005</td>\n",
       "      <td>95</td>\n",
       "      <td>15</td>\n",
       "      <td>7</td>\n",
       "      <td>2727</td>\n",
       "      <td>6</td>\n",
       "      <td>2</td>\n",
       "    </tr>\n",
       "    <tr>\n",
       "      <td>1032</td>\n",
       "      <td>380</td>\n",
       "      <td>61</td>\n",
       "      <td>38</td>\n",
       "      <td>24138</td>\n",
       "      <td>62</td>\n",
       "      <td>23</td>\n",
       "    </tr>\n",
       "    <tr>\n",
       "      <td>1045</td>\n",
       "      <td>9</td>\n",
       "      <td>1</td>\n",
       "      <td>5</td>\n",
       "      <td>2346</td>\n",
       "      <td>5</td>\n",
       "      <td>2</td>\n",
       "    </tr>\n",
       "    <tr>\n",
       "      <td>1055</td>\n",
       "      <td>551</td>\n",
       "      <td>64</td>\n",
       "      <td>30</td>\n",
       "      <td>17094</td>\n",
       "      <td>47</td>\n",
       "      <td>16</td>\n",
       "    </tr>\n",
       "    <tr>\n",
       "      <td>1071</td>\n",
       "      <td>194</td>\n",
       "      <td>24</td>\n",
       "      <td>16</td>\n",
       "      <td>15607</td>\n",
       "      <td>40</td>\n",
       "      <td>15</td>\n",
       "    </tr>\n",
       "    <tr>\n",
       "      <td>1113</td>\n",
       "      <td>110</td>\n",
       "      <td>18</td>\n",
       "      <td>14</td>\n",
       "      <td>767</td>\n",
       "      <td>2</td>\n",
       "      <td>0</td>\n",
       "    </tr>\n",
       "    <tr>\n",
       "      <td>1120</td>\n",
       "      <td>55</td>\n",
       "      <td>5</td>\n",
       "      <td>0</td>\n",
       "      <td>656</td>\n",
       "      <td>1</td>\n",
       "      <td>0</td>\n",
       "    </tr>\n",
       "    <tr>\n",
       "      <td>1126</td>\n",
       "      <td>272</td>\n",
       "      <td>35</td>\n",
       "      <td>4</td>\n",
       "      <td>16364</td>\n",
       "      <td>30</td>\n",
       "      <td>15</td>\n",
       "    </tr>\n",
       "    <tr>\n",
       "      <td>1134</td>\n",
       "      <td>332</td>\n",
       "      <td>42</td>\n",
       "      <td>32</td>\n",
       "      <td>10203</td>\n",
       "      <td>31</td>\n",
       "      <td>9</td>\n",
       "    </tr>\n",
       "    <tr>\n",
       "      <td>1135</td>\n",
       "      <td>90</td>\n",
       "      <td>9</td>\n",
       "      <td>1</td>\n",
       "      <td>1601</td>\n",
       "      <td>4</td>\n",
       "      <td>1</td>\n",
       "    </tr>\n",
       "    <tr>\n",
       "      <td>1155</td>\n",
       "      <td>337</td>\n",
       "      <td>44</td>\n",
       "      <td>48</td>\n",
       "      <td>20136</td>\n",
       "      <td>64</td>\n",
       "      <td>19</td>\n",
       "    </tr>\n",
       "    <tr>\n",
       "      <td>1168</td>\n",
       "      <td>277</td>\n",
       "      <td>38</td>\n",
       "      <td>14</td>\n",
       "      <td>8156</td>\n",
       "      <td>20</td>\n",
       "      <td>7</td>\n",
       "    </tr>\n",
       "    <tr>\n",
       "      <td>1176</td>\n",
       "      <td>187</td>\n",
       "      <td>25</td>\n",
       "      <td>20</td>\n",
       "      <td>6856</td>\n",
       "      <td>20</td>\n",
       "      <td>6</td>\n",
       "    </tr>\n",
       "    <tr>\n",
       "      <td>1189</td>\n",
       "      <td>51</td>\n",
       "      <td>7</td>\n",
       "      <td>1</td>\n",
       "      <td>540</td>\n",
       "      <td>3</td>\n",
       "      <td>0</td>\n",
       "    </tr>\n",
       "    <tr>\n",
       "      <td>1193</td>\n",
       "      <td>388</td>\n",
       "      <td>53</td>\n",
       "      <td>24</td>\n",
       "      <td>7144</td>\n",
       "      <td>30</td>\n",
       "      <td>6</td>\n",
       "    </tr>\n",
       "  </tbody>\n",
       "</table>\n",
       "</div>"
      ],
      "text/plain": [
       "               minutes_per_month  calls_per_month  messages_per_month  \\\n",
       "month user_id                                                           \n",
       "1     1005                    95               15                   7   \n",
       "      1032                   380               61                  38   \n",
       "      1045                     9                1                   5   \n",
       "      1055                   551               64                  30   \n",
       "      1071                   194               24                  16   \n",
       "      1113                   110               18                  14   \n",
       "      1120                    55                5                   0   \n",
       "      1126                   272               35                   4   \n",
       "      1134                   332               42                  32   \n",
       "      1135                    90                9                   1   \n",
       "      1155                   337               44                  48   \n",
       "      1168                   277               38                  14   \n",
       "      1176                   187               25                  20   \n",
       "      1189                    51                7                   1   \n",
       "      1193                   388               53                  24   \n",
       "\n",
       "               mb_per_month  sessions_per_month  gb_per_month  \n",
       "month user_id                                                  \n",
       "1     1005             2727                   6             2  \n",
       "      1032            24138                  62            23  \n",
       "      1045             2346                   5             2  \n",
       "      1055            17094                  47            16  \n",
       "      1071            15607                  40            15  \n",
       "      1113              767                   2             0  \n",
       "      1120              656                   1             0  \n",
       "      1126            16364                  30            15  \n",
       "      1134            10203                  31             9  \n",
       "      1135             1601                   4             1  \n",
       "      1155            20136                  64            19  \n",
       "      1168             8156                  20             7  \n",
       "      1176             6856                  20             6  \n",
       "      1189              540                   3             0  \n",
       "      1193             7144                  30             6  "
      ]
     },
     "execution_count": 38,
     "metadata": {},
     "output_type": "execute_result"
    }
   ],
   "source": [
    "all_calls_messages_internet.head(15)"
   ]
  },
  {
   "cell_type": "markdown",
   "metadata": {
    "id": "Vb0FTRC05QmA"
   },
   "source": [
    "Подготавливаем таблицу со значениями тарифов к слиянию: назначаем индексом значение tariff_name. Переименовываем в tariff для соответствия конечному датафрейму"
   ]
  },
  {
   "cell_type": "code",
   "execution_count": 39,
   "metadata": {
    "id": "lOXAFwbc5QmB"
   },
   "outputs": [],
   "source": [
    "tariffs.set_index('tariff_name', inplace=True)\n",
    "tariffs.index.name = 'tariff'"
   ]
  },
  {
   "cell_type": "markdown",
   "metadata": {
    "id": "zQU5eOPO5QmB"
   },
   "source": [
    "Соединяем датасет users с тарифами"
   ]
  },
  {
   "cell_type": "code",
   "execution_count": 40,
   "metadata": {
    "id": "Q2w2QvZ85QmC"
   },
   "outputs": [],
   "source": [
    "users_and_tariffs = users.merge(tariffs, on='tariff')\n",
    "\n",
    "users_and_tariffs.set_index('user_id', inplace=True)"
   ]
  },
  {
   "cell_type": "markdown",
   "metadata": {
    "id": "g1TJ5k505QmD"
   },
   "source": [
    "Формируем конечную таблицу"
   ]
  },
  {
   "cell_type": "code",
   "execution_count": 41,
   "metadata": {
    "id": "21iO3pqX5QmD"
   },
   "outputs": [],
   "source": [
    "all_calls_messages_internet = (\n",
    "    all_calls_messages_internet.join(users_and_tariffs.loc[:, ['tariff', 'messages_included', 'mb_per_month_included', \n",
    "                                 'minutes_included', 'rub_monthly_fee', 'rub_per_gb', \n",
    "                                 'rub_per_message', 'rub_per_minute', 'city', 'reg_date',\n",
    "                                                     'churn_date']], how='inner')\n",
    ") "
   ]
  },
  {
   "cell_type": "code",
   "execution_count": 42,
   "metadata": {
    "colab": {
     "base_uri": "https://localhost:8080/",
     "height": 684
    },
    "id": "iSgx7-No5QmE",
    "outputId": "79686607-065a-493a-ee55-e8c43d3c41aa"
   },
   "outputs": [
    {
     "data": {
      "text/html": [
       "<div>\n",
       "<style scoped>\n",
       "    .dataframe tbody tr th:only-of-type {\n",
       "        vertical-align: middle;\n",
       "    }\n",
       "\n",
       "    .dataframe tbody tr th {\n",
       "        vertical-align: top;\n",
       "    }\n",
       "\n",
       "    .dataframe thead th {\n",
       "        text-align: right;\n",
       "    }\n",
       "</style>\n",
       "<table border=\"1\" class=\"dataframe\">\n",
       "  <thead>\n",
       "    <tr style=\"text-align: right;\">\n",
       "      <th></th>\n",
       "      <th></th>\n",
       "      <th>minutes_per_month</th>\n",
       "      <th>calls_per_month</th>\n",
       "      <th>messages_per_month</th>\n",
       "      <th>mb_per_month</th>\n",
       "      <th>sessions_per_month</th>\n",
       "      <th>gb_per_month</th>\n",
       "      <th>tariff</th>\n",
       "      <th>messages_included</th>\n",
       "      <th>mb_per_month_included</th>\n",
       "      <th>minutes_included</th>\n",
       "      <th>rub_monthly_fee</th>\n",
       "      <th>rub_per_gb</th>\n",
       "      <th>rub_per_message</th>\n",
       "      <th>rub_per_minute</th>\n",
       "      <th>city</th>\n",
       "      <th>reg_date</th>\n",
       "      <th>churn_date</th>\n",
       "    </tr>\n",
       "    <tr>\n",
       "      <th>month</th>\n",
       "      <th>user_id</th>\n",
       "      <th></th>\n",
       "      <th></th>\n",
       "      <th></th>\n",
       "      <th></th>\n",
       "      <th></th>\n",
       "      <th></th>\n",
       "      <th></th>\n",
       "      <th></th>\n",
       "      <th></th>\n",
       "      <th></th>\n",
       "      <th></th>\n",
       "      <th></th>\n",
       "      <th></th>\n",
       "      <th></th>\n",
       "      <th></th>\n",
       "      <th></th>\n",
       "      <th></th>\n",
       "    </tr>\n",
       "  </thead>\n",
       "  <tbody>\n",
       "    <tr>\n",
       "      <td rowspan=\"5\" valign=\"top\">1</td>\n",
       "      <td>1005</td>\n",
       "      <td>95</td>\n",
       "      <td>15</td>\n",
       "      <td>7</td>\n",
       "      <td>2727</td>\n",
       "      <td>6</td>\n",
       "      <td>2</td>\n",
       "      <td>smart</td>\n",
       "      <td>50</td>\n",
       "      <td>15360</td>\n",
       "      <td>500</td>\n",
       "      <td>550</td>\n",
       "      <td>200</td>\n",
       "      <td>3</td>\n",
       "      <td>3</td>\n",
       "      <td>Набережные Челны</td>\n",
       "      <td>2018-01-25</td>\n",
       "      <td>2020-12-31</td>\n",
       "    </tr>\n",
       "    <tr>\n",
       "      <td>1032</td>\n",
       "      <td>380</td>\n",
       "      <td>61</td>\n",
       "      <td>38</td>\n",
       "      <td>24138</td>\n",
       "      <td>62</td>\n",
       "      <td>23</td>\n",
       "      <td>smart</td>\n",
       "      <td>50</td>\n",
       "      <td>15360</td>\n",
       "      <td>500</td>\n",
       "      <td>550</td>\n",
       "      <td>200</td>\n",
       "      <td>3</td>\n",
       "      <td>3</td>\n",
       "      <td>Ульяновск</td>\n",
       "      <td>2018-01-04</td>\n",
       "      <td>2020-12-31</td>\n",
       "    </tr>\n",
       "    <tr>\n",
       "      <td>1045</td>\n",
       "      <td>9</td>\n",
       "      <td>1</td>\n",
       "      <td>5</td>\n",
       "      <td>2346</td>\n",
       "      <td>5</td>\n",
       "      <td>2</td>\n",
       "      <td>smart</td>\n",
       "      <td>50</td>\n",
       "      <td>15360</td>\n",
       "      <td>500</td>\n",
       "      <td>550</td>\n",
       "      <td>200</td>\n",
       "      <td>3</td>\n",
       "      <td>3</td>\n",
       "      <td>Улан-Удэ</td>\n",
       "      <td>2018-01-30</td>\n",
       "      <td>2020-12-31</td>\n",
       "    </tr>\n",
       "    <tr>\n",
       "      <td>1055</td>\n",
       "      <td>551</td>\n",
       "      <td>64</td>\n",
       "      <td>30</td>\n",
       "      <td>17094</td>\n",
       "      <td>47</td>\n",
       "      <td>16</td>\n",
       "      <td>smart</td>\n",
       "      <td>50</td>\n",
       "      <td>15360</td>\n",
       "      <td>500</td>\n",
       "      <td>550</td>\n",
       "      <td>200</td>\n",
       "      <td>3</td>\n",
       "      <td>3</td>\n",
       "      <td>Казань</td>\n",
       "      <td>2018-01-02</td>\n",
       "      <td>2020-12-31</td>\n",
       "    </tr>\n",
       "    <tr>\n",
       "      <td>1071</td>\n",
       "      <td>194</td>\n",
       "      <td>24</td>\n",
       "      <td>16</td>\n",
       "      <td>15607</td>\n",
       "      <td>40</td>\n",
       "      <td>15</td>\n",
       "      <td>smart</td>\n",
       "      <td>50</td>\n",
       "      <td>15360</td>\n",
       "      <td>500</td>\n",
       "      <td>550</td>\n",
       "      <td>200</td>\n",
       "      <td>3</td>\n",
       "      <td>3</td>\n",
       "      <td>Омск</td>\n",
       "      <td>2018-01-09</td>\n",
       "      <td>2018-08-31</td>\n",
       "    </tr>\n",
       "    <tr>\n",
       "      <td>...</td>\n",
       "      <td>...</td>\n",
       "      <td>...</td>\n",
       "      <td>...</td>\n",
       "      <td>...</td>\n",
       "      <td>...</td>\n",
       "      <td>...</td>\n",
       "      <td>...</td>\n",
       "      <td>...</td>\n",
       "      <td>...</td>\n",
       "      <td>...</td>\n",
       "      <td>...</td>\n",
       "      <td>...</td>\n",
       "      <td>...</td>\n",
       "      <td>...</td>\n",
       "      <td>...</td>\n",
       "      <td>...</td>\n",
       "      <td>...</td>\n",
       "      <td>...</td>\n",
       "    </tr>\n",
       "    <tr>\n",
       "      <td rowspan=\"5\" valign=\"top\">12</td>\n",
       "      <td>1494</td>\n",
       "      <td>418</td>\n",
       "      <td>62</td>\n",
       "      <td>0</td>\n",
       "      <td>17626</td>\n",
       "      <td>49</td>\n",
       "      <td>17</td>\n",
       "      <td>smart</td>\n",
       "      <td>50</td>\n",
       "      <td>15360</td>\n",
       "      <td>500</td>\n",
       "      <td>550</td>\n",
       "      <td>200</td>\n",
       "      <td>3</td>\n",
       "      <td>3</td>\n",
       "      <td>Омск</td>\n",
       "      <td>2018-08-17</td>\n",
       "      <td>2020-12-31</td>\n",
       "    </tr>\n",
       "    <tr>\n",
       "      <td>1495</td>\n",
       "      <td>1031</td>\n",
       "      <td>155</td>\n",
       "      <td>84</td>\n",
       "      <td>23427</td>\n",
       "      <td>47</td>\n",
       "      <td>22</td>\n",
       "      <td>ultra</td>\n",
       "      <td>1000</td>\n",
       "      <td>30720</td>\n",
       "      <td>3000</td>\n",
       "      <td>1950</td>\n",
       "      <td>150</td>\n",
       "      <td>1</td>\n",
       "      <td>1</td>\n",
       "      <td>Иркутск</td>\n",
       "      <td>2018-08-28</td>\n",
       "      <td>2020-12-31</td>\n",
       "    </tr>\n",
       "    <tr>\n",
       "      <td>1496</td>\n",
       "      <td>518</td>\n",
       "      <td>80</td>\n",
       "      <td>51</td>\n",
       "      <td>20749</td>\n",
       "      <td>68</td>\n",
       "      <td>20</td>\n",
       "      <td>smart</td>\n",
       "      <td>50</td>\n",
       "      <td>15360</td>\n",
       "      <td>500</td>\n",
       "      <td>550</td>\n",
       "      <td>200</td>\n",
       "      <td>3</td>\n",
       "      <td>3</td>\n",
       "      <td>Вологда</td>\n",
       "      <td>2018-01-27</td>\n",
       "      <td>2020-12-31</td>\n",
       "    </tr>\n",
       "    <tr>\n",
       "      <td>1497</td>\n",
       "      <td>545</td>\n",
       "      <td>71</td>\n",
       "      <td>17</td>\n",
       "      <td>19924</td>\n",
       "      <td>47</td>\n",
       "      <td>19</td>\n",
       "      <td>smart</td>\n",
       "      <td>50</td>\n",
       "      <td>15360</td>\n",
       "      <td>500</td>\n",
       "      <td>550</td>\n",
       "      <td>200</td>\n",
       "      <td>3</td>\n",
       "      <td>3</td>\n",
       "      <td>Челябинск</td>\n",
       "      <td>2018-10-09</td>\n",
       "      <td>2020-12-31</td>\n",
       "    </tr>\n",
       "    <tr>\n",
       "      <td>1499</td>\n",
       "      <td>492</td>\n",
       "      <td>69</td>\n",
       "      <td>66</td>\n",
       "      <td>13060</td>\n",
       "      <td>45</td>\n",
       "      <td>12</td>\n",
       "      <td>smart</td>\n",
       "      <td>50</td>\n",
       "      <td>15360</td>\n",
       "      <td>500</td>\n",
       "      <td>550</td>\n",
       "      <td>200</td>\n",
       "      <td>3</td>\n",
       "      <td>3</td>\n",
       "      <td>Пермь</td>\n",
       "      <td>2018-09-27</td>\n",
       "      <td>2020-12-31</td>\n",
       "    </tr>\n",
       "  </tbody>\n",
       "</table>\n",
       "<p>3214 rows × 17 columns</p>\n",
       "</div>"
      ],
      "text/plain": [
       "               minutes_per_month  calls_per_month  messages_per_month  \\\n",
       "month user_id                                                           \n",
       "1     1005                    95               15                   7   \n",
       "      1032                   380               61                  38   \n",
       "      1045                     9                1                   5   \n",
       "      1055                   551               64                  30   \n",
       "      1071                   194               24                  16   \n",
       "...                          ...              ...                 ...   \n",
       "12    1494                   418               62                   0   \n",
       "      1495                  1031              155                  84   \n",
       "      1496                   518               80                  51   \n",
       "      1497                   545               71                  17   \n",
       "      1499                   492               69                  66   \n",
       "\n",
       "               mb_per_month  sessions_per_month  gb_per_month tariff  \\\n",
       "month user_id                                                          \n",
       "1     1005             2727                   6             2  smart   \n",
       "      1032            24138                  62            23  smart   \n",
       "      1045             2346                   5             2  smart   \n",
       "      1055            17094                  47            16  smart   \n",
       "      1071            15607                  40            15  smart   \n",
       "...                     ...                 ...           ...    ...   \n",
       "12    1494            17626                  49            17  smart   \n",
       "      1495            23427                  47            22  ultra   \n",
       "      1496            20749                  68            20  smart   \n",
       "      1497            19924                  47            19  smart   \n",
       "      1499            13060                  45            12  smart   \n",
       "\n",
       "               messages_included  mb_per_month_included  minutes_included  \\\n",
       "month user_id                                                               \n",
       "1     1005                    50                  15360               500   \n",
       "      1032                    50                  15360               500   \n",
       "      1045                    50                  15360               500   \n",
       "      1055                    50                  15360               500   \n",
       "      1071                    50                  15360               500   \n",
       "...                          ...                    ...               ...   \n",
       "12    1494                    50                  15360               500   \n",
       "      1495                  1000                  30720              3000   \n",
       "      1496                    50                  15360               500   \n",
       "      1497                    50                  15360               500   \n",
       "      1499                    50                  15360               500   \n",
       "\n",
       "               rub_monthly_fee  rub_per_gb  rub_per_message  rub_per_minute  \\\n",
       "month user_id                                                                 \n",
       "1     1005                 550         200                3               3   \n",
       "      1032                 550         200                3               3   \n",
       "      1045                 550         200                3               3   \n",
       "      1055                 550         200                3               3   \n",
       "      1071                 550         200                3               3   \n",
       "...                        ...         ...              ...             ...   \n",
       "12    1494                 550         200                3               3   \n",
       "      1495                1950         150                1               1   \n",
       "      1496                 550         200                3               3   \n",
       "      1497                 550         200                3               3   \n",
       "      1499                 550         200                3               3   \n",
       "\n",
       "                           city   reg_date churn_date  \n",
       "month user_id                                          \n",
       "1     1005     Набережные Челны 2018-01-25 2020-12-31  \n",
       "      1032            Ульяновск 2018-01-04 2020-12-31  \n",
       "      1045             Улан-Удэ 2018-01-30 2020-12-31  \n",
       "      1055               Казань 2018-01-02 2020-12-31  \n",
       "      1071                 Омск 2018-01-09 2018-08-31  \n",
       "...                         ...        ...        ...  \n",
       "12    1494                 Омск 2018-08-17 2020-12-31  \n",
       "      1495              Иркутск 2018-08-28 2020-12-31  \n",
       "      1496              Вологда 2018-01-27 2020-12-31  \n",
       "      1497            Челябинск 2018-10-09 2020-12-31  \n",
       "      1499                Пермь 2018-09-27 2020-12-31  \n",
       "\n",
       "[3214 rows x 17 columns]"
      ]
     },
     "execution_count": 42,
     "metadata": {},
     "output_type": "execute_result"
    }
   ],
   "source": [
    "all_calls_messages_internet"
   ]
  },
  {
   "cell_type": "markdown",
   "metadata": {
    "id": "v5IIE--a5QmE"
   },
   "source": [
    "Сдлаем еще одну функцию для вывода по показателей \"value\" (минуты, сообщения, трафик)\n",
    "логика простая: если клиент уложился в лимит по показателю, то ничего не платит сверху, ксли лимит исчерпан - то в соответсвии тарифу доплачивает"
   ]
  },
  {
   "cell_type": "code",
   "execution_count": 43,
   "metadata": {
    "id": "q7-A1M7P5QmE"
   },
   "outputs": [],
   "source": [
    "def testing_for_limits(value):\n",
    "    \n",
    "    if value == 'minutes':                                                  \n",
    "        all_calls_messages_internet['test_limit'] = (\n",
    "            all_calls_messages_internet['minutes_per_month'] - \n",
    "            all_calls_messages_internet['minutes_included']\n",
    "        )\n",
    "        \n",
    "\n",
    "        out_of_tariff = (all_calls_messages_internet['test_limit'] > 0)\n",
    "                   \n",
    "        all_calls_messages_internet.loc[out_of_tariff, 'amount_for_minutes'] = (\n",
    "            all_calls_messages_internet[out_of_tariff]['test_limit'] *\n",
    "            all_calls_messages_internet[out_of_tariff]['rub_per_minute']                \n",
    "            )\n",
    "        \n",
    "\n",
    "        in_tariff = (all_calls_messages_internet['test_limit'] <= 0)\n",
    "        \n",
    "        all_calls_messages_internet.loc[in_tariff, 'amount_for_minutes'] = 0\n",
    "    \n",
    "\n",
    "    if value == 'message':                                               \n",
    "        all_calls_messages_internet['test_limit'] = (\n",
    "            all_calls_messages_internet['messages_per_month'] - \n",
    "            all_calls_messages_internet['messages_included']\n",
    "        )\n",
    "        \n",
    "\n",
    "        out_of_tariff = (all_calls_messages_internet['test_limit'] > 0)\n",
    "                   \n",
    "        all_calls_messages_internet.loc[out_of_tariff, 'amount_for_messages'] = (\n",
    "            all_calls_messages_internet[out_of_tariff]['test_limit'] *\n",
    "            all_calls_messages_internet[out_of_tariff]['rub_per_message']                \n",
    "            )\n",
    "        \n",
    "\n",
    "        in_tariff = (all_calls_messages_internet['test_limit'] <= 0)\n",
    "        \n",
    "        all_calls_messages_internet.loc[in_tariff, 'amount_for_messages'] = 0\n",
    "    \n",
    "\n",
    "    if value == 'internet':                                              \n",
    "        all_calls_messages_internet['test_limit'] = (\n",
    "            all_calls_messages_internet['mb_per_month'] - \n",
    "            all_calls_messages_internet['mb_per_month_included']\n",
    "        )\n",
    "        \n",
    "\n",
    "        out_of_tariff = (all_calls_messages_internet['test_limit'] > 0)\n",
    "        all_calls_messages_internet['test_limit'] = np.ceil(all_calls_messages_internet['test_limit']).astype(int)           \n",
    "        all_calls_messages_internet.loc[out_of_tariff, 'amount_for_internet'] = (\n",
    "            (all_calls_messages_internet[out_of_tariff]['test_limit'] / 1024) *\n",
    "            all_calls_messages_internet[out_of_tariff]['rub_per_gb']                \n",
    "            )\n",
    "        \n",
    "        in_tariff = (all_calls_messages_internet['test_limit'] <= 0)\n",
    "        \n",
    "        all_calls_messages_internet.loc[in_tariff, 'amount_for_internet'] = 0\n",
    "        \n",
    "    del all_calls_messages_internet['test_limit']"
   ]
  },
  {
   "cell_type": "code",
   "execution_count": 44,
   "metadata": {
    "id": "ELHPLGwd5QmH"
   },
   "outputs": [],
   "source": [
    "values = ['minutes', 'message', 'internet']\n",
    "\n",
    "for name in values:\n",
    "    testing_for_limits(name)"
   ]
  },
  {
   "cell_type": "markdown",
   "metadata": {
    "id": "ivcRwVJ45QmH"
   },
   "source": [
    "Считаем месячную выручу по показателям для каждого клиента, складываем доходы + абонентскую плату:"
   ]
  },
  {
   "cell_type": "code",
   "execution_count": 45,
   "metadata": {
    "id": "mWGdMKfY5QmI"
   },
   "outputs": [],
   "source": [
    "all_calls_messages_internet['total_income'] = (\n",
    "    (all_calls_messages_internet['amount_for_minutes'] +\n",
    "     all_calls_messages_internet['amount_for_messages'] +\n",
    "     all_calls_messages_internet['amount_for_internet']) +\n",
    "    all_calls_messages_internet['rub_monthly_fee']\n",
    ").astype('int')"
   ]
  },
  {
   "cell_type": "code",
   "execution_count": 46,
   "metadata": {
    "id": "d8YwvpMk5QmI"
   },
   "outputs": [],
   "source": [
    "delete = ['messages_included', 'mb_per_month_included', \n",
    "                      'minutes_included', 'rub_monthly_fee', \n",
    "                      'rub_per_gb', 'rub_per_message', 'rub_per_minute',\n",
    "                 'amount_for_minutes', 'amount_for_messages', 'amount_for_internet']\n",
    "\n",
    "\n",
    "for name in delete:\n",
    "    del all_calls_messages_internet[name]"
   ]
  },
  {
   "cell_type": "code",
   "execution_count": 47,
   "metadata": {
    "colab": {
     "base_uri": "https://localhost:8080/",
     "height": 545
    },
    "id": "8FcFkN0x5QmK",
    "outputId": "29a86674-45b7-42e2-8374-d0f45087540a"
   },
   "outputs": [
    {
     "data": {
      "text/html": [
       "<div>\n",
       "<style scoped>\n",
       "    .dataframe tbody tr th:only-of-type {\n",
       "        vertical-align: middle;\n",
       "    }\n",
       "\n",
       "    .dataframe tbody tr th {\n",
       "        vertical-align: top;\n",
       "    }\n",
       "\n",
       "    .dataframe thead th {\n",
       "        text-align: right;\n",
       "    }\n",
       "</style>\n",
       "<table border=\"1\" class=\"dataframe\">\n",
       "  <thead>\n",
       "    <tr style=\"text-align: right;\">\n",
       "      <th></th>\n",
       "      <th></th>\n",
       "      <th>minutes_per_month</th>\n",
       "      <th>calls_per_month</th>\n",
       "      <th>messages_per_month</th>\n",
       "      <th>mb_per_month</th>\n",
       "      <th>sessions_per_month</th>\n",
       "      <th>gb_per_month</th>\n",
       "      <th>tariff</th>\n",
       "      <th>city</th>\n",
       "      <th>reg_date</th>\n",
       "      <th>churn_date</th>\n",
       "      <th>total_income</th>\n",
       "    </tr>\n",
       "    <tr>\n",
       "      <th>month</th>\n",
       "      <th>user_id</th>\n",
       "      <th></th>\n",
       "      <th></th>\n",
       "      <th></th>\n",
       "      <th></th>\n",
       "      <th></th>\n",
       "      <th></th>\n",
       "      <th></th>\n",
       "      <th></th>\n",
       "      <th></th>\n",
       "      <th></th>\n",
       "      <th></th>\n",
       "    </tr>\n",
       "  </thead>\n",
       "  <tbody>\n",
       "    <tr>\n",
       "      <td rowspan=\"15\" valign=\"top\">1</td>\n",
       "      <td>1005</td>\n",
       "      <td>95</td>\n",
       "      <td>15</td>\n",
       "      <td>7</td>\n",
       "      <td>2727</td>\n",
       "      <td>6</td>\n",
       "      <td>2</td>\n",
       "      <td>smart</td>\n",
       "      <td>Набережные Челны</td>\n",
       "      <td>2018-01-25</td>\n",
       "      <td>2020-12-31</td>\n",
       "      <td>550</td>\n",
       "    </tr>\n",
       "    <tr>\n",
       "      <td>1032</td>\n",
       "      <td>380</td>\n",
       "      <td>61</td>\n",
       "      <td>38</td>\n",
       "      <td>24138</td>\n",
       "      <td>62</td>\n",
       "      <td>23</td>\n",
       "      <td>smart</td>\n",
       "      <td>Ульяновск</td>\n",
       "      <td>2018-01-04</td>\n",
       "      <td>2020-12-31</td>\n",
       "      <td>2264</td>\n",
       "    </tr>\n",
       "    <tr>\n",
       "      <td>1045</td>\n",
       "      <td>9</td>\n",
       "      <td>1</td>\n",
       "      <td>5</td>\n",
       "      <td>2346</td>\n",
       "      <td>5</td>\n",
       "      <td>2</td>\n",
       "      <td>smart</td>\n",
       "      <td>Улан-Удэ</td>\n",
       "      <td>2018-01-30</td>\n",
       "      <td>2020-12-31</td>\n",
       "      <td>550</td>\n",
       "    </tr>\n",
       "    <tr>\n",
       "      <td>1055</td>\n",
       "      <td>551</td>\n",
       "      <td>64</td>\n",
       "      <td>30</td>\n",
       "      <td>17094</td>\n",
       "      <td>47</td>\n",
       "      <td>16</td>\n",
       "      <td>smart</td>\n",
       "      <td>Казань</td>\n",
       "      <td>2018-01-02</td>\n",
       "      <td>2020-12-31</td>\n",
       "      <td>1041</td>\n",
       "    </tr>\n",
       "    <tr>\n",
       "      <td>1071</td>\n",
       "      <td>194</td>\n",
       "      <td>24</td>\n",
       "      <td>16</td>\n",
       "      <td>15607</td>\n",
       "      <td>40</td>\n",
       "      <td>15</td>\n",
       "      <td>smart</td>\n",
       "      <td>Омск</td>\n",
       "      <td>2018-01-09</td>\n",
       "      <td>2018-08-31</td>\n",
       "      <td>598</td>\n",
       "    </tr>\n",
       "    <tr>\n",
       "      <td>1113</td>\n",
       "      <td>110</td>\n",
       "      <td>18</td>\n",
       "      <td>14</td>\n",
       "      <td>767</td>\n",
       "      <td>2</td>\n",
       "      <td>0</td>\n",
       "      <td>smart</td>\n",
       "      <td>Чита</td>\n",
       "      <td>2018-01-24</td>\n",
       "      <td>2020-12-31</td>\n",
       "      <td>550</td>\n",
       "    </tr>\n",
       "    <tr>\n",
       "      <td>1120</td>\n",
       "      <td>55</td>\n",
       "      <td>5</td>\n",
       "      <td>0</td>\n",
       "      <td>656</td>\n",
       "      <td>1</td>\n",
       "      <td>0</td>\n",
       "      <td>ultra</td>\n",
       "      <td>Краснодар</td>\n",
       "      <td>2018-01-24</td>\n",
       "      <td>2020-12-31</td>\n",
       "      <td>1950</td>\n",
       "    </tr>\n",
       "    <tr>\n",
       "      <td>1126</td>\n",
       "      <td>272</td>\n",
       "      <td>35</td>\n",
       "      <td>4</td>\n",
       "      <td>16364</td>\n",
       "      <td>30</td>\n",
       "      <td>15</td>\n",
       "      <td>ultra</td>\n",
       "      <td>Санкт-Петербург</td>\n",
       "      <td>2018-01-19</td>\n",
       "      <td>2020-12-31</td>\n",
       "      <td>1950</td>\n",
       "    </tr>\n",
       "    <tr>\n",
       "      <td>1134</td>\n",
       "      <td>332</td>\n",
       "      <td>42</td>\n",
       "      <td>32</td>\n",
       "      <td>10203</td>\n",
       "      <td>31</td>\n",
       "      <td>9</td>\n",
       "      <td>smart</td>\n",
       "      <td>Красноярск</td>\n",
       "      <td>2018-01-16</td>\n",
       "      <td>2020-12-31</td>\n",
       "      <td>550</td>\n",
       "    </tr>\n",
       "    <tr>\n",
       "      <td>1135</td>\n",
       "      <td>90</td>\n",
       "      <td>9</td>\n",
       "      <td>1</td>\n",
       "      <td>1601</td>\n",
       "      <td>4</td>\n",
       "      <td>1</td>\n",
       "      <td>smart</td>\n",
       "      <td>Архангельск</td>\n",
       "      <td>2018-01-29</td>\n",
       "      <td>2020-12-31</td>\n",
       "      <td>550</td>\n",
       "    </tr>\n",
       "    <tr>\n",
       "      <td>1155</td>\n",
       "      <td>337</td>\n",
       "      <td>44</td>\n",
       "      <td>48</td>\n",
       "      <td>20136</td>\n",
       "      <td>64</td>\n",
       "      <td>19</td>\n",
       "      <td>smart</td>\n",
       "      <td>Ставрополь</td>\n",
       "      <td>2018-01-02</td>\n",
       "      <td>2020-12-31</td>\n",
       "      <td>1482</td>\n",
       "    </tr>\n",
       "    <tr>\n",
       "      <td>1168</td>\n",
       "      <td>277</td>\n",
       "      <td>38</td>\n",
       "      <td>14</td>\n",
       "      <td>8156</td>\n",
       "      <td>20</td>\n",
       "      <td>7</td>\n",
       "      <td>ultra</td>\n",
       "      <td>Кострома</td>\n",
       "      <td>2018-01-24</td>\n",
       "      <td>2020-12-31</td>\n",
       "      <td>1950</td>\n",
       "    </tr>\n",
       "    <tr>\n",
       "      <td>1176</td>\n",
       "      <td>187</td>\n",
       "      <td>25</td>\n",
       "      <td>20</td>\n",
       "      <td>6856</td>\n",
       "      <td>20</td>\n",
       "      <td>6</td>\n",
       "      <td>smart</td>\n",
       "      <td>Волгоград</td>\n",
       "      <td>2018-01-20</td>\n",
       "      <td>2020-12-31</td>\n",
       "      <td>550</td>\n",
       "    </tr>\n",
       "    <tr>\n",
       "      <td>1189</td>\n",
       "      <td>51</td>\n",
       "      <td>7</td>\n",
       "      <td>1</td>\n",
       "      <td>540</td>\n",
       "      <td>3</td>\n",
       "      <td>0</td>\n",
       "      <td>smart</td>\n",
       "      <td>Санкт-Петербург</td>\n",
       "      <td>2018-01-30</td>\n",
       "      <td>2020-12-31</td>\n",
       "      <td>550</td>\n",
       "    </tr>\n",
       "    <tr>\n",
       "      <td>1193</td>\n",
       "      <td>388</td>\n",
       "      <td>53</td>\n",
       "      <td>24</td>\n",
       "      <td>7144</td>\n",
       "      <td>30</td>\n",
       "      <td>6</td>\n",
       "      <td>smart</td>\n",
       "      <td>Тамбов</td>\n",
       "      <td>2018-01-01</td>\n",
       "      <td>2020-12-31</td>\n",
       "      <td>550</td>\n",
       "    </tr>\n",
       "  </tbody>\n",
       "</table>\n",
       "</div>"
      ],
      "text/plain": [
       "               minutes_per_month  calls_per_month  messages_per_month  \\\n",
       "month user_id                                                           \n",
       "1     1005                    95               15                   7   \n",
       "      1032                   380               61                  38   \n",
       "      1045                     9                1                   5   \n",
       "      1055                   551               64                  30   \n",
       "      1071                   194               24                  16   \n",
       "      1113                   110               18                  14   \n",
       "      1120                    55                5                   0   \n",
       "      1126                   272               35                   4   \n",
       "      1134                   332               42                  32   \n",
       "      1135                    90                9                   1   \n",
       "      1155                   337               44                  48   \n",
       "      1168                   277               38                  14   \n",
       "      1176                   187               25                  20   \n",
       "      1189                    51                7                   1   \n",
       "      1193                   388               53                  24   \n",
       "\n",
       "               mb_per_month  sessions_per_month  gb_per_month tariff  \\\n",
       "month user_id                                                          \n",
       "1     1005             2727                   6             2  smart   \n",
       "      1032            24138                  62            23  smart   \n",
       "      1045             2346                   5             2  smart   \n",
       "      1055            17094                  47            16  smart   \n",
       "      1071            15607                  40            15  smart   \n",
       "      1113              767                   2             0  smart   \n",
       "      1120              656                   1             0  ultra   \n",
       "      1126            16364                  30            15  ultra   \n",
       "      1134            10203                  31             9  smart   \n",
       "      1135             1601                   4             1  smart   \n",
       "      1155            20136                  64            19  smart   \n",
       "      1168             8156                  20             7  ultra   \n",
       "      1176             6856                  20             6  smart   \n",
       "      1189              540                   3             0  smart   \n",
       "      1193             7144                  30             6  smart   \n",
       "\n",
       "                           city   reg_date churn_date  total_income  \n",
       "month user_id                                                        \n",
       "1     1005     Набережные Челны 2018-01-25 2020-12-31           550  \n",
       "      1032            Ульяновск 2018-01-04 2020-12-31          2264  \n",
       "      1045             Улан-Удэ 2018-01-30 2020-12-31           550  \n",
       "      1055               Казань 2018-01-02 2020-12-31          1041  \n",
       "      1071                 Омск 2018-01-09 2018-08-31           598  \n",
       "      1113                 Чита 2018-01-24 2020-12-31           550  \n",
       "      1120            Краснодар 2018-01-24 2020-12-31          1950  \n",
       "      1126      Санкт-Петербург 2018-01-19 2020-12-31          1950  \n",
       "      1134           Красноярск 2018-01-16 2020-12-31           550  \n",
       "      1135          Архангельск 2018-01-29 2020-12-31           550  \n",
       "      1155           Ставрополь 2018-01-02 2020-12-31          1482  \n",
       "      1168             Кострома 2018-01-24 2020-12-31          1950  \n",
       "      1176            Волгоград 2018-01-20 2020-12-31           550  \n",
       "      1189      Санкт-Петербург 2018-01-30 2020-12-31           550  \n",
       "      1193               Тамбов 2018-01-01 2020-12-31           550  "
      ]
     },
     "execution_count": 47,
     "metadata": {},
     "output_type": "execute_result"
    }
   ],
   "source": [
    "all_calls_messages_internet.head(15)"
   ]
  },
  {
   "cell_type": "markdown",
   "metadata": {
    "id": "NCv5rP7V5QmL"
   },
   "source": [
    "#### Вывод"
   ]
  },
  {
   "cell_type": "markdown",
   "metadata": {
    "id": "dDyoRK4s5QmM"
   },
   "source": [
    "Создали сводную таблицу, которую сгруппировали по месяцам с основными показателями. Высчитали прибыль на каждого пользователя.\n",
    "\n",
    "Нашли помесячную выручку для каждого пользователя, основываясь на полученных данных."
   ]
  },
  {
   "cell_type": "markdown",
   "metadata": {
    "id": "c9LRp9_95QmO"
   },
   "source": [
    "## 3. Анализ данных"
   ]
  },
  {
   "cell_type": "markdown",
   "metadata": {
    "id": "770iqCXQ5QmS"
   },
   "source": [
    "### Описание поведения клиентов оператора: количество минут разговора, сообщений, объём интернет-трафика пользователей каждого тарифа в месяц"
   ]
  },
  {
   "cell_type": "markdown",
   "metadata": {
    "id": "5K2XlZlF5QmS"
   },
   "source": [
    "Рассмотрим средние значения в месяц для всех записей"
   ]
  },
  {
   "cell_type": "markdown",
   "metadata": {
    "id": "u2Cd9j5I5QmT"
   },
   "source": [
    "Сортировка по месяцам нам сейчас не будет нужна, так как если в текущем варианте считать средние значения по месяцам - получится некорректно, скорее всего не все пользователи в Мегалайне полный год."
   ]
  },
  {
   "cell_type": "code",
   "execution_count": 48,
   "metadata": {
    "id": "TfMogmsw5QmU"
   },
   "outputs": [],
   "source": [
    "#temp = all_calls_messages_internet.reset_index(level=0, drop=True)"
   ]
  },
  {
   "cell_type": "code",
   "execution_count": 49,
   "metadata": {
    "colab": {
     "base_uri": "https://localhost:8080/",
     "height": 235
    },
    "id": "BIknVlPP5QmV",
    "outputId": "2792a29a-2b54-4bd9-f803-c9406e3982b1"
   },
   "outputs": [
    {
     "data": {
      "text/html": [
       "<div>\n",
       "<style scoped>\n",
       "    .dataframe tbody tr th:only-of-type {\n",
       "        vertical-align: middle;\n",
       "    }\n",
       "\n",
       "    .dataframe tbody tr th {\n",
       "        vertical-align: top;\n",
       "    }\n",
       "\n",
       "    .dataframe thead th {\n",
       "        text-align: right;\n",
       "    }\n",
       "</style>\n",
       "<table border=\"1\" class=\"dataframe\">\n",
       "  <thead>\n",
       "    <tr style=\"text-align: right;\">\n",
       "      <th></th>\n",
       "      <th></th>\n",
       "      <th>minutes_per_month</th>\n",
       "      <th>calls_per_month</th>\n",
       "      <th>messages_per_month</th>\n",
       "      <th>mb_per_month</th>\n",
       "      <th>sessions_per_month</th>\n",
       "      <th>gb_per_month</th>\n",
       "      <th>tariff</th>\n",
       "      <th>city</th>\n",
       "      <th>reg_date</th>\n",
       "      <th>churn_date</th>\n",
       "      <th>total_income</th>\n",
       "    </tr>\n",
       "    <tr>\n",
       "      <th>month</th>\n",
       "      <th>user_id</th>\n",
       "      <th></th>\n",
       "      <th></th>\n",
       "      <th></th>\n",
       "      <th></th>\n",
       "      <th></th>\n",
       "      <th></th>\n",
       "      <th></th>\n",
       "      <th></th>\n",
       "      <th></th>\n",
       "      <th></th>\n",
       "      <th></th>\n",
       "    </tr>\n",
       "  </thead>\n",
       "  <tbody>\n",
       "    <tr>\n",
       "      <td rowspan=\"5\" valign=\"top\">1</td>\n",
       "      <td>1005</td>\n",
       "      <td>95</td>\n",
       "      <td>15</td>\n",
       "      <td>7</td>\n",
       "      <td>2727</td>\n",
       "      <td>6</td>\n",
       "      <td>2</td>\n",
       "      <td>smart</td>\n",
       "      <td>Набережные Челны</td>\n",
       "      <td>2018-01-25</td>\n",
       "      <td>2020-12-31</td>\n",
       "      <td>550</td>\n",
       "    </tr>\n",
       "    <tr>\n",
       "      <td>1032</td>\n",
       "      <td>380</td>\n",
       "      <td>61</td>\n",
       "      <td>38</td>\n",
       "      <td>24138</td>\n",
       "      <td>62</td>\n",
       "      <td>23</td>\n",
       "      <td>smart</td>\n",
       "      <td>Ульяновск</td>\n",
       "      <td>2018-01-04</td>\n",
       "      <td>2020-12-31</td>\n",
       "      <td>2264</td>\n",
       "    </tr>\n",
       "    <tr>\n",
       "      <td>1045</td>\n",
       "      <td>9</td>\n",
       "      <td>1</td>\n",
       "      <td>5</td>\n",
       "      <td>2346</td>\n",
       "      <td>5</td>\n",
       "      <td>2</td>\n",
       "      <td>smart</td>\n",
       "      <td>Улан-Удэ</td>\n",
       "      <td>2018-01-30</td>\n",
       "      <td>2020-12-31</td>\n",
       "      <td>550</td>\n",
       "    </tr>\n",
       "    <tr>\n",
       "      <td>1055</td>\n",
       "      <td>551</td>\n",
       "      <td>64</td>\n",
       "      <td>30</td>\n",
       "      <td>17094</td>\n",
       "      <td>47</td>\n",
       "      <td>16</td>\n",
       "      <td>smart</td>\n",
       "      <td>Казань</td>\n",
       "      <td>2018-01-02</td>\n",
       "      <td>2020-12-31</td>\n",
       "      <td>1041</td>\n",
       "    </tr>\n",
       "    <tr>\n",
       "      <td>1071</td>\n",
       "      <td>194</td>\n",
       "      <td>24</td>\n",
       "      <td>16</td>\n",
       "      <td>15607</td>\n",
       "      <td>40</td>\n",
       "      <td>15</td>\n",
       "      <td>smart</td>\n",
       "      <td>Омск</td>\n",
       "      <td>2018-01-09</td>\n",
       "      <td>2018-08-31</td>\n",
       "      <td>598</td>\n",
       "    </tr>\n",
       "  </tbody>\n",
       "</table>\n",
       "</div>"
      ],
      "text/plain": [
       "               minutes_per_month  calls_per_month  messages_per_month  \\\n",
       "month user_id                                                           \n",
       "1     1005                    95               15                   7   \n",
       "      1032                   380               61                  38   \n",
       "      1045                     9                1                   5   \n",
       "      1055                   551               64                  30   \n",
       "      1071                   194               24                  16   \n",
       "\n",
       "               mb_per_month  sessions_per_month  gb_per_month tariff  \\\n",
       "month user_id                                                          \n",
       "1     1005             2727                   6             2  smart   \n",
       "      1032            24138                  62            23  smart   \n",
       "      1045             2346                   5             2  smart   \n",
       "      1055            17094                  47            16  smart   \n",
       "      1071            15607                  40            15  smart   \n",
       "\n",
       "                           city   reg_date churn_date  total_income  \n",
       "month user_id                                                        \n",
       "1     1005     Набережные Челны 2018-01-25 2020-12-31           550  \n",
       "      1032            Ульяновск 2018-01-04 2020-12-31          2264  \n",
       "      1045             Улан-Удэ 2018-01-30 2020-12-31           550  \n",
       "      1055               Казань 2018-01-02 2020-12-31          1041  \n",
       "      1071                 Омск 2018-01-09 2018-08-31           598  "
      ]
     },
     "execution_count": 49,
     "metadata": {},
     "output_type": "execute_result"
    }
   ],
   "source": [
    "all_calls_messages_internet.head()"
   ]
  },
  {
   "cell_type": "markdown",
   "metadata": {
    "id": "HwUHeFCD5Qme"
   },
   "source": [
    "Среднее количество для каждого пользователя в месяц за год: узнаем сколько месяцев в мегалайне (megaline_month), и потом посчитаем по простой форумуле - показатель поделить на месяцы, округлим это."
   ]
  },
  {
   "cell_type": "code",
   "execution_count": 52,
   "metadata": {
    "colab": {
     "base_uri": "https://localhost:8080/",
     "height": 545
    },
    "id": "IYkKDzY65Qme",
    "outputId": "8bdc5346-491f-4d39-edf9-c99e23292b87"
   },
   "outputs": [
    {
     "data": {
      "text/html": [
       "<div>\n",
       "<style scoped>\n",
       "    .dataframe tbody tr th:only-of-type {\n",
       "        vertical-align: middle;\n",
       "    }\n",
       "\n",
       "    .dataframe tbody tr th {\n",
       "        vertical-align: top;\n",
       "    }\n",
       "\n",
       "    .dataframe thead th {\n",
       "        text-align: right;\n",
       "    }\n",
       "</style>\n",
       "<table border=\"1\" class=\"dataframe\">\n",
       "  <thead>\n",
       "    <tr style=\"text-align: right;\">\n",
       "      <th></th>\n",
       "      <th>minutes_total</th>\n",
       "      <th>messages_total</th>\n",
       "      <th>mb_total</th>\n",
       "      <th>tariff</th>\n",
       "      <th>reg_date</th>\n",
       "      <th>churn_date</th>\n",
       "      <th>total_income</th>\n",
       "      <th>city</th>\n",
       "      <th>megaline_month</th>\n",
       "      <th>minutes_per_month</th>\n",
       "      <th>messages_per_month</th>\n",
       "      <th>mb_per_month</th>\n",
       "    </tr>\n",
       "    <tr>\n",
       "      <th>user_id</th>\n",
       "      <th></th>\n",
       "      <th></th>\n",
       "      <th></th>\n",
       "      <th></th>\n",
       "      <th></th>\n",
       "      <th></th>\n",
       "      <th></th>\n",
       "      <th></th>\n",
       "      <th></th>\n",
       "      <th></th>\n",
       "      <th></th>\n",
       "      <th></th>\n",
       "    </tr>\n",
       "  </thead>\n",
       "  <tbody>\n",
       "    <tr>\n",
       "      <td>1000</td>\n",
       "      <td>2566</td>\n",
       "      <td>496</td>\n",
       "      <td>107401</td>\n",
       "      <td>ultra</td>\n",
       "      <td>2018-05-25</td>\n",
       "      <td>2020-12-31</td>\n",
       "      <td>1950</td>\n",
       "      <td>Краснодар</td>\n",
       "      <td>8</td>\n",
       "      <td>320.750</td>\n",
       "      <td>62.000</td>\n",
       "      <td>13,425.120</td>\n",
       "    </tr>\n",
       "    <tr>\n",
       "      <td>1001</td>\n",
       "      <td>844</td>\n",
       "      <td>0</td>\n",
       "      <td>32479</td>\n",
       "      <td>smart</td>\n",
       "      <td>2018-11-01</td>\n",
       "      <td>2020-12-31</td>\n",
       "      <td>1150</td>\n",
       "      <td>Москва</td>\n",
       "      <td>2</td>\n",
       "      <td>422.000</td>\n",
       "      <td>0.000</td>\n",
       "      <td>16,239.500</td>\n",
       "    </tr>\n",
       "    <tr>\n",
       "      <td>1002</td>\n",
       "      <td>1517</td>\n",
       "      <td>70</td>\n",
       "      <td>116106</td>\n",
       "      <td>smart</td>\n",
       "      <td>2018-06-17</td>\n",
       "      <td>2020-12-31</td>\n",
       "      <td>550</td>\n",
       "      <td>Стерлитамак</td>\n",
       "      <td>7</td>\n",
       "      <td>216.710</td>\n",
       "      <td>10.000</td>\n",
       "      <td>16,586.570</td>\n",
       "    </tr>\n",
       "    <tr>\n",
       "      <td>1003</td>\n",
       "      <td>3822</td>\n",
       "      <td>380</td>\n",
       "      <td>57280</td>\n",
       "      <td>ultra</td>\n",
       "      <td>2018-08-17</td>\n",
       "      <td>2020-12-31</td>\n",
       "      <td>1950</td>\n",
       "      <td>Москва</td>\n",
       "      <td>5</td>\n",
       "      <td>764.400</td>\n",
       "      <td>76.000</td>\n",
       "      <td>11,456.000</td>\n",
       "    </tr>\n",
       "    <tr>\n",
       "      <td>1004</td>\n",
       "      <td>987</td>\n",
       "      <td>1192</td>\n",
       "      <td>149059</td>\n",
       "      <td>ultra</td>\n",
       "      <td>2018-05-14</td>\n",
       "      <td>2020-12-31</td>\n",
       "      <td>1950</td>\n",
       "      <td>Новокузнецк</td>\n",
       "      <td>8</td>\n",
       "      <td>123.380</td>\n",
       "      <td>149.000</td>\n",
       "      <td>18,632.380</td>\n",
       "    </tr>\n",
       "    <tr>\n",
       "      <td>1005</td>\n",
       "      <td>6605</td>\n",
       "      <td>552</td>\n",
       "      <td>99718</td>\n",
       "      <td>smart</td>\n",
       "      <td>2018-01-25</td>\n",
       "      <td>2020-12-31</td>\n",
       "      <td>550</td>\n",
       "      <td>Набережные Челны</td>\n",
       "      <td>12</td>\n",
       "      <td>550.420</td>\n",
       "      <td>46.000</td>\n",
       "      <td>8,309.830</td>\n",
       "    </tr>\n",
       "    <tr>\n",
       "      <td>1006</td>\n",
       "      <td>3501</td>\n",
       "      <td>0</td>\n",
       "      <td>164283</td>\n",
       "      <td>smart</td>\n",
       "      <td>2018-02-26</td>\n",
       "      <td>2020-12-31</td>\n",
       "      <td>550</td>\n",
       "      <td>Ульяновск</td>\n",
       "      <td>11</td>\n",
       "      <td>318.270</td>\n",
       "      <td>0.000</td>\n",
       "      <td>14,934.820</td>\n",
       "    </tr>\n",
       "    <tr>\n",
       "      <td>1007</td>\n",
       "      <td>4379</td>\n",
       "      <td>225</td>\n",
       "      <td>131706</td>\n",
       "      <td>smart</td>\n",
       "      <td>2018-04-19</td>\n",
       "      <td>2020-12-31</td>\n",
       "      <td>550</td>\n",
       "      <td>Москва</td>\n",
       "      <td>9</td>\n",
       "      <td>486.560</td>\n",
       "      <td>25.000</td>\n",
       "      <td>14,634.000</td>\n",
       "    </tr>\n",
       "    <tr>\n",
       "      <td>1008</td>\n",
       "      <td>339</td>\n",
       "      <td>56</td>\n",
       "      <td>13224</td>\n",
       "      <td>smart</td>\n",
       "      <td>2018-12-19</td>\n",
       "      <td>2020-12-31</td>\n",
       "      <td>568</td>\n",
       "      <td>Челябинск</td>\n",
       "      <td>1</td>\n",
       "      <td>339.000</td>\n",
       "      <td>56.000</td>\n",
       "      <td>13,224.000</td>\n",
       "    </tr>\n",
       "    <tr>\n",
       "      <td>1009</td>\n",
       "      <td>2189</td>\n",
       "      <td>110</td>\n",
       "      <td>177476</td>\n",
       "      <td>smart</td>\n",
       "      <td>2018-03-22</td>\n",
       "      <td>2020-12-31</td>\n",
       "      <td>550</td>\n",
       "      <td>Пермь</td>\n",
       "      <td>10</td>\n",
       "      <td>218.900</td>\n",
       "      <td>11.000</td>\n",
       "      <td>17,747.600</td>\n",
       "    </tr>\n",
       "    <tr>\n",
       "      <td>1010</td>\n",
       "      <td>1155</td>\n",
       "      <td>0</td>\n",
       "      <td>83724</td>\n",
       "      <td>smart</td>\n",
       "      <td>2018-08-05</td>\n",
       "      <td>2020-12-31</td>\n",
       "      <td>550</td>\n",
       "      <td>Тюмень</td>\n",
       "      <td>5</td>\n",
       "      <td>231.000</td>\n",
       "      <td>0.000</td>\n",
       "      <td>16,744.800</td>\n",
       "    </tr>\n",
       "    <tr>\n",
       "      <td>1011</td>\n",
       "      <td>4328</td>\n",
       "      <td>110</td>\n",
       "      <td>188206</td>\n",
       "      <td>smart</td>\n",
       "      <td>2018-03-19</td>\n",
       "      <td>2020-12-31</td>\n",
       "      <td>550</td>\n",
       "      <td>Самара</td>\n",
       "      <td>10</td>\n",
       "      <td>432.800</td>\n",
       "      <td>11.000</td>\n",
       "      <td>18,820.600</td>\n",
       "    </tr>\n",
       "    <tr>\n",
       "      <td>1012</td>\n",
       "      <td>2516</td>\n",
       "      <td>150</td>\n",
       "      <td>200385</td>\n",
       "      <td>smart</td>\n",
       "      <td>2018-03-28</td>\n",
       "      <td>2020-12-31</td>\n",
       "      <td>550</td>\n",
       "      <td>Санкт-Петербург</td>\n",
       "      <td>10</td>\n",
       "      <td>251.600</td>\n",
       "      <td>15.000</td>\n",
       "      <td>20,038.500</td>\n",
       "    </tr>\n",
       "    <tr>\n",
       "      <td>1013</td>\n",
       "      <td>936</td>\n",
       "      <td>42</td>\n",
       "      <td>30523</td>\n",
       "      <td>ultra</td>\n",
       "      <td>2018-11-14</td>\n",
       "      <td>2020-12-31</td>\n",
       "      <td>1950</td>\n",
       "      <td>Иваново</td>\n",
       "      <td>2</td>\n",
       "      <td>468.000</td>\n",
       "      <td>21.000</td>\n",
       "      <td>15,261.500</td>\n",
       "    </tr>\n",
       "    <tr>\n",
       "      <td>1014</td>\n",
       "      <td>1817</td>\n",
       "      <td>352</td>\n",
       "      <td>190845</td>\n",
       "      <td>smart</td>\n",
       "      <td>2018-05-15</td>\n",
       "      <td>2020-12-31</td>\n",
       "      <td>550</td>\n",
       "      <td>Чебоксары</td>\n",
       "      <td>8</td>\n",
       "      <td>227.120</td>\n",
       "      <td>44.000</td>\n",
       "      <td>23,855.620</td>\n",
       "    </tr>\n",
       "  </tbody>\n",
       "</table>\n",
       "</div>"
      ],
      "text/plain": [
       "         minutes_total  messages_total  mb_total tariff   reg_date churn_date  \\\n",
       "user_id                                                                         \n",
       "1000              2566             496    107401  ultra 2018-05-25 2020-12-31   \n",
       "1001               844               0     32479  smart 2018-11-01 2020-12-31   \n",
       "1002              1517              70    116106  smart 2018-06-17 2020-12-31   \n",
       "1003              3822             380     57280  ultra 2018-08-17 2020-12-31   \n",
       "1004               987            1192    149059  ultra 2018-05-14 2020-12-31   \n",
       "1005              6605             552     99718  smart 2018-01-25 2020-12-31   \n",
       "1006              3501               0    164283  smart 2018-02-26 2020-12-31   \n",
       "1007              4379             225    131706  smart 2018-04-19 2020-12-31   \n",
       "1008               339              56     13224  smart 2018-12-19 2020-12-31   \n",
       "1009              2189             110    177476  smart 2018-03-22 2020-12-31   \n",
       "1010              1155               0     83724  smart 2018-08-05 2020-12-31   \n",
       "1011              4328             110    188206  smart 2018-03-19 2020-12-31   \n",
       "1012              2516             150    200385  smart 2018-03-28 2020-12-31   \n",
       "1013               936              42     30523  ultra 2018-11-14 2020-12-31   \n",
       "1014              1817             352    190845  smart 2018-05-15 2020-12-31   \n",
       "\n",
       "         total_income              city  megaline_month  minutes_per_month  \\\n",
       "user_id                                                                      \n",
       "1000             1950         Краснодар               8            320.750   \n",
       "1001             1150            Москва               2            422.000   \n",
       "1002              550       Стерлитамак               7            216.710   \n",
       "1003             1950            Москва               5            764.400   \n",
       "1004             1950       Новокузнецк               8            123.380   \n",
       "1005              550  Набережные Челны              12            550.420   \n",
       "1006              550         Ульяновск              11            318.270   \n",
       "1007              550            Москва               9            486.560   \n",
       "1008              568         Челябинск               1            339.000   \n",
       "1009              550             Пермь              10            218.900   \n",
       "1010              550            Тюмень               5            231.000   \n",
       "1011              550            Самара              10            432.800   \n",
       "1012              550   Санкт-Петербург              10            251.600   \n",
       "1013             1950           Иваново               2            468.000   \n",
       "1014              550         Чебоксары               8            227.120   \n",
       "\n",
       "         messages_per_month  mb_per_month  \n",
       "user_id                                    \n",
       "1000                 62.000    13,425.120  \n",
       "1001                  0.000    16,239.500  \n",
       "1002                 10.000    16,586.570  \n",
       "1003                 76.000    11,456.000  \n",
       "1004                149.000    18,632.380  \n",
       "1005                 46.000     8,309.830  \n",
       "1006                  0.000    14,934.820  \n",
       "1007                 25.000    14,634.000  \n",
       "1008                 56.000    13,224.000  \n",
       "1009                 11.000    17,747.600  \n",
       "1010                  0.000    16,744.800  \n",
       "1011                 11.000    18,820.600  \n",
       "1012                 15.000    20,038.500  \n",
       "1013                 21.000    15,261.500  \n",
       "1014                 44.000    23,855.620  "
      ]
     },
     "execution_count": 52,
     "metadata": {},
     "output_type": "execute_result"
    }
   ],
   "source": [
    "statistics_per_user['megaline_month'] = (statistics_per_user['churn_date'].dt.month\n",
    "                                           - statistics_per_user['reg_date'].dt.month) + 1\n",
    "\n",
    "\n",
    "statistics_per_user['minutes_per_month'] = (\n",
    "    statistics_per_user['minutes_total'] / \n",
    "    statistics_per_user['megaline_month']\n",
    ").round(2)\n",
    "\n",
    "statistics_per_user['messages_per_month'] = (\n",
    "    statistics_per_user['messages_total'] / \n",
    "    statistics_per_user['megaline_month']\n",
    ").round(2)\n",
    "\n",
    "statistics_per_user['mb_per_month'] = (\n",
    "    statistics_per_user['mb_total'] / \n",
    "    statistics_per_user['megaline_month']\n",
    ").round(2)\n",
    "\n",
    "\n",
    "statistics_per_user.head(15)"
   ]
  },
  {
   "cell_type": "markdown",
   "metadata": {
    "id": "OxgbuTAG5Qmf"
   },
   "source": [
    "Напишем функцию, которая будет нам рисовать гистограммы, да бы не вручную все писать)"
   ]
  },
  {
   "cell_type": "code",
   "execution_count": 53,
   "metadata": {
    "id": "l6Ape1es5Qmf"
   },
   "outputs": [],
   "source": [
    "def histing(data, column, title):\n",
    "    data[column].plot(kind='hist',\n",
    "                      title=title,\n",
    "                      grid=True,\n",
    "                      legend=True,\n",
    "                      alpha=.85)\n"
   ]
  },
  {
   "cell_type": "code",
   "execution_count": 54,
   "metadata": {
    "id": "59R2Zroj5Qmf"
   },
   "outputs": [],
   "source": [
    "values_list = ['minutes_per_month', 'messages_per_month', 'mb_per_month']"
   ]
  },
  {
   "cell_type": "markdown",
   "metadata": {
    "id": "TPStlvLx5Qmg"
   },
   "source": [
    "Гистограммы для 2х тарифов, по заданным значениям (values_list)"
   ]
  },
  {
   "cell_type": "code",
   "execution_count": 55,
   "metadata": {
    "colab": {
     "base_uri": "https://localhost:8080/",
     "height": 1000
    },
    "id": "L3cTsq6z5Qmg",
    "outputId": "c93964c6-a721-483f-8d4c-84a8175d439b"
   },
   "outputs": [
    {
     "data": {
      "image/png": "[encoded data removed]",
      "text/plain": [
       "<Figure size 432x288 with 1 Axes>"
      ]
     },
     "metadata": {},
     "output_type": "display_data"
    },
    {
     "data": {
      "image/png": "[encoded data removed]",
      "text/plain": [
       "<Figure size 432x288 with 1 Axes>"
      ]
     },
     "metadata": {},
     "output_type": "display_data"
    },
    {
     "data": {
      "image/png": "[encoded data removed]",
      "text/plain": [
       "<Figure size 432x288 with 1 Axes>"
      ]
     },
     "metadata": {},
     "output_type": "display_data"
    },
    {
     "data": {
      "image/png": "[encoded data removed]",
      "text/plain": [
       "<Figure size 432x288 with 1 Axes>"
      ]
     },
     "metadata": {},
     "output_type": "display_data"
    },
    {
     "data": {
      "image/png": "[encoded data removed]",
      "text/plain": [
       "<Figure size 432x288 with 1 Axes>"
      ]
     },
     "metadata": {},
     "output_type": "display_data"
    },
    {
     "data": {
      "image/png": "[encoded data removed]",
      "text/plain": [
       "<Figure size 432x288 with 1 Axes>"
      ]
     },
     "metadata": {},
     "output_type": "display_data"
    }
   ],
   "source": [
    "for name in values_list:\n",
    "    histing(all_calls_messages_internet.query('tariff == \"smart\"'), name, 'Для Тарифа Smart')\n",
    "    plt.show()\n",
    "    histing(all_calls_messages_internet.query('tariff == \"ultra\"'), name, 'Для Тарифа ultra')\n",
    "    plt.show()"
   ]
  },
  {
   "cell_type": "markdown",
   "metadata": {
    "id": "7VojYHA45Qmh"
   },
   "source": [
    "Клиенты с тарифом \"Смарт\" им всего не хватает, чаще всего превыщают лимит интернет трафика, но и по минутам звонков и сообщениям не все впорядке.  \n",
    "Клиенты с тарифом Ультра: Им явно хватает минут и сообщений, но есть так же проблема с интернет трафиком."
   ]
  },
  {
   "cell_type": "markdown",
   "metadata": {
    "id": "JhZz8Y0T5Qmi"
   },
   "source": [
    "Для более полной картины нам не хватает диаграм размаха, так же напишем функцию для ее отрисовки:\n",
    "укажем датафрейм (data) и параметр для среза(request)"
   ]
  },
  {
   "cell_type": "code",
   "execution_count": 56,
   "metadata": {
    "id": "FjuKrdsb5Qmi"
   },
   "outputs": [],
   "source": [
    "def boxploting(data, request):\n",
    "    \n",
    "    tariff = ['smart', 'ultra']\n",
    "    \n",
    "    for name in values_list:\n",
    "        \n",
    "        for item in tariff:\n",
    "            plt.figure(figsize=(15, 2))\n",
    "            if name == 'minutes_per_month':\n",
    "                title = ('Минуты')\n",
    "            elif name == 'messages_per_month':\n",
    "                title = ('Сообщения')\n",
    "            else:\n",
    "                title = ('Мегабайты')\n",
    "            print('Тариф', item, ':', title)\n",
    "            \n",
    "            if request == 'query':\n",
    "                sns.boxplot(\n",
    "                    data=data.query('tariff == @item'), x=name, \n",
    "                    orient=\"h\", width=0.3)\n",
    "            else:\n",
    "                sns.boxplot(data=data.loc[[item]][name], width=0.3, orient=\"h\")\n",
    "                \n",
    "            plt.show()"
   ]
  },
  {
   "cell_type": "markdown",
   "metadata": {
    "id": "Uy8uq95i5Qmi"
   },
   "source": [
    "Строим диаграмму размаха"
   ]
  },
  {
   "cell_type": "code",
   "execution_count": 57,
   "metadata": {
    "colab": {
     "base_uri": "https://localhost:8080/",
     "height": 1000
    },
    "id": "JIkfpCeX5Qmj",
    "outputId": "f193cf50-a77f-4428-c173-822aecf0e3d3"
   },
   "outputs": [
    {
     "name": "stdout",
     "output_type": "stream",
     "text": [
      "Тариф smart : Минуты\n"
     ]
    },
    {
     "data": {
      "image/png": "[encoded data removed]",
      "text/plain": [
       "<Figure size 1080x144 with 1 Axes>"
      ]
     },
     "metadata": {},
     "output_type": "display_data"
    },
    {
     "name": "stdout",
     "output_type": "stream",
     "text": [
      "Тариф ultra : Минуты\n"
     ]
    },
    {
     "data": {
      "image/png": "[encoded data removed]",
      "text/plain": [
       "<Figure size 1080x144 with 1 Axes>"
      ]
     },
     "metadata": {},
     "output_type": "display_data"
    },
    {
     "name": "stdout",
     "output_type": "stream",
     "text": [
      "Тариф smart : Сообщения\n"
     ]
    },
    {
     "data": {
      "image/png": "[encoded data removed]",
      "text/plain": [
       "<Figure size 1080x144 with 1 Axes>"
      ]
     },
     "metadata": {},
     "output_type": "display_data"
    },
    {
     "name": "stdout",
     "output_type": "stream",
     "text": [
      "Тариф ultra : Сообщения\n"
     ]
    },
    {
     "data": {
      "image/png": "[encoded data removed]",
      "text/plain": [
       "<Figure size 1080x144 with 1 Axes>"
      ]
     },
     "metadata": {},
     "output_type": "display_data"
    },
    {
     "name": "stdout",
     "output_type": "stream",
     "text": [
      "Тариф smart : Мегабайты\n"
     ]
    },
    {
     "data": {
      "image/png": "[encoded data removed]",
      "text/plain": [
       "<Figure size 1080x144 with 1 Axes>"
      ]
     },
     "metadata": {},
     "output_type": "display_data"
    },
    {
     "name": "stdout",
     "output_type": "stream",
     "text": [
      "Тариф ultra : Мегабайты\n"
     ]
    },
    {
     "data": {
      "image/png": "[encoded data removed]",
      "text/plain": [
       "<Figure size 1080x144 with 1 Axes>"
      ]
     },
     "metadata": {},
     "output_type": "display_data"
    }
   ],
   "source": [
    "boxploting(statistics_per_user, 'query')"
   ]
  },
  {
   "cell_type": "markdown",
   "metadata": {
    "id": "B60SRzJM5Qmj"
   },
   "source": [
    "Датасеты симметричны, распределения нормальные"
   ]
  },
  {
   "cell_type": "markdown",
   "metadata": {
    "id": "LdE4xHLy5Qmk"
   },
   "source": [
    "#### Дисперсия"
   ]
  },
  {
   "cell_type": "markdown",
   "metadata": {
    "id": "YSmtyYvz5Qmm"
   },
   "source": [
    "Найдем дисперсию"
   ]
  },
  {
   "cell_type": "code",
   "execution_count": 58,
   "metadata": {
    "colab": {
     "base_uri": "https://localhost:8080/",
     "height": 142
    },
    "id": "ZVj8nOwc5Qmm",
    "outputId": "0f7de8d6-93bb-4fa6-d6c4-bde049758448"
   },
   "outputs": [
    {
     "data": {
      "text/html": [
       "<div>\n",
       "<style scoped>\n",
       "    .dataframe tbody tr th:only-of-type {\n",
       "        vertical-align: middle;\n",
       "    }\n",
       "\n",
       "    .dataframe tbody tr th {\n",
       "        vertical-align: top;\n",
       "    }\n",
       "\n",
       "    .dataframe thead th {\n",
       "        text-align: right;\n",
       "    }\n",
       "</style>\n",
       "<table border=\"1\" class=\"dataframe\">\n",
       "  <thead>\n",
       "    <tr style=\"text-align: right;\">\n",
       "      <th></th>\n",
       "      <th>minutes_var</th>\n",
       "      <th>messages_var</th>\n",
       "      <th>mb_var</th>\n",
       "    </tr>\n",
       "    <tr>\n",
       "      <th>tariff</th>\n",
       "      <th></th>\n",
       "      <th></th>\n",
       "      <th></th>\n",
       "    </tr>\n",
       "  </thead>\n",
       "  <tbody>\n",
       "    <tr>\n",
       "      <td>smart</td>\n",
       "      <td>36,219.316</td>\n",
       "      <td>796.813</td>\n",
       "      <td>34,488,584.029</td>\n",
       "    </tr>\n",
       "    <tr>\n",
       "      <td>ultra</td>\n",
       "      <td>100,873.633</td>\n",
       "      <td>2,285.266</td>\n",
       "      <td>101,767,019.920</td>\n",
       "    </tr>\n",
       "  </tbody>\n",
       "</table>\n",
       "</div>"
      ],
      "text/plain": [
       "        minutes_var  messages_var          mb_var\n",
       "tariff                                           \n",
       "smart    36,219.316       796.813  34,488,584.029\n",
       "ultra   100,873.633     2,285.266 101,767,019.920"
      ]
     },
     "execution_count": 58,
     "metadata": {},
     "output_type": "execute_result"
    }
   ],
   "source": [
    "variance_tariffs = (all_calls_messages_internet.pivot_table(index='tariff', values=['minutes_per_month', 'messages_per_month', 'mb_per_month'], \n",
    "                                  aggfunc='var')\n",
    "        [['minutes_per_month', 'messages_per_month', 'mb_per_month']]\n",
    ")\n",
    "\n",
    "variance_tariffs.columns = ['minutes_var', 'messages_var', 'mb_var']\n",
    "\n",
    "variance_tariffs"
   ]
  },
  {
   "cell_type": "markdown",
   "metadata": {
    "id": "bDzN6DLjdrex"
   },
   "source": [
    "<div class=\"alert alert-info\"> <b>Пользователи тарифа Ультра используют большее количество звонков, смс и интернета.</b></div>"
   ]
  },
  {
   "cell_type": "markdown",
   "metadata": {
    "id": "TbrBic425Qmo"
   },
   "source": [
    "#### Стандартное отклонение"
   ]
  },
  {
   "cell_type": "markdown",
   "metadata": {
    "id": "xjOtz6JI5Qmo"
   },
   "source": [
    "Найдем стандартное отклонение"
   ]
  },
  {
   "cell_type": "code",
   "execution_count": 59,
   "metadata": {
    "colab": {
     "base_uri": "https://localhost:8080/",
     "height": 142
    },
    "id": "2Ykn_t125Qmp",
    "outputId": "8a671fc3-c512-4e7c-ef4f-cfe1dbc83bf4"
   },
   "outputs": [
    {
     "data": {
      "text/html": [
       "<div>\n",
       "<style scoped>\n",
       "    .dataframe tbody tr th:only-of-type {\n",
       "        vertical-align: middle;\n",
       "    }\n",
       "\n",
       "    .dataframe tbody tr th {\n",
       "        vertical-align: top;\n",
       "    }\n",
       "\n",
       "    .dataframe thead th {\n",
       "        text-align: right;\n",
       "    }\n",
       "</style>\n",
       "<table border=\"1\" class=\"dataframe\">\n",
       "  <thead>\n",
       "    <tr style=\"text-align: right;\">\n",
       "      <th></th>\n",
       "      <th>minutes_std</th>\n",
       "      <th>messages_std</th>\n",
       "      <th>mb_std</th>\n",
       "    </tr>\n",
       "    <tr>\n",
       "      <th>tariff</th>\n",
       "      <th></th>\n",
       "      <th></th>\n",
       "      <th></th>\n",
       "    </tr>\n",
       "  </thead>\n",
       "  <tbody>\n",
       "    <tr>\n",
       "      <td>smart</td>\n",
       "      <td>190.314</td>\n",
       "      <td>28.228</td>\n",
       "      <td>5,872.698</td>\n",
       "    </tr>\n",
       "    <tr>\n",
       "      <td>ultra</td>\n",
       "      <td>317.606</td>\n",
       "      <td>47.804</td>\n",
       "      <td>10,087.964</td>\n",
       "    </tr>\n",
       "  </tbody>\n",
       "</table>\n",
       "</div>"
      ],
      "text/plain": [
       "        minutes_std  messages_std     mb_std\n",
       "tariff                                      \n",
       "smart       190.314        28.228  5,872.698\n",
       "ultra       317.606        47.804 10,087.964"
      ]
     },
     "execution_count": 59,
     "metadata": {},
     "output_type": "execute_result"
    }
   ],
   "source": [
    "std_tariffs = (all_calls_messages_internet.pivot_table(index='tariff', values=['minutes_per_month', 'messages_per_month', 'mb_per_month'], \n",
    "                                  aggfunc='std')\n",
    "        [['minutes_per_month', 'messages_per_month', 'mb_per_month']]\n",
    ")\n",
    "\n",
    "std_tariffs.columns = ['minutes_std', 'messages_std', 'mb_std']\n",
    "\n",
    "std_tariffs"
   ]
  },
  {
   "cell_type": "markdown",
   "metadata": {
    "id": "OQRz3t6PeRzn"
   },
   "source": [
    "<div class=\"alert alert-info\"> <b>Так же подтвержается история что пользователи тарифа Ультра более активны</b></div>"
   ]
  },
  {
   "cell_type": "markdown",
   "metadata": {
    "id": "2EKjr6Eu5Qmq"
   },
   "source": [
    "#### Подсчет минут разговора, количества сообщений и объёма интернет-трафика, который требуется пользователям каждого тарифа"
   ]
  },
  {
   "cell_type": "markdown",
   "metadata": {
    "id": "MFxWKjC45Qmq"
   },
   "source": [
    "По традиции создаем функцию, которая нам посчитает требования потребления каждого клиента"
   ]
  },
  {
   "cell_type": "code",
   "execution_count": 60,
   "metadata": {
    "id": "iuB0RFka5Qmr"
   },
   "outputs": [],
   "source": [
    "def limits(data, tariff):\n",
    "    print('Клиентам тарифа {} требуется:'.format(tariff))\n",
    "    \n",
    "    for name in values_list:\n",
    "        if name == 'minutes_per_month':\n",
    "\n",
    "            higher_limit = (\n",
    "                (data[data['tariff'] == tariff][name].mean() + 3 * std_tariffs.loc[tariff, 'minutes_std'])\n",
    "                .astype('int')\n",
    "            )\n",
    "            print('  -  минут: до {}'.format(higher_limit))\n",
    "          \n",
    "        elif name == 'messages_per_month':\n",
    "            \n",
    "            higher_limit = (\n",
    "                (data[data['tariff'] == tariff][name].mean() + 3 * std_tariffs.loc[tariff, 'messages_std'])\n",
    "                .astype('int')\n",
    "            )\n",
    "            print('  -  сообщений: до {}'.format(higher_limit))\n",
    "          \n",
    "        else:\n",
    "            \n",
    "            higher_limit = (\n",
    "                (data[data['tariff'] == tariff][name].mean() + 3 * std_tariffs.loc[tariff, 'mb_std'])\n",
    "                .astype('int')\n",
    "            )\n",
    "            print('  -  мегабайт: до {}'.format(higher_limit))\n",
    "            \n",
    "    print()"
   ]
  },
  {
   "cell_type": "code",
   "execution_count": 61,
   "metadata": {
    "colab": {
     "base_uri": "https://localhost:8080/"
    },
    "id": "XkKSFCj95Qmr",
    "outputId": "70abecc6-6e54-46ac-82d7-9fd27861f4e9"
   },
   "outputs": [
    {
     "name": "stdout",
     "output_type": "stream",
     "text": [
      "Клиентам тарифа smart требуется:\n",
      "  -  минут: до 988\n",
      "  -  сообщений: до 118\n",
      "  -  мегабайт: до 33833\n",
      "\n",
      "Клиентам тарифа ultra требуется:\n",
      "  -  минут: до 1479\n",
      "  -  сообщений: до 192\n",
      "  -  мегабайт: до 49734\n",
      "\n"
     ]
    }
   ],
   "source": [
    "limits(all_calls_messages_internet, 'smart')\n",
    "limits(all_calls_messages_internet, 'ultra')"
   ]
  },
  {
   "cell_type": "markdown",
   "metadata": {
    "id": "fIhXRpy6etCg"
   },
   "source": [
    "<div class=\"alert alert-info\"> <b>Та же история, Клиенты ультра поглощают услуги Мегалайна активнее</b></div>"
   ]
  },
  {
   "cell_type": "markdown",
   "metadata": {
    "id": "lntWIGyy5Qmu"
   },
   "source": [
    "## Рассмотрим средние данные за каждый из 12ти месяцев"
   ]
  },
  {
   "cell_type": "markdown",
   "metadata": {
    "id": "mbfjHq0l5Qmu"
   },
   "source": [
    "Создаем сводный датасет с помесячной информацией о клиентах."
   ]
  },
  {
   "cell_type": "code",
   "execution_count": 62,
   "metadata": {
    "id": "8OUqZAV05Qmu"
   },
   "outputs": [],
   "source": [
    "amount_per_month = (\n",
    "    all_calls_messages_internet.pivot_table(index=['tariff', 'month'], values=['minutes_per_month', 'messages_per_month', 'mb_per_month'], aggfunc='sum')\n",
    "    [['minutes_per_month',\n",
    "      'messages_per_month',\n",
    "      'mb_per_month']]\n",
    ")"
   ]
  },
  {
   "cell_type": "code",
   "execution_count": 63,
   "metadata": {
    "colab": {
     "base_uri": "https://localhost:8080/",
     "height": 824
    },
    "id": "PRdQP-Qh5Qmv",
    "outputId": "93515e9d-4d77-45eb-b653-cd8471b1ae8d"
   },
   "outputs": [
    {
     "data": {
      "text/html": [
       "<div>\n",
       "<style scoped>\n",
       "    .dataframe tbody tr th:only-of-type {\n",
       "        vertical-align: middle;\n",
       "    }\n",
       "\n",
       "    .dataframe tbody tr th {\n",
       "        vertical-align: top;\n",
       "    }\n",
       "\n",
       "    .dataframe thead th {\n",
       "        text-align: right;\n",
       "    }\n",
       "</style>\n",
       "<table border=\"1\" class=\"dataframe\">\n",
       "  <thead>\n",
       "    <tr style=\"text-align: right;\">\n",
       "      <th></th>\n",
       "      <th></th>\n",
       "      <th>minutes_per_month</th>\n",
       "      <th>messages_per_month</th>\n",
       "      <th>mb_per_month</th>\n",
       "    </tr>\n",
       "    <tr>\n",
       "      <th>tariff</th>\n",
       "      <th>month</th>\n",
       "      <th></th>\n",
       "      <th></th>\n",
       "      <th></th>\n",
       "    </tr>\n",
       "  </thead>\n",
       "  <tbody>\n",
       "    <tr>\n",
       "      <td rowspan=\"12\" valign=\"top\">smart</td>\n",
       "      <td>1</td>\n",
       "      <td>6931</td>\n",
       "      <td>620</td>\n",
       "      <td>289589</td>\n",
       "    </tr>\n",
       "    <tr>\n",
       "      <td>2</td>\n",
       "      <td>17324</td>\n",
       "      <td>1397</td>\n",
       "      <td>672943</td>\n",
       "    </tr>\n",
       "    <tr>\n",
       "      <td>3</td>\n",
       "      <td>30034</td>\n",
       "      <td>2453</td>\n",
       "      <td>1163549</td>\n",
       "    </tr>\n",
       "    <tr>\n",
       "      <td>4</td>\n",
       "      <td>41119</td>\n",
       "      <td>3443</td>\n",
       "      <td>1508445</td>\n",
       "    </tr>\n",
       "    <tr>\n",
       "      <td>5</td>\n",
       "      <td>54618</td>\n",
       "      <td>4762</td>\n",
       "      <td>2229523</td>\n",
       "    </tr>\n",
       "    <tr>\n",
       "      <td>6</td>\n",
       "      <td>64885</td>\n",
       "      <td>5478</td>\n",
       "      <td>2591500</td>\n",
       "    </tr>\n",
       "    <tr>\n",
       "      <td>7</td>\n",
       "      <td>82079</td>\n",
       "      <td>6784</td>\n",
       "      <td>3165854</td>\n",
       "    </tr>\n",
       "    <tr>\n",
       "      <td>8</td>\n",
       "      <td>99045</td>\n",
       "      <td>7905</td>\n",
       "      <td>3905289</td>\n",
       "    </tr>\n",
       "    <tr>\n",
       "      <td>9</td>\n",
       "      <td>111439</td>\n",
       "      <td>8746</td>\n",
       "      <td>4240910</td>\n",
       "    </tr>\n",
       "    <tr>\n",
       "      <td>10</td>\n",
       "      <td>125284</td>\n",
       "      <td>9927</td>\n",
       "      <td>4928875</td>\n",
       "    </tr>\n",
       "    <tr>\n",
       "      <td>11</td>\n",
       "      <td>137544</td>\n",
       "      <td>10768</td>\n",
       "      <td>5341545</td>\n",
       "    </tr>\n",
       "    <tr>\n",
       "      <td>12</td>\n",
       "      <td>161275</td>\n",
       "      <td>12130</td>\n",
       "      <td>6107164</td>\n",
       "    </tr>\n",
       "    <tr>\n",
       "      <td rowspan=\"12\" valign=\"top\">ultra</td>\n",
       "      <td>1</td>\n",
       "      <td>3853</td>\n",
       "      <td>304</td>\n",
       "      <td>118273</td>\n",
       "    </tr>\n",
       "    <tr>\n",
       "      <td>2</td>\n",
       "      <td>7131</td>\n",
       "      <td>527</td>\n",
       "      <td>282643</td>\n",
       "    </tr>\n",
       "    <tr>\n",
       "      <td>3</td>\n",
       "      <td>18117</td>\n",
       "      <td>1195</td>\n",
       "      <td>648855</td>\n",
       "    </tr>\n",
       "    <tr>\n",
       "      <td>4</td>\n",
       "      <td>25191</td>\n",
       "      <td>1736</td>\n",
       "      <td>925600</td>\n",
       "    </tr>\n",
       "    <tr>\n",
       "      <td>5</td>\n",
       "      <td>34192</td>\n",
       "      <td>2536</td>\n",
       "      <td>1297436</td>\n",
       "    </tr>\n",
       "    <tr>\n",
       "      <td>6</td>\n",
       "      <td>40295</td>\n",
       "      <td>3505</td>\n",
       "      <td>1589794</td>\n",
       "    </tr>\n",
       "    <tr>\n",
       "      <td>7</td>\n",
       "      <td>49667</td>\n",
       "      <td>4536</td>\n",
       "      <td>1865235</td>\n",
       "    </tr>\n",
       "    <tr>\n",
       "      <td>8</td>\n",
       "      <td>54653</td>\n",
       "      <td>5183</td>\n",
       "      <td>2094781</td>\n",
       "    </tr>\n",
       "    <tr>\n",
       "      <td>9</td>\n",
       "      <td>62036</td>\n",
       "      <td>6013</td>\n",
       "      <td>2208647</td>\n",
       "    </tr>\n",
       "    <tr>\n",
       "      <td>10</td>\n",
       "      <td>68644</td>\n",
       "      <td>7187</td>\n",
       "      <td>2465723</td>\n",
       "    </tr>\n",
       "    <tr>\n",
       "      <td>11</td>\n",
       "      <td>72545</td>\n",
       "      <td>7476</td>\n",
       "      <td>2651610</td>\n",
       "    </tr>\n",
       "    <tr>\n",
       "      <td>12</td>\n",
       "      <td>82400</td>\n",
       "      <td>8425</td>\n",
       "      <td>3029476</td>\n",
       "    </tr>\n",
       "  </tbody>\n",
       "</table>\n",
       "</div>"
      ],
      "text/plain": [
       "              minutes_per_month  messages_per_month  mb_per_month\n",
       "tariff month                                                     \n",
       "smart  1                   6931                 620        289589\n",
       "       2                  17324                1397        672943\n",
       "       3                  30034                2453       1163549\n",
       "       4                  41119                3443       1508445\n",
       "       5                  54618                4762       2229523\n",
       "       6                  64885                5478       2591500\n",
       "       7                  82079                6784       3165854\n",
       "       8                  99045                7905       3905289\n",
       "       9                 111439                8746       4240910\n",
       "       10                125284                9927       4928875\n",
       "       11                137544               10768       5341545\n",
       "       12                161275               12130       6107164\n",
       "ultra  1                   3853                 304        118273\n",
       "       2                   7131                 527        282643\n",
       "       3                  18117                1195        648855\n",
       "       4                  25191                1736        925600\n",
       "       5                  34192                2536       1297436\n",
       "       6                  40295                3505       1589794\n",
       "       7                  49667                4536       1865235\n",
       "       8                  54653                5183       2094781\n",
       "       9                  62036                6013       2208647\n",
       "       10                 68644                7187       2465723\n",
       "       11                 72545                7476       2651610\n",
       "       12                 82400                8425       3029476"
      ]
     },
     "execution_count": 63,
     "metadata": {},
     "output_type": "execute_result"
    }
   ],
   "source": [
    "amount_per_month"
   ]
  },
  {
   "cell_type": "markdown",
   "metadata": {
    "id": "vzcMEG3D5Qmv"
   },
   "source": [
    "Сомтрим на распределения у тарифов (минуты, сообщения, мегабайты):"
   ]
  },
  {
   "cell_type": "code",
   "execution_count": 64,
   "metadata": {
    "colab": {
     "base_uri": "https://localhost:8080/",
     "height": 1000
    },
    "id": "UPJvhjvK5Qmv",
    "outputId": "115d8749-cf36-4344-8e86-32ee4a0833c6"
   },
   "outputs": [
    {
     "name": "stdout",
     "output_type": "stream",
     "text": [
      "Тариф smart : Минуты\n"
     ]
    },
    {
     "data": {
      "image/png": "[encoded data removed]",
      "text/plain": [
       "<Figure size 1080x144 with 1 Axes>"
      ]
     },
     "metadata": {},
     "output_type": "display_data"
    },
    {
     "name": "stdout",
     "output_type": "stream",
     "text": [
      "Тариф ultra : Минуты\n"
     ]
    },
    {
     "data": {
      "image/png": "[encoded data removed]",
      "text/plain": [
       "<Figure size 1080x144 with 1 Axes>"
      ]
     },
     "metadata": {},
     "output_type": "display_data"
    },
    {
     "name": "stdout",
     "output_type": "stream",
     "text": [
      "Тариф smart : Сообщения\n"
     ]
    },
    {
     "data": {
      "image/png": "[encoded data removed]",
      "text/plain": [
       "<Figure size 1080x144 with 1 Axes>"
      ]
     },
     "metadata": {},
     "output_type": "display_data"
    },
    {
     "name": "stdout",
     "output_type": "stream",
     "text": [
      "Тариф ultra : Сообщения\n"
     ]
    },
    {
     "data": {
      "image/png": "[encoded data removed]",
      "text/plain": [
       "<Figure size 1080x144 with 1 Axes>"
      ]
     },
     "metadata": {},
     "output_type": "display_data"
    },
    {
     "name": "stdout",
     "output_type": "stream",
     "text": [
      "Тариф smart : Мегабайты\n"
     ]
    },
    {
     "data": {
      "image/png": "[encoded data removed]",
      "text/plain": [
       "<Figure size 1080x144 with 1 Axes>"
      ]
     },
     "metadata": {},
     "output_type": "display_data"
    },
    {
     "name": "stdout",
     "output_type": "stream",
     "text": [
      "Тариф ultra : Мегабайты\n"
     ]
    },
    {
     "data": {
      "image/png": "[encoded data removed]",
      "text/plain": [
       "<Figure size 1080x144 with 1 Axes>"
      ]
     },
     "metadata": {},
     "output_type": "display_data"
    }
   ],
   "source": [
    "boxploting(all_calls_messages_internet, 'query')"
   ]
  },
  {
   "cell_type": "markdown",
   "metadata": {
    "id": "9lM0hkco5Qmw"
   },
   "source": [
    "Распределения симметричные, нормальные. Следовательно к ним применимо правило трех сигм."
   ]
  },
  {
   "cell_type": "markdown",
   "metadata": {
    "id": "wFuYPNMx5Qmw"
   },
   "source": [
    "### Среднее, дисперсия, стандартное отклонение"
   ]
  },
  {
   "cell_type": "markdown",
   "metadata": {
    "id": "FA_y0Tgf5Qmw"
   },
   "source": [
    "##### Среднее"
   ]
  },
  {
   "cell_type": "markdown",
   "metadata": {
    "id": "rc1JAawq5Qmw"
   },
   "source": [
    "Датасет со средним значением минут, сообщений и мегабайт для всех клиентов по месяцам и тарифам."
   ]
  },
  {
   "cell_type": "code",
   "execution_count": 65,
   "metadata": {
    "id": "VH9_PlLO5Qmw"
   },
   "outputs": [],
   "source": [
    "mean_month = (\n",
    "    (all_calls_messages_internet.pivot_table(index=['tariff', 'month'], values=['minutes_per_month', 'messages_per_month', 'mb_per_month'], aggfunc='mean')\n",
    "    [['minutes_per_month',\n",
    "      'messages_per_month',\n",
    "      'mb_per_month']])\n",
    "     .round(2)\n",
    ")"
   ]
  },
  {
   "cell_type": "code",
   "execution_count": 66,
   "metadata": {
    "colab": {
     "base_uri": "https://localhost:8080/",
     "height": 824
    },
    "id": "arv17L155Qmx",
    "outputId": "c7f2caaf-870c-4d39-f785-0ba0cb7462c9"
   },
   "outputs": [
    {
     "data": {
      "text/html": [
       "<div>\n",
       "<style scoped>\n",
       "    .dataframe tbody tr th:only-of-type {\n",
       "        vertical-align: middle;\n",
       "    }\n",
       "\n",
       "    .dataframe tbody tr th {\n",
       "        vertical-align: top;\n",
       "    }\n",
       "\n",
       "    .dataframe thead th {\n",
       "        text-align: right;\n",
       "    }\n",
       "</style>\n",
       "<table border=\"1\" class=\"dataframe\">\n",
       "  <thead>\n",
       "    <tr style=\"text-align: right;\">\n",
       "      <th></th>\n",
       "      <th></th>\n",
       "      <th>minutes_per_month</th>\n",
       "      <th>messages_per_month</th>\n",
       "      <th>mb_per_month</th>\n",
       "    </tr>\n",
       "    <tr>\n",
       "      <th>tariff</th>\n",
       "      <th>month</th>\n",
       "      <th></th>\n",
       "      <th></th>\n",
       "      <th></th>\n",
       "    </tr>\n",
       "  </thead>\n",
       "  <tbody>\n",
       "    <tr>\n",
       "      <td rowspan=\"12\" valign=\"top\">smart</td>\n",
       "      <td>1</td>\n",
       "      <td>203.850</td>\n",
       "      <td>18.240</td>\n",
       "      <td>8,517.320</td>\n",
       "    </tr>\n",
       "    <tr>\n",
       "      <td>2</td>\n",
       "      <td>298.690</td>\n",
       "      <td>24.090</td>\n",
       "      <td>11,602.470</td>\n",
       "    </tr>\n",
       "    <tr>\n",
       "      <td>3</td>\n",
       "      <td>390.050</td>\n",
       "      <td>31.860</td>\n",
       "      <td>15,111.030</td>\n",
       "    </tr>\n",
       "    <tr>\n",
       "      <td>4</td>\n",
       "      <td>367.130</td>\n",
       "      <td>30.740</td>\n",
       "      <td>13,468.260</td>\n",
       "    </tr>\n",
       "    <tr>\n",
       "      <td>5</td>\n",
       "      <td>387.360</td>\n",
       "      <td>33.770</td>\n",
       "      <td>15,812.220</td>\n",
       "    </tr>\n",
       "    <tr>\n",
       "      <td>6</td>\n",
       "      <td>395.640</td>\n",
       "      <td>33.400</td>\n",
       "      <td>15,801.830</td>\n",
       "    </tr>\n",
       "    <tr>\n",
       "      <td>7</td>\n",
       "      <td>408.350</td>\n",
       "      <td>33.750</td>\n",
       "      <td>15,750.520</td>\n",
       "    </tr>\n",
       "    <tr>\n",
       "      <td>8</td>\n",
       "      <td>421.470</td>\n",
       "      <td>33.640</td>\n",
       "      <td>16,618.250</td>\n",
       "    </tr>\n",
       "    <tr>\n",
       "      <td>9</td>\n",
       "      <td>428.610</td>\n",
       "      <td>33.640</td>\n",
       "      <td>16,311.190</td>\n",
       "    </tr>\n",
       "    <tr>\n",
       "      <td>10</td>\n",
       "      <td>426.140</td>\n",
       "      <td>33.770</td>\n",
       "      <td>16,764.880</td>\n",
       "    </tr>\n",
       "    <tr>\n",
       "      <td>11</td>\n",
       "      <td>435.270</td>\n",
       "      <td>34.080</td>\n",
       "      <td>16,903.620</td>\n",
       "    </tr>\n",
       "    <tr>\n",
       "      <td>12</td>\n",
       "      <td>478.560</td>\n",
       "      <td>35.990</td>\n",
       "      <td>18,122.150</td>\n",
       "    </tr>\n",
       "    <tr>\n",
       "      <td rowspan=\"12\" valign=\"top\">ultra</td>\n",
       "      <td>1</td>\n",
       "      <td>428.110</td>\n",
       "      <td>33.780</td>\n",
       "      <td>13,141.440</td>\n",
       "    </tr>\n",
       "    <tr>\n",
       "      <td>2</td>\n",
       "      <td>297.120</td>\n",
       "      <td>21.960</td>\n",
       "      <td>11,776.790</td>\n",
       "    </tr>\n",
       "    <tr>\n",
       "      <td>3</td>\n",
       "      <td>489.650</td>\n",
       "      <td>32.300</td>\n",
       "      <td>17,536.620</td>\n",
       "    </tr>\n",
       "    <tr>\n",
       "      <td>4</td>\n",
       "      <td>458.020</td>\n",
       "      <td>31.560</td>\n",
       "      <td>16,829.090</td>\n",
       "    </tr>\n",
       "    <tr>\n",
       "      <td>5</td>\n",
       "      <td>510.330</td>\n",
       "      <td>37.850</td>\n",
       "      <td>19,364.720</td>\n",
       "    </tr>\n",
       "    <tr>\n",
       "      <td>6</td>\n",
       "      <td>479.700</td>\n",
       "      <td>41.730</td>\n",
       "      <td>18,926.120</td>\n",
       "    </tr>\n",
       "    <tr>\n",
       "      <td>7</td>\n",
       "      <td>545.790</td>\n",
       "      <td>49.850</td>\n",
       "      <td>20,497.090</td>\n",
       "    </tr>\n",
       "    <tr>\n",
       "      <td>8</td>\n",
       "      <td>510.780</td>\n",
       "      <td>48.440</td>\n",
       "      <td>19,577.390</td>\n",
       "    </tr>\n",
       "    <tr>\n",
       "      <td>9</td>\n",
       "      <td>539.440</td>\n",
       "      <td>52.290</td>\n",
       "      <td>19,205.630</td>\n",
       "    </tr>\n",
       "    <tr>\n",
       "      <td>10</td>\n",
       "      <td>558.080</td>\n",
       "      <td>58.430</td>\n",
       "      <td>20,046.530</td>\n",
       "    </tr>\n",
       "    <tr>\n",
       "      <td>11</td>\n",
       "      <td>541.380</td>\n",
       "      <td>55.790</td>\n",
       "      <td>19,788.130</td>\n",
       "    </tr>\n",
       "    <tr>\n",
       "      <td>12</td>\n",
       "      <td>592.810</td>\n",
       "      <td>60.610</td>\n",
       "      <td>21,794.790</td>\n",
       "    </tr>\n",
       "  </tbody>\n",
       "</table>\n",
       "</div>"
      ],
      "text/plain": [
       "              minutes_per_month  messages_per_month  mb_per_month\n",
       "tariff month                                                     \n",
       "smart  1                203.850              18.240     8,517.320\n",
       "       2                298.690              24.090    11,602.470\n",
       "       3                390.050              31.860    15,111.030\n",
       "       4                367.130              30.740    13,468.260\n",
       "       5                387.360              33.770    15,812.220\n",
       "       6                395.640              33.400    15,801.830\n",
       "       7                408.350              33.750    15,750.520\n",
       "       8                421.470              33.640    16,618.250\n",
       "       9                428.610              33.640    16,311.190\n",
       "       10               426.140              33.770    16,764.880\n",
       "       11               435.270              34.080    16,903.620\n",
       "       12               478.560              35.990    18,122.150\n",
       "ultra  1                428.110              33.780    13,141.440\n",
       "       2                297.120              21.960    11,776.790\n",
       "       3                489.650              32.300    17,536.620\n",
       "       4                458.020              31.560    16,829.090\n",
       "       5                510.330              37.850    19,364.720\n",
       "       6                479.700              41.730    18,926.120\n",
       "       7                545.790              49.850    20,497.090\n",
       "       8                510.780              48.440    19,577.390\n",
       "       9                539.440              52.290    19,205.630\n",
       "       10               558.080              58.430    20,046.530\n",
       "       11               541.380              55.790    19,788.130\n",
       "       12               592.810              60.610    21,794.790"
      ]
     },
     "execution_count": 66,
     "metadata": {},
     "output_type": "execute_result"
    }
   ],
   "source": [
    "mean_month"
   ]
  },
  {
   "cell_type": "markdown",
   "metadata": {
    "id": "q4KNv7qj5Qmx"
   },
   "source": [
    "Построим гистограммы среднего для двух тарифов:"
   ]
  },
  {
   "cell_type": "code",
   "execution_count": 67,
   "metadata": {
    "colab": {
     "base_uri": "https://localhost:8080/",
     "height": 971
    },
    "id": "nMjDKnAO5Qmx",
    "outputId": "1fb809d8-253b-4e93-b194-85908ccec3de"
   },
   "outputs": [
    {
     "name": "stdout",
     "output_type": "stream",
     "text": [
      "Тариф smart : Минуты\n"
     ]
    },
    {
     "data": {
      "image/png": "[encoded data removed]",
      "text/plain": [
       "<Figure size 1080x144 with 1 Axes>"
      ]
     },
     "metadata": {},
     "output_type": "display_data"
    },
    {
     "name": "stdout",
     "output_type": "stream",
     "text": [
      "Тариф ultra : Минуты\n"
     ]
    },
    {
     "data": {
      "image/png": "[encoded data removed]",
      "text/plain": [
       "<Figure size 1080x144 with 1 Axes>"
      ]
     },
     "metadata": {},
     "output_type": "display_data"
    },
    {
     "name": "stdout",
     "output_type": "stream",
     "text": [
      "Тариф smart : Сообщения\n"
     ]
    },
    {
     "data": {
      "image/png": "[encoded data removed]",
      "text/plain": [
       "<Figure size 1080x144 with 1 Axes>"
      ]
     },
     "metadata": {},
     "output_type": "display_data"
    },
    {
     "name": "stdout",
     "output_type": "stream",
     "text": [
      "Тариф ultra : Сообщения\n"
     ]
    },
    {
     "data": {
      "image/png": "[encoded data removed]",
      "text/plain": [
       "<Figure size 1080x144 with 1 Axes>"
      ]
     },
     "metadata": {},
     "output_type": "display_data"
    },
    {
     "name": "stdout",
     "output_type": "stream",
     "text": [
      "Тариф smart : Мегабайты\n"
     ]
    },
    {
     "data": {
      "image/png": "[encoded data removed]",
      "text/plain": [
       "<Figure size 1080x144 with 1 Axes>"
      ]
     },
     "metadata": {},
     "output_type": "display_data"
    },
    {
     "name": "stdout",
     "output_type": "stream",
     "text": [
      "Тариф ultra : Мегабайты\n"
     ]
    },
    {
     "data": {
      "image/png": "[encoded data removed]",
      "text/plain": [
       "<Figure size 1080x144 with 1 Axes>"
      ]
     },
     "metadata": {},
     "output_type": "display_data"
    }
   ],
   "source": [
    "boxploting(mean_month, 'else')"
   ]
  },
  {
   "cell_type": "markdown",
   "metadata": {
    "id": "pGWOWL-b5Qmy"
   },
   "source": [
    "##### Дисперсия"
   ]
  },
  {
   "cell_type": "markdown",
   "metadata": {
    "id": "1zPolm_n5Qmy"
   },
   "source": [
    "Дисперсия для каждого тарифа по месяцам:"
   ]
  },
  {
   "cell_type": "code",
   "execution_count": 68,
   "metadata": {
    "id": "VUYMwOE65Qmy"
   },
   "outputs": [],
   "source": [
    "variance_month = (\n",
    "    all_calls_messages_internet.pivot_table(index=['tariff','month'],\n",
    "                                  values=['minutes_per_month',\n",
    "                                          'messages_per_month',\n",
    "                                          'mb_per_month'], \n",
    "                                  aggfunc='var')\n",
    "    [['minutes_per_month',\n",
    "      'messages_per_month',\n",
    "      'mb_per_month']]\n",
    "     .round(2)\n",
    ")"
   ]
  },
  {
   "cell_type": "code",
   "execution_count": 69,
   "metadata": {
    "colab": {
     "base_uri": "https://localhost:8080/",
     "height": 824
    },
    "id": "_tHe5HsE5Qmy",
    "outputId": "8edc09f1-267d-4654-b2b5-621eed63b992"
   },
   "outputs": [
    {
     "data": {
      "text/html": [
       "<div>\n",
       "<style scoped>\n",
       "    .dataframe tbody tr th:only-of-type {\n",
       "        vertical-align: middle;\n",
       "    }\n",
       "\n",
       "    .dataframe tbody tr th {\n",
       "        vertical-align: top;\n",
       "    }\n",
       "\n",
       "    .dataframe thead th {\n",
       "        text-align: right;\n",
       "    }\n",
       "</style>\n",
       "<table border=\"1\" class=\"dataframe\">\n",
       "  <thead>\n",
       "    <tr style=\"text-align: right;\">\n",
       "      <th></th>\n",
       "      <th></th>\n",
       "      <th>minutes_per_month</th>\n",
       "      <th>messages_per_month</th>\n",
       "      <th>mb_per_month</th>\n",
       "    </tr>\n",
       "    <tr>\n",
       "      <th>tariff</th>\n",
       "      <th>month</th>\n",
       "      <th></th>\n",
       "      <th></th>\n",
       "      <th></th>\n",
       "    </tr>\n",
       "  </thead>\n",
       "  <tbody>\n",
       "    <tr>\n",
       "      <td rowspan=\"12\" valign=\"top\">smart</td>\n",
       "      <td>1</td>\n",
       "      <td>23,787.340</td>\n",
       "      <td>262.370</td>\n",
       "      <td>41,568,653.620</td>\n",
       "    </tr>\n",
       "    <tr>\n",
       "      <td>2</td>\n",
       "      <td>36,412.290</td>\n",
       "      <td>473.100</td>\n",
       "      <td>39,061,419.130</td>\n",
       "    </tr>\n",
       "    <tr>\n",
       "      <td>3</td>\n",
       "      <td>36,823.160</td>\n",
       "      <td>718.490</td>\n",
       "      <td>33,988,577.840</td>\n",
       "    </tr>\n",
       "    <tr>\n",
       "      <td>4</td>\n",
       "      <td>34,778.210</td>\n",
       "      <td>602.140</td>\n",
       "      <td>32,493,126.880</td>\n",
       "    </tr>\n",
       "    <tr>\n",
       "      <td>5</td>\n",
       "      <td>34,820.060</td>\n",
       "      <td>730.990</td>\n",
       "      <td>35,769,127.190</td>\n",
       "    </tr>\n",
       "    <tr>\n",
       "      <td>6</td>\n",
       "      <td>30,742.920</td>\n",
       "      <td>806.810</td>\n",
       "      <td>33,560,592.570</td>\n",
       "    </tr>\n",
       "    <tr>\n",
       "      <td>7</td>\n",
       "      <td>32,250.270</td>\n",
       "      <td>799.890</td>\n",
       "      <td>34,803,022.090</td>\n",
       "    </tr>\n",
       "    <tr>\n",
       "      <td>8</td>\n",
       "      <td>34,793.580</td>\n",
       "      <td>838.260</td>\n",
       "      <td>31,307,903.150</td>\n",
       "    </tr>\n",
       "    <tr>\n",
       "      <td>9</td>\n",
       "      <td>33,535.340</td>\n",
       "      <td>790.620</td>\n",
       "      <td>27,016,579.280</td>\n",
       "    </tr>\n",
       "    <tr>\n",
       "      <td>10</td>\n",
       "      <td>35,392.340</td>\n",
       "      <td>816.110</td>\n",
       "      <td>34,358,144.320</td>\n",
       "    </tr>\n",
       "    <tr>\n",
       "      <td>11</td>\n",
       "      <td>31,605.240</td>\n",
       "      <td>805.940</td>\n",
       "      <td>28,540,745.860</td>\n",
       "    </tr>\n",
       "    <tr>\n",
       "      <td>12</td>\n",
       "      <td>39,698.620</td>\n",
       "      <td>934.950</td>\n",
       "      <td>31,090,350.820</td>\n",
       "    </tr>\n",
       "    <tr>\n",
       "      <td rowspan=\"12\" valign=\"top\">ultra</td>\n",
       "      <td>1</td>\n",
       "      <td>72,769.360</td>\n",
       "      <td>940.690</td>\n",
       "      <td>47,132,578.030</td>\n",
       "    </tr>\n",
       "    <tr>\n",
       "      <td>2</td>\n",
       "      <td>87,919.680</td>\n",
       "      <td>716.820</td>\n",
       "      <td>113,329,233.480</td>\n",
       "    </tr>\n",
       "    <tr>\n",
       "      <td>3</td>\n",
       "      <td>111,384.900</td>\n",
       "      <td>1,732.380</td>\n",
       "      <td>119,968,180.850</td>\n",
       "    </tr>\n",
       "    <tr>\n",
       "      <td>4</td>\n",
       "      <td>71,653.870</td>\n",
       "      <td>1,407.290</td>\n",
       "      <td>94,469,431.530</td>\n",
       "    </tr>\n",
       "    <tr>\n",
       "      <td>5</td>\n",
       "      <td>83,870.190</td>\n",
       "      <td>1,624.640</td>\n",
       "      <td>100,941,151.420</td>\n",
       "    </tr>\n",
       "    <tr>\n",
       "      <td>6</td>\n",
       "      <td>91,535.950</td>\n",
       "      <td>1,986.300</td>\n",
       "      <td>86,373,397.620</td>\n",
       "    </tr>\n",
       "    <tr>\n",
       "      <td>7</td>\n",
       "      <td>94,322.280</td>\n",
       "      <td>2,372.040</td>\n",
       "      <td>101,319,183.790</td>\n",
       "    </tr>\n",
       "    <tr>\n",
       "      <td>8</td>\n",
       "      <td>97,956.500</td>\n",
       "      <td>2,171.740</td>\n",
       "      <td>109,776,853.410</td>\n",
       "    </tr>\n",
       "    <tr>\n",
       "      <td>9</td>\n",
       "      <td>105,716.780</td>\n",
       "      <td>2,152.860</td>\n",
       "      <td>90,000,241.820</td>\n",
       "    </tr>\n",
       "    <tr>\n",
       "      <td>10</td>\n",
       "      <td>106,464.580</td>\n",
       "      <td>2,697.180</td>\n",
       "      <td>96,113,045.010</td>\n",
       "    </tr>\n",
       "    <tr>\n",
       "      <td>11</td>\n",
       "      <td>96,570.060</td>\n",
       "      <td>2,476.950</td>\n",
       "      <td>98,173,496.090</td>\n",
       "    </tr>\n",
       "    <tr>\n",
       "      <td>12</td>\n",
       "      <td>117,276.330</td>\n",
       "      <td>2,681.980</td>\n",
       "      <td>107,728,127.570</td>\n",
       "    </tr>\n",
       "  </tbody>\n",
       "</table>\n",
       "</div>"
      ],
      "text/plain": [
       "              minutes_per_month  messages_per_month    mb_per_month\n",
       "tariff month                                                       \n",
       "smart  1             23,787.340             262.370  41,568,653.620\n",
       "       2             36,412.290             473.100  39,061,419.130\n",
       "       3             36,823.160             718.490  33,988,577.840\n",
       "       4             34,778.210             602.140  32,493,126.880\n",
       "       5             34,820.060             730.990  35,769,127.190\n",
       "       6             30,742.920             806.810  33,560,592.570\n",
       "       7             32,250.270             799.890  34,803,022.090\n",
       "       8             34,793.580             838.260  31,307,903.150\n",
       "       9             33,535.340             790.620  27,016,579.280\n",
       "       10            35,392.340             816.110  34,358,144.320\n",
       "       11            31,605.240             805.940  28,540,745.860\n",
       "       12            39,698.620             934.950  31,090,350.820\n",
       "ultra  1             72,769.360             940.690  47,132,578.030\n",
       "       2             87,919.680             716.820 113,329,233.480\n",
       "       3            111,384.900           1,732.380 119,968,180.850\n",
       "       4             71,653.870           1,407.290  94,469,431.530\n",
       "       5             83,870.190           1,624.640 100,941,151.420\n",
       "       6             91,535.950           1,986.300  86,373,397.620\n",
       "       7             94,322.280           2,372.040 101,319,183.790\n",
       "       8             97,956.500           2,171.740 109,776,853.410\n",
       "       9            105,716.780           2,152.860  90,000,241.820\n",
       "       10           106,464.580           2,697.180  96,113,045.010\n",
       "       11            96,570.060           2,476.950  98,173,496.090\n",
       "       12           117,276.330           2,681.980 107,728,127.570"
      ]
     },
     "execution_count": 69,
     "metadata": {},
     "output_type": "execute_result"
    }
   ],
   "source": [
    "variance_month"
   ]
  },
  {
   "cell_type": "markdown",
   "metadata": {
    "id": "N_Un7xYO5Qmz"
   },
   "source": [
    "Построим гистограммы:"
   ]
  },
  {
   "cell_type": "code",
   "execution_count": 70,
   "metadata": {
    "colab": {
     "base_uri": "https://localhost:8080/",
     "height": 997
    },
    "id": "2sEW6PSi5Qmz",
    "outputId": "6bf0dc30-6264-4a0b-faa1-9b1cda8d5403"
   },
   "outputs": [
    {
     "name": "stdout",
     "output_type": "stream",
     "text": [
      "Тариф smart : Минуты\n"
     ]
    },
    {
     "data": {
      "image/png": "[encoded data removed]",
      "text/plain": [
       "<Figure size 1080x144 with 1 Axes>"
      ]
     },
     "metadata": {},
     "output_type": "display_data"
    },
    {
     "name": "stdout",
     "output_type": "stream",
     "text": [
      "Тариф ultra : Минуты\n"
     ]
    },
    {
     "data": {
      "image/png": "[encoded data removed]",
      "text/plain": [
       "<Figure size 1080x144 with 1 Axes>"
      ]
     },
     "metadata": {},
     "output_type": "display_data"
    },
    {
     "name": "stdout",
     "output_type": "stream",
     "text": [
      "Тариф smart : Сообщения\n"
     ]
    },
    {
     "data": {
      "image/png": "[encoded data removed]",
      "text/plain": [
       "<Figure size 1080x144 with 1 Axes>"
      ]
     },
     "metadata": {},
     "output_type": "display_data"
    },
    {
     "name": "stdout",
     "output_type": "stream",
     "text": [
      "Тариф ultra : Сообщения\n"
     ]
    },
    {
     "data": {
      "image/png": "[encoded data removed]",
      "text/plain": [
       "<Figure size 1080x144 with 1 Axes>"
      ]
     },
     "metadata": {},
     "output_type": "display_data"
    },
    {
     "name": "stdout",
     "output_type": "stream",
     "text": [
      "Тариф smart : Мегабайты\n"
     ]
    },
    {
     "data": {
      "image/png": "[encoded data removed]",
      "text/plain": [
       "<Figure size 1080x144 with 1 Axes>"
      ]
     },
     "metadata": {},
     "output_type": "display_data"
    },
    {
     "name": "stdout",
     "output_type": "stream",
     "text": [
      "Тариф ultra : Мегабайты\n"
     ]
    },
    {
     "data": {
      "image/png": "[encoded data removed]",
      "text/plain": [
       "<Figure size 1080x144 with 1 Axes>"
      ]
     },
     "metadata": {},
     "output_type": "display_data"
    }
   ],
   "source": [
    "boxploting(variance_month, 'no')"
   ]
  },
  {
   "cell_type": "markdown",
   "metadata": {
    "id": "gxuZU4w25Qmz"
   },
   "source": [
    "##### Стандартное отклонение"
   ]
  },
  {
   "cell_type": "markdown",
   "metadata": {
    "id": "qQbeHN415Qmz"
   },
   "source": [
    "Найдем стандартное отклонение для каждого тарифа по месяцам"
   ]
  },
  {
   "cell_type": "code",
   "execution_count": 71,
   "metadata": {
    "id": "JKmsnryd5Qm0"
   },
   "outputs": [],
   "source": [
    "std_month = (\n",
    "    all_calls_messages_internet.pivot_table(index=['tariff','month'],\n",
    "                                  values=['minutes_per_month',\n",
    "                                          'messages_per_month',\n",
    "                                          'mb_per_month'], \n",
    "                                  aggfunc='std')\n",
    "    [['minutes_per_month',\n",
    "      'messages_per_month',\n",
    "      'mb_per_month']]\n",
    "     .round(2)\n",
    ")"
   ]
  },
  {
   "cell_type": "code",
   "execution_count": 72,
   "metadata": {
    "colab": {
     "base_uri": "https://localhost:8080/",
     "height": 824
    },
    "id": "wnC45ZM05Qm0",
    "outputId": "b4a185ce-f231-4507-bbe0-8eea977e0441"
   },
   "outputs": [
    {
     "data": {
      "text/html": [
       "<div>\n",
       "<style scoped>\n",
       "    .dataframe tbody tr th:only-of-type {\n",
       "        vertical-align: middle;\n",
       "    }\n",
       "\n",
       "    .dataframe tbody tr th {\n",
       "        vertical-align: top;\n",
       "    }\n",
       "\n",
       "    .dataframe thead th {\n",
       "        text-align: right;\n",
       "    }\n",
       "</style>\n",
       "<table border=\"1\" class=\"dataframe\">\n",
       "  <thead>\n",
       "    <tr style=\"text-align: right;\">\n",
       "      <th></th>\n",
       "      <th></th>\n",
       "      <th>minutes_per_month</th>\n",
       "      <th>messages_per_month</th>\n",
       "      <th>mb_per_month</th>\n",
       "    </tr>\n",
       "    <tr>\n",
       "      <th>tariff</th>\n",
       "      <th>month</th>\n",
       "      <th></th>\n",
       "      <th></th>\n",
       "      <th></th>\n",
       "    </tr>\n",
       "  </thead>\n",
       "  <tbody>\n",
       "    <tr>\n",
       "      <td rowspan=\"12\" valign=\"top\">smart</td>\n",
       "      <td>1</td>\n",
       "      <td>154.230</td>\n",
       "      <td>16.200</td>\n",
       "      <td>6,447.380</td>\n",
       "    </tr>\n",
       "    <tr>\n",
       "      <td>2</td>\n",
       "      <td>190.820</td>\n",
       "      <td>21.750</td>\n",
       "      <td>6,249.910</td>\n",
       "    </tr>\n",
       "    <tr>\n",
       "      <td>3</td>\n",
       "      <td>191.890</td>\n",
       "      <td>26.800</td>\n",
       "      <td>5,829.970</td>\n",
       "    </tr>\n",
       "    <tr>\n",
       "      <td>4</td>\n",
       "      <td>186.490</td>\n",
       "      <td>24.540</td>\n",
       "      <td>5,700.270</td>\n",
       "    </tr>\n",
       "    <tr>\n",
       "      <td>5</td>\n",
       "      <td>186.600</td>\n",
       "      <td>27.040</td>\n",
       "      <td>5,980.730</td>\n",
       "    </tr>\n",
       "    <tr>\n",
       "      <td>6</td>\n",
       "      <td>175.340</td>\n",
       "      <td>28.400</td>\n",
       "      <td>5,793.150</td>\n",
       "    </tr>\n",
       "    <tr>\n",
       "      <td>7</td>\n",
       "      <td>179.580</td>\n",
       "      <td>28.280</td>\n",
       "      <td>5,899.410</td>\n",
       "    </tr>\n",
       "    <tr>\n",
       "      <td>8</td>\n",
       "      <td>186.530</td>\n",
       "      <td>28.950</td>\n",
       "      <td>5,595.350</td>\n",
       "    </tr>\n",
       "    <tr>\n",
       "      <td>9</td>\n",
       "      <td>183.130</td>\n",
       "      <td>28.120</td>\n",
       "      <td>5,197.750</td>\n",
       "    </tr>\n",
       "    <tr>\n",
       "      <td>10</td>\n",
       "      <td>188.130</td>\n",
       "      <td>28.570</td>\n",
       "      <td>5,861.580</td>\n",
       "    </tr>\n",
       "    <tr>\n",
       "      <td>11</td>\n",
       "      <td>177.780</td>\n",
       "      <td>28.390</td>\n",
       "      <td>5,342.350</td>\n",
       "    </tr>\n",
       "    <tr>\n",
       "      <td>12</td>\n",
       "      <td>199.250</td>\n",
       "      <td>30.580</td>\n",
       "      <td>5,575.870</td>\n",
       "    </tr>\n",
       "    <tr>\n",
       "      <td rowspan=\"12\" valign=\"top\">ultra</td>\n",
       "      <td>1</td>\n",
       "      <td>269.760</td>\n",
       "      <td>30.670</td>\n",
       "      <td>6,865.320</td>\n",
       "    </tr>\n",
       "    <tr>\n",
       "      <td>2</td>\n",
       "      <td>296.510</td>\n",
       "      <td>26.770</td>\n",
       "      <td>10,645.620</td>\n",
       "    </tr>\n",
       "    <tr>\n",
       "      <td>3</td>\n",
       "      <td>333.740</td>\n",
       "      <td>41.620</td>\n",
       "      <td>10,953.000</td>\n",
       "    </tr>\n",
       "    <tr>\n",
       "      <td>4</td>\n",
       "      <td>267.680</td>\n",
       "      <td>37.510</td>\n",
       "      <td>9,719.540</td>\n",
       "    </tr>\n",
       "    <tr>\n",
       "      <td>5</td>\n",
       "      <td>289.600</td>\n",
       "      <td>40.310</td>\n",
       "      <td>10,046.950</td>\n",
       "    </tr>\n",
       "    <tr>\n",
       "      <td>6</td>\n",
       "      <td>302.550</td>\n",
       "      <td>44.570</td>\n",
       "      <td>9,293.730</td>\n",
       "    </tr>\n",
       "    <tr>\n",
       "      <td>7</td>\n",
       "      <td>307.120</td>\n",
       "      <td>48.700</td>\n",
       "      <td>10,065.740</td>\n",
       "    </tr>\n",
       "    <tr>\n",
       "      <td>8</td>\n",
       "      <td>312.980</td>\n",
       "      <td>46.600</td>\n",
       "      <td>10,477.440</td>\n",
       "    </tr>\n",
       "    <tr>\n",
       "      <td>9</td>\n",
       "      <td>325.140</td>\n",
       "      <td>46.400</td>\n",
       "      <td>9,486.850</td>\n",
       "    </tr>\n",
       "    <tr>\n",
       "      <td>10</td>\n",
       "      <td>326.290</td>\n",
       "      <td>51.930</td>\n",
       "      <td>9,803.730</td>\n",
       "    </tr>\n",
       "    <tr>\n",
       "      <td>11</td>\n",
       "      <td>310.760</td>\n",
       "      <td>49.770</td>\n",
       "      <td>9,908.250</td>\n",
       "    </tr>\n",
       "    <tr>\n",
       "      <td>12</td>\n",
       "      <td>342.460</td>\n",
       "      <td>51.790</td>\n",
       "      <td>10,379.220</td>\n",
       "    </tr>\n",
       "  </tbody>\n",
       "</table>\n",
       "</div>"
      ],
      "text/plain": [
       "              minutes_per_month  messages_per_month  mb_per_month\n",
       "tariff month                                                     \n",
       "smart  1                154.230              16.200     6,447.380\n",
       "       2                190.820              21.750     6,249.910\n",
       "       3                191.890              26.800     5,829.970\n",
       "       4                186.490              24.540     5,700.270\n",
       "       5                186.600              27.040     5,980.730\n",
       "       6                175.340              28.400     5,793.150\n",
       "       7                179.580              28.280     5,899.410\n",
       "       8                186.530              28.950     5,595.350\n",
       "       9                183.130              28.120     5,197.750\n",
       "       10               188.130              28.570     5,861.580\n",
       "       11               177.780              28.390     5,342.350\n",
       "       12               199.250              30.580     5,575.870\n",
       "ultra  1                269.760              30.670     6,865.320\n",
       "       2                296.510              26.770    10,645.620\n",
       "       3                333.740              41.620    10,953.000\n",
       "       4                267.680              37.510     9,719.540\n",
       "       5                289.600              40.310    10,046.950\n",
       "       6                302.550              44.570     9,293.730\n",
       "       7                307.120              48.700    10,065.740\n",
       "       8                312.980              46.600    10,477.440\n",
       "       9                325.140              46.400     9,486.850\n",
       "       10               326.290              51.930     9,803.730\n",
       "       11               310.760              49.770     9,908.250\n",
       "       12               342.460              51.790    10,379.220"
      ]
     },
     "execution_count": 72,
     "metadata": {},
     "output_type": "execute_result"
    }
   ],
   "source": [
    "std_month"
   ]
  },
  {
   "cell_type": "code",
   "execution_count": 73,
   "metadata": {
    "colab": {
     "base_uri": "https://localhost:8080/",
     "height": 971
    },
    "id": "m1f0E99q5Qm2",
    "outputId": "9b36e90e-3747-4250-b9d5-7aac48b757bd"
   },
   "outputs": [
    {
     "name": "stdout",
     "output_type": "stream",
     "text": [
      "Тариф smart : Минуты\n"
     ]
    },
    {
     "data": {
      "image/png": "[encoded data removed]",
      "text/plain": [
       "<Figure size 1080x144 with 1 Axes>"
      ]
     },
     "metadata": {},
     "output_type": "display_data"
    },
    {
     "name": "stdout",
     "output_type": "stream",
     "text": [
      "Тариф ultra : Минуты\n"
     ]
    },
    {
     "data": {
      "image/png": "[encoded data removed]",
      "text/plain": [
       "<Figure size 1080x144 with 1 Axes>"
      ]
     },
     "metadata": {},
     "output_type": "display_data"
    },
    {
     "name": "stdout",
     "output_type": "stream",
     "text": [
      "Тариф smart : Сообщения\n"
     ]
    },
    {
     "data": {
      "image/png": "[encoded data removed]",
      "text/plain": [
       "<Figure size 1080x144 with 1 Axes>"
      ]
     },
     "metadata": {},
     "output_type": "display_data"
    },
    {
     "name": "stdout",
     "output_type": "stream",
     "text": [
      "Тариф ultra : Сообщения\n"
     ]
    },
    {
     "data": {
      "image/png": "[encoded data removed]",
      "text/plain": [
       "<Figure size 1080x144 with 1 Axes>"
      ]
     },
     "metadata": {},
     "output_type": "display_data"
    },
    {
     "name": "stdout",
     "output_type": "stream",
     "text": [
      "Тариф smart : Мегабайты\n"
     ]
    },
    {
     "data": {
      "image/png": "[encoded data removed]",
      "text/plain": [
       "<Figure size 1080x144 with 1 Axes>"
      ]
     },
     "metadata": {},
     "output_type": "display_data"
    },
    {
     "name": "stdout",
     "output_type": "stream",
     "text": [
      "Тариф ultra : Мегабайты\n"
     ]
    },
    {
     "data": {
      "image/png": "[encoded data removed]",
      "text/plain": [
       "<Figure size 1080x144 with 1 Axes>"
      ]
     },
     "metadata": {},
     "output_type": "display_data"
    }
   ],
   "source": [
    "boxploting(std_month, 'no')"
   ]
  },
  {
   "cell_type": "markdown",
   "metadata": {
    "id": "pHG58aiy5Qm4"
   },
   "source": [
    "#### Подсчет минут разговора, количества сообщений и объёма интернет-трафика требуется пользователям каждого тарифа по месяцам"
   ]
  },
  {
   "cell_type": "markdown",
   "metadata": {
    "id": "lYNn8Oyq5Qm5"
   },
   "source": [
    "Узнаем что и сколько нужно клиентам:"
   ]
  },
  {
   "cell_type": "code",
   "execution_count": 74,
   "metadata": {
    "id": "nMcPSsz15Qm5"
   },
   "outputs": [],
   "source": [
    "requirement = mean_month + (3 * std_month) "
   ]
  },
  {
   "cell_type": "code",
   "execution_count": 75,
   "metadata": {
    "colab": {
     "base_uri": "https://localhost:8080/",
     "height": 824
    },
    "id": "8xVhG2yJ5Qm5",
    "outputId": "5c660209-5c9f-41b2-c294-09d43053d821"
   },
   "outputs": [
    {
     "data": {
      "text/html": [
       "<div>\n",
       "<style scoped>\n",
       "    .dataframe tbody tr th:only-of-type {\n",
       "        vertical-align: middle;\n",
       "    }\n",
       "\n",
       "    .dataframe tbody tr th {\n",
       "        vertical-align: top;\n",
       "    }\n",
       "\n",
       "    .dataframe thead th {\n",
       "        text-align: right;\n",
       "    }\n",
       "</style>\n",
       "<table border=\"1\" class=\"dataframe\">\n",
       "  <thead>\n",
       "    <tr style=\"text-align: right;\">\n",
       "      <th></th>\n",
       "      <th></th>\n",
       "      <th>minutes_per_month</th>\n",
       "      <th>messages_per_month</th>\n",
       "      <th>mb_per_month</th>\n",
       "    </tr>\n",
       "    <tr>\n",
       "      <th>tariff</th>\n",
       "      <th>month</th>\n",
       "      <th></th>\n",
       "      <th></th>\n",
       "      <th></th>\n",
       "    </tr>\n",
       "  </thead>\n",
       "  <tbody>\n",
       "    <tr>\n",
       "      <td rowspan=\"12\" valign=\"top\">smart</td>\n",
       "      <td>1</td>\n",
       "      <td>666.540</td>\n",
       "      <td>66.840</td>\n",
       "      <td>27,859.460</td>\n",
       "    </tr>\n",
       "    <tr>\n",
       "      <td>2</td>\n",
       "      <td>871.150</td>\n",
       "      <td>89.340</td>\n",
       "      <td>30,352.200</td>\n",
       "    </tr>\n",
       "    <tr>\n",
       "      <td>3</td>\n",
       "      <td>965.720</td>\n",
       "      <td>112.260</td>\n",
       "      <td>32,600.940</td>\n",
       "    </tr>\n",
       "    <tr>\n",
       "      <td>4</td>\n",
       "      <td>926.600</td>\n",
       "      <td>104.360</td>\n",
       "      <td>30,569.070</td>\n",
       "    </tr>\n",
       "    <tr>\n",
       "      <td>5</td>\n",
       "      <td>947.160</td>\n",
       "      <td>114.890</td>\n",
       "      <td>33,754.410</td>\n",
       "    </tr>\n",
       "    <tr>\n",
       "      <td>6</td>\n",
       "      <td>921.660</td>\n",
       "      <td>118.600</td>\n",
       "      <td>33,181.280</td>\n",
       "    </tr>\n",
       "    <tr>\n",
       "      <td>7</td>\n",
       "      <td>947.090</td>\n",
       "      <td>118.590</td>\n",
       "      <td>33,448.750</td>\n",
       "    </tr>\n",
       "    <tr>\n",
       "      <td>8</td>\n",
       "      <td>981.060</td>\n",
       "      <td>120.490</td>\n",
       "      <td>33,404.300</td>\n",
       "    </tr>\n",
       "    <tr>\n",
       "      <td>9</td>\n",
       "      <td>978.000</td>\n",
       "      <td>118.000</td>\n",
       "      <td>31,904.440</td>\n",
       "    </tr>\n",
       "    <tr>\n",
       "      <td>10</td>\n",
       "      <td>990.530</td>\n",
       "      <td>119.480</td>\n",
       "      <td>34,349.620</td>\n",
       "    </tr>\n",
       "    <tr>\n",
       "      <td>11</td>\n",
       "      <td>968.610</td>\n",
       "      <td>119.250</td>\n",
       "      <td>32,930.670</td>\n",
       "    </tr>\n",
       "    <tr>\n",
       "      <td>12</td>\n",
       "      <td>1,076.310</td>\n",
       "      <td>127.730</td>\n",
       "      <td>34,849.760</td>\n",
       "    </tr>\n",
       "    <tr>\n",
       "      <td rowspan=\"12\" valign=\"top\">ultra</td>\n",
       "      <td>1</td>\n",
       "      <td>1,237.390</td>\n",
       "      <td>125.790</td>\n",
       "      <td>33,737.400</td>\n",
       "    </tr>\n",
       "    <tr>\n",
       "      <td>2</td>\n",
       "      <td>1,186.650</td>\n",
       "      <td>102.270</td>\n",
       "      <td>43,713.650</td>\n",
       "    </tr>\n",
       "    <tr>\n",
       "      <td>3</td>\n",
       "      <td>1,490.870</td>\n",
       "      <td>157.160</td>\n",
       "      <td>50,395.620</td>\n",
       "    </tr>\n",
       "    <tr>\n",
       "      <td>4</td>\n",
       "      <td>1,261.060</td>\n",
       "      <td>144.090</td>\n",
       "      <td>45,987.710</td>\n",
       "    </tr>\n",
       "    <tr>\n",
       "      <td>5</td>\n",
       "      <td>1,379.130</td>\n",
       "      <td>158.780</td>\n",
       "      <td>49,505.570</td>\n",
       "    </tr>\n",
       "    <tr>\n",
       "      <td>6</td>\n",
       "      <td>1,387.350</td>\n",
       "      <td>175.440</td>\n",
       "      <td>46,807.310</td>\n",
       "    </tr>\n",
       "    <tr>\n",
       "      <td>7</td>\n",
       "      <td>1,467.150</td>\n",
       "      <td>195.950</td>\n",
       "      <td>50,694.310</td>\n",
       "    </tr>\n",
       "    <tr>\n",
       "      <td>8</td>\n",
       "      <td>1,449.720</td>\n",
       "      <td>188.240</td>\n",
       "      <td>51,009.710</td>\n",
       "    </tr>\n",
       "    <tr>\n",
       "      <td>9</td>\n",
       "      <td>1,514.860</td>\n",
       "      <td>191.490</td>\n",
       "      <td>47,666.180</td>\n",
       "    </tr>\n",
       "    <tr>\n",
       "      <td>10</td>\n",
       "      <td>1,536.950</td>\n",
       "      <td>214.220</td>\n",
       "      <td>49,457.720</td>\n",
       "    </tr>\n",
       "    <tr>\n",
       "      <td>11</td>\n",
       "      <td>1,473.660</td>\n",
       "      <td>205.100</td>\n",
       "      <td>49,512.880</td>\n",
       "    </tr>\n",
       "    <tr>\n",
       "      <td>12</td>\n",
       "      <td>1,620.190</td>\n",
       "      <td>215.980</td>\n",
       "      <td>52,932.450</td>\n",
       "    </tr>\n",
       "  </tbody>\n",
       "</table>\n",
       "</div>"
      ],
      "text/plain": [
       "              minutes_per_month  messages_per_month  mb_per_month\n",
       "tariff month                                                     \n",
       "smart  1                666.540              66.840    27,859.460\n",
       "       2                871.150              89.340    30,352.200\n",
       "       3                965.720             112.260    32,600.940\n",
       "       4                926.600             104.360    30,569.070\n",
       "       5                947.160             114.890    33,754.410\n",
       "       6                921.660             118.600    33,181.280\n",
       "       7                947.090             118.590    33,448.750\n",
       "       8                981.060             120.490    33,404.300\n",
       "       9                978.000             118.000    31,904.440\n",
       "       10               990.530             119.480    34,349.620\n",
       "       11               968.610             119.250    32,930.670\n",
       "       12             1,076.310             127.730    34,849.760\n",
       "ultra  1              1,237.390             125.790    33,737.400\n",
       "       2              1,186.650             102.270    43,713.650\n",
       "       3              1,490.870             157.160    50,395.620\n",
       "       4              1,261.060             144.090    45,987.710\n",
       "       5              1,379.130             158.780    49,505.570\n",
       "       6              1,387.350             175.440    46,807.310\n",
       "       7              1,467.150             195.950    50,694.310\n",
       "       8              1,449.720             188.240    51,009.710\n",
       "       9              1,514.860             191.490    47,666.180\n",
       "       10             1,536.950             214.220    49,457.720\n",
       "       11             1,473.660             205.100    49,512.880\n",
       "       12             1,620.190             215.980    52,932.450"
      ]
     },
     "execution_count": 75,
     "metadata": {},
     "output_type": "execute_result"
    }
   ],
   "source": [
    "requirement"
   ]
  },
  {
   "cell_type": "code",
   "execution_count": 76,
   "metadata": {
    "id": "Je1mwHUW5Qm6"
   },
   "outputs": [],
   "source": [
    "def ploting(data):       \n",
    "    for name in values_list:\n",
    "        if name == 'minutes_per_month':\n",
    "                title = ('Минуты')\n",
    "        elif name == 'messages_per_month':\n",
    "                title = ('Сообщения')\n",
    "        else:\n",
    "                title = ('Мегабайты')\n",
    "        \n",
    "        data.loc[['smart']][name].plot(kind='line', title=title, legend=True)\n",
    "        data.loc[['ultra']][name].plot(kind='line', legend=True)\n",
    "        plt.show()"
   ]
  },
  {
   "cell_type": "markdown",
   "metadata": {
    "id": "4diWW0WB5Qm6"
   },
   "source": [
    "Распределение количества услуг по месяцам для пользователей обоих тарифов.\n",
    "\n",
    "- smart - синий\n",
    "- ultra - оранжевый"
   ]
  },
  {
   "cell_type": "code",
   "execution_count": 77,
   "metadata": {
    "colab": {
     "base_uri": "https://localhost:8080/",
     "height": 869
    },
    "id": "XqJwTlFO5Qm6",
    "outputId": "f6359f8b-a92f-4620-c312-afff185d1252"
   },
   "outputs": [
    {
     "data": {
      "image/png": "[encoded data removed]",
      "text/plain": [
       "<Figure size 432x288 with 1 Axes>"
      ]
     },
     "metadata": {},
     "output_type": "display_data"
    },
    {
     "data": {
      "image/png": "[encoded data removed]",
      "text/plain": [
       "<Figure size 432x288 with 1 Axes>"
      ]
     },
     "metadata": {},
     "output_type": "display_data"
    },
    {
     "data": {
      "image/png": "[encoded data removed]",
      "text/plain": [
       "<Figure size 432x288 with 1 Axes>"
      ]
     },
     "metadata": {},
     "output_type": "display_data"
    }
   ],
   "source": [
    "ploting(requirement)"
   ]
  },
  {
   "cell_type": "markdown",
   "metadata": {
    "id": "0Zohb_XV5Qm6"
   },
   "source": [
    "Можно увидеть на графиках рост летом, к концу года. Наверное это связано с сезоном отпусков (фоточки шлют и выкладыват) и Новогодней суетой"
   ]
  },
  {
   "cell_type": "code",
   "execution_count": 78,
   "metadata": {
    "colab": {
     "base_uri": "https://localhost:8080/"
    },
    "id": "6Uk0iSBZ5Qm7",
    "outputId": "e59aa3d4-e993-423d-c90a-b458574f7ad3"
   },
   "outputs": [
    {
     "name": "stdout",
     "output_type": "stream",
     "text": [
      "Среднее количество минут в месяц, удовлетворяющее большинство клиентов тарифа smart: 936.7025\n",
      "Среднее количество сообщений в месяц, удовлетворяющее большинство клиентов тарифа smart: 110.81916666666666\n",
      "Среднее количество мегабайт в месяц, удовлетворяющее большинство клиентов тарифа smart: 32433.741666666665\n",
      "\n",
      "Среднее количество минут в месяц, удовлетворяющее большинство клиентов тарифа ultra: 1417.0816666666667\n",
      "Среднее количество сообщений в месяц, удовлетворяющее большинство клиентов тарифа ultra: 172.87583333333336\n",
      "Среднее количество мегабайт в месяц, удовлетворяющее большинство клиентов тарифа ultra: 47618.37583333333\n",
      "\n"
     ]
    }
   ],
   "source": [
    "tarif = ['smart', 'ultra']\n",
    "for name in tarif:\n",
    "    print('Среднее количество минут в месяц, удовлетворяющее большинство клиентов тарифа {}:'.format(name),\n",
    "          requirement.loc[[name]]['minutes_per_month'].mean())\n",
    "    print('Среднее количество сообщений в месяц, удовлетворяющее большинство клиентов тарифа {}:'.format(name),\n",
    "          requirement.loc[[name]]['messages_per_month'].mean())\n",
    "    print('Среднее количество мегабайт в месяц, удовлетворяющее большинство клиентов тарифа {}:'.format(name),\n",
    "          requirement.loc[[name]]['mb_per_month'].mean())\n",
    "    print()"
   ]
  },
  {
   "cell_type": "markdown",
   "metadata": {
    "id": "ryPgC_1M5Qm7"
   },
   "source": [
    "#### Выводы"
   ]
  },
  {
   "cell_type": "markdown",
   "metadata": {
    "id": "ynitjU5Q5Qm7"
   },
   "source": [
    "Данные количества минут, сообщений и мегабайт для обоих тарифов симметричны относительно среднего, распределение нормальное. Были найдены предельные значения этих показателей, которые удовлетворят большинство клиентов."
   ]
  },
  {
   "cell_type": "markdown",
   "metadata": {
    "id": "7E6oFfE65Qm7"
   },
   "source": [
    "Гистограммы по каждому параметры для двух тарифов:"
   ]
  },
  {
   "cell_type": "code",
   "execution_count": 79,
   "metadata": {
    "colab": {
     "base_uri": "https://localhost:8080/",
     "height": 821
    },
    "id": "RNfo8XeJ5Qm8",
    "outputId": "b4c2aaa0-486e-4289-dbdf-67842de684c9"
   },
   "outputs": [
    {
     "data": {
      "image/png": "[encoded data removed]",
      "text/plain": [
       "<Figure size 432x288 with 1 Axes>"
      ]
     },
     "metadata": {},
     "output_type": "display_data"
    },
    {
     "data": {
      "image/png": "[encoded data removed]",
      "text/plain": [
       "<Figure size 432x288 with 1 Axes>"
      ]
     },
     "metadata": {},
     "output_type": "display_data"
    },
    {
     "data": {
      "image/png": "[encoded data removed]",
      "text/plain": [
       "<Figure size 432x288 with 1 Axes>"
      ]
     },
     "metadata": {},
     "output_type": "display_data"
    }
   ],
   "source": [
    "for name in values_list:\n",
    "    histing(statistics_per_user.query('tariff == \"smart\"'), name, 'Тариф Smart')\n",
    "    histing(statistics_per_user.query('tariff == \"ultra\"'), name, 'Тариф Smart - СИНИЙ, тариф ultra - ОРАНЖЕВЫЙ')\n",
    "    plt.show()"
   ]
  },
  {
   "cell_type": "markdown",
   "metadata": {
    "id": "QfEsjNop5Qm8"
   },
   "source": [
    "Абоненты тарифа __ultra__ не выходят за лимиты по показателям минут и сообщений, однако забирают интернет сверх лимита.\n",
    "\n",
    "\n",
    "Пользователям __smart__ интернета явно не хватает. Очень часто они используют интернет сверх лимита. Также превышают лимит по показателям звонков и СМС."
   ]
  },
  {
   "cell_type": "markdown",
   "metadata": {
    "id": "NFr55SJ85Qm8"
   },
   "source": [
    "Высчитали среднее количество \"услуг\" (минуты, сообщения, интернет), чтобы клиент каждого тарифа чувствовал себя счастилым:  \n",
    "\n",
    "Пользователям тарифа smart требуется:\n",
    "  -  минут: до 851\n",
    "  -  сообщений: до 111\n",
    "  -  мегабайт: до 26968\n",
    "  \n",
    "  Пользователям тарифа smart следует предложить тариф с увеличенным лимитом по услугам.\n",
    "\n",
    "Пользователям тарифа ultra требуется:\n",
    "  -  минут: до 1351\n",
    "  -  сообщений: до 191\n",
    "  -  мегабайт: до 44559"
   ]
  },
  {
   "cell_type": "markdown",
   "metadata": {
    "id": "AWyezjTA5Qm9"
   },
   "source": [
    "## 4. Проверка гипотез"
   ]
  },
  {
   "cell_type": "markdown",
   "metadata": {
    "id": "p-flKH2K5Qm9"
   },
   "source": [
    "### Средняя выручка пользователей тарифов «Ультра» и «Смарт» различается"
   ]
  },
  {
   "cell_type": "markdown",
   "metadata": {
    "id": "6N2QU0Yv5Qm9"
   },
   "source": [
    "Формулируем __нулевую гипотезу Н0__ исходя из того, что средняя выручка от клиентов двух тарифов равна.\n",
    "\n",
    "Тогда __альтернативная гипотеза Н1__ - средняя выручка клиентов не равна."
   ]
  },
  {
   "cell_type": "markdown",
   "metadata": {
    "id": "SSpO9acI5Qm-"
   },
   "source": [
    "Сформируем срезы по тарифам"
   ]
  },
  {
   "cell_type": "code",
   "execution_count": 80,
   "metadata": {
    "id": "mfQtOzZ45Qm-"
   },
   "outputs": [],
   "source": [
    "smart_revenue = all_calls_messages_internet[all_calls_messages_internet['tariff'] == 'smart']['total_income']\n",
    "ultra_revenue = all_calls_messages_internet[all_calls_messages_internet['tariff'] == 'ultra']['total_income']"
   ]
  },
  {
   "cell_type": "markdown",
   "metadata": {
    "id": "1GdlEIIk5Qm-"
   },
   "source": [
    "<div class=\"alert alert-info\"> <b>Сделал</b></div>"
   ]
  },
  {
   "cell_type": "markdown",
   "metadata": {
    "id": "8wY1AxlF5Qm_"
   },
   "source": [
    "Средняя выручка по тарифам:"
   ]
  },
  {
   "cell_type": "code",
   "execution_count": 81,
   "metadata": {
    "colab": {
     "base_uri": "https://localhost:8080/"
    },
    "id": "IxiO6jbq5Qm_",
    "outputId": "fb31aa9c-c514-4a39-98a7-98106037f46e"
   },
   "outputs": [
    {
     "name": "stdout",
     "output_type": "stream",
     "text": [
      "Средняя выручка для smart: 1231.1749663526246\n",
      "Средняя выручка для ultra: 2059.8578680203045\n"
     ]
    }
   ],
   "source": [
    "print('Средняя выручка для smart:', np.mean(smart_revenue))\n",
    "print('Средняя выручка для ultra:', np.mean(ultra_revenue))"
   ]
  },
  {
   "cell_type": "markdown",
   "metadata": {
    "id": "xSNOW4TG5Qm_"
   },
   "source": [
    "Проверим нулевую гипотезу с помощью т-теста:"
   ]
  },
  {
   "cell_type": "markdown",
   "metadata": {
    "id": "FtZ_2zSB5Qm_"
   },
   "source": [
    "Выборки из разных тарифов, поэтому используем метод ttest"
   ]
  },
  {
   "cell_type": "code",
   "execution_count": 82,
   "metadata": {
    "colab": {
     "base_uri": "https://localhost:8080/"
    },
    "id": "RgxNFMpF5QnA",
    "outputId": "1ffe2ab5-1b6b-459b-c59f-a1acae5005a6"
   },
   "outputs": [
    {
     "name": "stdout",
     "output_type": "stream",
     "text": [
      "p-значение:  6.980546461552268e-298\n",
      "Отвергаем гипотезу Н0 о равенстве значений: разница между средней прибылью от клиентов двух тарифов различается\n"
     ]
    }
   ],
   "source": [
    "alpha = .05 \n",
    "\n",
    "results = scipy.stats.ttest_ind(smart_revenue,\n",
    "                         ultra_revenue,\n",
    "                         equal_var=False)\n",
    "\n",
    "print('p-значение: ', results.pvalue)\n",
    "\n",
    "if (results.pvalue < alpha):\n",
    "    print('Отвергаем гипотезу Н0 о равенстве значений: разница между средней прибылью от клиентов двух тарифов различается')\n",
    "else:\n",
    "    print('Отвергнуть гипотезу не получилось: значения не имеют значимых различий')"
   ]
  },
  {
   "cell_type": "markdown",
   "metadata": {
    "id": "x8-p2P4G5QnA"
   },
   "source": [
    "Разница между средней прибылью от пользователей двух тарифов различается, Ультра тариф явно впереди"
   ]
  },
  {
   "cell_type": "markdown",
   "metadata": {
    "id": "AhoT2p5c5QnA"
   },
   "source": [
    "### Средняя выручка пользователей из Москвы отличается от выручки пользователей из других регионов"
   ]
  },
  {
   "cell_type": "markdown",
   "metadata": {
    "id": "KGFbfzp-5QnA"
   },
   "source": [
    "Формируем срезы по городам:"
   ]
  },
  {
   "cell_type": "code",
   "execution_count": 83,
   "metadata": {
    "id": "GV89mCzk5QnB"
   },
   "outputs": [],
   "source": [
    "moscow_revenue = all_calls_messages_internet[all_calls_messages_internet['city'] == 'Москва']['total_income']\n",
    "other_revenue = all_calls_messages_internet[all_calls_messages_internet['city'] != 'Москва']['total_income']"
   ]
  },
  {
   "cell_type": "code",
   "execution_count": 84,
   "metadata": {
    "colab": {
     "base_uri": "https://localhost:8080/"
    },
    "id": "km9JynB85QnB",
    "outputId": "5210892c-b351-431e-af0c-1f394d671a4e"
   },
   "outputs": [
    {
     "name": "stdout",
     "output_type": "stream",
     "text": [
      "Средняя выручка для Москвы: 1505.7037643207857\n",
      "Средняя выручка для всех остальных городов: 1480.3165578179023\n"
     ]
    }
   ],
   "source": [
    "print('Средняя выручка для Москвы:', np.mean(moscow_revenue))\n",
    "print('Средняя выручка для всех остальных городов:', np.mean(other_revenue))"
   ]
  },
  {
   "cell_type": "markdown",
   "metadata": {
    "id": "AaDz52Ej5QnC"
   },
   "source": [
    "Формулируем нулевую гипотезу Н0 исходя из того, что средняя выручка от абонентов Москвы и остальных городов равна.\n",
    "\n",
    "Иначе гипотеза Н1 - средняя выручка различается."
   ]
  },
  {
   "cell_type": "markdown",
   "metadata": {
    "id": "D7FRqc1T5QnC"
   },
   "source": [
    "В данном случае выборки также являются выборками из двух генеральных совокупностей - Москва / другие города, - поэтому используем метод __scipy.stats.ttest_ind()__."
   ]
  },
  {
   "cell_type": "code",
   "execution_count": 85,
   "metadata": {
    "colab": {
     "base_uri": "https://localhost:8080/"
    },
    "id": "YjHzPj-p5QnC",
    "outputId": "f551d09d-a665-4a78-f10f-e930a395eb2e"
   },
   "outputs": [
    {
     "name": "stdout",
     "output_type": "stream",
     "text": [
      "p-значение:  0.45140054959267073\n",
      "Отвергнуть гипотезу не получилось: значения не имеют значимых различий\n"
     ]
    }
   ],
   "source": [
    "alpha = .05 \n",
    "\n",
    "results = scipy.stats.ttest_ind(moscow_revenue,\n",
    "                                other_revenue,\n",
    "                                equal_var=False)\n",
    "\n",
    "print('p-значение: ', results.pvalue) \n",
    "\n",
    "if (results.pvalue < alpha):\n",
    "    print('Отвергаем гипотезу Н0 о равенстве значений: разница между средней прибылью от клиентов Москвы и других городов различается')\n",
    "else:\n",
    "    print('Отвергнуть гипотезу не получилось: значения не имеют значимых различий')"
   ]
  },
  {
   "cell_type": "markdown",
   "metadata": {
    "id": "eAftX8DM5QnC"
   },
   "source": [
    "### Выводы"
   ]
  },
  {
   "cell_type": "markdown",
   "metadata": {
    "id": "4hRiJmAr5QnD"
   },
   "source": [
    "Нам надо было проверить 2 утверждения:\n",
    "1. средняя выручка пользователей тарифов «Ультра» и «Смарт» различаются.  \n",
    "Сформулировали 2 гипотезы: нулевая - что средняя выручка клиентов равна и альтернативная - средняя выручка различается.\n",
    "Мы посчитали среднюю выручку 2х тарифов, провели ttest и получили такой результат: Выручка двух тарифов различается.  \n",
    "2. средняя выручка пользователей из Москвы отличается от выручки пользователей из других регионов.\n",
    "Сформулировали 2 гипотезы: нулевая - что средняя выручка клиентов Москвы и средняя выручка клиентов остальных городов равны и и альтернативная - средняя выручка различается.  \n",
    "Провели ttest, он не опревергнул нулевую гипотезу - выручки похожи."
   ]
  },
  {
   "cell_type": "markdown",
   "metadata": {
    "id": "bV_-VsJt5QnD"
   },
   "source": [
    "# Общие выводы"
   ]
  },
  {
   "cell_type": "markdown",
   "metadata": {
    "id": "kqhTismB5QnD"
   },
   "source": [
    "Тарифы значительно различаются, как по поведению клиентов, так и по выручке для \"Мегалайн\". Узнали значения тарифов (минуты, сообщения и мегабайты) которые удовлетворили бы большинство клиентов.  \n",
    "Клиенты тарифа \"смарт\" используют чуть меньшее количество минут звонков и сообщений в месяц, чем пользователи \"ультра\". Лимита на звонки и минуты в \"ультра\" в среднем не достигает никто. При этом интернетом пользователи \"ультра\" пользуются гораздо активнее. Скорее всего, пользователи \"ультра\" выбирают этот тариф из-за большего интернет-трафика.   \n",
    "Тариф \"ультра\" приносит компании бОльшую выручку. Скорее всего нужно уделить больше внимания на его продвижении - в Москве и других регионах."
   ]
  },
  {
   "cell_type": "code",
   "execution_count": null,
   "metadata": {
    "id": "uinOobAW5QnE"
   },
   "outputs": [],
   "source": []
  }
 ],
 "metadata": {
  "ExecuteTimeLog": [
   {
    "duration": 1043,
    "start_time": "2021-12-06T05:33:22.877Z"
   },
   {
    "duration": 1385,
    "start_time": "2021-12-06T05:33:25.319Z"
   },
   {
    "duration": 27,
    "start_time": "2021-12-06T05:34:04.100Z"
   },
   {
    "duration": 4,
    "start_time": "2021-12-06T05:34:07.968Z"
   },
   {
    "duration": 11,
    "start_time": "2021-12-06T05:34:19.977Z"
   },
   {
    "duration": 12,
    "start_time": "2021-12-06T05:36:41.221Z"
   },
   {
    "duration": 12,
    "start_time": "2021-12-06T05:36:49.209Z"
   },
   {
    "duration": 26,
    "start_time": "2021-12-06T05:37:01.647Z"
   },
   {
    "duration": 23,
    "start_time": "2021-12-06T05:38:36.017Z"
   },
   {
    "duration": 20,
    "start_time": "2021-12-06T05:39:08.960Z"
   },
   {
    "duration": 11,
    "start_time": "2021-12-06T05:39:37.679Z"
   },
   {
    "duration": 14,
    "start_time": "2021-12-06T05:40:08.257Z"
   },
   {
    "duration": 317,
    "start_time": "2021-12-06T05:43:25.609Z"
   },
   {
    "duration": 294,
    "start_time": "2021-12-06T05:43:52.222Z"
   },
   {
    "duration": 298,
    "start_time": "2021-12-06T05:44:08.329Z"
   },
   {
    "duration": 274,
    "start_time": "2021-12-06T05:44:16.168Z"
   },
   {
    "duration": 241,
    "start_time": "2021-12-06T05:44:48.545Z"
   },
   {
    "duration": 14,
    "start_time": "2021-12-06T05:44:58.225Z"
   },
   {
    "duration": 7,
    "start_time": "2021-12-06T05:45:19.636Z"
   },
   {
    "duration": 3,
    "start_time": "2021-12-06T05:46:40.385Z"
   },
   {
    "duration": 4,
    "start_time": "2021-12-06T06:07:52.006Z"
   },
   {
    "duration": 5,
    "start_time": "2021-12-06T06:15:56.484Z"
   },
   {
    "duration": 439,
    "start_time": "2021-12-06T06:16:22.284Z"
   },
   {
    "duration": 5,
    "start_time": "2021-12-06T06:18:02.306Z"
   },
   {
    "duration": 454,
    "start_time": "2021-12-06T06:18:05.187Z"
   },
   {
    "duration": 5,
    "start_time": "2021-12-06T06:18:29.851Z"
   },
   {
    "duration": 66,
    "start_time": "2021-12-06T06:18:32.363Z"
   },
   {
    "duration": 5,
    "start_time": "2021-12-06T06:18:42.530Z"
   },
   {
    "duration": 469,
    "start_time": "2021-12-06T06:18:46.499Z"
   },
   {
    "duration": 5,
    "start_time": "2021-12-06T07:22:50.262Z"
   },
   {
    "duration": 26,
    "start_time": "2021-12-06T07:22:52.958Z"
   },
   {
    "duration": 4,
    "start_time": "2021-12-06T07:23:39.819Z"
   },
   {
    "duration": 3,
    "start_time": "2021-12-06T07:26:26.269Z"
   },
   {
    "duration": 1063,
    "start_time": "2021-12-06T07:26:33.754Z"
   },
   {
    "duration": 1023,
    "start_time": "2021-12-06T07:26:35.430Z"
   },
   {
    "duration": 28,
    "start_time": "2021-12-06T07:26:37.831Z"
   },
   {
    "duration": 5,
    "start_time": "2021-12-06T07:26:38.655Z"
   },
   {
    "duration": 11,
    "start_time": "2021-12-06T07:26:39.991Z"
   },
   {
    "duration": 22,
    "start_time": "2021-12-06T07:26:41.645Z"
   },
   {
    "duration": 18,
    "start_time": "2021-12-06T07:26:42.326Z"
   },
   {
    "duration": 10,
    "start_time": "2021-12-06T07:26:43.663Z"
   },
   {
    "duration": 14,
    "start_time": "2021-12-06T07:26:44.799Z"
   },
   {
    "duration": 7,
    "start_time": "2021-12-06T07:26:45.302Z"
   },
   {
    "duration": 4,
    "start_time": "2021-12-06T07:26:46.325Z"
   },
   {
    "duration": 4,
    "start_time": "2021-12-06T07:26:50.678Z"
   },
   {
    "duration": 68,
    "start_time": "2021-12-06T07:26:58.721Z"
   },
   {
    "duration": 4,
    "start_time": "2021-12-06T07:27:21.766Z"
   },
   {
    "duration": 23,
    "start_time": "2021-12-06T07:27:24.871Z"
   },
   {
    "duration": 21,
    "start_time": "2021-12-06T07:27:41.279Z"
   },
   {
    "duration": 4,
    "start_time": "2021-12-06T07:28:22.375Z"
   },
   {
    "duration": 22,
    "start_time": "2021-12-06T07:28:23.303Z"
   },
   {
    "duration": 4,
    "start_time": "2021-12-06T07:28:46.767Z"
   },
   {
    "duration": 18,
    "start_time": "2021-12-06T07:28:47.641Z"
   },
   {
    "duration": 16,
    "start_time": "2021-12-06T07:29:07.951Z"
   },
   {
    "duration": 15,
    "start_time": "2021-12-06T07:29:23.845Z"
   },
   {
    "duration": 10,
    "start_time": "2021-12-06T07:29:36.775Z"
   },
   {
    "duration": 6,
    "start_time": "2021-12-06T07:29:48.312Z"
   },
   {
    "duration": 4,
    "start_time": "2021-12-06T07:38:06.134Z"
   },
   {
    "duration": 5,
    "start_time": "2021-12-06T07:45:58.927Z"
   },
   {
    "duration": 57,
    "start_time": "2021-12-06T07:46:02.191Z"
   },
   {
    "duration": 340,
    "start_time": "2021-12-06T07:46:12.954Z"
   },
   {
    "duration": 5,
    "start_time": "2021-12-06T07:46:25.578Z"
   },
   {
    "duration": 52,
    "start_time": "2021-12-06T07:46:27.599Z"
   },
   {
    "duration": 224,
    "start_time": "2021-12-06T07:47:28.745Z"
   },
   {
    "duration": 229,
    "start_time": "2021-12-06T07:48:23.677Z"
   },
   {
    "duration": 5,
    "start_time": "2021-12-06T07:48:27.897Z"
   },
   {
    "duration": 52,
    "start_time": "2021-12-06T07:48:29.439Z"
   },
   {
    "duration": 41,
    "start_time": "2021-12-06T07:49:00.608Z"
   },
   {
    "duration": 45,
    "start_time": "2021-12-06T07:49:31.128Z"
   },
   {
    "duration": 228,
    "start_time": "2021-12-06T07:50:43.641Z"
   },
   {
    "duration": 239,
    "start_time": "2021-12-06T07:50:50.208Z"
   },
   {
    "duration": 220,
    "start_time": "2021-12-06T07:51:17.009Z"
   },
   {
    "duration": 234,
    "start_time": "2021-12-06T07:52:04.953Z"
   },
   {
    "duration": 231,
    "start_time": "2021-12-06T07:54:20.281Z"
   },
   {
    "duration": 5,
    "start_time": "2021-12-06T07:55:14.879Z"
   },
   {
    "duration": 52,
    "start_time": "2021-12-06T07:55:16.795Z"
   },
   {
    "duration": 38,
    "start_time": "2021-12-06T07:55:18.278Z"
   },
   {
    "duration": 43,
    "start_time": "2021-12-06T07:55:19.640Z"
   },
   {
    "duration": 247,
    "start_time": "2021-12-06T07:55:21.950Z"
   },
   {
    "duration": 249,
    "start_time": "2021-12-06T07:57:00.493Z"
   },
   {
    "duration": 223,
    "start_time": "2021-12-06T07:57:32.584Z"
   },
   {
    "duration": 584,
    "start_time": "2021-12-06T07:58:08.826Z"
   },
   {
    "duration": 228,
    "start_time": "2021-12-06T07:58:38.377Z"
   },
   {
    "duration": 240,
    "start_time": "2021-12-06T07:58:52.865Z"
   },
   {
    "duration": 231,
    "start_time": "2021-12-06T07:59:52.833Z"
   },
   {
    "duration": 238,
    "start_time": "2021-12-06T08:05:39.033Z"
   },
   {
    "duration": 22,
    "start_time": "2021-12-06T08:06:50.874Z"
   },
   {
    "duration": 20,
    "start_time": "2021-12-06T08:08:02.387Z"
   },
   {
    "duration": 4,
    "start_time": "2021-12-06T08:08:59.275Z"
   },
   {
    "duration": 7,
    "start_time": "2021-12-06T08:09:20.715Z"
   },
   {
    "duration": 10,
    "start_time": "2021-12-06T08:09:58.546Z"
   },
   {
    "duration": 10,
    "start_time": "2021-12-06T08:10:13.163Z"
   },
   {
    "duration": 1004,
    "start_time": "2021-12-06T08:10:41.513Z"
   },
   {
    "duration": 1147,
    "start_time": "2021-12-06T08:10:42.519Z"
   },
   {
    "duration": 27,
    "start_time": "2021-12-06T08:10:43.668Z"
   },
   {
    "duration": 4,
    "start_time": "2021-12-06T08:10:43.696Z"
   },
   {
    "duration": 10,
    "start_time": "2021-12-06T08:10:43.702Z"
   },
   {
    "duration": 21,
    "start_time": "2021-12-06T08:10:44.376Z"
   },
   {
    "duration": 18,
    "start_time": "2021-12-06T08:10:44.736Z"
   },
   {
    "duration": 11,
    "start_time": "2021-12-06T08:10:45.087Z"
   },
   {
    "duration": 13,
    "start_time": "2021-12-06T08:10:45.736Z"
   },
   {
    "duration": 6,
    "start_time": "2021-12-06T08:10:46.111Z"
   },
   {
    "duration": 3,
    "start_time": "2021-12-06T08:10:47.031Z"
   },
   {
    "duration": 4,
    "start_time": "2021-12-06T08:10:49.856Z"
   },
   {
    "duration": 60,
    "start_time": "2021-12-06T08:10:50.672Z"
   },
   {
    "duration": 17,
    "start_time": "2021-12-06T08:10:51.360Z"
   },
   {
    "duration": 16,
    "start_time": "2021-12-06T08:10:52.897Z"
   },
   {
    "duration": 10,
    "start_time": "2021-12-06T08:10:53.439Z"
   },
   {
    "duration": 7,
    "start_time": "2021-12-06T08:10:53.631Z"
   },
   {
    "duration": 4,
    "start_time": "2021-12-06T08:10:55.856Z"
   },
   {
    "duration": 4,
    "start_time": "2021-12-06T08:11:00.680Z"
   },
   {
    "duration": 58,
    "start_time": "2021-12-06T08:11:07.089Z"
   },
   {
    "duration": 39,
    "start_time": "2021-12-06T08:11:08.634Z"
   },
   {
    "duration": 42,
    "start_time": "2021-12-06T08:11:10.048Z"
   },
   {
    "duration": 21,
    "start_time": "2021-12-06T08:11:13.288Z"
   },
   {
    "duration": 3,
    "start_time": "2021-12-06T08:11:15.111Z"
   },
   {
    "duration": 12,
    "start_time": "2021-12-06T08:11:16.041Z"
   },
   {
    "duration": 20,
    "start_time": "2021-12-06T08:11:47.126Z"
   },
   {
    "duration": 11,
    "start_time": "2021-12-06T08:11:47.934Z"
   },
   {
    "duration": 37,
    "start_time": "2021-12-06T08:13:10.846Z"
   },
   {
    "duration": 38,
    "start_time": "2021-12-06T08:13:53.273Z"
   },
   {
    "duration": 748,
    "start_time": "2021-12-06T08:14:07.793Z"
   },
   {
    "duration": 4,
    "start_time": "2021-12-06T08:14:24.689Z"
   },
   {
    "duration": 6,
    "start_time": "2021-12-06T08:14:26.335Z"
   },
   {
    "duration": 9,
    "start_time": "2021-12-06T08:15:01.059Z"
   },
   {
    "duration": 3,
    "start_time": "2021-12-06T08:16:40.402Z"
   },
   {
    "duration": 7,
    "start_time": "2021-12-06T08:18:20.979Z"
   },
   {
    "duration": 8,
    "start_time": "2021-12-06T08:18:52.514Z"
   },
   {
    "duration": 24,
    "start_time": "2021-12-06T08:19:01.592Z"
   },
   {
    "duration": 359,
    "start_time": "2021-12-06T08:26:12.998Z"
   },
   {
    "duration": 22,
    "start_time": "2021-12-06T08:26:14.268Z"
   },
   {
    "duration": 226,
    "start_time": "2021-12-06T08:26:50.900Z"
   },
   {
    "duration": 241,
    "start_time": "2021-12-06T08:28:00.987Z"
   },
   {
    "duration": 313,
    "start_time": "2021-12-06T08:28:10.023Z"
   },
   {
    "duration": 1016,
    "start_time": "2021-12-06T08:28:27.801Z"
   },
   {
    "duration": 863,
    "start_time": "2021-12-06T08:28:30.500Z"
   },
   {
    "duration": 27,
    "start_time": "2021-12-06T08:28:31.674Z"
   },
   {
    "duration": 4,
    "start_time": "2021-12-06T08:28:31.891Z"
   },
   {
    "duration": 11,
    "start_time": "2021-12-06T08:28:32.274Z"
   },
   {
    "duration": 21,
    "start_time": "2021-12-06T08:28:32.802Z"
   },
   {
    "duration": 19,
    "start_time": "2021-12-06T08:28:33.172Z"
   },
   {
    "duration": 10,
    "start_time": "2021-12-06T08:28:33.539Z"
   },
   {
    "duration": 14,
    "start_time": "2021-12-06T08:28:34.788Z"
   },
   {
    "duration": 6,
    "start_time": "2021-12-06T08:28:35.195Z"
   },
   {
    "duration": 3,
    "start_time": "2021-12-06T08:28:35.570Z"
   },
   {
    "duration": 4,
    "start_time": "2021-12-06T08:28:37.228Z"
   },
   {
    "duration": 60,
    "start_time": "2021-12-06T08:28:37.396Z"
   },
   {
    "duration": 16,
    "start_time": "2021-12-06T08:28:37.571Z"
   },
   {
    "duration": 16,
    "start_time": "2021-12-06T08:28:37.748Z"
   },
   {
    "duration": 12,
    "start_time": "2021-12-06T08:28:37.929Z"
   },
   {
    "duration": 7,
    "start_time": "2021-12-06T08:28:38.112Z"
   },
   {
    "duration": 3,
    "start_time": "2021-12-06T08:28:39.338Z"
   },
   {
    "duration": 5,
    "start_time": "2021-12-06T08:28:40.514Z"
   },
   {
    "duration": 59,
    "start_time": "2021-12-06T08:28:42.212Z"
   },
   {
    "duration": 37,
    "start_time": "2021-12-06T08:28:43.363Z"
   },
   {
    "duration": 43,
    "start_time": "2021-12-06T08:28:43.747Z"
   },
   {
    "duration": 23,
    "start_time": "2021-12-06T08:28:47.993Z"
   },
   {
    "duration": 11,
    "start_time": "2021-12-06T08:28:50.428Z"
   },
   {
    "duration": 5,
    "start_time": "2021-12-06T08:28:52.810Z"
   },
   {
    "duration": 6,
    "start_time": "2021-12-06T08:28:57.245Z"
   },
   {
    "duration": 9,
    "start_time": "2021-12-06T08:28:59.637Z"
   },
   {
    "duration": 3,
    "start_time": "2021-12-06T08:29:06.770Z"
   },
   {
    "duration": 7,
    "start_time": "2021-12-06T08:29:45.268Z"
   },
   {
    "duration": 8,
    "start_time": "2021-12-06T08:29:47.306Z"
   },
   {
    "duration": 22,
    "start_time": "2021-12-06T08:29:52.811Z"
   },
   {
    "duration": 6,
    "start_time": "2021-12-06T08:34:24.879Z"
   },
   {
    "duration": 6,
    "start_time": "2021-12-06T08:44:32.267Z"
   },
   {
    "duration": 5916,
    "start_time": "2021-12-06T08:46:53.732Z"
   },
   {
    "duration": 6097,
    "start_time": "2021-12-06T08:48:03.276Z"
   },
   {
    "duration": 7,
    "start_time": "2021-12-06T08:49:04.632Z"
   },
   {
    "duration": 502,
    "start_time": "2021-12-06T08:49:07.213Z"
   },
   {
    "duration": 6,
    "start_time": "2021-12-06T08:49:31.897Z"
   },
   {
    "duration": 43,
    "start_time": "2021-12-06T08:49:33.269Z"
   },
   {
    "duration": 5,
    "start_time": "2021-12-06T08:51:06.452Z"
   },
   {
    "duration": 18,
    "start_time": "2021-12-06T08:51:26.574Z"
   },
   {
    "duration": 4,
    "start_time": "2021-12-06T08:58:43.340Z"
   },
   {
    "duration": 15,
    "start_time": "2021-12-06T08:59:14.158Z"
   },
   {
    "duration": 9,
    "start_time": "2021-12-06T08:59:26.113Z"
   },
   {
    "duration": 19,
    "start_time": "2021-12-06T09:07:10.672Z"
   },
   {
    "duration": 230,
    "start_time": "2021-12-06T09:11:34.232Z"
   },
   {
    "duration": 3,
    "start_time": "2021-12-06T09:11:54.500Z"
   },
   {
    "duration": 3,
    "start_time": "2021-12-06T09:11:55.862Z"
   },
   {
    "duration": 1574,
    "start_time": "2021-12-06T09:11:57.966Z"
   },
   {
    "duration": 4,
    "start_time": "2021-12-06T09:14:37.776Z"
   },
   {
    "duration": 1511,
    "start_time": "2021-12-06T09:14:49.220Z"
   },
   {
    "duration": 262,
    "start_time": "2021-12-06T09:15:27.928Z"
   },
   {
    "duration": 1584,
    "start_time": "2021-12-06T09:15:44.798Z"
   },
   {
    "duration": 4,
    "start_time": "2021-12-06T09:16:15.136Z"
   },
   {
    "duration": 5,
    "start_time": "2021-12-06T09:29:24.097Z"
   },
   {
    "duration": 5,
    "start_time": "2021-12-06T09:31:21.209Z"
   },
   {
    "duration": 534,
    "start_time": "2021-12-06T09:31:35.705Z"
   },
   {
    "duration": 4,
    "start_time": "2021-12-06T09:31:59.186Z"
   },
   {
    "duration": 493,
    "start_time": "2021-12-06T09:32:01.896Z"
   },
   {
    "duration": 4,
    "start_time": "2021-12-06T09:32:22.442Z"
   },
   {
    "duration": 1346,
    "start_time": "2021-12-06T09:32:24.395Z"
   },
   {
    "duration": 5,
    "start_time": "2021-12-06T09:32:54.150Z"
   },
   {
    "duration": 1316,
    "start_time": "2021-12-06T09:32:56.136Z"
   },
   {
    "duration": 5,
    "start_time": "2021-12-06T09:33:06.404Z"
   },
   {
    "duration": 1280,
    "start_time": "2021-12-06T09:33:08.592Z"
   },
   {
    "duration": 14,
    "start_time": "2021-12-06T09:36:24.034Z"
   },
   {
    "duration": 4,
    "start_time": "2021-12-06T09:38:12.842Z"
   },
   {
    "duration": 14,
    "start_time": "2021-12-06T09:38:20.746Z"
   },
   {
    "duration": 13,
    "start_time": "2021-12-06T09:39:18.471Z"
   },
   {
    "duration": 5,
    "start_time": "2021-12-06T09:41:30.624Z"
   },
   {
    "duration": 11,
    "start_time": "2021-12-06T09:41:34.058Z"
   },
   {
    "duration": 11,
    "start_time": "2021-12-06T09:44:46.129Z"
   },
   {
    "duration": 11,
    "start_time": "2021-12-06T09:45:56.972Z"
   },
   {
    "duration": 9,
    "start_time": "2021-12-06T09:46:08.842Z"
   },
   {
    "duration": 1282,
    "start_time": "2021-12-06T09:46:35.697Z"
   },
   {
    "duration": 13,
    "start_time": "2021-12-06T09:47:30.381Z"
   },
   {
    "duration": 224,
    "start_time": "2021-12-06T09:47:33.532Z"
   },
   {
    "duration": 9,
    "start_time": "2021-12-06T09:47:39.971Z"
   },
   {
    "duration": 673,
    "start_time": "2021-12-06T09:47:54.576Z"
   },
   {
    "duration": 6,
    "start_time": "2021-12-06T09:48:39.745Z"
   },
   {
    "duration": 1261,
    "start_time": "2021-12-06T09:48:46.731Z"
   },
   {
    "duration": 5,
    "start_time": "2021-12-06T09:49:31.698Z"
   },
   {
    "duration": 1337,
    "start_time": "2021-12-06T09:49:35.650Z"
   },
   {
    "duration": 1422,
    "start_time": "2021-12-06T09:49:40.201Z"
   },
   {
    "duration": 5,
    "start_time": "2021-12-06T09:50:32.243Z"
   },
   {
    "duration": 1235,
    "start_time": "2021-12-06T09:50:35.136Z"
   },
   {
    "duration": 1190,
    "start_time": "2021-12-06T09:50:46.698Z"
   },
   {
    "duration": 14,
    "start_time": "2021-12-06T09:52:03.287Z"
   },
   {
    "duration": 15,
    "start_time": "2021-12-06T09:52:32.682Z"
   },
   {
    "duration": 78,
    "start_time": "2021-12-06T09:52:43.947Z"
   },
   {
    "duration": 11,
    "start_time": "2021-12-06T09:52:46.809Z"
   },
   {
    "duration": 237,
    "start_time": "2021-12-06T09:53:14.557Z"
   },
   {
    "duration": 13,
    "start_time": "2021-12-06T09:53:28.511Z"
   },
   {
    "duration": 1231,
    "start_time": "2021-12-06T09:53:52.904Z"
   },
   {
    "duration": 14,
    "start_time": "2021-12-06T09:54:20.163Z"
   },
   {
    "duration": 9,
    "start_time": "2021-12-06T09:54:23.092Z"
   },
   {
    "duration": 1325,
    "start_time": "2021-12-06T09:54:40.264Z"
   },
   {
    "duration": 6,
    "start_time": "2021-12-06T09:57:07.293Z"
   },
   {
    "duration": 10,
    "start_time": "2021-12-06T09:57:08.845Z"
   },
   {
    "duration": 4,
    "start_time": "2021-12-06T09:59:49.349Z"
   },
   {
    "duration": 232,
    "start_time": "2021-12-06T10:02:10.370Z"
   },
   {
    "duration": 600,
    "start_time": "2021-12-06T10:02:20.892Z"
   },
   {
    "duration": 262,
    "start_time": "2021-12-06T10:03:07.764Z"
   },
   {
    "duration": 13,
    "start_time": "2021-12-06T10:05:04.939Z"
   },
   {
    "duration": 13,
    "start_time": "2021-12-06T10:05:52.076Z"
   },
   {
    "duration": 512,
    "start_time": "2021-12-06T10:08:05.252Z"
   },
   {
    "duration": 870,
    "start_time": "2021-12-06T10:09:12.209Z"
   },
   {
    "duration": 295,
    "start_time": "2021-12-06T10:10:05.564Z"
   },
   {
    "duration": 6430,
    "start_time": "2021-12-06T10:10:17.483Z"
   },
   {
    "duration": 237,
    "start_time": "2021-12-06T10:10:41.692Z"
   },
   {
    "duration": 5,
    "start_time": "2021-12-06T10:13:32.243Z"
   },
   {
    "duration": 4,
    "start_time": "2021-12-06T10:13:54.421Z"
   },
   {
    "duration": 226,
    "start_time": "2021-12-06T10:14:26.059Z"
   },
   {
    "duration": 5,
    "start_time": "2021-12-06T10:14:49.596Z"
   },
   {
    "duration": 220,
    "start_time": "2021-12-06T10:15:25.989Z"
   },
   {
    "duration": 5,
    "start_time": "2021-12-06T10:15:34.301Z"
   },
   {
    "duration": 4,
    "start_time": "2021-12-06T10:15:35.381Z"
   },
   {
    "duration": 5,
    "start_time": "2021-12-06T10:15:54.907Z"
   },
   {
    "duration": 83,
    "start_time": "2021-12-06T12:02:11.715Z"
   },
   {
    "duration": 85,
    "start_time": "2021-12-06T12:02:51.843Z"
   },
   {
    "duration": 15,
    "start_time": "2021-12-06T12:16:24.290Z"
   },
   {
    "duration": 4,
    "start_time": "2021-12-06T12:22:05.411Z"
   },
   {
    "duration": 5,
    "start_time": "2021-12-06T12:22:41.657Z"
   },
   {
    "duration": 4,
    "start_time": "2021-12-06T12:24:13.435Z"
   },
   {
    "duration": 1095,
    "start_time": "2021-12-06T12:40:10.966Z"
   },
   {
    "duration": 1045,
    "start_time": "2021-12-06T12:40:12.686Z"
   },
   {
    "duration": 28,
    "start_time": "2021-12-06T12:40:15.215Z"
   },
   {
    "duration": 5,
    "start_time": "2021-12-06T12:40:15.975Z"
   },
   {
    "duration": 10,
    "start_time": "2021-12-06T12:40:16.566Z"
   },
   {
    "duration": 21,
    "start_time": "2021-12-06T12:40:18.660Z"
   },
   {
    "duration": 19,
    "start_time": "2021-12-06T12:40:18.854Z"
   },
   {
    "duration": 11,
    "start_time": "2021-12-06T12:40:24.079Z"
   },
   {
    "duration": 13,
    "start_time": "2021-12-06T12:40:25.085Z"
   },
   {
    "duration": 7,
    "start_time": "2021-12-06T12:40:25.646Z"
   },
   {
    "duration": 4,
    "start_time": "2021-12-06T12:40:26.573Z"
   },
   {
    "duration": 4,
    "start_time": "2021-12-06T12:40:28.566Z"
   },
   {
    "duration": 58,
    "start_time": "2021-12-06T12:40:28.759Z"
   },
   {
    "duration": 18,
    "start_time": "2021-12-06T12:40:29.206Z"
   },
   {
    "duration": 17,
    "start_time": "2021-12-06T12:40:29.438Z"
   },
   {
    "duration": 11,
    "start_time": "2021-12-06T12:40:29.629Z"
   },
   {
    "duration": 7,
    "start_time": "2021-12-06T12:40:29.849Z"
   },
   {
    "duration": 4,
    "start_time": "2021-12-06T12:40:30.806Z"
   },
   {
    "duration": 4,
    "start_time": "2021-12-06T12:40:33.333Z"
   },
   {
    "duration": 58,
    "start_time": "2021-12-06T12:40:34.262Z"
   },
   {
    "duration": 38,
    "start_time": "2021-12-06T12:40:35.150Z"
   },
   {
    "duration": 43,
    "start_time": "2021-12-06T12:40:35.629Z"
   },
   {
    "duration": 23,
    "start_time": "2021-12-06T12:40:36.765Z"
   },
   {
    "duration": 9,
    "start_time": "2021-12-06T12:40:37.386Z"
   },
   {
    "duration": 4,
    "start_time": "2021-12-06T12:40:37.941Z"
   },
   {
    "duration": 6,
    "start_time": "2021-12-06T12:40:38.325Z"
   },
   {
    "duration": 10,
    "start_time": "2021-12-06T12:40:38.534Z"
   },
   {
    "duration": 3,
    "start_time": "2021-12-06T12:40:39.093Z"
   },
   {
    "duration": 6,
    "start_time": "2021-12-06T12:40:39.493Z"
   },
   {
    "duration": 8,
    "start_time": "2021-12-06T12:40:39.885Z"
   },
   {
    "duration": 20,
    "start_time": "2021-12-06T12:40:40.080Z"
   },
   {
    "duration": 6,
    "start_time": "2021-12-06T12:40:40.773Z"
   },
   {
    "duration": 49,
    "start_time": "2021-12-06T12:40:41.294Z"
   },
   {
    "duration": 5,
    "start_time": "2021-12-06T12:40:41.869Z"
   },
   {
    "duration": 18,
    "start_time": "2021-12-06T12:40:42.111Z"
   },
   {
    "duration": 4,
    "start_time": "2021-12-06T12:40:44.645Z"
   },
   {
    "duration": 16,
    "start_time": "2021-12-06T12:40:45.630Z"
   },
   {
    "duration": 9,
    "start_time": "2021-12-06T12:40:45.871Z"
   },
   {
    "duration": 18,
    "start_time": "2021-12-06T12:40:46.256Z"
   },
   {
    "duration": 3,
    "start_time": "2021-12-06T12:40:46.679Z"
   },
   {
    "duration": 3,
    "start_time": "2021-12-06T12:40:47.141Z"
   },
   {
    "duration": 1545,
    "start_time": "2021-12-06T12:40:47.636Z"
   },
   {
    "duration": 6,
    "start_time": "2021-12-06T12:40:50.016Z"
   },
   {
    "duration": 1202,
    "start_time": "2021-12-06T12:40:51.165Z"
   },
   {
    "duration": 15,
    "start_time": "2021-12-06T12:40:53.934Z"
   },
   {
    "duration": 14,
    "start_time": "2021-12-06T12:40:54.942Z"
   },
   {
    "duration": 5,
    "start_time": "2021-12-06T12:40:55.557Z"
   },
   {
    "duration": 12,
    "start_time": "2021-12-06T12:40:56.117Z"
   },
   {
    "duration": 13,
    "start_time": "2021-12-06T12:40:57.004Z"
   },
   {
    "duration": 8,
    "start_time": "2021-12-06T12:40:57.207Z"
   },
   {
    "duration": 1259,
    "start_time": "2021-12-06T12:40:58.446Z"
   },
   {
    "duration": 13,
    "start_time": "2021-12-06T12:41:00.543Z"
   },
   {
    "duration": 8,
    "start_time": "2021-12-06T12:41:01.323Z"
   },
   {
    "duration": 1177,
    "start_time": "2021-12-06T12:41:02.725Z"
   },
   {
    "duration": 13,
    "start_time": "2021-12-06T12:41:05.354Z"
   },
   {
    "duration": 9,
    "start_time": "2021-12-06T12:41:06.101Z"
   },
   {
    "duration": 1232,
    "start_time": "2021-12-06T12:41:07.834Z"
   },
   {
    "duration": 13,
    "start_time": "2021-12-06T12:41:10.797Z"
   },
   {
    "duration": 8,
    "start_time": "2021-12-06T12:41:11.719Z"
   },
   {
    "duration": 1280,
    "start_time": "2021-12-06T12:41:12.344Z"
   },
   {
    "duration": 5,
    "start_time": "2021-12-06T12:41:15.414Z"
   },
   {
    "duration": 8,
    "start_time": "2021-12-06T12:41:16.693Z"
   },
   {
    "duration": 4,
    "start_time": "2021-12-06T12:41:17.371Z"
   },
   {
    "duration": 524,
    "start_time": "2021-12-06T12:41:19.109Z"
   },
   {
    "duration": 12,
    "start_time": "2021-12-06T12:41:21.062Z"
   },
   {
    "duration": 929,
    "start_time": "2021-12-06T12:41:27.075Z"
   },
   {
    "duration": 5,
    "start_time": "2021-12-06T12:41:31.942Z"
   },
   {
    "duration": 4,
    "start_time": "2021-12-06T12:41:36.063Z"
   },
   {
    "duration": 4,
    "start_time": "2021-12-06T12:41:38.319Z"
   },
   {
    "duration": 5,
    "start_time": "2021-12-06T12:41:40.957Z"
   },
   {
    "duration": 4,
    "start_time": "2021-12-06T12:41:41.469Z"
   },
   {
    "duration": 5,
    "start_time": "2021-12-06T12:41:42.943Z"
   },
   {
    "duration": 1125,
    "start_time": "2021-12-07T05:07:04.245Z"
   },
   {
    "duration": 4685,
    "start_time": "2021-12-07T05:07:05.372Z"
   },
   {
    "duration": 30,
    "start_time": "2021-12-07T05:07:10.059Z"
   },
   {
    "duration": 4,
    "start_time": "2021-12-07T05:07:10.091Z"
   },
   {
    "duration": 11,
    "start_time": "2021-12-07T05:07:10.097Z"
   },
   {
    "duration": 22,
    "start_time": "2021-12-07T05:07:10.110Z"
   },
   {
    "duration": 19,
    "start_time": "2021-12-07T05:07:10.134Z"
   },
   {
    "duration": 10,
    "start_time": "2021-12-07T05:07:10.155Z"
   },
   {
    "duration": 44,
    "start_time": "2021-12-07T05:07:10.167Z"
   },
   {
    "duration": 8,
    "start_time": "2021-12-07T05:07:10.212Z"
   },
   {
    "duration": 6,
    "start_time": "2021-12-07T05:07:10.221Z"
   },
   {
    "duration": 5,
    "start_time": "2021-12-07T05:07:10.228Z"
   },
   {
    "duration": 86,
    "start_time": "2021-12-07T05:07:10.235Z"
   },
   {
    "duration": 18,
    "start_time": "2021-12-07T05:07:10.323Z"
   },
   {
    "duration": 18,
    "start_time": "2021-12-07T05:07:10.342Z"
   },
   {
    "duration": 9,
    "start_time": "2021-12-07T05:07:10.362Z"
   },
   {
    "duration": 6,
    "start_time": "2021-12-07T05:07:10.373Z"
   },
   {
    "duration": 28,
    "start_time": "2021-12-07T05:07:10.381Z"
   },
   {
    "duration": 6,
    "start_time": "2021-12-07T05:07:10.410Z"
   },
   {
    "duration": 66,
    "start_time": "2021-12-07T05:07:10.417Z"
   },
   {
    "duration": 58,
    "start_time": "2021-12-07T05:07:10.485Z"
   },
   {
    "duration": 62,
    "start_time": "2021-12-07T05:07:10.545Z"
   },
   {
    "duration": 23,
    "start_time": "2021-12-07T05:07:10.611Z"
   },
   {
    "duration": 9,
    "start_time": "2021-12-07T05:07:10.637Z"
   },
   {
    "duration": 21,
    "start_time": "2021-12-07T05:07:10.648Z"
   },
   {
    "duration": 21,
    "start_time": "2021-12-07T05:07:10.670Z"
   },
   {
    "duration": 11,
    "start_time": "2021-12-07T05:07:10.693Z"
   },
   {
    "duration": 11,
    "start_time": "2021-12-07T05:07:10.706Z"
   },
   {
    "duration": 9,
    "start_time": "2021-12-07T05:07:10.718Z"
   },
   {
    "duration": 11,
    "start_time": "2021-12-07T05:07:10.728Z"
   },
   {
    "duration": 24,
    "start_time": "2021-12-07T05:07:10.741Z"
   },
   {
    "duration": 6,
    "start_time": "2021-12-07T05:07:10.767Z"
   },
   {
    "duration": 70,
    "start_time": "2021-12-07T05:07:10.774Z"
   },
   {
    "duration": 5,
    "start_time": "2021-12-07T05:07:10.845Z"
   },
   {
    "duration": 21,
    "start_time": "2021-12-07T05:07:10.851Z"
   },
   {
    "duration": 7,
    "start_time": "2021-12-07T05:07:10.874Z"
   },
   {
    "duration": 37,
    "start_time": "2021-12-07T05:07:10.883Z"
   },
   {
    "duration": 11,
    "start_time": "2021-12-07T05:07:10.921Z"
   },
   {
    "duration": 19,
    "start_time": "2021-12-07T05:07:10.934Z"
   },
   {
    "duration": 2,
    "start_time": "2021-12-07T05:07:10.955Z"
   },
   {
    "duration": 4,
    "start_time": "2021-12-07T05:07:10.959Z"
   },
   {
    "duration": 1717,
    "start_time": "2021-12-07T05:07:10.965Z"
   },
   {
    "duration": 5,
    "start_time": "2021-12-07T05:07:12.684Z"
   },
   {
    "duration": 1299,
    "start_time": "2021-12-07T05:07:12.691Z"
   },
   {
    "duration": 22,
    "start_time": "2021-12-07T05:07:13.992Z"
   },
   {
    "duration": 16,
    "start_time": "2021-12-07T05:07:14.016Z"
   },
   {
    "duration": 5,
    "start_time": "2021-12-07T05:07:14.033Z"
   },
   {
    "duration": 13,
    "start_time": "2021-12-07T05:07:14.040Z"
   },
   {
    "duration": 11,
    "start_time": "2021-12-07T05:07:14.055Z"
   },
   {
    "duration": 38,
    "start_time": "2021-12-07T05:07:14.068Z"
   },
   {
    "duration": 1363,
    "start_time": "2021-12-07T05:07:14.108Z"
   },
   {
    "duration": 15,
    "start_time": "2021-12-07T05:07:15.473Z"
   },
   {
    "duration": 21,
    "start_time": "2021-12-07T05:07:15.490Z"
   },
   {
    "duration": 1251,
    "start_time": "2021-12-07T05:07:15.513Z"
   },
   {
    "duration": 14,
    "start_time": "2021-12-07T05:07:16.766Z"
   },
   {
    "duration": 25,
    "start_time": "2021-12-07T05:07:16.782Z"
   },
   {
    "duration": 1393,
    "start_time": "2021-12-07T05:07:16.808Z"
   },
   {
    "duration": 14,
    "start_time": "2021-12-07T05:07:18.206Z"
   },
   {
    "duration": 9,
    "start_time": "2021-12-07T05:07:18.221Z"
   },
   {
    "duration": 1255,
    "start_time": "2021-12-07T05:07:18.232Z"
   },
   {
    "duration": 5,
    "start_time": "2021-12-07T05:07:19.489Z"
   },
   {
    "duration": 17,
    "start_time": "2021-12-07T05:07:19.496Z"
   },
   {
    "duration": 4,
    "start_time": "2021-12-07T05:07:19.515Z"
   },
   {
    "duration": 589,
    "start_time": "2021-12-07T05:07:19.521Z"
   },
   {
    "duration": 12,
    "start_time": "2021-12-07T05:07:20.112Z"
   },
   {
    "duration": 1070,
    "start_time": "2021-12-07T05:07:20.126Z"
   },
   {
    "duration": 11,
    "start_time": "2021-12-07T05:07:21.198Z"
   },
   {
    "duration": 5,
    "start_time": "2021-12-07T05:07:21.214Z"
   },
   {
    "duration": 8,
    "start_time": "2021-12-07T05:07:21.221Z"
   },
   {
    "duration": 8,
    "start_time": "2021-12-07T05:07:21.231Z"
   },
   {
    "duration": 7,
    "start_time": "2021-12-07T05:07:21.241Z"
   },
   {
    "duration": 8,
    "start_time": "2021-12-07T05:07:21.249Z"
   },
   {
    "duration": 1432,
    "start_time": "2021-12-07T12:59:27.492Z"
   },
   {
    "duration": 3304,
    "start_time": "2021-12-07T12:59:28.927Z"
   },
   {
    "duration": 39,
    "start_time": "2021-12-07T12:59:32.234Z"
   },
   {
    "duration": 6,
    "start_time": "2021-12-07T12:59:32.276Z"
   },
   {
    "duration": 16,
    "start_time": "2021-12-07T12:59:32.284Z"
   },
   {
    "duration": 64,
    "start_time": "2021-12-07T12:59:32.302Z"
   },
   {
    "duration": 26,
    "start_time": "2021-12-07T12:59:32.368Z"
   },
   {
    "duration": 16,
    "start_time": "2021-12-07T12:59:32.397Z"
   },
   {
    "duration": 60,
    "start_time": "2021-12-07T12:59:32.415Z"
   },
   {
    "duration": 9,
    "start_time": "2021-12-07T12:59:32.478Z"
   },
   {
    "duration": 9,
    "start_time": "2021-12-07T12:59:32.489Z"
   },
   {
    "duration": 7,
    "start_time": "2021-12-07T12:59:32.500Z"
   },
   {
    "duration": 119,
    "start_time": "2021-12-07T12:59:32.509Z"
   },
   {
    "duration": 32,
    "start_time": "2021-12-07T12:59:32.631Z"
   },
   {
    "duration": 26,
    "start_time": "2021-12-07T12:59:32.666Z"
   },
   {
    "duration": 13,
    "start_time": "2021-12-07T12:59:32.695Z"
   },
   {
    "duration": 9,
    "start_time": "2021-12-07T12:59:32.711Z"
   },
   {
    "duration": 40,
    "start_time": "2021-12-07T12:59:32.722Z"
   },
   {
    "duration": 7,
    "start_time": "2021-12-07T12:59:32.765Z"
   },
   {
    "duration": 116,
    "start_time": "2021-12-07T12:59:32.775Z"
   },
   {
    "duration": 70,
    "start_time": "2021-12-07T12:59:32.894Z"
   },
   {
    "duration": 67,
    "start_time": "2021-12-07T12:59:32.966Z"
   },
   {
    "duration": 53,
    "start_time": "2021-12-07T12:59:33.039Z"
   },
   {
    "duration": 15,
    "start_time": "2021-12-07T12:59:33.095Z"
   },
   {
    "duration": 6,
    "start_time": "2021-12-07T12:59:33.112Z"
   },
   {
    "duration": 10,
    "start_time": "2021-12-07T12:59:33.120Z"
   },
   {
    "duration": 40,
    "start_time": "2021-12-07T12:59:33.133Z"
   },
   {
    "duration": 5,
    "start_time": "2021-12-07T12:59:33.175Z"
   },
   {
    "duration": 11,
    "start_time": "2021-12-07T12:59:33.182Z"
   },
   {
    "duration": 18,
    "start_time": "2021-12-07T12:59:33.196Z"
   },
   {
    "duration": 70,
    "start_time": "2021-12-07T12:59:33.216Z"
   },
   {
    "duration": 9,
    "start_time": "2021-12-07T12:59:33.288Z"
   },
   {
    "duration": 99,
    "start_time": "2021-12-07T12:59:33.300Z"
   },
   {
    "duration": 6,
    "start_time": "2021-12-07T12:59:33.401Z"
   },
   {
    "duration": 31,
    "start_time": "2021-12-07T12:59:33.410Z"
   },
   {
    "duration": 5,
    "start_time": "2021-12-07T12:59:33.460Z"
   },
   {
    "duration": 25,
    "start_time": "2021-12-07T12:59:33.468Z"
   },
   {
    "duration": 14,
    "start_time": "2021-12-07T12:59:33.496Z"
   },
   {
    "duration": 63,
    "start_time": "2021-12-07T12:59:33.512Z"
   },
   {
    "duration": 4,
    "start_time": "2021-12-07T12:59:33.577Z"
   },
   {
    "duration": 5,
    "start_time": "2021-12-07T12:59:33.584Z"
   },
   {
    "duration": 2781,
    "start_time": "2021-12-07T12:59:33.591Z"
   },
   {
    "duration": 8,
    "start_time": "2021-12-07T12:59:36.375Z"
   },
   {
    "duration": 2173,
    "start_time": "2021-12-07T12:59:36.386Z"
   },
   {
    "duration": 22,
    "start_time": "2021-12-07T12:59:38.561Z"
   },
   {
    "duration": 22,
    "start_time": "2021-12-07T12:59:38.586Z"
   },
   {
    "duration": 7,
    "start_time": "2021-12-07T12:59:38.611Z"
   },
   {
    "duration": 53,
    "start_time": "2021-12-07T12:59:38.620Z"
   },
   {
    "duration": 18,
    "start_time": "2021-12-07T12:59:38.675Z"
   },
   {
    "duration": 12,
    "start_time": "2021-12-07T12:59:38.695Z"
   },
   {
    "duration": 2349,
    "start_time": "2021-12-07T12:59:38.710Z"
   },
   {
    "duration": 21,
    "start_time": "2021-12-07T12:59:41.061Z"
   },
   {
    "duration": 13,
    "start_time": "2021-12-07T12:59:41.084Z"
   },
   {
    "duration": 2223,
    "start_time": "2021-12-07T12:59:41.099Z"
   },
   {
    "duration": 37,
    "start_time": "2021-12-07T12:59:43.325Z"
   },
   {
    "duration": 13,
    "start_time": "2021-12-07T12:59:43.364Z"
   },
   {
    "duration": 2352,
    "start_time": "2021-12-07T12:59:43.379Z"
   },
   {
    "duration": 32,
    "start_time": "2021-12-07T12:59:45.733Z"
   },
   {
    "duration": 12,
    "start_time": "2021-12-07T12:59:45.768Z"
   },
   {
    "duration": 2146,
    "start_time": "2021-12-07T12:59:45.782Z"
   },
   {
    "duration": 8,
    "start_time": "2021-12-07T12:59:47.930Z"
   },
   {
    "duration": 27,
    "start_time": "2021-12-07T12:59:47.941Z"
   },
   {
    "duration": 6,
    "start_time": "2021-12-07T12:59:47.970Z"
   },
   {
    "duration": 948,
    "start_time": "2021-12-07T12:59:47.978Z"
   },
   {
    "duration": 18,
    "start_time": "2021-12-07T12:59:48.928Z"
   },
   {
    "duration": 1660,
    "start_time": "2021-12-07T12:59:48.962Z"
   },
   {
    "duration": 7,
    "start_time": "2021-12-07T12:59:50.624Z"
   },
   {
    "duration": 22,
    "start_time": "2021-12-07T12:59:50.638Z"
   },
   {
    "duration": 9,
    "start_time": "2021-12-07T12:59:50.663Z"
   },
   {
    "duration": 13,
    "start_time": "2021-12-07T12:59:50.674Z"
   },
   {
    "duration": 18,
    "start_time": "2021-12-07T12:59:50.689Z"
   },
   {
    "duration": 8,
    "start_time": "2021-12-07T12:59:50.709Z"
   },
   {
    "duration": 10,
    "start_time": "2021-12-07T13:00:47.371Z"
   },
   {
    "duration": 363,
    "start_time": "2021-12-08T16:50:33.508Z"
   },
   {
    "duration": 1501,
    "start_time": "2021-12-08T16:50:48.109Z"
   },
   {
    "duration": 2680,
    "start_time": "2021-12-08T16:50:49.976Z"
   },
   {
    "duration": 45,
    "start_time": "2021-12-08T16:50:53.756Z"
   },
   {
    "duration": 7,
    "start_time": "2021-12-08T16:50:54.719Z"
   },
   {
    "duration": 17,
    "start_time": "2021-12-08T16:50:56.124Z"
   },
   {
    "duration": 33,
    "start_time": "2021-12-08T16:50:59.212Z"
   },
   {
    "duration": 30,
    "start_time": "2021-12-08T16:51:15.447Z"
   },
   {
    "duration": 20,
    "start_time": "2021-12-08T16:51:17.149Z"
   },
   {
    "duration": 24,
    "start_time": "2021-12-08T16:51:19.340Z"
   },
   {
    "duration": 10,
    "start_time": "2021-12-08T16:51:24.373Z"
   },
   {
    "duration": 5,
    "start_time": "2021-12-08T16:51:26.309Z"
   },
   {
    "duration": 7,
    "start_time": "2021-12-08T16:56:53.173Z"
   },
   {
    "duration": 2512,
    "start_time": "2021-12-08T16:56:53.361Z"
   },
   {
    "duration": 35,
    "start_time": "2021-12-08T16:56:55.876Z"
   },
   {
    "duration": 6,
    "start_time": "2021-12-08T16:56:55.914Z"
   },
   {
    "duration": 45,
    "start_time": "2021-12-08T16:56:55.923Z"
   },
   {
    "duration": 32,
    "start_time": "2021-12-08T16:56:57.394Z"
   },
   {
    "duration": 29,
    "start_time": "2021-12-08T16:56:59.969Z"
   },
   {
    "duration": 17,
    "start_time": "2021-12-08T16:57:01.958Z"
   },
   {
    "duration": 23,
    "start_time": "2021-12-08T16:57:03.527Z"
   },
   {
    "duration": 10,
    "start_time": "2021-12-08T16:57:04.321Z"
   },
   {
    "duration": 5,
    "start_time": "2021-12-08T16:57:08.276Z"
   },
   {
    "duration": 5,
    "start_time": "2021-12-08T16:57:18.661Z"
   },
   {
    "duration": 6,
    "start_time": "2021-12-08T16:57:30.275Z"
   },
   {
    "duration": 73,
    "start_time": "2021-12-08T16:57:34.485Z"
   },
   {
    "duration": 22,
    "start_time": "2021-12-08T16:57:40.407Z"
   },
   {
    "duration": 23,
    "start_time": "2021-12-08T16:57:42.327Z"
   },
   {
    "duration": 51,
    "start_time": "2021-12-08T16:57:57.022Z"
   },
   {
    "duration": 24,
    "start_time": "2021-12-08T16:57:58.933Z"
   },
   {
    "duration": 25,
    "start_time": "2021-12-08T16:58:00.253Z"
   },
   {
    "duration": 14,
    "start_time": "2021-12-08T16:58:05.910Z"
   },
   {
    "duration": 11,
    "start_time": "2021-12-08T16:58:06.893Z"
   },
   {
    "duration": 5,
    "start_time": "2021-12-08T16:58:13.349Z"
   },
   {
    "duration": 7,
    "start_time": "2021-12-08T16:58:45.462Z"
   },
   {
    "duration": 92,
    "start_time": "2021-12-08T16:58:48.300Z"
   },
   {
    "duration": 61,
    "start_time": "2021-12-08T16:58:50.894Z"
   },
   {
    "duration": 73,
    "start_time": "2021-12-08T16:58:52.431Z"
   },
   {
    "duration": 862,
    "start_time": "2021-12-08T17:04:01.701Z"
   },
   {
    "duration": 299,
    "start_time": "2021-12-08T17:04:26.935Z"
   },
   {
    "duration": 284,
    "start_time": "2021-12-08T17:04:40.935Z"
   },
   {
    "duration": 308,
    "start_time": "2021-12-08T17:04:59.672Z"
   },
   {
    "duration": 277,
    "start_time": "2021-12-08T17:05:56.158Z"
   },
   {
    "duration": 318,
    "start_time": "2021-12-08T17:06:49.487Z"
   },
   {
    "duration": 14,
    "start_time": "2021-12-08T17:07:27.575Z"
   },
   {
    "duration": 30,
    "start_time": "2021-12-08T17:09:48.216Z"
   },
   {
    "duration": 9,
    "start_time": "2021-12-08T17:10:02.121Z"
   },
   {
    "duration": 8,
    "start_time": "2021-12-08T17:10:18.442Z"
   },
   {
    "duration": 275,
    "start_time": "2021-12-08T17:10:38.934Z"
   },
   {
    "duration": 12,
    "start_time": "2021-12-08T17:10:45.936Z"
   },
   {
    "duration": 12,
    "start_time": "2021-12-08T17:11:17.487Z"
   },
   {
    "duration": 33,
    "start_time": "2021-12-08T17:11:39.217Z"
   },
   {
    "duration": 13,
    "start_time": "2021-12-08T17:11:40.088Z"
   },
   {
    "duration": 90,
    "start_time": "2021-12-08T17:11:48.550Z"
   },
   {
    "duration": 11,
    "start_time": "2021-12-08T17:11:51.599Z"
   },
   {
    "duration": 16,
    "start_time": "2021-12-08T17:12:09.656Z"
   },
   {
    "duration": 290,
    "start_time": "2021-12-08T17:12:59.055Z"
   },
   {
    "duration": 24,
    "start_time": "2021-12-08T17:13:31.436Z"
   },
   {
    "duration": 16,
    "start_time": "2021-12-08T17:14:03.958Z"
   },
   {
    "duration": 6,
    "start_time": "2021-12-08T17:14:14.776Z"
   },
   {
    "duration": 11,
    "start_time": "2021-12-08T17:14:17.885Z"
   },
   {
    "duration": 15,
    "start_time": "2021-12-08T17:14:19.032Z"
   },
   {
    "duration": 5,
    "start_time": "2021-12-08T17:14:20.642Z"
   },
   {
    "duration": 13,
    "start_time": "2021-12-08T17:14:21.823Z"
   },
   {
    "duration": 15,
    "start_time": "2021-12-08T17:14:22.928Z"
   },
   {
    "duration": 45,
    "start_time": "2021-12-08T17:14:23.919Z"
   },
   {
    "duration": 10,
    "start_time": "2021-12-08T17:14:26.607Z"
   },
   {
    "duration": 7428,
    "start_time": "2021-12-08T17:15:59.594Z"
   },
   {
    "duration": 7991,
    "start_time": "2021-12-08T17:16:24.679Z"
   },
   {
    "duration": 3038,
    "start_time": "2021-12-08T17:16:29.634Z"
   },
   {
    "duration": 3033,
    "start_time": "2021-12-08T17:16:29.641Z"
   },
   {
    "duration": 44,
    "start_time": "2021-12-08T17:17:51.733Z"
   },
   {
    "duration": 10,
    "start_time": "2021-12-08T17:17:56.319Z"
   },
   {
    "duration": 8598,
    "start_time": "2021-12-08T17:18:03.727Z"
   },
   {
    "duration": 9874,
    "start_time": "2021-12-08T17:19:00.265Z"
   },
   {
    "duration": 3042,
    "start_time": "2021-12-08T17:19:07.099Z"
   },
   {
    "duration": 7123,
    "start_time": "2021-12-08T17:19:31.889Z"
   },
   {
    "duration": 1513,
    "start_time": "2021-12-08T17:20:00.265Z"
   },
   {
    "duration": 1379,
    "start_time": "2021-12-08T17:20:02.575Z"
   },
   {
    "duration": 45,
    "start_time": "2021-12-08T17:20:05.444Z"
   },
   {
    "duration": 7,
    "start_time": "2021-12-08T17:20:06.302Z"
   },
   {
    "duration": 18,
    "start_time": "2021-12-08T17:20:07.246Z"
   },
   {
    "duration": 44,
    "start_time": "2021-12-08T17:20:08.358Z"
   },
   {
    "duration": 34,
    "start_time": "2021-12-08T17:20:08.933Z"
   },
   {
    "duration": 17,
    "start_time": "2021-12-08T17:20:09.637Z"
   },
   {
    "duration": 24,
    "start_time": "2021-12-08T17:20:10.543Z"
   },
   {
    "duration": 11,
    "start_time": "2021-12-08T17:20:10.918Z"
   },
   {
    "duration": 19,
    "start_time": "2021-12-08T17:20:11.334Z"
   },
   {
    "duration": 6,
    "start_time": "2021-12-08T17:20:14.182Z"
   },
   {
    "duration": 121,
    "start_time": "2021-12-08T17:20:15.103Z"
   },
   {
    "duration": 32,
    "start_time": "2021-12-08T17:20:16.060Z"
   },
   {
    "duration": 25,
    "start_time": "2021-12-08T17:20:16.670Z"
   },
   {
    "duration": 16,
    "start_time": "2021-12-08T17:20:17.143Z"
   },
   {
    "duration": 19,
    "start_time": "2021-12-08T17:20:17.579Z"
   },
   {
    "duration": 5,
    "start_time": "2021-12-08T17:20:20.541Z"
   },
   {
    "duration": 8,
    "start_time": "2021-12-08T17:20:25.318Z"
   },
   {
    "duration": 109,
    "start_time": "2021-12-08T17:20:28.132Z"
   },
   {
    "duration": 66,
    "start_time": "2021-12-08T17:20:30.575Z"
   },
   {
    "duration": 74,
    "start_time": "2021-12-08T17:20:32.477Z"
   },
   {
    "duration": 12,
    "start_time": "2021-12-08T17:20:37.149Z"
   },
   {
    "duration": 11,
    "start_time": "2021-12-08T17:20:38.664Z"
   },
   {
    "duration": 15,
    "start_time": "2021-12-08T17:20:39.260Z"
   },
   {
    "duration": 34,
    "start_time": "2021-12-08T17:20:47.079Z"
   },
   {
    "duration": 10,
    "start_time": "2021-12-08T17:20:48.447Z"
   },
   {
    "duration": 16,
    "start_time": "2021-12-08T17:21:00.473Z"
   },
   {
    "duration": 24,
    "start_time": "2021-12-08T17:21:01.895Z"
   },
   {
    "duration": 15,
    "start_time": "2021-12-08T17:21:44.304Z"
   },
   {
    "duration": 5,
    "start_time": "2021-12-08T17:21:46.261Z"
   },
   {
    "duration": 10,
    "start_time": "2021-12-08T17:21:50.884Z"
   },
   {
    "duration": 27,
    "start_time": "2021-12-08T17:21:54.382Z"
   },
   {
    "duration": 4,
    "start_time": "2021-12-08T17:21:58.102Z"
   },
   {
    "duration": 11,
    "start_time": "2021-12-08T17:21:59.724Z"
   },
   {
    "duration": 21,
    "start_time": "2021-12-08T17:22:05.958Z"
   },
   {
    "duration": 48,
    "start_time": "2021-12-08T17:22:06.951Z"
   },
   {
    "duration": 10,
    "start_time": "2021-12-08T17:22:17.119Z"
   },
   {
    "duration": 867,
    "start_time": "2021-12-08T17:22:23.557Z"
   },
   {
    "duration": 5,
    "start_time": "2021-12-08T17:24:55.343Z"
   },
   {
    "duration": 7714,
    "start_time": "2021-12-08T17:26:25.620Z"
   },
   {
    "duration": 11,
    "start_time": "2021-12-08T17:27:04.047Z"
   },
   {
    "duration": 11,
    "start_time": "2021-12-08T17:27:15.256Z"
   },
   {
    "duration": 7441,
    "start_time": "2021-12-08T17:27:41.232Z"
   },
   {
    "duration": 13,
    "start_time": "2021-12-08T17:29:04.529Z"
   },
   {
    "duration": 759,
    "start_time": "2021-12-08T17:29:12.928Z"
   },
   {
    "duration": 10,
    "start_time": "2021-12-08T17:32:37.352Z"
   },
   {
    "duration": 107,
    "start_time": "2021-12-08T17:32:44.104Z"
   },
   {
    "duration": 6,
    "start_time": "2021-12-08T17:32:49.654Z"
   },
   {
    "duration": 12,
    "start_time": "2021-12-08T17:33:03.891Z"
   },
   {
    "duration": 23,
    "start_time": "2021-12-08T17:33:10.551Z"
   },
   {
    "duration": 6,
    "start_time": "2021-12-08T17:33:19.807Z"
   },
   {
    "duration": 30,
    "start_time": "2021-12-08T17:34:43.788Z"
   },
   {
    "duration": 15,
    "start_time": "2021-12-08T17:34:45.287Z"
   },
   {
    "duration": 32,
    "start_time": "2021-12-08T17:34:50.824Z"
   },
   {
    "duration": 5,
    "start_time": "2021-12-08T17:35:02.895Z"
   },
   {
    "duration": 3,
    "start_time": "2021-12-08T17:35:04.359Z"
   },
   {
    "duration": 2957,
    "start_time": "2021-12-08T17:35:07.217Z"
   },
   {
    "duration": 226,
    "start_time": "2021-12-08T17:41:20.475Z"
   },
   {
    "duration": 28,
    "start_time": "2021-12-08T17:42:06.370Z"
   },
   {
    "duration": 11,
    "start_time": "2021-12-08T17:42:11.305Z"
   },
   {
    "duration": 17,
    "start_time": "2021-12-08T17:42:11.895Z"
   },
   {
    "duration": 23,
    "start_time": "2021-12-08T17:42:12.946Z"
   },
   {
    "duration": 316,
    "start_time": "2021-12-08T17:44:57.419Z"
   },
   {
    "duration": 295,
    "start_time": "2021-12-08T17:46:27.875Z"
   },
   {
    "duration": 14,
    "start_time": "2021-12-08T17:46:55.426Z"
   },
   {
    "duration": 2024,
    "start_time": "2021-12-08T17:47:30.911Z"
   },
   {
    "duration": 2715,
    "start_time": "2021-12-08T17:47:32.939Z"
   },
   {
    "duration": 42,
    "start_time": "2021-12-08T17:47:35.657Z"
   },
   {
    "duration": 9,
    "start_time": "2021-12-08T17:47:35.703Z"
   },
   {
    "duration": 16,
    "start_time": "2021-12-08T17:47:35.715Z"
   },
   {
    "duration": 35,
    "start_time": "2021-12-08T17:47:35.767Z"
   },
   {
    "duration": 28,
    "start_time": "2021-12-08T17:47:35.805Z"
   },
   {
    "duration": 47,
    "start_time": "2021-12-08T17:47:35.836Z"
   },
   {
    "duration": 27,
    "start_time": "2021-12-08T17:47:35.885Z"
   },
   {
    "duration": 11,
    "start_time": "2021-12-08T17:47:35.915Z"
   },
   {
    "duration": 42,
    "start_time": "2021-12-08T17:47:35.929Z"
   },
   {
    "duration": 6,
    "start_time": "2021-12-08T17:47:38.961Z"
   },
   {
    "duration": 102,
    "start_time": "2021-12-08T17:47:40.617Z"
   },
   {
    "duration": 25,
    "start_time": "2021-12-08T17:47:43.413Z"
   },
   {
    "duration": 23,
    "start_time": "2021-12-08T17:47:44.801Z"
   },
   {
    "duration": 16,
    "start_time": "2021-12-08T17:47:45.513Z"
   },
   {
    "duration": 12,
    "start_time": "2021-12-08T17:47:46.247Z"
   },
   {
    "duration": 5,
    "start_time": "2021-12-08T17:47:48.896Z"
   },
   {
    "duration": 8,
    "start_time": "2021-12-08T17:47:58.303Z"
   },
   {
    "duration": 93,
    "start_time": "2021-12-08T17:48:00.228Z"
   },
   {
    "duration": 65,
    "start_time": "2021-12-08T17:48:01.813Z"
   },
   {
    "duration": 73,
    "start_time": "2021-12-08T17:48:02.878Z"
   },
   {
    "duration": 12,
    "start_time": "2021-12-08T17:48:04.405Z"
   },
   {
    "duration": 10,
    "start_time": "2021-12-08T17:48:05.150Z"
   },
   {
    "duration": 12,
    "start_time": "2021-12-08T17:48:06.238Z"
   },
   {
    "duration": 33,
    "start_time": "2021-12-08T17:48:07.073Z"
   },
   {
    "duration": 12,
    "start_time": "2021-12-08T17:48:08.556Z"
   },
   {
    "duration": 15,
    "start_time": "2021-12-08T17:48:09.919Z"
   },
   {
    "duration": 25,
    "start_time": "2021-12-08T17:48:12.680Z"
   },
   {
    "duration": 15,
    "start_time": "2021-12-08T17:48:20.047Z"
   },
   {
    "duration": 1537,
    "start_time": "2021-12-08T17:48:41.827Z"
   },
   {
    "duration": 1244,
    "start_time": "2021-12-08T17:48:43.368Z"
   },
   {
    "duration": 65,
    "start_time": "2021-12-08T17:48:44.616Z"
   },
   {
    "duration": 7,
    "start_time": "2021-12-08T17:48:44.684Z"
   },
   {
    "duration": 17,
    "start_time": "2021-12-08T17:48:44.694Z"
   },
   {
    "duration": 69,
    "start_time": "2021-12-08T17:48:44.714Z"
   },
   {
    "duration": 26,
    "start_time": "2021-12-08T17:48:45.291Z"
   },
   {
    "duration": 18,
    "start_time": "2021-12-08T17:48:46.049Z"
   },
   {
    "duration": 25,
    "start_time": "2021-12-08T17:48:46.595Z"
   },
   {
    "duration": 10,
    "start_time": "2021-12-08T17:48:47.211Z"
   },
   {
    "duration": 4,
    "start_time": "2021-12-08T17:48:48.564Z"
   },
   {
    "duration": 7,
    "start_time": "2021-12-08T17:48:55.001Z"
   },
   {
    "duration": 101,
    "start_time": "2021-12-08T17:48:57.201Z"
   },
   {
    "duration": 25,
    "start_time": "2021-12-08T17:49:02.343Z"
   },
   {
    "duration": 24,
    "start_time": "2021-12-08T17:49:02.939Z"
   },
   {
    "duration": 15,
    "start_time": "2021-12-08T17:49:03.805Z"
   },
   {
    "duration": 13,
    "start_time": "2021-12-08T17:49:04.747Z"
   },
   {
    "duration": 5,
    "start_time": "2021-12-08T17:49:09.215Z"
   },
   {
    "duration": 7,
    "start_time": "2021-12-08T17:49:17.834Z"
   },
   {
    "duration": 101,
    "start_time": "2021-12-08T17:49:21.171Z"
   },
   {
    "duration": 63,
    "start_time": "2021-12-08T17:49:24.580Z"
   },
   {
    "duration": 73,
    "start_time": "2021-12-08T17:49:27.394Z"
   },
   {
    "duration": 13,
    "start_time": "2021-12-08T17:49:30.954Z"
   },
   {
    "duration": 9,
    "start_time": "2021-12-08T17:49:32.660Z"
   },
   {
    "duration": 16,
    "start_time": "2021-12-08T17:49:33.212Z"
   },
   {
    "duration": 49,
    "start_time": "2021-12-08T17:49:45.330Z"
   },
   {
    "duration": 13,
    "start_time": "2021-12-08T17:49:49.588Z"
   },
   {
    "duration": 18,
    "start_time": "2021-12-08T17:49:51.876Z"
   },
   {
    "duration": 29,
    "start_time": "2021-12-08T17:50:01.196Z"
   },
   {
    "duration": 15,
    "start_time": "2021-12-08T17:50:35.904Z"
   },
   {
    "duration": 4,
    "start_time": "2021-12-08T17:50:50.903Z"
   },
   {
    "duration": 10,
    "start_time": "2021-12-08T17:50:52.805Z"
   },
   {
    "duration": 16,
    "start_time": "2021-12-08T17:50:53.959Z"
   },
   {
    "duration": 4,
    "start_time": "2021-12-08T17:50:55.895Z"
   },
   {
    "duration": 11,
    "start_time": "2021-12-08T17:50:57.383Z"
   },
   {
    "duration": 12,
    "start_time": "2021-12-08T17:50:59.510Z"
   },
   {
    "duration": 60,
    "start_time": "2021-12-08T17:51:06.424Z"
   },
   {
    "duration": 11,
    "start_time": "2021-12-08T17:51:15.875Z"
   },
   {
    "duration": 136,
    "start_time": "2021-12-08T17:51:22.371Z"
   },
   {
    "duration": 9,
    "start_time": "2021-12-08T17:51:24.115Z"
   },
   {
    "duration": 15,
    "start_time": "2021-12-08T17:51:27.844Z"
   },
   {
    "duration": 28,
    "start_time": "2021-12-08T17:51:32.851Z"
   },
   {
    "duration": 3,
    "start_time": "2021-12-08T17:51:40.642Z"
   },
   {
    "duration": 19,
    "start_time": "2021-12-08T17:51:42.499Z"
   },
   {
    "duration": 26,
    "start_time": "2021-12-08T17:51:54.979Z"
   },
   {
    "duration": 14,
    "start_time": "2021-12-08T17:51:57.986Z"
   },
   {
    "duration": 33,
    "start_time": "2021-12-08T19:19:12.440Z"
   },
   {
    "duration": 4,
    "start_time": "2021-12-08T19:19:14.862Z"
   },
   {
    "duration": 3,
    "start_time": "2021-12-08T19:19:16.414Z"
   },
   {
    "duration": 3109,
    "start_time": "2021-12-08T19:19:18.343Z"
   },
   {
    "duration": 5,
    "start_time": "2021-12-08T19:21:42.085Z"
   },
   {
    "duration": 3,
    "start_time": "2021-12-08T19:21:43.966Z"
   },
   {
    "duration": 1147,
    "start_time": "2021-12-08T19:21:47.029Z"
   },
   {
    "duration": 85,
    "start_time": "2021-12-08T19:23:55.392Z"
   },
   {
    "duration": 5,
    "start_time": "2021-12-08T19:24:05.247Z"
   },
   {
    "duration": 4,
    "start_time": "2021-12-08T19:24:06.532Z"
   },
   {
    "duration": 2911,
    "start_time": "2021-12-08T19:24:07.879Z"
   },
   {
    "duration": 2980,
    "start_time": "2021-12-08T19:25:50.433Z"
   },
   {
    "duration": 90,
    "start_time": "2021-12-08T19:28:35.861Z"
   },
   {
    "duration": 7,
    "start_time": "2021-12-08T19:28:55.654Z"
   },
   {
    "duration": 2313,
    "start_time": "2021-12-08T19:29:01.374Z"
   },
   {
    "duration": 22,
    "start_time": "2021-12-08T19:29:09.091Z"
   },
   {
    "duration": 23,
    "start_time": "2021-12-08T19:29:35.574Z"
   },
   {
    "duration": 8,
    "start_time": "2021-12-08T19:29:41.158Z"
   },
   {
    "duration": 16,
    "start_time": "2021-12-08T19:30:02.975Z"
   },
   {
    "duration": 20,
    "start_time": "2021-12-08T19:30:07.933Z"
   },
   {
    "duration": 13,
    "start_time": "2021-12-08T19:30:08.647Z"
   },
   {
    "duration": 2433,
    "start_time": "2021-12-08T19:30:10.928Z"
   },
   {
    "duration": 22,
    "start_time": "2021-12-08T19:30:17.630Z"
   },
   {
    "duration": 15,
    "start_time": "2021-12-08T19:30:18.528Z"
   },
   {
    "duration": 2286,
    "start_time": "2021-12-08T19:30:21.230Z"
   },
   {
    "duration": 22,
    "start_time": "2021-12-08T19:30:28.606Z"
   },
   {
    "duration": 14,
    "start_time": "2021-12-08T19:30:30.535Z"
   },
   {
    "duration": 2886,
    "start_time": "2021-12-08T19:30:33.695Z"
   },
   {
    "duration": 24,
    "start_time": "2021-12-08T19:30:40.853Z"
   },
   {
    "duration": 15,
    "start_time": "2021-12-08T19:30:42.166Z"
   },
   {
    "duration": 2427,
    "start_time": "2021-12-08T19:30:47.713Z"
   },
   {
    "duration": 8,
    "start_time": "2021-12-08T19:32:00.390Z"
   },
   {
    "duration": 14,
    "start_time": "2021-12-08T19:32:01.006Z"
   },
   {
    "duration": 5,
    "start_time": "2021-12-08T19:32:01.615Z"
   },
   {
    "duration": 1001,
    "start_time": "2021-12-08T19:32:02.894Z"
   },
   {
    "duration": 25,
    "start_time": "2021-12-08T19:32:04.487Z"
   },
   {
    "duration": 1769,
    "start_time": "2021-12-08T19:32:08.318Z"
   },
   {
    "duration": 8,
    "start_time": "2021-12-08T19:32:17.549Z"
   },
   {
    "duration": 6,
    "start_time": "2021-12-08T19:32:56.545Z"
   },
   {
    "duration": 7,
    "start_time": "2021-12-08T19:33:01.622Z"
   },
   {
    "duration": 7,
    "start_time": "2021-12-08T19:33:05.687Z"
   },
   {
    "duration": 6,
    "start_time": "2021-12-08T19:33:12.890Z"
   },
   {
    "duration": 6,
    "start_time": "2021-12-08T19:33:16.230Z"
   },
   {
    "duration": 1080,
    "start_time": "2021-12-09T12:28:03.149Z"
   },
   {
    "duration": 840,
    "start_time": "2021-12-09T12:28:04.231Z"
   },
   {
    "duration": 26,
    "start_time": "2021-12-09T12:28:05.073Z"
   },
   {
    "duration": 4,
    "start_time": "2021-12-09T12:28:05.100Z"
   },
   {
    "duration": 11,
    "start_time": "2021-12-09T12:28:05.106Z"
   },
   {
    "duration": 21,
    "start_time": "2021-12-09T12:28:05.118Z"
   },
   {
    "duration": 17,
    "start_time": "2021-12-09T12:28:05.140Z"
   },
   {
    "duration": 36,
    "start_time": "2021-12-09T12:28:05.160Z"
   },
   {
    "duration": 13,
    "start_time": "2021-12-09T12:28:05.199Z"
   },
   {
    "duration": 7,
    "start_time": "2021-12-09T12:28:05.214Z"
   },
   {
    "duration": 6,
    "start_time": "2021-12-09T12:28:05.223Z"
   },
   {
    "duration": 6,
    "start_time": "2021-12-09T12:28:05.231Z"
   },
   {
    "duration": 87,
    "start_time": "2021-12-09T12:28:05.238Z"
   },
   {
    "duration": 15,
    "start_time": "2021-12-09T12:28:05.327Z"
   },
   {
    "duration": 15,
    "start_time": "2021-12-09T12:28:05.344Z"
   },
   {
    "duration": 27,
    "start_time": "2021-12-09T12:28:05.361Z"
   },
   {
    "duration": 6,
    "start_time": "2021-12-09T12:28:05.390Z"
   },
   {
    "duration": 4,
    "start_time": "2021-12-09T12:28:05.397Z"
   },
   {
    "duration": 6,
    "start_time": "2021-12-09T12:28:05.402Z"
   },
   {
    "duration": 67,
    "start_time": "2021-12-09T12:28:05.410Z"
   },
   {
    "duration": 46,
    "start_time": "2021-12-09T12:28:05.478Z"
   },
   {
    "duration": 44,
    "start_time": "2021-12-09T12:28:05.525Z"
   },
   {
    "duration": 20,
    "start_time": "2021-12-09T12:28:05.573Z"
   },
   {
    "duration": 7,
    "start_time": "2021-12-09T12:28:05.595Z"
   },
   {
    "duration": 10,
    "start_time": "2021-12-09T12:28:05.603Z"
   },
   {
    "duration": 20,
    "start_time": "2021-12-09T12:28:05.615Z"
   },
   {
    "duration": 6,
    "start_time": "2021-12-09T12:28:05.636Z"
   },
   {
    "duration": 9,
    "start_time": "2021-12-09T12:28:05.644Z"
   },
   {
    "duration": 42,
    "start_time": "2021-12-09T12:28:05.654Z"
   },
   {
    "duration": 8,
    "start_time": "2021-12-09T12:28:05.698Z"
   },
   {
    "duration": 6,
    "start_time": "2021-12-09T12:28:05.708Z"
   },
   {
    "duration": 10,
    "start_time": "2021-12-09T12:28:05.715Z"
   },
   {
    "duration": 9,
    "start_time": "2021-12-09T12:28:05.726Z"
   },
   {
    "duration": 9,
    "start_time": "2021-12-09T12:28:05.736Z"
   },
   {
    "duration": 9,
    "start_time": "2021-12-09T12:28:05.746Z"
   },
   {
    "duration": 10,
    "start_time": "2021-12-09T12:28:05.756Z"
   },
   {
    "duration": 38,
    "start_time": "2021-12-09T12:28:05.767Z"
   },
   {
    "duration": 5,
    "start_time": "2021-12-09T12:28:05.807Z"
   },
   {
    "duration": 61,
    "start_time": "2021-12-09T12:28:05.814Z"
   },
   {
    "duration": 4,
    "start_time": "2021-12-09T12:28:05.876Z"
   },
   {
    "duration": 13,
    "start_time": "2021-12-09T12:28:05.881Z"
   },
   {
    "duration": 18,
    "start_time": "2021-12-09T12:28:05.895Z"
   },
   {
    "duration": 2,
    "start_time": "2021-12-09T12:28:05.915Z"
   },
   {
    "duration": 20,
    "start_time": "2021-12-09T12:28:05.919Z"
   },
   {
    "duration": 17,
    "start_time": "2021-12-09T12:28:05.941Z"
   },
   {
    "duration": 10,
    "start_time": "2021-12-09T12:28:05.960Z"
   },
   {
    "duration": 32,
    "start_time": "2021-12-09T12:28:05.971Z"
   },
   {
    "duration": 5,
    "start_time": "2021-12-09T12:28:06.005Z"
   },
   {
    "duration": 9,
    "start_time": "2021-12-09T12:28:06.012Z"
   },
   {
    "duration": 1552,
    "start_time": "2021-12-09T12:28:06.023Z"
   },
   {
    "duration": 11,
    "start_time": "2021-12-09T12:28:07.576Z"
   },
   {
    "duration": 1181,
    "start_time": "2021-12-09T12:28:07.589Z"
   },
   {
    "duration": 17,
    "start_time": "2021-12-09T12:28:08.771Z"
   },
   {
    "duration": 12,
    "start_time": "2021-12-09T12:28:08.790Z"
   },
   {
    "duration": 5,
    "start_time": "2021-12-09T12:28:08.803Z"
   },
   {
    "duration": 12,
    "start_time": "2021-12-09T12:28:08.810Z"
   },
   {
    "duration": 11,
    "start_time": "2021-12-09T12:28:08.824Z"
   },
   {
    "duration": 8,
    "start_time": "2021-12-09T12:28:08.837Z"
   },
   {
    "duration": 1276,
    "start_time": "2021-12-09T12:28:08.847Z"
   },
   {
    "duration": 12,
    "start_time": "2021-12-09T12:28:10.124Z"
   },
   {
    "duration": 7,
    "start_time": "2021-12-09T12:28:10.137Z"
   },
   {
    "duration": 1162,
    "start_time": "2021-12-09T12:28:10.146Z"
   },
   {
    "duration": 12,
    "start_time": "2021-12-09T12:28:11.309Z"
   },
   {
    "duration": 8,
    "start_time": "2021-12-09T12:28:11.322Z"
   },
   {
    "duration": 1298,
    "start_time": "2021-12-09T12:28:11.332Z"
   },
   {
    "duration": 14,
    "start_time": "2021-12-09T12:28:12.632Z"
   },
   {
    "duration": 9,
    "start_time": "2021-12-09T12:28:12.647Z"
   },
   {
    "duration": 1202,
    "start_time": "2021-12-09T12:28:12.662Z"
   },
   {
    "duration": 5,
    "start_time": "2021-12-09T12:28:13.865Z"
   },
   {
    "duration": 22,
    "start_time": "2021-12-09T12:28:13.872Z"
   },
   {
    "duration": 4,
    "start_time": "2021-12-09T12:28:13.895Z"
   },
   {
    "duration": 525,
    "start_time": "2021-12-09T12:28:13.900Z"
   },
   {
    "duration": 13,
    "start_time": "2021-12-09T12:28:14.427Z"
   },
   {
    "duration": 951,
    "start_time": "2021-12-09T12:28:14.442Z"
   },
   {
    "duration": 4,
    "start_time": "2021-12-09T12:28:15.395Z"
   },
   {
    "duration": 7,
    "start_time": "2021-12-09T12:28:15.401Z"
   },
   {
    "duration": 6,
    "start_time": "2021-12-09T12:28:15.409Z"
   },
   {
    "duration": 9,
    "start_time": "2021-12-09T12:28:15.416Z"
   },
   {
    "duration": 6,
    "start_time": "2021-12-09T12:28:15.427Z"
   },
   {
    "duration": 6,
    "start_time": "2021-12-09T12:28:15.434Z"
   },
   {
    "duration": 1489,
    "start_time": "2021-12-09T18:55:37.837Z"
   },
   {
    "duration": 1526,
    "start_time": "2021-12-09T18:55:39.329Z"
   },
   {
    "duration": 41,
    "start_time": "2021-12-09T18:55:40.858Z"
   },
   {
    "duration": 8,
    "start_time": "2021-12-09T18:55:40.902Z"
   },
   {
    "duration": 18,
    "start_time": "2021-12-09T18:55:40.913Z"
   },
   {
    "duration": 52,
    "start_time": "2021-12-09T18:55:40.934Z"
   },
   {
    "duration": 36,
    "start_time": "2021-12-09T18:55:40.989Z"
   },
   {
    "duration": 45,
    "start_time": "2021-12-09T18:55:41.029Z"
   },
   {
    "duration": 23,
    "start_time": "2021-12-09T18:55:41.077Z"
   },
   {
    "duration": 9,
    "start_time": "2021-12-09T18:55:41.103Z"
   },
   {
    "duration": 6,
    "start_time": "2021-12-09T18:55:41.114Z"
   },
   {
    "duration": 6,
    "start_time": "2021-12-09T18:55:41.159Z"
   },
   {
    "duration": 111,
    "start_time": "2021-12-09T18:55:41.168Z"
   },
   {
    "duration": 22,
    "start_time": "2021-12-09T18:55:41.281Z"
   },
   {
    "duration": 22,
    "start_time": "2021-12-09T18:55:41.305Z"
   },
   {
    "duration": 39,
    "start_time": "2021-12-09T18:55:41.329Z"
   },
   {
    "duration": 9,
    "start_time": "2021-12-09T18:55:41.370Z"
   },
   {
    "duration": 5,
    "start_time": "2021-12-09T18:55:41.381Z"
   },
   {
    "duration": 8,
    "start_time": "2021-12-09T18:55:41.388Z"
   },
   {
    "duration": 127,
    "start_time": "2021-12-09T18:55:41.398Z"
   },
   {
    "duration": 70,
    "start_time": "2021-12-09T18:55:41.527Z"
   },
   {
    "duration": 77,
    "start_time": "2021-12-09T18:55:41.599Z"
   },
   {
    "duration": 10,
    "start_time": "2021-12-09T18:55:41.682Z"
   },
   {
    "duration": 25,
    "start_time": "2021-12-09T18:55:41.695Z"
   },
   {
    "duration": 21,
    "start_time": "2021-12-09T18:55:41.722Z"
   },
   {
    "duration": 42,
    "start_time": "2021-12-09T18:55:41.745Z"
   },
   {
    "duration": 10,
    "start_time": "2021-12-09T18:55:41.790Z"
   },
   {
    "duration": 16,
    "start_time": "2021-12-09T18:55:41.802Z"
   },
   {
    "duration": 51,
    "start_time": "2021-12-09T18:55:41.821Z"
   },
   {
    "duration": 14,
    "start_time": "2021-12-09T18:55:41.875Z"
   },
   {
    "duration": 6,
    "start_time": "2021-12-09T18:55:41.891Z"
   },
   {
    "duration": 10,
    "start_time": "2021-12-09T18:55:41.899Z"
   },
   {
    "duration": 14,
    "start_time": "2021-12-09T18:55:41.912Z"
   },
   {
    "duration": 4,
    "start_time": "2021-12-09T18:55:41.960Z"
   },
   {
    "duration": 11,
    "start_time": "2021-12-09T18:55:41.966Z"
   },
   {
    "duration": 11,
    "start_time": "2021-12-09T18:55:41.980Z"
   },
   {
    "duration": 76,
    "start_time": "2021-12-09T18:55:41.993Z"
   },
   {
    "duration": 10,
    "start_time": "2021-12-09T18:55:42.071Z"
   },
   {
    "duration": 95,
    "start_time": "2021-12-09T18:55:42.084Z"
   },
   {
    "duration": 7,
    "start_time": "2021-12-09T18:55:42.181Z"
   },
   {
    "duration": 10,
    "start_time": "2021-12-09T18:55:42.190Z"
   },
   {
    "duration": 23,
    "start_time": "2021-12-09T18:55:42.203Z"
   },
   {
    "duration": 3,
    "start_time": "2021-12-09T18:55:42.259Z"
   },
   {
    "duration": 20,
    "start_time": "2021-12-09T18:55:42.265Z"
   },
   {
    "duration": 25,
    "start_time": "2021-12-09T18:55:42.287Z"
   },
   {
    "duration": 45,
    "start_time": "2021-12-09T18:55:42.314Z"
   },
   {
    "duration": 30,
    "start_time": "2021-12-09T18:55:42.362Z"
   },
   {
    "duration": 4,
    "start_time": "2021-12-09T18:55:42.395Z"
   },
   {
    "duration": 5,
    "start_time": "2021-12-09T18:55:42.401Z"
   },
   {
    "duration": 2944,
    "start_time": "2021-12-09T18:55:42.408Z"
   },
   {
    "duration": 7,
    "start_time": "2021-12-09T18:55:45.355Z"
   },
   {
    "duration": 2482,
    "start_time": "2021-12-09T18:55:45.364Z"
   },
   {
    "duration": 27,
    "start_time": "2021-12-09T18:55:47.849Z"
   },
   {
    "duration": 22,
    "start_time": "2021-12-09T18:55:47.879Z"
   },
   {
    "duration": 8,
    "start_time": "2021-12-09T18:55:47.903Z"
   },
   {
    "duration": 48,
    "start_time": "2021-12-09T18:55:47.913Z"
   },
   {
    "duration": 18,
    "start_time": "2021-12-09T18:55:47.963Z"
   },
   {
    "duration": 19,
    "start_time": "2021-12-09T18:55:47.983Z"
   },
   {
    "duration": 2344,
    "start_time": "2021-12-09T18:55:48.004Z"
   },
   {
    "duration": 24,
    "start_time": "2021-12-09T18:55:50.351Z"
   },
   {
    "duration": 14,
    "start_time": "2021-12-09T18:55:50.377Z"
   },
   {
    "duration": 2417,
    "start_time": "2021-12-09T18:55:50.393Z"
   },
   {
    "duration": 23,
    "start_time": "2021-12-09T18:55:52.813Z"
   },
   {
    "duration": 31,
    "start_time": "2021-12-09T18:55:52.839Z"
   },
   {
    "duration": 2370,
    "start_time": "2021-12-09T18:55:52.873Z"
   },
   {
    "duration": 28,
    "start_time": "2021-12-09T18:55:55.246Z"
   },
   {
    "duration": 12,
    "start_time": "2021-12-09T18:55:55.276Z"
   },
   {
    "duration": 2352,
    "start_time": "2021-12-09T18:55:55.295Z"
   },
   {
    "duration": 13,
    "start_time": "2021-12-09T18:55:57.650Z"
   },
   {
    "duration": 14,
    "start_time": "2021-12-09T18:55:57.665Z"
   },
   {
    "duration": 9,
    "start_time": "2021-12-09T18:55:57.681Z"
   },
   {
    "duration": 971,
    "start_time": "2021-12-09T18:55:57.692Z"
   },
   {
    "duration": 19,
    "start_time": "2021-12-09T18:55:58.665Z"
   },
   {
    "duration": 1686,
    "start_time": "2021-12-09T18:55:58.686Z"
   },
   {
    "duration": 8,
    "start_time": "2021-12-09T18:56:00.375Z"
   },
   {
    "duration": 12,
    "start_time": "2021-12-09T18:56:00.387Z"
   },
   {
    "duration": 9,
    "start_time": "2021-12-09T18:56:00.402Z"
   },
   {
    "duration": 49,
    "start_time": "2021-12-09T18:56:00.414Z"
   },
   {
    "duration": 8,
    "start_time": "2021-12-09T18:56:00.466Z"
   },
   {
    "duration": 9,
    "start_time": "2021-12-09T18:56:00.477Z"
   },
   {
    "duration": 26,
    "start_time": "2021-12-09T19:45:52.170Z"
   },
   {
    "duration": 6,
    "start_time": "2021-12-09T19:48:23.917Z"
   },
   {
    "duration": 1544,
    "start_time": "2022-01-12T13:17:27.718Z"
   },
   {
    "duration": 4279,
    "start_time": "2022-01-12T13:17:29.268Z"
   },
   {
    "duration": 43,
    "start_time": "2022-01-12T13:17:33.551Z"
   },
   {
    "duration": 8,
    "start_time": "2022-01-12T13:17:33.598Z"
   },
   {
    "duration": 58,
    "start_time": "2022-01-12T13:17:33.609Z"
   },
   {
    "duration": 48,
    "start_time": "2022-01-12T13:17:33.670Z"
   },
   {
    "duration": 56,
    "start_time": "2022-01-12T13:17:33.721Z"
   },
   {
    "duration": 18,
    "start_time": "2022-01-12T13:17:33.781Z"
   },
   {
    "duration": 29,
    "start_time": "2022-01-12T13:17:33.802Z"
   },
   {
    "duration": 10,
    "start_time": "2022-01-12T13:17:33.868Z"
   },
   {
    "duration": 8,
    "start_time": "2022-01-12T13:17:33.881Z"
   },
   {
    "duration": 7,
    "start_time": "2022-01-12T13:17:33.893Z"
   },
   {
    "duration": 133,
    "start_time": "2022-01-12T13:17:33.902Z"
   },
   {
    "duration": 33,
    "start_time": "2022-01-12T13:17:34.038Z"
   },
   {
    "duration": 18,
    "start_time": "2022-01-12T13:17:34.074Z"
   },
   {
    "duration": 14,
    "start_time": "2022-01-12T13:17:34.095Z"
   },
   {
    "duration": 10,
    "start_time": "2022-01-12T13:17:34.112Z"
   },
   {
    "duration": 42,
    "start_time": "2022-01-12T13:17:34.125Z"
   },
   {
    "duration": 7,
    "start_time": "2022-01-12T13:17:34.170Z"
   },
   {
    "duration": 120,
    "start_time": "2022-01-12T13:17:34.180Z"
   },
   {
    "duration": 78,
    "start_time": "2022-01-12T13:17:34.302Z"
   },
   {
    "duration": 86,
    "start_time": "2022-01-12T13:17:34.383Z"
   },
   {
    "duration": 9,
    "start_time": "2022-01-12T13:17:34.476Z"
   },
   {
    "duration": 11,
    "start_time": "2022-01-12T13:17:34.489Z"
   },
   {
    "duration": 13,
    "start_time": "2022-01-12T13:17:34.503Z"
   },
   {
    "duration": 68,
    "start_time": "2022-01-12T13:17:34.519Z"
   },
   {
    "duration": 11,
    "start_time": "2022-01-12T13:17:34.590Z"
   },
   {
    "duration": 14,
    "start_time": "2022-01-12T13:17:34.603Z"
   },
   {
    "duration": 54,
    "start_time": "2022-01-12T13:17:34.619Z"
   },
   {
    "duration": 6,
    "start_time": "2022-01-12T13:17:34.676Z"
   },
   {
    "duration": 9,
    "start_time": "2022-01-12T13:17:34.685Z"
   },
   {
    "duration": 17,
    "start_time": "2022-01-12T13:17:34.696Z"
   },
   {
    "duration": 23,
    "start_time": "2022-01-12T13:17:34.716Z"
   },
   {
    "duration": 27,
    "start_time": "2022-01-12T13:17:34.742Z"
   },
   {
    "duration": 18,
    "start_time": "2022-01-12T13:17:34.772Z"
   },
   {
    "duration": 9,
    "start_time": "2022-01-12T13:17:34.793Z"
   },
   {
    "duration": 11,
    "start_time": "2022-01-12T13:17:34.805Z"
   },
   {
    "duration": 52,
    "start_time": "2022-01-12T13:17:34.818Z"
   },
   {
    "duration": 11,
    "start_time": "2022-01-12T13:17:34.873Z"
   },
   {
    "duration": 13,
    "start_time": "2022-01-12T13:17:34.887Z"
   },
   {
    "duration": 14,
    "start_time": "2022-01-12T13:17:34.902Z"
   },
   {
    "duration": 67,
    "start_time": "2022-01-12T13:17:34.919Z"
   },
   {
    "duration": 10,
    "start_time": "2022-01-12T13:17:34.989Z"
   },
   {
    "duration": 101,
    "start_time": "2022-01-12T13:17:35.001Z"
   },
   {
    "duration": 7,
    "start_time": "2022-01-12T13:17:35.104Z"
   },
   {
    "duration": 16,
    "start_time": "2022-01-12T13:17:35.113Z"
   },
   {
    "duration": 47,
    "start_time": "2022-01-12T13:17:35.132Z"
   },
   {
    "duration": 3,
    "start_time": "2022-01-12T13:17:35.183Z"
   },
   {
    "duration": 28,
    "start_time": "2022-01-12T13:17:35.189Z"
   },
   {
    "duration": 64,
    "start_time": "2022-01-12T13:17:35.221Z"
   },
   {
    "duration": 14,
    "start_time": "2022-01-12T13:17:35.287Z"
   },
   {
    "duration": 32,
    "start_time": "2022-01-12T13:17:35.304Z"
   },
   {
    "duration": 31,
    "start_time": "2022-01-12T13:17:35.338Z"
   },
   {
    "duration": 7,
    "start_time": "2022-01-12T13:17:35.372Z"
   },
   {
    "duration": 3298,
    "start_time": "2022-01-12T13:17:35.382Z"
   },
   {
    "duration": 10,
    "start_time": "2022-01-12T13:17:38.684Z"
   },
   {
    "duration": 2433,
    "start_time": "2022-01-12T13:17:38.698Z"
   },
   {
    "duration": 39,
    "start_time": "2022-01-12T13:17:41.133Z"
   },
   {
    "duration": 25,
    "start_time": "2022-01-12T13:17:41.174Z"
   },
   {
    "duration": 8,
    "start_time": "2022-01-12T13:17:41.202Z"
   },
   {
    "duration": 61,
    "start_time": "2022-01-12T13:17:41.213Z"
   },
   {
    "duration": 19,
    "start_time": "2022-01-12T13:17:41.277Z"
   },
   {
    "duration": 15,
    "start_time": "2022-01-12T13:17:41.299Z"
   },
   {
    "duration": 2583,
    "start_time": "2022-01-12T13:17:41.317Z"
   },
   {
    "duration": 23,
    "start_time": "2022-01-12T13:17:43.903Z"
   },
   {
    "duration": 41,
    "start_time": "2022-01-12T13:17:43.929Z"
   },
   {
    "duration": 2399,
    "start_time": "2022-01-12T13:17:43.973Z"
   },
   {
    "duration": 24,
    "start_time": "2022-01-12T13:17:46.380Z"
   },
   {
    "duration": 15,
    "start_time": "2022-01-12T13:17:46.407Z"
   },
   {
    "duration": 2662,
    "start_time": "2022-01-12T13:17:46.425Z"
   },
   {
    "duration": 23,
    "start_time": "2022-01-12T13:17:49.089Z"
   },
   {
    "duration": 38,
    "start_time": "2022-01-12T13:17:49.115Z"
   },
   {
    "duration": 2395,
    "start_time": "2022-01-12T13:17:49.156Z"
   },
   {
    "duration": 14,
    "start_time": "2022-01-12T13:17:51.554Z"
   },
   {
    "duration": 18,
    "start_time": "2022-01-12T13:17:51.570Z"
   },
   {
    "duration": 10,
    "start_time": "2022-01-12T13:17:51.590Z"
   },
   {
    "duration": 1090,
    "start_time": "2022-01-12T13:17:51.603Z"
   },
   {
    "duration": 19,
    "start_time": "2022-01-12T13:17:52.696Z"
   },
   {
    "duration": 1989,
    "start_time": "2022-01-12T13:17:52.718Z"
   },
   {
    "duration": 9,
    "start_time": "2022-01-12T13:17:54.710Z"
   },
   {
    "duration": 8,
    "start_time": "2022-01-12T13:17:54.721Z"
   },
   {
    "duration": 39,
    "start_time": "2022-01-12T13:17:54.731Z"
   },
   {
    "duration": 9,
    "start_time": "2022-01-12T13:17:54.772Z"
   },
   {
    "duration": 8,
    "start_time": "2022-01-12T13:17:54.783Z"
   },
   {
    "duration": 9,
    "start_time": "2022-01-12T13:17:54.793Z"
   }
  ],
  "colab": {
   "collapsed_sections": [],
   "name": "review_homework_id_194291 (1).ipynb",
   "provenance": []
  },
  "kernelspec": {
   "display_name": "Python 3",
   "language": "python",
   "name": "python3"
  },
  "language_info": {
   "codemirror_mode": {
    "name": "ipython",
    "version": 3
   },
   "file_extension": ".py",
   "mimetype": "text/x-python",
   "name": "python",
   "nbconvert_exporter": "python",
   "pygments_lexer": "ipython3",
   "version": "3.7.8"
  },
  "toc": {
   "base_numbering": 1,
   "nav_menu": {},
   "number_sections": true,
   "sideBar": true,
   "skip_h1_title": true,
   "title_cell": "Table of Contents",
   "title_sidebar": "Contents",
   "toc_cell": false,
   "toc_position": {},
   "toc_section_display": true,
   "toc_window_display": false
  }
 },
 "nbformat": 4,
 "nbformat_minor": 1
}
