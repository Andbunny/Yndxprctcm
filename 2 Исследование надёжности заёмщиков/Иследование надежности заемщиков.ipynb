{
 "cells": [
  {
   "cell_type": "markdown",
   "metadata": {},
   "source": [
    "# Исследование надёжности заёмщиков\n",
    "\n",
    "Заказчик — кредитный отдел банка. Нужно разобраться, влияет ли семейное положение и количество детей клиента на факт погашения кредита в срок. Входные данные от банка — статистика о платёжеспособности клиентов.\n",
    "\n",
    "Результаты исследования будут учтены при построении модели **кредитного скоринга** — специальной системы, которая оценивает способность потенциального заёмщика вернуть кредит банку."
   ]
  },
  {
   "cell_type": "markdown",
   "metadata": {},
   "source": [
    "## Шаг 1. Откройте файл с данными и изучите общую информацию"
   ]
  },
  {
   "cell_type": "markdown",
   "metadata": {},
   "source": [
    "Для начала иследуем то, что нам досталось от заказчика. Исследуем данные на наличие ошибок, пропусков и прочих проблемок."
   ]
  },
  {
   "cell_type": "code",
   "execution_count": 1,
   "metadata": {
    "scrolled": true
   },
   "outputs": [
    {
     "name": "stdout",
     "output_type": "stream",
     "text": [
      "<class 'pandas.core.frame.DataFrame'>\n",
      "RangeIndex: 21525 entries, 0 to 21524\n",
      "Data columns (total 12 columns):\n",
      "children            21525 non-null int64\n",
      "days_employed       19351 non-null float64\n",
      "dob_years           21525 non-null int64\n",
      "education           21525 non-null object\n",
      "education_id        21525 non-null int64\n",
      "family_status       21525 non-null object\n",
      "family_status_id    21525 non-null int64\n",
      "gender              21525 non-null object\n",
      "income_type         21525 non-null object\n",
      "debt                21525 non-null int64\n",
      "total_income        19351 non-null float64\n",
      "purpose             21525 non-null object\n",
      "dtypes: float64(2), int64(5), object(5)\n",
      "memory usage: 2.0+ MB\n"
     ]
    }
   ],
   "source": [
    "import pandas as pd\n",
    "from pymystem3 import Mystem\n",
    "from collections import Counter\n",
    "m = Mystem()\n",
    "pd.options.display.float_format ='{:,.3f}'.format\n",
    "\n",
    "\n",
    "data = pd.read_csv('/datasets/data.csv')\n",
    "\n",
    "data.info()"
   ]
  },
  {
   "cell_type": "code",
   "execution_count": 2,
   "metadata": {},
   "outputs": [
    {
     "data": {
      "text/html": [
       "<div>\n",
       "<style scoped>\n",
       "    .dataframe tbody tr th:only-of-type {\n",
       "        vertical-align: middle;\n",
       "    }\n",
       "\n",
       "    .dataframe tbody tr th {\n",
       "        vertical-align: top;\n",
       "    }\n",
       "\n",
       "    .dataframe thead th {\n",
       "        text-align: right;\n",
       "    }\n",
       "</style>\n",
       "<table border=\"1\" class=\"dataframe\">\n",
       "  <thead>\n",
       "    <tr style=\"text-align: right;\">\n",
       "      <th></th>\n",
       "      <th>children</th>\n",
       "      <th>days_employed</th>\n",
       "      <th>dob_years</th>\n",
       "      <th>education</th>\n",
       "      <th>education_id</th>\n",
       "      <th>family_status</th>\n",
       "      <th>family_status_id</th>\n",
       "      <th>gender</th>\n",
       "      <th>income_type</th>\n",
       "      <th>debt</th>\n",
       "      <th>total_income</th>\n",
       "      <th>purpose</th>\n",
       "    </tr>\n",
       "  </thead>\n",
       "  <tbody>\n",
       "    <tr>\n",
       "      <td>0</td>\n",
       "      <td>1</td>\n",
       "      <td>-8,437.673</td>\n",
       "      <td>42</td>\n",
       "      <td>высшее</td>\n",
       "      <td>0</td>\n",
       "      <td>женат / замужем</td>\n",
       "      <td>0</td>\n",
       "      <td>F</td>\n",
       "      <td>сотрудник</td>\n",
       "      <td>0</td>\n",
       "      <td>253,875.639</td>\n",
       "      <td>покупка жилья</td>\n",
       "    </tr>\n",
       "    <tr>\n",
       "      <td>1</td>\n",
       "      <td>1</td>\n",
       "      <td>-4,024.804</td>\n",
       "      <td>36</td>\n",
       "      <td>среднее</td>\n",
       "      <td>1</td>\n",
       "      <td>женат / замужем</td>\n",
       "      <td>0</td>\n",
       "      <td>F</td>\n",
       "      <td>сотрудник</td>\n",
       "      <td>0</td>\n",
       "      <td>112,080.014</td>\n",
       "      <td>приобретение автомобиля</td>\n",
       "    </tr>\n",
       "    <tr>\n",
       "      <td>2</td>\n",
       "      <td>0</td>\n",
       "      <td>-5,623.423</td>\n",
       "      <td>33</td>\n",
       "      <td>Среднее</td>\n",
       "      <td>1</td>\n",
       "      <td>женат / замужем</td>\n",
       "      <td>0</td>\n",
       "      <td>M</td>\n",
       "      <td>сотрудник</td>\n",
       "      <td>0</td>\n",
       "      <td>145,885.952</td>\n",
       "      <td>покупка жилья</td>\n",
       "    </tr>\n",
       "    <tr>\n",
       "      <td>3</td>\n",
       "      <td>3</td>\n",
       "      <td>-4,124.747</td>\n",
       "      <td>32</td>\n",
       "      <td>среднее</td>\n",
       "      <td>1</td>\n",
       "      <td>женат / замужем</td>\n",
       "      <td>0</td>\n",
       "      <td>M</td>\n",
       "      <td>сотрудник</td>\n",
       "      <td>0</td>\n",
       "      <td>267,628.550</td>\n",
       "      <td>дополнительное образование</td>\n",
       "    </tr>\n",
       "    <tr>\n",
       "      <td>4</td>\n",
       "      <td>0</td>\n",
       "      <td>340,266.072</td>\n",
       "      <td>53</td>\n",
       "      <td>среднее</td>\n",
       "      <td>1</td>\n",
       "      <td>гражданский брак</td>\n",
       "      <td>1</td>\n",
       "      <td>F</td>\n",
       "      <td>пенсионер</td>\n",
       "      <td>0</td>\n",
       "      <td>158,616.078</td>\n",
       "      <td>сыграть свадьбу</td>\n",
       "    </tr>\n",
       "    <tr>\n",
       "      <td>5</td>\n",
       "      <td>0</td>\n",
       "      <td>-926.186</td>\n",
       "      <td>27</td>\n",
       "      <td>высшее</td>\n",
       "      <td>0</td>\n",
       "      <td>гражданский брак</td>\n",
       "      <td>1</td>\n",
       "      <td>M</td>\n",
       "      <td>компаньон</td>\n",
       "      <td>0</td>\n",
       "      <td>255,763.565</td>\n",
       "      <td>покупка жилья</td>\n",
       "    </tr>\n",
       "    <tr>\n",
       "      <td>6</td>\n",
       "      <td>0</td>\n",
       "      <td>-2,879.202</td>\n",
       "      <td>43</td>\n",
       "      <td>высшее</td>\n",
       "      <td>0</td>\n",
       "      <td>женат / замужем</td>\n",
       "      <td>0</td>\n",
       "      <td>F</td>\n",
       "      <td>компаньон</td>\n",
       "      <td>0</td>\n",
       "      <td>240,525.972</td>\n",
       "      <td>операции с жильем</td>\n",
       "    </tr>\n",
       "    <tr>\n",
       "      <td>7</td>\n",
       "      <td>0</td>\n",
       "      <td>-152.780</td>\n",
       "      <td>50</td>\n",
       "      <td>СРЕДНЕЕ</td>\n",
       "      <td>1</td>\n",
       "      <td>женат / замужем</td>\n",
       "      <td>0</td>\n",
       "      <td>M</td>\n",
       "      <td>сотрудник</td>\n",
       "      <td>0</td>\n",
       "      <td>135,823.934</td>\n",
       "      <td>образование</td>\n",
       "    </tr>\n",
       "    <tr>\n",
       "      <td>8</td>\n",
       "      <td>2</td>\n",
       "      <td>-6,929.865</td>\n",
       "      <td>35</td>\n",
       "      <td>ВЫСШЕЕ</td>\n",
       "      <td>0</td>\n",
       "      <td>гражданский брак</td>\n",
       "      <td>1</td>\n",
       "      <td>F</td>\n",
       "      <td>сотрудник</td>\n",
       "      <td>0</td>\n",
       "      <td>95,856.832</td>\n",
       "      <td>на проведение свадьбы</td>\n",
       "    </tr>\n",
       "    <tr>\n",
       "      <td>9</td>\n",
       "      <td>0</td>\n",
       "      <td>-2,188.756</td>\n",
       "      <td>41</td>\n",
       "      <td>среднее</td>\n",
       "      <td>1</td>\n",
       "      <td>женат / замужем</td>\n",
       "      <td>0</td>\n",
       "      <td>M</td>\n",
       "      <td>сотрудник</td>\n",
       "      <td>0</td>\n",
       "      <td>144,425.938</td>\n",
       "      <td>покупка жилья для семьи</td>\n",
       "    </tr>\n",
       "    <tr>\n",
       "      <td>10</td>\n",
       "      <td>2</td>\n",
       "      <td>-4,171.484</td>\n",
       "      <td>36</td>\n",
       "      <td>высшее</td>\n",
       "      <td>0</td>\n",
       "      <td>женат / замужем</td>\n",
       "      <td>0</td>\n",
       "      <td>M</td>\n",
       "      <td>компаньон</td>\n",
       "      <td>0</td>\n",
       "      <td>113,943.491</td>\n",
       "      <td>покупка недвижимости</td>\n",
       "    </tr>\n",
       "    <tr>\n",
       "      <td>11</td>\n",
       "      <td>0</td>\n",
       "      <td>-792.702</td>\n",
       "      <td>40</td>\n",
       "      <td>среднее</td>\n",
       "      <td>1</td>\n",
       "      <td>женат / замужем</td>\n",
       "      <td>0</td>\n",
       "      <td>F</td>\n",
       "      <td>сотрудник</td>\n",
       "      <td>0</td>\n",
       "      <td>77,069.234</td>\n",
       "      <td>покупка коммерческой недвижимости</td>\n",
       "    </tr>\n",
       "    <tr>\n",
       "      <td>12</td>\n",
       "      <td>0</td>\n",
       "      <td>nan</td>\n",
       "      <td>65</td>\n",
       "      <td>среднее</td>\n",
       "      <td>1</td>\n",
       "      <td>гражданский брак</td>\n",
       "      <td>1</td>\n",
       "      <td>M</td>\n",
       "      <td>пенсионер</td>\n",
       "      <td>0</td>\n",
       "      <td>nan</td>\n",
       "      <td>сыграть свадьбу</td>\n",
       "    </tr>\n",
       "    <tr>\n",
       "      <td>13</td>\n",
       "      <td>0</td>\n",
       "      <td>-1,846.642</td>\n",
       "      <td>54</td>\n",
       "      <td>неоконченное высшее</td>\n",
       "      <td>2</td>\n",
       "      <td>женат / замужем</td>\n",
       "      <td>0</td>\n",
       "      <td>F</td>\n",
       "      <td>сотрудник</td>\n",
       "      <td>0</td>\n",
       "      <td>130,458.229</td>\n",
       "      <td>приобретение автомобиля</td>\n",
       "    </tr>\n",
       "    <tr>\n",
       "      <td>14</td>\n",
       "      <td>0</td>\n",
       "      <td>-1,844.956</td>\n",
       "      <td>56</td>\n",
       "      <td>высшее</td>\n",
       "      <td>0</td>\n",
       "      <td>гражданский брак</td>\n",
       "      <td>1</td>\n",
       "      <td>F</td>\n",
       "      <td>компаньон</td>\n",
       "      <td>1</td>\n",
       "      <td>165,127.912</td>\n",
       "      <td>покупка жилой недвижимости</td>\n",
       "    </tr>\n",
       "  </tbody>\n",
       "</table>\n",
       "</div>"
      ],
      "text/plain": [
       "    children  days_employed  dob_years            education  education_id  \\\n",
       "0          1     -8,437.673         42               высшее             0   \n",
       "1          1     -4,024.804         36              среднее             1   \n",
       "2          0     -5,623.423         33              Среднее             1   \n",
       "3          3     -4,124.747         32              среднее             1   \n",
       "4          0    340,266.072         53              среднее             1   \n",
       "5          0       -926.186         27               высшее             0   \n",
       "6          0     -2,879.202         43               высшее             0   \n",
       "7          0       -152.780         50              СРЕДНЕЕ             1   \n",
       "8          2     -6,929.865         35               ВЫСШЕЕ             0   \n",
       "9          0     -2,188.756         41              среднее             1   \n",
       "10         2     -4,171.484         36               высшее             0   \n",
       "11         0       -792.702         40              среднее             1   \n",
       "12         0            nan         65              среднее             1   \n",
       "13         0     -1,846.642         54  неоконченное высшее             2   \n",
       "14         0     -1,844.956         56               высшее             0   \n",
       "\n",
       "       family_status  family_status_id gender income_type  debt  total_income  \\\n",
       "0    женат / замужем                 0      F   сотрудник     0   253,875.639   \n",
       "1    женат / замужем                 0      F   сотрудник     0   112,080.014   \n",
       "2    женат / замужем                 0      M   сотрудник     0   145,885.952   \n",
       "3    женат / замужем                 0      M   сотрудник     0   267,628.550   \n",
       "4   гражданский брак                 1      F   пенсионер     0   158,616.078   \n",
       "5   гражданский брак                 1      M   компаньон     0   255,763.565   \n",
       "6    женат / замужем                 0      F   компаньон     0   240,525.972   \n",
       "7    женат / замужем                 0      M   сотрудник     0   135,823.934   \n",
       "8   гражданский брак                 1      F   сотрудник     0    95,856.832   \n",
       "9    женат / замужем                 0      M   сотрудник     0   144,425.938   \n",
       "10   женат / замужем                 0      M   компаньон     0   113,943.491   \n",
       "11   женат / замужем                 0      F   сотрудник     0    77,069.234   \n",
       "12  гражданский брак                 1      M   пенсионер     0           nan   \n",
       "13   женат / замужем                 0      F   сотрудник     0   130,458.229   \n",
       "14  гражданский брак                 1      F   компаньон     1   165,127.912   \n",
       "\n",
       "                              purpose  \n",
       "0                       покупка жилья  \n",
       "1             приобретение автомобиля  \n",
       "2                       покупка жилья  \n",
       "3          дополнительное образование  \n",
       "4                     сыграть свадьбу  \n",
       "5                       покупка жилья  \n",
       "6                   операции с жильем  \n",
       "7                         образование  \n",
       "8               на проведение свадьбы  \n",
       "9             покупка жилья для семьи  \n",
       "10               покупка недвижимости  \n",
       "11  покупка коммерческой недвижимости  \n",
       "12                    сыграть свадьбу  \n",
       "13            приобретение автомобиля  \n",
       "14         покупка жилой недвижимости  "
      ]
     },
     "execution_count": 2,
     "metadata": {},
     "output_type": "execute_result"
    }
   ],
   "source": [
    "data.head(15)"
   ]
  },
  {
   "cell_type": "code",
   "execution_count": 3,
   "metadata": {
    "scrolled": true
   },
   "outputs": [
    {
     "data": {
      "text/html": [
       "<div>\n",
       "<style scoped>\n",
       "    .dataframe tbody tr th:only-of-type {\n",
       "        vertical-align: middle;\n",
       "    }\n",
       "\n",
       "    .dataframe tbody tr th {\n",
       "        vertical-align: top;\n",
       "    }\n",
       "\n",
       "    .dataframe thead th {\n",
       "        text-align: right;\n",
       "    }\n",
       "</style>\n",
       "<table border=\"1\" class=\"dataframe\">\n",
       "  <thead>\n",
       "    <tr style=\"text-align: right;\">\n",
       "      <th></th>\n",
       "      <th>children</th>\n",
       "      <th>days_employed</th>\n",
       "      <th>dob_years</th>\n",
       "      <th>education_id</th>\n",
       "      <th>family_status_id</th>\n",
       "      <th>debt</th>\n",
       "      <th>total_income</th>\n",
       "    </tr>\n",
       "  </thead>\n",
       "  <tbody>\n",
       "    <tr>\n",
       "      <td>count</td>\n",
       "      <td>21,525.000</td>\n",
       "      <td>19,351.000</td>\n",
       "      <td>21,525.000</td>\n",
       "      <td>21,525.000</td>\n",
       "      <td>21,525.000</td>\n",
       "      <td>21,525.000</td>\n",
       "      <td>19,351.000</td>\n",
       "    </tr>\n",
       "    <tr>\n",
       "      <td>mean</td>\n",
       "      <td>0.539</td>\n",
       "      <td>63,046.498</td>\n",
       "      <td>43.293</td>\n",
       "      <td>0.817</td>\n",
       "      <td>0.973</td>\n",
       "      <td>0.081</td>\n",
       "      <td>167,422.302</td>\n",
       "    </tr>\n",
       "    <tr>\n",
       "      <td>std</td>\n",
       "      <td>1.382</td>\n",
       "      <td>140,827.312</td>\n",
       "      <td>12.575</td>\n",
       "      <td>0.548</td>\n",
       "      <td>1.420</td>\n",
       "      <td>0.273</td>\n",
       "      <td>102,971.566</td>\n",
       "    </tr>\n",
       "    <tr>\n",
       "      <td>min</td>\n",
       "      <td>-1.000</td>\n",
       "      <td>-18,388.950</td>\n",
       "      <td>0.000</td>\n",
       "      <td>0.000</td>\n",
       "      <td>0.000</td>\n",
       "      <td>0.000</td>\n",
       "      <td>20,667.264</td>\n",
       "    </tr>\n",
       "    <tr>\n",
       "      <td>25%</td>\n",
       "      <td>0.000</td>\n",
       "      <td>-2,747.424</td>\n",
       "      <td>33.000</td>\n",
       "      <td>1.000</td>\n",
       "      <td>0.000</td>\n",
       "      <td>0.000</td>\n",
       "      <td>103,053.153</td>\n",
       "    </tr>\n",
       "    <tr>\n",
       "      <td>50%</td>\n",
       "      <td>0.000</td>\n",
       "      <td>-1,203.370</td>\n",
       "      <td>42.000</td>\n",
       "      <td>1.000</td>\n",
       "      <td>0.000</td>\n",
       "      <td>0.000</td>\n",
       "      <td>145,017.938</td>\n",
       "    </tr>\n",
       "    <tr>\n",
       "      <td>75%</td>\n",
       "      <td>1.000</td>\n",
       "      <td>-291.096</td>\n",
       "      <td>53.000</td>\n",
       "      <td>1.000</td>\n",
       "      <td>1.000</td>\n",
       "      <td>0.000</td>\n",
       "      <td>203,435.068</td>\n",
       "    </tr>\n",
       "    <tr>\n",
       "      <td>max</td>\n",
       "      <td>20.000</td>\n",
       "      <td>401,755.400</td>\n",
       "      <td>75.000</td>\n",
       "      <td>4.000</td>\n",
       "      <td>4.000</td>\n",
       "      <td>1.000</td>\n",
       "      <td>2,265,604.029</td>\n",
       "    </tr>\n",
       "  </tbody>\n",
       "</table>\n",
       "</div>"
      ],
      "text/plain": [
       "        children  days_employed  dob_years  education_id  family_status_id  \\\n",
       "count 21,525.000     19,351.000 21,525.000    21,525.000        21,525.000   \n",
       "mean       0.539     63,046.498     43.293         0.817             0.973   \n",
       "std        1.382    140,827.312     12.575         0.548             1.420   \n",
       "min       -1.000    -18,388.950      0.000         0.000             0.000   \n",
       "25%        0.000     -2,747.424     33.000         1.000             0.000   \n",
       "50%        0.000     -1,203.370     42.000         1.000             0.000   \n",
       "75%        1.000       -291.096     53.000         1.000             1.000   \n",
       "max       20.000    401,755.400     75.000         4.000             4.000   \n",
       "\n",
       "            debt  total_income  \n",
       "count 21,525.000    19,351.000  \n",
       "mean       0.081   167,422.302  \n",
       "std        0.273   102,971.566  \n",
       "min        0.000    20,667.264  \n",
       "25%        0.000   103,053.153  \n",
       "50%        0.000   145,017.938  \n",
       "75%        0.000   203,435.068  \n",
       "max        1.000 2,265,604.029  "
      ]
     },
     "execution_count": 3,
     "metadata": {},
     "output_type": "execute_result"
    }
   ],
   "source": [
    "data.describe()"
   ]
  },
  {
   "cell_type": "markdown",
   "metadata": {},
   "source": [
    "Возникли первые вопросы: \n",
    "1. есть пропуски в столбцах days_employed и total_income, причем похоже в одних и тех же строках\n",
    "2. проблемы с регистром в education\n",
    "3. отрицательные значения в столбце days_employed, а так же средний стаж 63046 дней - почти 173 года. Роботы, не иначе. Стоит уточнить у источника информации что они имели ввиду.\n",
    "4. Кто-то потерял ребенка, а может взял в долг) (значение -1 в столбце children), а максимальное значение 20 - тоже возникают вопросы сколько таких \"матерей-героев\" и не ошибка ли это\n",
    "5. в столбце dob_years есть нулевые значения. Очень странно\n",
    "6. days_employed и total_income будет удобнее представить в виде целых чисел  \n",
    "Почти все вопросы возникают к качеству сбора данных, если с разным регистром можно смирится, то с пропущенными значениями надо что-то делать и дать обратную связь источнику данных."
   ]
  },
  {
   "cell_type": "markdown",
   "metadata": {},
   "source": [
    "## Шаг 2. Предобработка данных"
   ]
  },
  {
   "cell_type": "markdown",
   "metadata": {},
   "source": [
    "### Обработка пропусков и некоректных данных"
   ]
  },
  {
   "cell_type": "markdown",
   "metadata": {},
   "source": [
    "В данный блок добавил и обработку некоректных данных: дети, ну и у нас есть 3 проблемки: days_employed, total_income и нули в dob_years. \n",
    "Пропуски в days_employed и total_income - одни и те же? Проверим:"
   ]
  },
  {
   "cell_type": "code",
   "execution_count": 4,
   "metadata": {
    "scrolled": true
   },
   "outputs": [
    {
     "name": "stdout",
     "output_type": "stream",
     "text": [
      "<class 'pandas.core.frame.DataFrame'>\n",
      "Int64Index: 2174 entries, 12 to 21510\n",
      "Data columns (total 12 columns):\n",
      "children            2174 non-null int64\n",
      "days_employed       0 non-null float64\n",
      "dob_years           2174 non-null int64\n",
      "education           2174 non-null object\n",
      "education_id        2174 non-null int64\n",
      "family_status       2174 non-null object\n",
      "family_status_id    2174 non-null int64\n",
      "gender              2174 non-null object\n",
      "income_type         2174 non-null object\n",
      "debt                2174 non-null int64\n",
      "total_income        0 non-null float64\n",
      "purpose             2174 non-null object\n",
      "dtypes: float64(2), int64(5), object(5)\n",
      "memory usage: 220.8+ KB\n"
     ]
    }
   ],
   "source": [
    "data[(data['total_income'].isnull() == True) & (data['days_employed'].isnull() == True)].info()"
   ]
  },
  {
   "cell_type": "markdown",
   "metadata": {},
   "source": [
    "Действительно, одни и те же. Можно было просто заменить все на средние значения и работать дальше. Но давайте проверим в каких типах занятости есть нулевые значения и сделаем мини вывод:"
   ]
  },
  {
   "cell_type": "code",
   "execution_count": 5,
   "metadata": {},
   "outputs": [
    {
     "data": {
      "text/plain": [
       "сотрудник          1105\n",
       "компаньон           508\n",
       "пенсионер           413\n",
       "госслужащий         147\n",
       "предприниматель       1\n",
       "Name: income_type, dtype: int64"
      ]
     },
     "execution_count": 5,
     "metadata": {},
     "output_type": "execute_result"
    }
   ],
   "source": [
    "data[(data['total_income'].isna() == True) & (data['days_employed'].isna() == True)]['income_type'].value_counts()"
   ]
  },
  {
   "cell_type": "markdown",
   "metadata": {},
   "source": [
    "А теперь проверим - не зря ли это делали, посчитаем медиану по зп:"
   ]
  },
  {
   "cell_type": "code",
   "execution_count": 6,
   "metadata": {},
   "outputs": [
    {
     "name": "stdout",
     "output_type": "stream",
     "text": [
      "income_type\n",
      "безработный       131,339.752\n",
      "в декрете          53,829.131\n",
      "госслужащий       150,447.935\n",
      "компаньон         172,357.951\n",
      "пенсионер         118,514.486\n",
      "предприниматель   499,163.145\n",
      "сотрудник         142,594.397\n",
      "студент            98,201.625\n",
      "Name: total_income, dtype: float64\n"
     ]
    }
   ],
   "source": [
    "medians_total_income = data.groupby('income_type')['total_income'].median()\n",
    "print(medians_total_income)"
   ]
  },
  {
   "cell_type": "markdown",
   "metadata": {},
   "source": [
    "Неплохо быть безработным) А медианная зп действительно отличается в зависимости от занятости. Не зря делали. Заменяем значения для каждого типа занятости:"
   ]
  },
  {
   "cell_type": "code",
   "execution_count": 7,
   "metadata": {},
   "outputs": [],
   "source": [
    "data.loc[(data['total_income'].isna()) & (data['income_type'] == 'госслужащий'), 'total_income'] = medians_total_income[2]\n",
    "data.loc[(data['total_income'].isna()) & (data['income_type'] == 'компаньон'), 'total_income'] = medians_total_income[3]\n",
    "data.loc[(data['total_income'].isna()) & (data['income_type'] == 'пенсионер'), 'total_income'] = medians_total_income[4]\n",
    "data.loc[(data['total_income'].isna()) & (data['income_type'] == 'предприниматель'), 'total_income'] = medians_total_income[5]\n",
    "data.loc[(data['total_income'].isna()) & (data['income_type'] == 'сотрудник'), 'total_income'] = medians_total_income[6]\n"
   ]
  },
  {
   "cell_type": "code",
   "execution_count": 8,
   "metadata": {
    "scrolled": true
   },
   "outputs": [
    {
     "name": "stdout",
     "output_type": "stream",
     "text": [
      "<class 'pandas.core.frame.DataFrame'>\n",
      "RangeIndex: 21525 entries, 0 to 21524\n",
      "Data columns (total 12 columns):\n",
      "children            21525 non-null int64\n",
      "days_employed       19351 non-null float64\n",
      "dob_years           21525 non-null int64\n",
      "education           21525 non-null object\n",
      "education_id        21525 non-null int64\n",
      "family_status       21525 non-null object\n",
      "family_status_id    21525 non-null int64\n",
      "gender              21525 non-null object\n",
      "income_type         21525 non-null object\n",
      "debt                21525 non-null int64\n",
      "total_income        21525 non-null float64\n",
      "purpose             21525 non-null object\n",
      "dtypes: float64(2), int64(5), object(5)\n",
      "memory usage: 2.0+ MB\n"
     ]
    }
   ],
   "source": [
    "data.info()"
   ]
  },
  {
   "cell_type": "markdown",
   "metadata": {},
   "source": [
    "Пропуски в total_income заполнены, а мы молодцы. Займемся столбцом days_employed, по тому же принципу: всем одинаковый стаж не поставить. Для начала сделаем все значения положительными и заменим значения"
   ]
  },
  {
   "cell_type": "code",
   "execution_count": 9,
   "metadata": {},
   "outputs": [
    {
     "name": "stdout",
     "output_type": "stream",
     "text": [
      "income_type\n",
      "безработный       366,413.653\n",
      "в декрете           3,296.760\n",
      "госслужащий         2,689.368\n",
      "компаньон           1,547.382\n",
      "пенсионер         365,213.306\n",
      "предприниматель       520.848\n",
      "сотрудник           1,574.203\n",
      "студент               578.752\n",
      "Name: days_employed, dtype: float64\n"
     ]
    }
   ],
   "source": [
    "data['days_employed'] = data['days_employed'].apply(abs)\n",
    "medians_days_employed = data.groupby('income_type')['days_employed'].median()\n",
    "print(medians_days_employed)"
   ]
  },
  {
   "cell_type": "markdown",
   "metadata": {},
   "source": [
    "Мы видим выбросы у безработных и пенсионеров. Гипотеза такая: их опыт посчитан в \"часах\", а не в \"днях\" (разделив их данные на 24 - получаются \"нормальные\" значения). Можно было бы написать функцию или цикл для исправления данного недочета, но для наших поставленных задач не требуется данный столбец, поэтому заполним данными какие есть и напишем источнику данных о проблеме с этими группами."
   ]
  },
  {
   "cell_type": "code",
   "execution_count": 10,
   "metadata": {},
   "outputs": [
    {
     "name": "stdout",
     "output_type": "stream",
     "text": [
      "<class 'pandas.core.frame.DataFrame'>\n",
      "RangeIndex: 21525 entries, 0 to 21524\n",
      "Data columns (total 12 columns):\n",
      "children            21525 non-null int64\n",
      "days_employed       21525 non-null float64\n",
      "dob_years           21525 non-null int64\n",
      "education           21525 non-null object\n",
      "education_id        21525 non-null int64\n",
      "family_status       21525 non-null object\n",
      "family_status_id    21525 non-null int64\n",
      "gender              21525 non-null object\n",
      "income_type         21525 non-null object\n",
      "debt                21525 non-null int64\n",
      "total_income        21525 non-null float64\n",
      "purpose             21525 non-null object\n",
      "dtypes: float64(2), int64(5), object(5)\n",
      "memory usage: 2.0+ MB\n"
     ]
    }
   ],
   "source": [
    "data.loc[(data['days_employed'].isna()) & (data['income_type'] == 'госслужащий'), 'days_employed'] = medians_days_employed[2]\n",
    "data.loc[(data['days_employed'].isna()) & (data['income_type'] == 'компаньон'), 'days_employed'] = medians_days_employed[3]\n",
    "data.loc[(data['days_employed'].isna()) & (data['income_type'] == 'пенсионер'), 'days_employed'] = medians_days_employed[4]\n",
    "data.loc[(data['days_employed'].isna()) & (data['income_type'] == 'предприниматель'), 'days_employed'] = medians_days_employed[5]\n",
    "data.loc[(data['days_employed'].isna()) & (data['income_type'] == 'сотрудник'), 'days_employed'] = medians_days_employed[6]\n",
    "data.info()"
   ]
  },
  {
   "cell_type": "code",
   "execution_count": 11,
   "metadata": {
    "scrolled": true
   },
   "outputs": [
    {
     "data": {
      "text/html": [
       "<div>\n",
       "<style scoped>\n",
       "    .dataframe tbody tr th:only-of-type {\n",
       "        vertical-align: middle;\n",
       "    }\n",
       "\n",
       "    .dataframe tbody tr th {\n",
       "        vertical-align: top;\n",
       "    }\n",
       "\n",
       "    .dataframe thead th {\n",
       "        text-align: right;\n",
       "    }\n",
       "</style>\n",
       "<table border=\"1\" class=\"dataframe\">\n",
       "  <thead>\n",
       "    <tr style=\"text-align: right;\">\n",
       "      <th></th>\n",
       "      <th>children</th>\n",
       "      <th>days_employed</th>\n",
       "      <th>dob_years</th>\n",
       "      <th>education</th>\n",
       "      <th>education_id</th>\n",
       "      <th>family_status</th>\n",
       "      <th>family_status_id</th>\n",
       "      <th>gender</th>\n",
       "      <th>income_type</th>\n",
       "      <th>debt</th>\n",
       "      <th>total_income</th>\n",
       "      <th>purpose</th>\n",
       "    </tr>\n",
       "  </thead>\n",
       "  <tbody>\n",
       "    <tr>\n",
       "      <td>0</td>\n",
       "      <td>1</td>\n",
       "      <td>8,437.673</td>\n",
       "      <td>42</td>\n",
       "      <td>высшее</td>\n",
       "      <td>0</td>\n",
       "      <td>женат / замужем</td>\n",
       "      <td>0</td>\n",
       "      <td>F</td>\n",
       "      <td>сотрудник</td>\n",
       "      <td>0</td>\n",
       "      <td>253,875.639</td>\n",
       "      <td>покупка жилья</td>\n",
       "    </tr>\n",
       "    <tr>\n",
       "      <td>1</td>\n",
       "      <td>1</td>\n",
       "      <td>4,024.804</td>\n",
       "      <td>36</td>\n",
       "      <td>среднее</td>\n",
       "      <td>1</td>\n",
       "      <td>женат / замужем</td>\n",
       "      <td>0</td>\n",
       "      <td>F</td>\n",
       "      <td>сотрудник</td>\n",
       "      <td>0</td>\n",
       "      <td>112,080.014</td>\n",
       "      <td>приобретение автомобиля</td>\n",
       "    </tr>\n",
       "    <tr>\n",
       "      <td>2</td>\n",
       "      <td>0</td>\n",
       "      <td>5,623.423</td>\n",
       "      <td>33</td>\n",
       "      <td>Среднее</td>\n",
       "      <td>1</td>\n",
       "      <td>женат / замужем</td>\n",
       "      <td>0</td>\n",
       "      <td>M</td>\n",
       "      <td>сотрудник</td>\n",
       "      <td>0</td>\n",
       "      <td>145,885.952</td>\n",
       "      <td>покупка жилья</td>\n",
       "    </tr>\n",
       "    <tr>\n",
       "      <td>3</td>\n",
       "      <td>3</td>\n",
       "      <td>4,124.747</td>\n",
       "      <td>32</td>\n",
       "      <td>среднее</td>\n",
       "      <td>1</td>\n",
       "      <td>женат / замужем</td>\n",
       "      <td>0</td>\n",
       "      <td>M</td>\n",
       "      <td>сотрудник</td>\n",
       "      <td>0</td>\n",
       "      <td>267,628.550</td>\n",
       "      <td>дополнительное образование</td>\n",
       "    </tr>\n",
       "    <tr>\n",
       "      <td>4</td>\n",
       "      <td>0</td>\n",
       "      <td>340,266.072</td>\n",
       "      <td>53</td>\n",
       "      <td>среднее</td>\n",
       "      <td>1</td>\n",
       "      <td>гражданский брак</td>\n",
       "      <td>1</td>\n",
       "      <td>F</td>\n",
       "      <td>пенсионер</td>\n",
       "      <td>0</td>\n",
       "      <td>158,616.078</td>\n",
       "      <td>сыграть свадьбу</td>\n",
       "    </tr>\n",
       "    <tr>\n",
       "      <td>5</td>\n",
       "      <td>0</td>\n",
       "      <td>926.186</td>\n",
       "      <td>27</td>\n",
       "      <td>высшее</td>\n",
       "      <td>0</td>\n",
       "      <td>гражданский брак</td>\n",
       "      <td>1</td>\n",
       "      <td>M</td>\n",
       "      <td>компаньон</td>\n",
       "      <td>0</td>\n",
       "      <td>255,763.565</td>\n",
       "      <td>покупка жилья</td>\n",
       "    </tr>\n",
       "    <tr>\n",
       "      <td>6</td>\n",
       "      <td>0</td>\n",
       "      <td>2,879.202</td>\n",
       "      <td>43</td>\n",
       "      <td>высшее</td>\n",
       "      <td>0</td>\n",
       "      <td>женат / замужем</td>\n",
       "      <td>0</td>\n",
       "      <td>F</td>\n",
       "      <td>компаньон</td>\n",
       "      <td>0</td>\n",
       "      <td>240,525.972</td>\n",
       "      <td>операции с жильем</td>\n",
       "    </tr>\n",
       "    <tr>\n",
       "      <td>7</td>\n",
       "      <td>0</td>\n",
       "      <td>152.780</td>\n",
       "      <td>50</td>\n",
       "      <td>СРЕДНЕЕ</td>\n",
       "      <td>1</td>\n",
       "      <td>женат / замужем</td>\n",
       "      <td>0</td>\n",
       "      <td>M</td>\n",
       "      <td>сотрудник</td>\n",
       "      <td>0</td>\n",
       "      <td>135,823.934</td>\n",
       "      <td>образование</td>\n",
       "    </tr>\n",
       "    <tr>\n",
       "      <td>8</td>\n",
       "      <td>2</td>\n",
       "      <td>6,929.865</td>\n",
       "      <td>35</td>\n",
       "      <td>ВЫСШЕЕ</td>\n",
       "      <td>0</td>\n",
       "      <td>гражданский брак</td>\n",
       "      <td>1</td>\n",
       "      <td>F</td>\n",
       "      <td>сотрудник</td>\n",
       "      <td>0</td>\n",
       "      <td>95,856.832</td>\n",
       "      <td>на проведение свадьбы</td>\n",
       "    </tr>\n",
       "    <tr>\n",
       "      <td>9</td>\n",
       "      <td>0</td>\n",
       "      <td>2,188.756</td>\n",
       "      <td>41</td>\n",
       "      <td>среднее</td>\n",
       "      <td>1</td>\n",
       "      <td>женат / замужем</td>\n",
       "      <td>0</td>\n",
       "      <td>M</td>\n",
       "      <td>сотрудник</td>\n",
       "      <td>0</td>\n",
       "      <td>144,425.938</td>\n",
       "      <td>покупка жилья для семьи</td>\n",
       "    </tr>\n",
       "    <tr>\n",
       "      <td>10</td>\n",
       "      <td>2</td>\n",
       "      <td>4,171.484</td>\n",
       "      <td>36</td>\n",
       "      <td>высшее</td>\n",
       "      <td>0</td>\n",
       "      <td>женат / замужем</td>\n",
       "      <td>0</td>\n",
       "      <td>M</td>\n",
       "      <td>компаньон</td>\n",
       "      <td>0</td>\n",
       "      <td>113,943.491</td>\n",
       "      <td>покупка недвижимости</td>\n",
       "    </tr>\n",
       "    <tr>\n",
       "      <td>11</td>\n",
       "      <td>0</td>\n",
       "      <td>792.702</td>\n",
       "      <td>40</td>\n",
       "      <td>среднее</td>\n",
       "      <td>1</td>\n",
       "      <td>женат / замужем</td>\n",
       "      <td>0</td>\n",
       "      <td>F</td>\n",
       "      <td>сотрудник</td>\n",
       "      <td>0</td>\n",
       "      <td>77,069.234</td>\n",
       "      <td>покупка коммерческой недвижимости</td>\n",
       "    </tr>\n",
       "    <tr>\n",
       "      <td>12</td>\n",
       "      <td>0</td>\n",
       "      <td>365,213.306</td>\n",
       "      <td>65</td>\n",
       "      <td>среднее</td>\n",
       "      <td>1</td>\n",
       "      <td>гражданский брак</td>\n",
       "      <td>1</td>\n",
       "      <td>M</td>\n",
       "      <td>пенсионер</td>\n",
       "      <td>0</td>\n",
       "      <td>118,514.486</td>\n",
       "      <td>сыграть свадьбу</td>\n",
       "    </tr>\n",
       "    <tr>\n",
       "      <td>13</td>\n",
       "      <td>0</td>\n",
       "      <td>1,846.642</td>\n",
       "      <td>54</td>\n",
       "      <td>неоконченное высшее</td>\n",
       "      <td>2</td>\n",
       "      <td>женат / замужем</td>\n",
       "      <td>0</td>\n",
       "      <td>F</td>\n",
       "      <td>сотрудник</td>\n",
       "      <td>0</td>\n",
       "      <td>130,458.229</td>\n",
       "      <td>приобретение автомобиля</td>\n",
       "    </tr>\n",
       "    <tr>\n",
       "      <td>14</td>\n",
       "      <td>0</td>\n",
       "      <td>1,844.956</td>\n",
       "      <td>56</td>\n",
       "      <td>высшее</td>\n",
       "      <td>0</td>\n",
       "      <td>гражданский брак</td>\n",
       "      <td>1</td>\n",
       "      <td>F</td>\n",
       "      <td>компаньон</td>\n",
       "      <td>1</td>\n",
       "      <td>165,127.912</td>\n",
       "      <td>покупка жилой недвижимости</td>\n",
       "    </tr>\n",
       "  </tbody>\n",
       "</table>\n",
       "</div>"
      ],
      "text/plain": [
       "    children  days_employed  dob_years            education  education_id  \\\n",
       "0          1      8,437.673         42               высшее             0   \n",
       "1          1      4,024.804         36              среднее             1   \n",
       "2          0      5,623.423         33              Среднее             1   \n",
       "3          3      4,124.747         32              среднее             1   \n",
       "4          0    340,266.072         53              среднее             1   \n",
       "5          0        926.186         27               высшее             0   \n",
       "6          0      2,879.202         43               высшее             0   \n",
       "7          0        152.780         50              СРЕДНЕЕ             1   \n",
       "8          2      6,929.865         35               ВЫСШЕЕ             0   \n",
       "9          0      2,188.756         41              среднее             1   \n",
       "10         2      4,171.484         36               высшее             0   \n",
       "11         0        792.702         40              среднее             1   \n",
       "12         0    365,213.306         65              среднее             1   \n",
       "13         0      1,846.642         54  неоконченное высшее             2   \n",
       "14         0      1,844.956         56               высшее             0   \n",
       "\n",
       "       family_status  family_status_id gender income_type  debt  total_income  \\\n",
       "0    женат / замужем                 0      F   сотрудник     0   253,875.639   \n",
       "1    женат / замужем                 0      F   сотрудник     0   112,080.014   \n",
       "2    женат / замужем                 0      M   сотрудник     0   145,885.952   \n",
       "3    женат / замужем                 0      M   сотрудник     0   267,628.550   \n",
       "4   гражданский брак                 1      F   пенсионер     0   158,616.078   \n",
       "5   гражданский брак                 1      M   компаньон     0   255,763.565   \n",
       "6    женат / замужем                 0      F   компаньон     0   240,525.972   \n",
       "7    женат / замужем                 0      M   сотрудник     0   135,823.934   \n",
       "8   гражданский брак                 1      F   сотрудник     0    95,856.832   \n",
       "9    женат / замужем                 0      M   сотрудник     0   144,425.938   \n",
       "10   женат / замужем                 0      M   компаньон     0   113,943.491   \n",
       "11   женат / замужем                 0      F   сотрудник     0    77,069.234   \n",
       "12  гражданский брак                 1      M   пенсионер     0   118,514.486   \n",
       "13   женат / замужем                 0      F   сотрудник     0   130,458.229   \n",
       "14  гражданский брак                 1      F   компаньон     1   165,127.912   \n",
       "\n",
       "                              purpose  \n",
       "0                       покупка жилья  \n",
       "1             приобретение автомобиля  \n",
       "2                       покупка жилья  \n",
       "3          дополнительное образование  \n",
       "4                     сыграть свадьбу  \n",
       "5                       покупка жилья  \n",
       "6                   операции с жильем  \n",
       "7                         образование  \n",
       "8               на проведение свадьбы  \n",
       "9             покупка жилья для семьи  \n",
       "10               покупка недвижимости  \n",
       "11  покупка коммерческой недвижимости  \n",
       "12                    сыграть свадьбу  \n",
       "13            приобретение автомобиля  \n",
       "14         покупка жилой недвижимости  "
      ]
     },
     "execution_count": 11,
     "metadata": {},
     "output_type": "execute_result"
    }
   ],
   "source": [
    "data.head(15)"
   ]
  },
  {
   "cell_type": "markdown",
   "metadata": {},
   "source": [
    "Остались еще вопросы по возрасту, у многих стоит 0. Узнаем сколько их и к какому income_type они относятся, затем заполним медианными значения по income_type."
   ]
  },
  {
   "cell_type": "code",
   "execution_count": 12,
   "metadata": {},
   "outputs": [
    {
     "data": {
      "text/plain": [
       "сотрудник      55\n",
       "компаньон      20\n",
       "пенсионер      20\n",
       "госслужащий     6\n",
       "Name: income_type, dtype: int64"
      ]
     },
     "execution_count": 12,
     "metadata": {},
     "output_type": "execute_result"
    }
   ],
   "source": [
    "data.loc[data['dob_years'] == 0, 'income_type'].value_counts()"
   ]
  },
  {
   "cell_type": "code",
   "execution_count": 13,
   "metadata": {},
   "outputs": [
    {
     "data": {
      "text/plain": [
       "income_type\n",
       "безработный       38.000\n",
       "в декрете         39.000\n",
       "госслужащий       40.000\n",
       "компаньон         39.000\n",
       "пенсионер         60.000\n",
       "предприниматель   42.500\n",
       "сотрудник         39.000\n",
       "студент           22.000\n",
       "Name: dob_years, dtype: float64"
      ]
     },
     "execution_count": 13,
     "metadata": {},
     "output_type": "execute_result"
    }
   ],
   "source": [
    "medians_dob_years = data.groupby('income_type')['dob_years'].median()\n",
    "medians_dob_years"
   ]
  },
  {
   "cell_type": "code",
   "execution_count": 14,
   "metadata": {},
   "outputs": [
    {
     "data": {
      "text/plain": [
       "count   21,525.000\n",
       "mean        43.496\n",
       "std         12.232\n",
       "min         19.000\n",
       "25%         34.000\n",
       "50%         43.000\n",
       "75%         53.000\n",
       "max         75.000\n",
       "Name: dob_years, dtype: float64"
      ]
     },
     "execution_count": 14,
     "metadata": {},
     "output_type": "execute_result"
    }
   ],
   "source": [
    "data.loc[(data['dob_years'] == 0) & (data['income_type'] == 'госслужащий'), 'dob_years'] = medians_dob_years[2]\n",
    "data.loc[(data['dob_years'] == 0) & (data['income_type'] == 'компаньон'), 'dob_years'] = medians_dob_years[3]\n",
    "data.loc[(data['dob_years'] == 0) & (data['income_type'] == 'пенсионер'), 'dob_years'] = medians_dob_years[4]\n",
    "data.loc[(data['dob_years'] == 0) & (data['income_type'] == 'сотрудник'), 'dob_years'] = medians_dob_years[6]\n",
    "data['dob_years'].describe()"
   ]
  },
  {
   "cell_type": "markdown",
   "metadata": {},
   "source": [
    "Займемся детьми, проверим сколько уникальных значений в этом столбце и количество каждого."
   ]
  },
  {
   "cell_type": "code",
   "execution_count": 15,
   "metadata": {},
   "outputs": [
    {
     "data": {
      "text/plain": [
       " 0     14149\n",
       " 1      4818\n",
       " 2      2055\n",
       " 3       330\n",
       " 20       76\n",
       "-1        47\n",
       " 4        41\n",
       " 5         9\n",
       "Name: children, dtype: int64"
      ]
     },
     "execution_count": 15,
     "metadata": {},
     "output_type": "execute_result"
    }
   ],
   "source": [
    "data['children'].value_counts()"
   ]
  },
  {
   "cell_type": "markdown",
   "metadata": {},
   "source": [
    "Ясно-понятно что отрицательное число детей не может быть, поэтому превращаем '-1' в '1' - возможно \"человеческий фактор\" пририсовал черточку, а так же - понимая логически и \"гугля\" - узнаем что в России всего 2 семьи с 20 детьми (Хромых и Шишкины), поэтому '20' детей у нас превращаются в '2', видимо потому что в NumPude 2 и 0 расположены рядом)"
   ]
  },
  {
   "cell_type": "code",
   "execution_count": 16,
   "metadata": {},
   "outputs": [
    {
     "data": {
      "text/plain": [
       "0    14149\n",
       "1     4865\n",
       "2     2131\n",
       "3      330\n",
       "4       41\n",
       "5        9\n",
       "Name: children, dtype: int64"
      ]
     },
     "execution_count": 16,
     "metadata": {},
     "output_type": "execute_result"
    }
   ],
   "source": [
    "data['children'] = data['children'].replace(-1, 1)\n",
    "data['children'] = data['children'].replace(20, 2)\n",
    "data['children'].value_counts()"
   ]
  },
  {
   "cell_type": "markdown",
   "metadata": {},
   "source": [
    "Вот теперь выглядит красиво и больше похоже на правду, без \"потерянных\" детей и \"мегасупергероей-матерей\""
   ]
  },
  {
   "cell_type": "markdown",
   "metadata": {},
   "source": [
    "**Вывод**"
   ]
  },
  {
   "cell_type": "markdown",
   "metadata": {},
   "source": [
    "Пропуски заполнены, так как они появлялись  не хаотично, а в определенных типах занятости - можно сделать предварительный вывод - человеческий фактор есть везде, даже в банках. Так же присутствует и техническая неисправность - пропуски в одних и тех же строках в 2 столбцах."
   ]
  },
  {
   "cell_type": "markdown",
   "metadata": {},
   "source": [
    "### Замена типа данных"
   ]
  },
  {
   "cell_type": "markdown",
   "metadata": {},
   "source": [
    "Начнем с простого: поменяем float на int в столбцах days_employed и total_income. Будет выглядеть по-человечески. Применим astype, так как стаж и возраст можно исчислять целыми числами."
   ]
  },
  {
   "cell_type": "code",
   "execution_count": 17,
   "metadata": {},
   "outputs": [
    {
     "name": "stdout",
     "output_type": "stream",
     "text": [
      "<class 'pandas.core.frame.DataFrame'>\n",
      "RangeIndex: 21525 entries, 0 to 21524\n",
      "Data columns (total 12 columns):\n",
      "children            21525 non-null int64\n",
      "days_employed       21525 non-null int64\n",
      "dob_years           21525 non-null float64\n",
      "education           21525 non-null object\n",
      "education_id        21525 non-null int64\n",
      "family_status       21525 non-null object\n",
      "family_status_id    21525 non-null int64\n",
      "gender              21525 non-null object\n",
      "income_type         21525 non-null object\n",
      "debt                21525 non-null int64\n",
      "total_income        21525 non-null int64\n",
      "purpose             21525 non-null object\n",
      "dtypes: float64(1), int64(6), object(5)\n",
      "memory usage: 2.0+ MB\n"
     ]
    }
   ],
   "source": [
    "data['days_employed'] = data['days_employed'].astype('int')\n",
    "data['total_income'] = data['total_income'].astype('int')\n",
    "data.info()"
   ]
  },
  {
   "cell_type": "markdown",
   "metadata": {},
   "source": [
    "Заметим! после обработки столбца dob_years поменялся тип, поменяем его тоже."
   ]
  },
  {
   "cell_type": "code",
   "execution_count": 18,
   "metadata": {},
   "outputs": [
    {
     "name": "stdout",
     "output_type": "stream",
     "text": [
      "<class 'pandas.core.frame.DataFrame'>\n",
      "RangeIndex: 21525 entries, 0 to 21524\n",
      "Data columns (total 12 columns):\n",
      "children            21525 non-null int64\n",
      "days_employed       21525 non-null int64\n",
      "dob_years           21525 non-null int64\n",
      "education           21525 non-null object\n",
      "education_id        21525 non-null int64\n",
      "family_status       21525 non-null object\n",
      "family_status_id    21525 non-null int64\n",
      "gender              21525 non-null object\n",
      "income_type         21525 non-null object\n",
      "debt                21525 non-null int64\n",
      "total_income        21525 non-null int64\n",
      "purpose             21525 non-null object\n",
      "dtypes: int64(7), object(5)\n",
      "memory usage: 2.0+ MB\n"
     ]
    }
   ],
   "source": [
    "data['dob_years'] = data['dob_years'].astype('int')\n",
    "data.info()"
   ]
  },
  {
   "cell_type": "code",
   "execution_count": 19,
   "metadata": {},
   "outputs": [
    {
     "data": {
      "text/html": [
       "<div>\n",
       "<style scoped>\n",
       "    .dataframe tbody tr th:only-of-type {\n",
       "        vertical-align: middle;\n",
       "    }\n",
       "\n",
       "    .dataframe tbody tr th {\n",
       "        vertical-align: top;\n",
       "    }\n",
       "\n",
       "    .dataframe thead th {\n",
       "        text-align: right;\n",
       "    }\n",
       "</style>\n",
       "<table border=\"1\" class=\"dataframe\">\n",
       "  <thead>\n",
       "    <tr style=\"text-align: right;\">\n",
       "      <th></th>\n",
       "      <th>children</th>\n",
       "      <th>days_employed</th>\n",
       "      <th>dob_years</th>\n",
       "      <th>education</th>\n",
       "      <th>education_id</th>\n",
       "      <th>family_status</th>\n",
       "      <th>family_status_id</th>\n",
       "      <th>gender</th>\n",
       "      <th>income_type</th>\n",
       "      <th>debt</th>\n",
       "      <th>total_income</th>\n",
       "      <th>purpose</th>\n",
       "    </tr>\n",
       "  </thead>\n",
       "  <tbody>\n",
       "    <tr>\n",
       "      <td>0</td>\n",
       "      <td>1</td>\n",
       "      <td>8437</td>\n",
       "      <td>42</td>\n",
       "      <td>высшее</td>\n",
       "      <td>0</td>\n",
       "      <td>женат / замужем</td>\n",
       "      <td>0</td>\n",
       "      <td>F</td>\n",
       "      <td>сотрудник</td>\n",
       "      <td>0</td>\n",
       "      <td>253875</td>\n",
       "      <td>покупка жилья</td>\n",
       "    </tr>\n",
       "    <tr>\n",
       "      <td>1</td>\n",
       "      <td>1</td>\n",
       "      <td>4024</td>\n",
       "      <td>36</td>\n",
       "      <td>среднее</td>\n",
       "      <td>1</td>\n",
       "      <td>женат / замужем</td>\n",
       "      <td>0</td>\n",
       "      <td>F</td>\n",
       "      <td>сотрудник</td>\n",
       "      <td>0</td>\n",
       "      <td>112080</td>\n",
       "      <td>приобретение автомобиля</td>\n",
       "    </tr>\n",
       "    <tr>\n",
       "      <td>2</td>\n",
       "      <td>0</td>\n",
       "      <td>5623</td>\n",
       "      <td>33</td>\n",
       "      <td>Среднее</td>\n",
       "      <td>1</td>\n",
       "      <td>женат / замужем</td>\n",
       "      <td>0</td>\n",
       "      <td>M</td>\n",
       "      <td>сотрудник</td>\n",
       "      <td>0</td>\n",
       "      <td>145885</td>\n",
       "      <td>покупка жилья</td>\n",
       "    </tr>\n",
       "    <tr>\n",
       "      <td>3</td>\n",
       "      <td>3</td>\n",
       "      <td>4124</td>\n",
       "      <td>32</td>\n",
       "      <td>среднее</td>\n",
       "      <td>1</td>\n",
       "      <td>женат / замужем</td>\n",
       "      <td>0</td>\n",
       "      <td>M</td>\n",
       "      <td>сотрудник</td>\n",
       "      <td>0</td>\n",
       "      <td>267628</td>\n",
       "      <td>дополнительное образование</td>\n",
       "    </tr>\n",
       "    <tr>\n",
       "      <td>4</td>\n",
       "      <td>0</td>\n",
       "      <td>340266</td>\n",
       "      <td>53</td>\n",
       "      <td>среднее</td>\n",
       "      <td>1</td>\n",
       "      <td>гражданский брак</td>\n",
       "      <td>1</td>\n",
       "      <td>F</td>\n",
       "      <td>пенсионер</td>\n",
       "      <td>0</td>\n",
       "      <td>158616</td>\n",
       "      <td>сыграть свадьбу</td>\n",
       "    </tr>\n",
       "    <tr>\n",
       "      <td>5</td>\n",
       "      <td>0</td>\n",
       "      <td>926</td>\n",
       "      <td>27</td>\n",
       "      <td>высшее</td>\n",
       "      <td>0</td>\n",
       "      <td>гражданский брак</td>\n",
       "      <td>1</td>\n",
       "      <td>M</td>\n",
       "      <td>компаньон</td>\n",
       "      <td>0</td>\n",
       "      <td>255763</td>\n",
       "      <td>покупка жилья</td>\n",
       "    </tr>\n",
       "    <tr>\n",
       "      <td>6</td>\n",
       "      <td>0</td>\n",
       "      <td>2879</td>\n",
       "      <td>43</td>\n",
       "      <td>высшее</td>\n",
       "      <td>0</td>\n",
       "      <td>женат / замужем</td>\n",
       "      <td>0</td>\n",
       "      <td>F</td>\n",
       "      <td>компаньон</td>\n",
       "      <td>0</td>\n",
       "      <td>240525</td>\n",
       "      <td>операции с жильем</td>\n",
       "    </tr>\n",
       "    <tr>\n",
       "      <td>7</td>\n",
       "      <td>0</td>\n",
       "      <td>152</td>\n",
       "      <td>50</td>\n",
       "      <td>СРЕДНЕЕ</td>\n",
       "      <td>1</td>\n",
       "      <td>женат / замужем</td>\n",
       "      <td>0</td>\n",
       "      <td>M</td>\n",
       "      <td>сотрудник</td>\n",
       "      <td>0</td>\n",
       "      <td>135823</td>\n",
       "      <td>образование</td>\n",
       "    </tr>\n",
       "    <tr>\n",
       "      <td>8</td>\n",
       "      <td>2</td>\n",
       "      <td>6929</td>\n",
       "      <td>35</td>\n",
       "      <td>ВЫСШЕЕ</td>\n",
       "      <td>0</td>\n",
       "      <td>гражданский брак</td>\n",
       "      <td>1</td>\n",
       "      <td>F</td>\n",
       "      <td>сотрудник</td>\n",
       "      <td>0</td>\n",
       "      <td>95856</td>\n",
       "      <td>на проведение свадьбы</td>\n",
       "    </tr>\n",
       "    <tr>\n",
       "      <td>9</td>\n",
       "      <td>0</td>\n",
       "      <td>2188</td>\n",
       "      <td>41</td>\n",
       "      <td>среднее</td>\n",
       "      <td>1</td>\n",
       "      <td>женат / замужем</td>\n",
       "      <td>0</td>\n",
       "      <td>M</td>\n",
       "      <td>сотрудник</td>\n",
       "      <td>0</td>\n",
       "      <td>144425</td>\n",
       "      <td>покупка жилья для семьи</td>\n",
       "    </tr>\n",
       "    <tr>\n",
       "      <td>10</td>\n",
       "      <td>2</td>\n",
       "      <td>4171</td>\n",
       "      <td>36</td>\n",
       "      <td>высшее</td>\n",
       "      <td>0</td>\n",
       "      <td>женат / замужем</td>\n",
       "      <td>0</td>\n",
       "      <td>M</td>\n",
       "      <td>компаньон</td>\n",
       "      <td>0</td>\n",
       "      <td>113943</td>\n",
       "      <td>покупка недвижимости</td>\n",
       "    </tr>\n",
       "    <tr>\n",
       "      <td>11</td>\n",
       "      <td>0</td>\n",
       "      <td>792</td>\n",
       "      <td>40</td>\n",
       "      <td>среднее</td>\n",
       "      <td>1</td>\n",
       "      <td>женат / замужем</td>\n",
       "      <td>0</td>\n",
       "      <td>F</td>\n",
       "      <td>сотрудник</td>\n",
       "      <td>0</td>\n",
       "      <td>77069</td>\n",
       "      <td>покупка коммерческой недвижимости</td>\n",
       "    </tr>\n",
       "    <tr>\n",
       "      <td>12</td>\n",
       "      <td>0</td>\n",
       "      <td>365213</td>\n",
       "      <td>65</td>\n",
       "      <td>среднее</td>\n",
       "      <td>1</td>\n",
       "      <td>гражданский брак</td>\n",
       "      <td>1</td>\n",
       "      <td>M</td>\n",
       "      <td>пенсионер</td>\n",
       "      <td>0</td>\n",
       "      <td>118514</td>\n",
       "      <td>сыграть свадьбу</td>\n",
       "    </tr>\n",
       "    <tr>\n",
       "      <td>13</td>\n",
       "      <td>0</td>\n",
       "      <td>1846</td>\n",
       "      <td>54</td>\n",
       "      <td>неоконченное высшее</td>\n",
       "      <td>2</td>\n",
       "      <td>женат / замужем</td>\n",
       "      <td>0</td>\n",
       "      <td>F</td>\n",
       "      <td>сотрудник</td>\n",
       "      <td>0</td>\n",
       "      <td>130458</td>\n",
       "      <td>приобретение автомобиля</td>\n",
       "    </tr>\n",
       "    <tr>\n",
       "      <td>14</td>\n",
       "      <td>0</td>\n",
       "      <td>1844</td>\n",
       "      <td>56</td>\n",
       "      <td>высшее</td>\n",
       "      <td>0</td>\n",
       "      <td>гражданский брак</td>\n",
       "      <td>1</td>\n",
       "      <td>F</td>\n",
       "      <td>компаньон</td>\n",
       "      <td>1</td>\n",
       "      <td>165127</td>\n",
       "      <td>покупка жилой недвижимости</td>\n",
       "    </tr>\n",
       "  </tbody>\n",
       "</table>\n",
       "</div>"
      ],
      "text/plain": [
       "    children  days_employed  dob_years            education  education_id  \\\n",
       "0          1           8437         42               высшее             0   \n",
       "1          1           4024         36              среднее             1   \n",
       "2          0           5623         33              Среднее             1   \n",
       "3          3           4124         32              среднее             1   \n",
       "4          0         340266         53              среднее             1   \n",
       "5          0            926         27               высшее             0   \n",
       "6          0           2879         43               высшее             0   \n",
       "7          0            152         50              СРЕДНЕЕ             1   \n",
       "8          2           6929         35               ВЫСШЕЕ             0   \n",
       "9          0           2188         41              среднее             1   \n",
       "10         2           4171         36               высшее             0   \n",
       "11         0            792         40              среднее             1   \n",
       "12         0         365213         65              среднее             1   \n",
       "13         0           1846         54  неоконченное высшее             2   \n",
       "14         0           1844         56               высшее             0   \n",
       "\n",
       "       family_status  family_status_id gender income_type  debt  total_income  \\\n",
       "0    женат / замужем                 0      F   сотрудник     0        253875   \n",
       "1    женат / замужем                 0      F   сотрудник     0        112080   \n",
       "2    женат / замужем                 0      M   сотрудник     0        145885   \n",
       "3    женат / замужем                 0      M   сотрудник     0        267628   \n",
       "4   гражданский брак                 1      F   пенсионер     0        158616   \n",
       "5   гражданский брак                 1      M   компаньон     0        255763   \n",
       "6    женат / замужем                 0      F   компаньон     0        240525   \n",
       "7    женат / замужем                 0      M   сотрудник     0        135823   \n",
       "8   гражданский брак                 1      F   сотрудник     0         95856   \n",
       "9    женат / замужем                 0      M   сотрудник     0        144425   \n",
       "10   женат / замужем                 0      M   компаньон     0        113943   \n",
       "11   женат / замужем                 0      F   сотрудник     0         77069   \n",
       "12  гражданский брак                 1      M   пенсионер     0        118514   \n",
       "13   женат / замужем                 0      F   сотрудник     0        130458   \n",
       "14  гражданский брак                 1      F   компаньон     1        165127   \n",
       "\n",
       "                              purpose  \n",
       "0                       покупка жилья  \n",
       "1             приобретение автомобиля  \n",
       "2                       покупка жилья  \n",
       "3          дополнительное образование  \n",
       "4                     сыграть свадьбу  \n",
       "5                       покупка жилья  \n",
       "6                   операции с жильем  \n",
       "7                         образование  \n",
       "8               на проведение свадьбы  \n",
       "9             покупка жилья для семьи  \n",
       "10               покупка недвижимости  \n",
       "11  покупка коммерческой недвижимости  \n",
       "12                    сыграть свадьбу  \n",
       "13            приобретение автомобиля  \n",
       "14         покупка жилой недвижимости  "
      ]
     },
     "execution_count": 19,
     "metadata": {},
     "output_type": "execute_result"
    }
   ],
   "source": [
    "data.head(15)"
   ]
  },
  {
   "cell_type": "markdown",
   "metadata": {},
   "source": [
    "**Вывод**"
   ]
  },
  {
   "cell_type": "markdown",
   "metadata": {},
   "source": [
    "Теперь у нас таблица \"здорового\" человека, все отлично читается"
   ]
  },
  {
   "cell_type": "markdown",
   "metadata": {},
   "source": [
    "### Обработка дубликатов"
   ]
  },
  {
   "cell_type": "markdown",
   "metadata": {},
   "source": [
    "Начнем с простого, удалим дубли вызванные разным регистром букв в столбце education. Сдемаем все строчными буквами и они сами уйдут. \n",
    "Это было ДО:"
   ]
  },
  {
   "cell_type": "code",
   "execution_count": 20,
   "metadata": {},
   "outputs": [
    {
     "data": {
      "text/plain": [
       "среднее                13750\n",
       "высшее                  4718\n",
       "СРЕДНЕЕ                  772\n",
       "Среднее                  711\n",
       "неоконченное высшее      668\n",
       "ВЫСШЕЕ                   274\n",
       "Высшее                   268\n",
       "начальное                250\n",
       "Неоконченное высшее       47\n",
       "НЕОКОНЧЕННОЕ ВЫСШЕЕ       29\n",
       "НАЧАЛЬНОЕ                 17\n",
       "Начальное                 15\n",
       "ученая степень             4\n",
       "Ученая степень             1\n",
       "УЧЕНАЯ СТЕПЕНЬ             1\n",
       "Name: education, dtype: int64"
      ]
     },
     "execution_count": 20,
     "metadata": {},
     "output_type": "execute_result"
    }
   ],
   "source": [
    "data['education'].value_counts()"
   ]
  },
  {
   "cell_type": "code",
   "execution_count": 21,
   "metadata": {},
   "outputs": [],
   "source": [
    "data['education'] = data['education'].str.lower()"
   ]
  },
  {
   "cell_type": "markdown",
   "metadata": {},
   "source": [
    "А это **ПОСЛЕ**:"
   ]
  },
  {
   "cell_type": "code",
   "execution_count": 22,
   "metadata": {},
   "outputs": [
    {
     "data": {
      "text/plain": [
       "среднее                15233\n",
       "высшее                  5260\n",
       "неоконченное высшее      744\n",
       "начальное                282\n",
       "ученая степень             6\n",
       "Name: education, dtype: int64"
      ]
     },
     "execution_count": 22,
     "metadata": {},
     "output_type": "execute_result"
    }
   ],
   "source": [
    "data['education'].value_counts()"
   ]
  },
  {
   "cell_type": "markdown",
   "metadata": {},
   "source": [
    "Так же заоодно я бы проверил другие столбцы object, на всякий случай: "
   ]
  },
  {
   "cell_type": "code",
   "execution_count": 23,
   "metadata": {},
   "outputs": [
    {
     "data": {
      "text/plain": [
       "женат / замужем          12380\n",
       "гражданский брак          4177\n",
       "Не женат / не замужем     2813\n",
       "в разводе                 1195\n",
       "вдовец / вдова             960\n",
       "Name: family_status, dtype: int64"
      ]
     },
     "execution_count": 23,
     "metadata": {},
     "output_type": "execute_result"
    }
   ],
   "source": [
    "data['family_status'].value_counts()"
   ]
  },
  {
   "cell_type": "markdown",
   "metadata": {},
   "source": [
    "Вопросов нет, идем дальше:"
   ]
  },
  {
   "cell_type": "code",
   "execution_count": 24,
   "metadata": {},
   "outputs": [
    {
     "data": {
      "text/plain": [
       "F      14236\n",
       "M       7288\n",
       "XNA        1\n",
       "Name: gender, dtype: int64"
      ]
     },
     "execution_count": 24,
     "metadata": {},
     "output_type": "execute_result"
    }
   ],
   "source": [
    "data['gender'].value_counts()"
   ]
  },
  {
   "cell_type": "markdown",
   "metadata": {},
   "source": [
    "У нас появилось бесполое существо, сразу же понятно - удаление одной строки не повлияет на итоговый результат."
   ]
  },
  {
   "cell_type": "code",
   "execution_count": 25,
   "metadata": {},
   "outputs": [],
   "source": [
    "data = data.loc[data.loc[:, 'gender'] != 'XNA']"
   ]
  },
  {
   "cell_type": "code",
   "execution_count": 26,
   "metadata": {},
   "outputs": [
    {
     "data": {
      "text/plain": [
       "F    14236\n",
       "M     7288\n",
       "Name: gender, dtype: int64"
      ]
     },
     "execution_count": 26,
     "metadata": {},
     "output_type": "execute_result"
    }
   ],
   "source": [
    "data['gender'].value_counts()"
   ]
  },
  {
   "cell_type": "markdown",
   "metadata": {},
   "source": [
    "Всё по классике, М и Ж"
   ]
  },
  {
   "cell_type": "code",
   "execution_count": 27,
   "metadata": {},
   "outputs": [
    {
     "data": {
      "text/plain": [
       "сотрудник          11119\n",
       "компаньон           5084\n",
       "пенсионер           3856\n",
       "госслужащий         1459\n",
       "предприниматель        2\n",
       "безработный            2\n",
       "студент                1\n",
       "в декрете              1\n",
       "Name: income_type, dtype: int64"
      ]
     },
     "execution_count": 27,
     "metadata": {},
     "output_type": "execute_result"
    }
   ],
   "source": [
    "data['income_type'].value_counts()"
   ]
  },
  {
   "cell_type": "markdown",
   "metadata": {},
   "source": [
    "Тут все ок."
   ]
  },
  {
   "cell_type": "markdown",
   "metadata": {},
   "source": [
    "Переидем к \"взрослым\" дубликатам. Посмотрим сколько дублей в нашем датасете с помощью duplicated():"
   ]
  },
  {
   "cell_type": "code",
   "execution_count": 28,
   "metadata": {},
   "outputs": [
    {
     "data": {
      "text/plain": [
       "71"
      ]
     },
     "execution_count": 28,
     "metadata": {},
     "output_type": "execute_result"
    }
   ],
   "source": [
    "data.duplicated().sum()"
   ]
  },
  {
   "cell_type": "markdown",
   "metadata": {},
   "source": [
    "А теперь узнаем как они выглядят:"
   ]
  },
  {
   "cell_type": "code",
   "execution_count": 29,
   "metadata": {},
   "outputs": [
    {
     "data": {
      "text/html": [
       "<div>\n",
       "<style scoped>\n",
       "    .dataframe tbody tr th:only-of-type {\n",
       "        vertical-align: middle;\n",
       "    }\n",
       "\n",
       "    .dataframe tbody tr th {\n",
       "        vertical-align: top;\n",
       "    }\n",
       "\n",
       "    .dataframe thead th {\n",
       "        text-align: right;\n",
       "    }\n",
       "</style>\n",
       "<table border=\"1\" class=\"dataframe\">\n",
       "  <thead>\n",
       "    <tr style=\"text-align: right;\">\n",
       "      <th></th>\n",
       "      <th>children</th>\n",
       "      <th>days_employed</th>\n",
       "      <th>dob_years</th>\n",
       "      <th>education</th>\n",
       "      <th>education_id</th>\n",
       "      <th>family_status</th>\n",
       "      <th>family_status_id</th>\n",
       "      <th>gender</th>\n",
       "      <th>income_type</th>\n",
       "      <th>debt</th>\n",
       "      <th>total_income</th>\n",
       "      <th>purpose</th>\n",
       "    </tr>\n",
       "  </thead>\n",
       "  <tbody>\n",
       "    <tr>\n",
       "      <td>1005</td>\n",
       "      <td>0</td>\n",
       "      <td>365213</td>\n",
       "      <td>62</td>\n",
       "      <td>среднее</td>\n",
       "      <td>1</td>\n",
       "      <td>женат / замужем</td>\n",
       "      <td>0</td>\n",
       "      <td>F</td>\n",
       "      <td>пенсионер</td>\n",
       "      <td>0</td>\n",
       "      <td>118514</td>\n",
       "      <td>ремонт жилью</td>\n",
       "    </tr>\n",
       "    <tr>\n",
       "      <td>1191</td>\n",
       "      <td>0</td>\n",
       "      <td>365213</td>\n",
       "      <td>61</td>\n",
       "      <td>среднее</td>\n",
       "      <td>1</td>\n",
       "      <td>женат / замужем</td>\n",
       "      <td>0</td>\n",
       "      <td>F</td>\n",
       "      <td>пенсионер</td>\n",
       "      <td>0</td>\n",
       "      <td>118514</td>\n",
       "      <td>операции с недвижимостью</td>\n",
       "    </tr>\n",
       "    <tr>\n",
       "      <td>1511</td>\n",
       "      <td>0</td>\n",
       "      <td>365213</td>\n",
       "      <td>58</td>\n",
       "      <td>высшее</td>\n",
       "      <td>0</td>\n",
       "      <td>Не женат / не замужем</td>\n",
       "      <td>4</td>\n",
       "      <td>F</td>\n",
       "      <td>пенсионер</td>\n",
       "      <td>0</td>\n",
       "      <td>118514</td>\n",
       "      <td>дополнительное образование</td>\n",
       "    </tr>\n",
       "    <tr>\n",
       "      <td>1681</td>\n",
       "      <td>0</td>\n",
       "      <td>365213</td>\n",
       "      <td>57</td>\n",
       "      <td>среднее</td>\n",
       "      <td>1</td>\n",
       "      <td>гражданский брак</td>\n",
       "      <td>1</td>\n",
       "      <td>F</td>\n",
       "      <td>пенсионер</td>\n",
       "      <td>0</td>\n",
       "      <td>118514</td>\n",
       "      <td>на проведение свадьбы</td>\n",
       "    </tr>\n",
       "    <tr>\n",
       "      <td>2052</td>\n",
       "      <td>0</td>\n",
       "      <td>365213</td>\n",
       "      <td>58</td>\n",
       "      <td>среднее</td>\n",
       "      <td>1</td>\n",
       "      <td>гражданский брак</td>\n",
       "      <td>1</td>\n",
       "      <td>F</td>\n",
       "      <td>пенсионер</td>\n",
       "      <td>0</td>\n",
       "      <td>118514</td>\n",
       "      <td>сыграть свадьбу</td>\n",
       "    </tr>\n",
       "    <tr>\n",
       "      <td>...</td>\n",
       "      <td>...</td>\n",
       "      <td>...</td>\n",
       "      <td>...</td>\n",
       "      <td>...</td>\n",
       "      <td>...</td>\n",
       "      <td>...</td>\n",
       "      <td>...</td>\n",
       "      <td>...</td>\n",
       "      <td>...</td>\n",
       "      <td>...</td>\n",
       "      <td>...</td>\n",
       "      <td>...</td>\n",
       "    </tr>\n",
       "    <tr>\n",
       "      <td>16148</td>\n",
       "      <td>0</td>\n",
       "      <td>1547</td>\n",
       "      <td>45</td>\n",
       "      <td>среднее</td>\n",
       "      <td>1</td>\n",
       "      <td>гражданский брак</td>\n",
       "      <td>1</td>\n",
       "      <td>F</td>\n",
       "      <td>компаньон</td>\n",
       "      <td>0</td>\n",
       "      <td>172357</td>\n",
       "      <td>свадьба</td>\n",
       "    </tr>\n",
       "    <tr>\n",
       "      <td>17379</td>\n",
       "      <td>0</td>\n",
       "      <td>1547</td>\n",
       "      <td>54</td>\n",
       "      <td>высшее</td>\n",
       "      <td>0</td>\n",
       "      <td>женат / замужем</td>\n",
       "      <td>0</td>\n",
       "      <td>M</td>\n",
       "      <td>компаньон</td>\n",
       "      <td>0</td>\n",
       "      <td>172357</td>\n",
       "      <td>операции с коммерческой недвижимостью</td>\n",
       "    </tr>\n",
       "    <tr>\n",
       "      <td>17774</td>\n",
       "      <td>1</td>\n",
       "      <td>1547</td>\n",
       "      <td>40</td>\n",
       "      <td>среднее</td>\n",
       "      <td>1</td>\n",
       "      <td>гражданский брак</td>\n",
       "      <td>1</td>\n",
       "      <td>F</td>\n",
       "      <td>компаньон</td>\n",
       "      <td>0</td>\n",
       "      <td>172357</td>\n",
       "      <td>строительство жилой недвижимости</td>\n",
       "    </tr>\n",
       "    <tr>\n",
       "      <td>19369</td>\n",
       "      <td>0</td>\n",
       "      <td>1547</td>\n",
       "      <td>45</td>\n",
       "      <td>среднее</td>\n",
       "      <td>1</td>\n",
       "      <td>гражданский брак</td>\n",
       "      <td>1</td>\n",
       "      <td>F</td>\n",
       "      <td>компаньон</td>\n",
       "      <td>0</td>\n",
       "      <td>172357</td>\n",
       "      <td>свадьба</td>\n",
       "    </tr>\n",
       "    <tr>\n",
       "      <td>19387</td>\n",
       "      <td>0</td>\n",
       "      <td>1547</td>\n",
       "      <td>38</td>\n",
       "      <td>высшее</td>\n",
       "      <td>0</td>\n",
       "      <td>гражданский брак</td>\n",
       "      <td>1</td>\n",
       "      <td>F</td>\n",
       "      <td>компаньон</td>\n",
       "      <td>0</td>\n",
       "      <td>172357</td>\n",
       "      <td>на проведение свадьбы</td>\n",
       "    </tr>\n",
       "  </tbody>\n",
       "</table>\n",
       "<p>137 rows × 12 columns</p>\n",
       "</div>"
      ],
      "text/plain": [
       "       children  days_employed  dob_years education  education_id  \\\n",
       "1005          0         365213         62   среднее             1   \n",
       "1191          0         365213         61   среднее             1   \n",
       "1511          0         365213         58    высшее             0   \n",
       "1681          0         365213         57   среднее             1   \n",
       "2052          0         365213         58   среднее             1   \n",
       "...         ...            ...        ...       ...           ...   \n",
       "16148         0           1547         45   среднее             1   \n",
       "17379         0           1547         54    высшее             0   \n",
       "17774         1           1547         40   среднее             1   \n",
       "19369         0           1547         45   среднее             1   \n",
       "19387         0           1547         38    высшее             0   \n",
       "\n",
       "               family_status  family_status_id gender income_type  debt  \\\n",
       "1005         женат / замужем                 0      F   пенсионер     0   \n",
       "1191         женат / замужем                 0      F   пенсионер     0   \n",
       "1511   Не женат / не замужем                 4      F   пенсионер     0   \n",
       "1681        гражданский брак                 1      F   пенсионер     0   \n",
       "2052        гражданский брак                 1      F   пенсионер     0   \n",
       "...                      ...               ...    ...         ...   ...   \n",
       "16148       гражданский брак                 1      F   компаньон     0   \n",
       "17379        женат / замужем                 0      M   компаньон     0   \n",
       "17774       гражданский брак                 1      F   компаньон     0   \n",
       "19369       гражданский брак                 1      F   компаньон     0   \n",
       "19387       гражданский брак                 1      F   компаньон     0   \n",
       "\n",
       "       total_income                                purpose  \n",
       "1005         118514                           ремонт жилью  \n",
       "1191         118514               операции с недвижимостью  \n",
       "1511         118514             дополнительное образование  \n",
       "1681         118514                  на проведение свадьбы  \n",
       "2052         118514                        сыграть свадьбу  \n",
       "...             ...                                    ...  \n",
       "16148        172357                                свадьба  \n",
       "17379        172357  операции с коммерческой недвижимостью  \n",
       "17774        172357       строительство жилой недвижимости  \n",
       "19369        172357                                свадьба  \n",
       "19387        172357                  на проведение свадьбы  \n",
       "\n",
       "[137 rows x 12 columns]"
      ]
     },
     "execution_count": 29,
     "metadata": {},
     "output_type": "execute_result"
    }
   ],
   "source": [
    "data[data.duplicated(keep=False)].sort_values(by=['total_income', 'days_employed'])"
   ]
  },
  {
   "cell_type": "markdown",
   "metadata": {},
   "source": [
    "Теперь посчитаем: какой процент \"бракованных\" данных от общего количества строк, если меньше 1% - можно удалить их без дальнейшего разбирательства и \"суда и следствия\":"
   ]
  },
  {
   "cell_type": "code",
   "execution_count": 30,
   "metadata": {},
   "outputs": [
    {
     "name": "stdout",
     "output_type": "stream",
     "text": [
      "Процент дублей: 0.3%\n"
     ]
    }
   ],
   "source": [
    "print('Процент дублей: {:.1%}'.format(data.duplicated().sum() / len(data)))"
   ]
  },
  {
   "cell_type": "markdown",
   "metadata": {},
   "source": [
    "Удаляем, ни о чем не жалея, и проверим сколько \"их\" осталось:"
   ]
  },
  {
   "cell_type": "code",
   "execution_count": 31,
   "metadata": {},
   "outputs": [],
   "source": [
    "data = data.drop_duplicates()"
   ]
  },
  {
   "cell_type": "code",
   "execution_count": 32,
   "metadata": {},
   "outputs": [
    {
     "data": {
      "text/plain": [
       "0"
      ]
     },
     "execution_count": 32,
     "metadata": {},
     "output_type": "execute_result"
    }
   ],
   "source": [
    "data.duplicated().sum()"
   ]
  },
  {
   "cell_type": "markdown",
   "metadata": {},
   "source": [
    "**Вывод**"
   ]
  },
  {
   "cell_type": "markdown",
   "metadata": {},
   "source": [
    "Избавились от дублей, вызванных неправильным заполнением столбца education - тут поможет введение четких регламентов заполнения (только прописные буквы и т.д.), а так же маленький косячок в \"половом\" вопросе, не забываем про дубли, которые возможно появились из-за невнимательности или технического недочета. В итоге эти дубли не будут влиять на финальный результат наших исследований, надеюсь:)"
   ]
  },
  {
   "cell_type": "markdown",
   "metadata": {},
   "source": [
    "### Лемматизация"
   ]
  },
  {
   "cell_type": "markdown",
   "metadata": {},
   "source": [
    "Здесь мы узнаем на какие основные цели берутся кредиты, тут поможет столбец purpose. Сначала найдем все значения:"
   ]
  },
  {
   "cell_type": "code",
   "execution_count": 33,
   "metadata": {},
   "outputs": [
    {
     "data": {
      "text/plain": [
       "свадьба                                   791\n",
       "на проведение свадьбы                     768\n",
       "сыграть свадьбу                           765\n",
       "операции с недвижимостью                  675\n",
       "покупка коммерческой недвижимости         661\n",
       "операции с жильем                         652\n",
       "покупка жилья для сдачи                   651\n",
       "операции с коммерческой недвижимостью     650\n",
       "жилье                                     646\n",
       "покупка жилья                             646\n",
       "покупка жилья для семьи                   638\n",
       "строительство собственной недвижимости    635\n",
       "недвижимость                              633\n",
       "операции со своей недвижимостью           627\n",
       "строительство жилой недвижимости          624\n",
       "покупка своего жилья                      620\n",
       "покупка недвижимости                      620\n",
       "строительство недвижимости                619\n",
       "ремонт жилью                              607\n",
       "покупка жилой недвижимости                606\n",
       "на покупку своего автомобиля              505\n",
       "заняться высшим образованием              496\n",
       "автомобиль                                494\n",
       "сделка с подержанным автомобилем          486\n",
       "свой автомобиль                           478\n",
       "автомобили                                478\n",
       "на покупку подержанного автомобиля        478\n",
       "на покупку автомобиля                     471\n",
       "приобретение автомобиля                   461\n",
       "дополнительное образование                460\n",
       "сделка с автомобилем                      455\n",
       "высшее образование                        452\n",
       "образование                               447\n",
       "получение дополнительного образования     446\n",
       "получение образования                     442\n",
       "профильное образование                    436\n",
       "получение высшего образования             426\n",
       "заняться образованием                     408\n",
       "Name: purpose, dtype: int64"
      ]
     },
     "execution_count": 33,
     "metadata": {},
     "output_type": "execute_result"
    }
   ],
   "source": [
    "data['purpose'].value_counts()"
   ]
  },
  {
   "cell_type": "markdown",
   "metadata": {},
   "source": [
    "Теперь немного магии, \"лемантизируем\" и увидим уникальные слова (и не только) в столбце purpose:"
   ]
  },
  {
   "cell_type": "markdown",
   "metadata": {},
   "source": [
    "Получили список, выбираем популярное: пробелы, переносы и предлоги - не берем, оставляем только существительные. Остается: недвижимость, покупка, жилье, автомобиль, образование, операция, свадьба, строительство. Из этого модем убрать жилье, так как относится к недвижимости, покупку тоже убираем - подходит почти ко всему - а значит и нельзя назвать уникальным значением, по такой же логике \"операция\" удаляется. Итог: недвижимость, автомобиль, образование и свадьба.  С помощью lemmatization по столбцу purpose заменяем похожие по значению переменные на единые."
   ]
  },
  {
   "cell_type": "code",
   "execution_count": 34,
   "metadata": {},
   "outputs": [
    {
     "data": {
      "text/plain": [
       "недвижимость    10810\n",
       "автомобиль       4306\n",
       "образование      4013\n",
       "свадьба          2324\n",
       "Name: purpose, dtype: int64"
      ]
     },
     "execution_count": 34,
     "metadata": {},
     "output_type": "execute_result"
    }
   ],
   "source": [
    "def lemmatization (purpose):\n",
    "    \n",
    "    lemma_row = m.lemmatize(purpose)\n",
    "              \n",
    "    if ('жилье' in lemma_row) or ('недвижимость' in lemma_row):\n",
    "        lemma_name_purpose='недвижимость'\n",
    "        return lemma_name_purpose\n",
    "    elif 'автомобиль' in lemma_row:\n",
    "        lemma_name_purpose='автомобиль'\n",
    "        return lemma_name_purpose\n",
    "    elif 'образование' in lemma_row:\n",
    "        lemma_name_purpose='образование'\n",
    "        return lemma_name_purpose\n",
    "    else:\n",
    "        lemma_name_purpose='свадьба'\n",
    "        return lemma_name_purpose\n",
    "    \n",
    "purpose_lemma = data['purpose'].apply(lemmatization)\n",
    "data['purpose'] = purpose_lemma\n",
    "data.head(15)\n",
    "\n",
    "data['purpose'].value_counts()"
   ]
  },
  {
   "cell_type": "markdown",
   "metadata": {},
   "source": [
    "**Вывод**"
   ]
  },
  {
   "cell_type": "markdown",
   "metadata": {},
   "source": [
    "В столбце purpose теперь всего 4 значения, работать с ней легче теперь."
   ]
  },
  {
   "cell_type": "markdown",
   "metadata": {},
   "source": [
    "### Категоризация данных"
   ]
  },
  {
   "cell_type": "markdown",
   "metadata": {},
   "source": [
    "Создадим несколько словарей, чтобы облегчить следующие задачи."
   ]
  },
  {
   "cell_type": "code",
   "execution_count": 35,
   "metadata": {},
   "outputs": [
    {
     "data": {
      "text/html": [
       "<div>\n",
       "<style scoped>\n",
       "    .dataframe tbody tr th:only-of-type {\n",
       "        vertical-align: middle;\n",
       "    }\n",
       "\n",
       "    .dataframe tbody tr th {\n",
       "        vertical-align: top;\n",
       "    }\n",
       "\n",
       "    .dataframe thead th {\n",
       "        text-align: right;\n",
       "    }\n",
       "</style>\n",
       "<table border=\"1\" class=\"dataframe\">\n",
       "  <thead>\n",
       "    <tr style=\"text-align: right;\">\n",
       "      <th></th>\n",
       "      <th>education_id</th>\n",
       "      <th>education</th>\n",
       "    </tr>\n",
       "  </thead>\n",
       "  <tbody>\n",
       "    <tr>\n",
       "      <td>0</td>\n",
       "      <td>0</td>\n",
       "      <td>высшее</td>\n",
       "    </tr>\n",
       "    <tr>\n",
       "      <td>1</td>\n",
       "      <td>1</td>\n",
       "      <td>среднее</td>\n",
       "    </tr>\n",
       "    <tr>\n",
       "      <td>2</td>\n",
       "      <td>2</td>\n",
       "      <td>неоконченное высшее</td>\n",
       "    </tr>\n",
       "    <tr>\n",
       "      <td>3</td>\n",
       "      <td>3</td>\n",
       "      <td>начальное</td>\n",
       "    </tr>\n",
       "    <tr>\n",
       "      <td>4</td>\n",
       "      <td>4</td>\n",
       "      <td>ученая степень</td>\n",
       "    </tr>\n",
       "  </tbody>\n",
       "</table>\n",
       "</div>"
      ],
      "text/plain": [
       "   education_id            education\n",
       "0             0               высшее\n",
       "1             1              среднее\n",
       "2             2  неоконченное высшее\n",
       "3             3            начальное\n",
       "4             4       ученая степень"
      ]
     },
     "execution_count": 35,
     "metadata": {},
     "output_type": "execute_result"
    }
   ],
   "source": [
    "education_dict = data[['education_id', 'education']].drop_duplicates().reset_index(drop=True)\n",
    "education_dict"
   ]
  },
  {
   "cell_type": "code",
   "execution_count": 36,
   "metadata": {},
   "outputs": [
    {
     "data": {
      "text/html": [
       "<div>\n",
       "<style scoped>\n",
       "    .dataframe tbody tr th:only-of-type {\n",
       "        vertical-align: middle;\n",
       "    }\n",
       "\n",
       "    .dataframe tbody tr th {\n",
       "        vertical-align: top;\n",
       "    }\n",
       "\n",
       "    .dataframe thead th {\n",
       "        text-align: right;\n",
       "    }\n",
       "</style>\n",
       "<table border=\"1\" class=\"dataframe\">\n",
       "  <thead>\n",
       "    <tr style=\"text-align: right;\">\n",
       "      <th></th>\n",
       "      <th>family_status_id</th>\n",
       "      <th>family_status</th>\n",
       "    </tr>\n",
       "  </thead>\n",
       "  <tbody>\n",
       "    <tr>\n",
       "      <td>0</td>\n",
       "      <td>0</td>\n",
       "      <td>женат / замужем</td>\n",
       "    </tr>\n",
       "    <tr>\n",
       "      <td>1</td>\n",
       "      <td>1</td>\n",
       "      <td>гражданский брак</td>\n",
       "    </tr>\n",
       "    <tr>\n",
       "      <td>2</td>\n",
       "      <td>2</td>\n",
       "      <td>вдовец / вдова</td>\n",
       "    </tr>\n",
       "    <tr>\n",
       "      <td>3</td>\n",
       "      <td>3</td>\n",
       "      <td>в разводе</td>\n",
       "    </tr>\n",
       "    <tr>\n",
       "      <td>4</td>\n",
       "      <td>4</td>\n",
       "      <td>Не женат / не замужем</td>\n",
       "    </tr>\n",
       "  </tbody>\n",
       "</table>\n",
       "</div>"
      ],
      "text/plain": [
       "   family_status_id          family_status\n",
       "0                 0        женат / замужем\n",
       "1                 1       гражданский брак\n",
       "2                 2         вдовец / вдова\n",
       "3                 3              в разводе\n",
       "4                 4  Не женат / не замужем"
      ]
     },
     "execution_count": 36,
     "metadata": {},
     "output_type": "execute_result"
    }
   ],
   "source": [
    "family_dict = data[['family_status_id', 'family_status']].drop_duplicates().reset_index(drop=True)\n",
    "family_dict"
   ]
  },
  {
   "cell_type": "markdown",
   "metadata": {},
   "source": [
    "Для категоризации по доходу выведем командой describe данные, там мы увидим квантили (знаю что уже выводил, но листать на верх не удобно)"
   ]
  },
  {
   "cell_type": "code",
   "execution_count": 37,
   "metadata": {},
   "outputs": [
    {
     "data": {
      "text/plain": [
       "count      21,453.000\n",
       "mean      165,317.774\n",
       "std        98,189.239\n",
       "min        20,667.000\n",
       "25%       107,620.000\n",
       "50%       142,594.000\n",
       "75%       195,818.000\n",
       "max     2,265,604.000\n",
       "Name: total_income, dtype: float64"
      ]
     },
     "execution_count": 37,
     "metadata": {},
     "output_type": "execute_result"
    }
   ],
   "source": [
    "data['total_income'].describe()"
   ]
  },
  {
   "cell_type": "markdown",
   "metadata": {},
   "source": [
    "Создадим функцию, которая добавит столбец с описанием уровня доходов, обзовем их \"низкий\", \"средний\", \"выше среднего\" и \"высокий доход\""
   ]
  },
  {
   "cell_type": "code",
   "execution_count": 38,
   "metadata": {
    "scrolled": true
   },
   "outputs": [
    {
     "data": {
      "text/html": [
       "<div>\n",
       "<style scoped>\n",
       "    .dataframe tbody tr th:only-of-type {\n",
       "        vertical-align: middle;\n",
       "    }\n",
       "\n",
       "    .dataframe tbody tr th {\n",
       "        vertical-align: top;\n",
       "    }\n",
       "\n",
       "    .dataframe thead th {\n",
       "        text-align: right;\n",
       "    }\n",
       "</style>\n",
       "<table border=\"1\" class=\"dataframe\">\n",
       "  <thead>\n",
       "    <tr style=\"text-align: right;\">\n",
       "      <th></th>\n",
       "      <th>children</th>\n",
       "      <th>days_employed</th>\n",
       "      <th>dob_years</th>\n",
       "      <th>education</th>\n",
       "      <th>education_id</th>\n",
       "      <th>family_status</th>\n",
       "      <th>family_status_id</th>\n",
       "      <th>gender</th>\n",
       "      <th>income_type</th>\n",
       "      <th>debt</th>\n",
       "      <th>total_income</th>\n",
       "      <th>purpose</th>\n",
       "      <th>total_income_overall</th>\n",
       "    </tr>\n",
       "  </thead>\n",
       "  <tbody>\n",
       "    <tr>\n",
       "      <td>0</td>\n",
       "      <td>1</td>\n",
       "      <td>8437</td>\n",
       "      <td>42</td>\n",
       "      <td>высшее</td>\n",
       "      <td>0</td>\n",
       "      <td>женат / замужем</td>\n",
       "      <td>0</td>\n",
       "      <td>F</td>\n",
       "      <td>сотрудник</td>\n",
       "      <td>0</td>\n",
       "      <td>253875</td>\n",
       "      <td>недвижимость</td>\n",
       "      <td>высокий доход</td>\n",
       "    </tr>\n",
       "    <tr>\n",
       "      <td>1</td>\n",
       "      <td>1</td>\n",
       "      <td>4024</td>\n",
       "      <td>36</td>\n",
       "      <td>среднее</td>\n",
       "      <td>1</td>\n",
       "      <td>женат / замужем</td>\n",
       "      <td>0</td>\n",
       "      <td>F</td>\n",
       "      <td>сотрудник</td>\n",
       "      <td>0</td>\n",
       "      <td>112080</td>\n",
       "      <td>автомобиль</td>\n",
       "      <td>средний доход</td>\n",
       "    </tr>\n",
       "    <tr>\n",
       "      <td>2</td>\n",
       "      <td>0</td>\n",
       "      <td>5623</td>\n",
       "      <td>33</td>\n",
       "      <td>среднее</td>\n",
       "      <td>1</td>\n",
       "      <td>женат / замужем</td>\n",
       "      <td>0</td>\n",
       "      <td>M</td>\n",
       "      <td>сотрудник</td>\n",
       "      <td>0</td>\n",
       "      <td>145885</td>\n",
       "      <td>недвижимость</td>\n",
       "      <td>выше среднего доход</td>\n",
       "    </tr>\n",
       "    <tr>\n",
       "      <td>3</td>\n",
       "      <td>3</td>\n",
       "      <td>4124</td>\n",
       "      <td>32</td>\n",
       "      <td>среднее</td>\n",
       "      <td>1</td>\n",
       "      <td>женат / замужем</td>\n",
       "      <td>0</td>\n",
       "      <td>M</td>\n",
       "      <td>сотрудник</td>\n",
       "      <td>0</td>\n",
       "      <td>267628</td>\n",
       "      <td>образование</td>\n",
       "      <td>высокий доход</td>\n",
       "    </tr>\n",
       "    <tr>\n",
       "      <td>4</td>\n",
       "      <td>0</td>\n",
       "      <td>340266</td>\n",
       "      <td>53</td>\n",
       "      <td>среднее</td>\n",
       "      <td>1</td>\n",
       "      <td>гражданский брак</td>\n",
       "      <td>1</td>\n",
       "      <td>F</td>\n",
       "      <td>пенсионер</td>\n",
       "      <td>0</td>\n",
       "      <td>158616</td>\n",
       "      <td>свадьба</td>\n",
       "      <td>выше среднего доход</td>\n",
       "    </tr>\n",
       "  </tbody>\n",
       "</table>\n",
       "</div>"
      ],
      "text/plain": [
       "   children  days_employed  dob_years education  education_id  \\\n",
       "0         1           8437         42    высшее             0   \n",
       "1         1           4024         36   среднее             1   \n",
       "2         0           5623         33   среднее             1   \n",
       "3         3           4124         32   среднее             1   \n",
       "4         0         340266         53   среднее             1   \n",
       "\n",
       "      family_status  family_status_id gender income_type  debt  total_income  \\\n",
       "0   женат / замужем                 0      F   сотрудник     0        253875   \n",
       "1   женат / замужем                 0      F   сотрудник     0        112080   \n",
       "2   женат / замужем                 0      M   сотрудник     0        145885   \n",
       "3   женат / замужем                 0      M   сотрудник     0        267628   \n",
       "4  гражданский брак                 1      F   пенсионер     0        158616   \n",
       "\n",
       "        purpose total_income_overall  \n",
       "0  недвижимость        высокий доход  \n",
       "1    автомобиль        средний доход  \n",
       "2  недвижимость  выше среднего доход  \n",
       "3   образование        высокий доход  \n",
       "4       свадьба  выше среднего доход  "
      ]
     },
     "execution_count": 38,
     "metadata": {},
     "output_type": "execute_result"
    }
   ],
   "source": [
    "def total_income_quantile(row):\n",
    "    if row < 107260:\n",
    "        return 'низкий доход'\n",
    "    if 107425 <= row < 142594:\n",
    "        return 'средний доход'\n",
    "    if 142594 <= row < 195818:\n",
    "        return 'выше среднего доход'\n",
    "    else:\n",
    "        return 'высокий доход'\n",
    "    \n",
    "data['total_income_overall'] = data['total_income'].apply(total_income_quantile)\n",
    "data.head()"
   ]
  },
  {
   "cell_type": "markdown",
   "metadata": {},
   "source": [
    "Применим общепринятую классификацию по возрастам, до 30 молодость, затем зрелость - обзовем ее взрослыми, и после 60 старость. Всё с помощью функции, подобной предыдущей задачи."
   ]
  },
  {
   "cell_type": "code",
   "execution_count": 39,
   "metadata": {},
   "outputs": [
    {
     "data": {
      "text/html": [
       "<div>\n",
       "<style scoped>\n",
       "    .dataframe tbody tr th:only-of-type {\n",
       "        vertical-align: middle;\n",
       "    }\n",
       "\n",
       "    .dataframe tbody tr th {\n",
       "        vertical-align: top;\n",
       "    }\n",
       "\n",
       "    .dataframe thead th {\n",
       "        text-align: right;\n",
       "    }\n",
       "</style>\n",
       "<table border=\"1\" class=\"dataframe\">\n",
       "  <thead>\n",
       "    <tr style=\"text-align: right;\">\n",
       "      <th></th>\n",
       "      <th>children</th>\n",
       "      <th>days_employed</th>\n",
       "      <th>dob_years</th>\n",
       "      <th>education</th>\n",
       "      <th>education_id</th>\n",
       "      <th>family_status</th>\n",
       "      <th>family_status_id</th>\n",
       "      <th>gender</th>\n",
       "      <th>income_type</th>\n",
       "      <th>debt</th>\n",
       "      <th>total_income</th>\n",
       "      <th>purpose</th>\n",
       "      <th>total_income_overall</th>\n",
       "      <th>dob_years_overall</th>\n",
       "    </tr>\n",
       "  </thead>\n",
       "  <tbody>\n",
       "    <tr>\n",
       "      <td>0</td>\n",
       "      <td>1</td>\n",
       "      <td>8437</td>\n",
       "      <td>42</td>\n",
       "      <td>высшее</td>\n",
       "      <td>0</td>\n",
       "      <td>женат / замужем</td>\n",
       "      <td>0</td>\n",
       "      <td>F</td>\n",
       "      <td>сотрудник</td>\n",
       "      <td>0</td>\n",
       "      <td>253875</td>\n",
       "      <td>недвижимость</td>\n",
       "      <td>высокий доход</td>\n",
       "      <td>взрослые</td>\n",
       "    </tr>\n",
       "    <tr>\n",
       "      <td>1</td>\n",
       "      <td>1</td>\n",
       "      <td>4024</td>\n",
       "      <td>36</td>\n",
       "      <td>среднее</td>\n",
       "      <td>1</td>\n",
       "      <td>женат / замужем</td>\n",
       "      <td>0</td>\n",
       "      <td>F</td>\n",
       "      <td>сотрудник</td>\n",
       "      <td>0</td>\n",
       "      <td>112080</td>\n",
       "      <td>автомобиль</td>\n",
       "      <td>средний доход</td>\n",
       "      <td>взрослые</td>\n",
       "    </tr>\n",
       "    <tr>\n",
       "      <td>2</td>\n",
       "      <td>0</td>\n",
       "      <td>5623</td>\n",
       "      <td>33</td>\n",
       "      <td>среднее</td>\n",
       "      <td>1</td>\n",
       "      <td>женат / замужем</td>\n",
       "      <td>0</td>\n",
       "      <td>M</td>\n",
       "      <td>сотрудник</td>\n",
       "      <td>0</td>\n",
       "      <td>145885</td>\n",
       "      <td>недвижимость</td>\n",
       "      <td>выше среднего доход</td>\n",
       "      <td>взрослые</td>\n",
       "    </tr>\n",
       "    <tr>\n",
       "      <td>3</td>\n",
       "      <td>3</td>\n",
       "      <td>4124</td>\n",
       "      <td>32</td>\n",
       "      <td>среднее</td>\n",
       "      <td>1</td>\n",
       "      <td>женат / замужем</td>\n",
       "      <td>0</td>\n",
       "      <td>M</td>\n",
       "      <td>сотрудник</td>\n",
       "      <td>0</td>\n",
       "      <td>267628</td>\n",
       "      <td>образование</td>\n",
       "      <td>высокий доход</td>\n",
       "      <td>взрослые</td>\n",
       "    </tr>\n",
       "    <tr>\n",
       "      <td>4</td>\n",
       "      <td>0</td>\n",
       "      <td>340266</td>\n",
       "      <td>53</td>\n",
       "      <td>среднее</td>\n",
       "      <td>1</td>\n",
       "      <td>гражданский брак</td>\n",
       "      <td>1</td>\n",
       "      <td>F</td>\n",
       "      <td>пенсионер</td>\n",
       "      <td>0</td>\n",
       "      <td>158616</td>\n",
       "      <td>свадьба</td>\n",
       "      <td>выше среднего доход</td>\n",
       "      <td>взрослые</td>\n",
       "    </tr>\n",
       "    <tr>\n",
       "      <td>5</td>\n",
       "      <td>0</td>\n",
       "      <td>926</td>\n",
       "      <td>27</td>\n",
       "      <td>высшее</td>\n",
       "      <td>0</td>\n",
       "      <td>гражданский брак</td>\n",
       "      <td>1</td>\n",
       "      <td>M</td>\n",
       "      <td>компаньон</td>\n",
       "      <td>0</td>\n",
       "      <td>255763</td>\n",
       "      <td>недвижимость</td>\n",
       "      <td>высокий доход</td>\n",
       "      <td>молодые</td>\n",
       "    </tr>\n",
       "    <tr>\n",
       "      <td>6</td>\n",
       "      <td>0</td>\n",
       "      <td>2879</td>\n",
       "      <td>43</td>\n",
       "      <td>высшее</td>\n",
       "      <td>0</td>\n",
       "      <td>женат / замужем</td>\n",
       "      <td>0</td>\n",
       "      <td>F</td>\n",
       "      <td>компаньон</td>\n",
       "      <td>0</td>\n",
       "      <td>240525</td>\n",
       "      <td>недвижимость</td>\n",
       "      <td>высокий доход</td>\n",
       "      <td>взрослые</td>\n",
       "    </tr>\n",
       "    <tr>\n",
       "      <td>7</td>\n",
       "      <td>0</td>\n",
       "      <td>152</td>\n",
       "      <td>50</td>\n",
       "      <td>среднее</td>\n",
       "      <td>1</td>\n",
       "      <td>женат / замужем</td>\n",
       "      <td>0</td>\n",
       "      <td>M</td>\n",
       "      <td>сотрудник</td>\n",
       "      <td>0</td>\n",
       "      <td>135823</td>\n",
       "      <td>образование</td>\n",
       "      <td>средний доход</td>\n",
       "      <td>взрослые</td>\n",
       "    </tr>\n",
       "    <tr>\n",
       "      <td>8</td>\n",
       "      <td>2</td>\n",
       "      <td>6929</td>\n",
       "      <td>35</td>\n",
       "      <td>высшее</td>\n",
       "      <td>0</td>\n",
       "      <td>гражданский брак</td>\n",
       "      <td>1</td>\n",
       "      <td>F</td>\n",
       "      <td>сотрудник</td>\n",
       "      <td>0</td>\n",
       "      <td>95856</td>\n",
       "      <td>свадьба</td>\n",
       "      <td>низкий доход</td>\n",
       "      <td>взрослые</td>\n",
       "    </tr>\n",
       "    <tr>\n",
       "      <td>9</td>\n",
       "      <td>0</td>\n",
       "      <td>2188</td>\n",
       "      <td>41</td>\n",
       "      <td>среднее</td>\n",
       "      <td>1</td>\n",
       "      <td>женат / замужем</td>\n",
       "      <td>0</td>\n",
       "      <td>M</td>\n",
       "      <td>сотрудник</td>\n",
       "      <td>0</td>\n",
       "      <td>144425</td>\n",
       "      <td>недвижимость</td>\n",
       "      <td>выше среднего доход</td>\n",
       "      <td>взрослые</td>\n",
       "    </tr>\n",
       "    <tr>\n",
       "      <td>10</td>\n",
       "      <td>2</td>\n",
       "      <td>4171</td>\n",
       "      <td>36</td>\n",
       "      <td>высшее</td>\n",
       "      <td>0</td>\n",
       "      <td>женат / замужем</td>\n",
       "      <td>0</td>\n",
       "      <td>M</td>\n",
       "      <td>компаньон</td>\n",
       "      <td>0</td>\n",
       "      <td>113943</td>\n",
       "      <td>недвижимость</td>\n",
       "      <td>средний доход</td>\n",
       "      <td>взрослые</td>\n",
       "    </tr>\n",
       "    <tr>\n",
       "      <td>11</td>\n",
       "      <td>0</td>\n",
       "      <td>792</td>\n",
       "      <td>40</td>\n",
       "      <td>среднее</td>\n",
       "      <td>1</td>\n",
       "      <td>женат / замужем</td>\n",
       "      <td>0</td>\n",
       "      <td>F</td>\n",
       "      <td>сотрудник</td>\n",
       "      <td>0</td>\n",
       "      <td>77069</td>\n",
       "      <td>недвижимость</td>\n",
       "      <td>низкий доход</td>\n",
       "      <td>взрослые</td>\n",
       "    </tr>\n",
       "    <tr>\n",
       "      <td>12</td>\n",
       "      <td>0</td>\n",
       "      <td>365213</td>\n",
       "      <td>65</td>\n",
       "      <td>среднее</td>\n",
       "      <td>1</td>\n",
       "      <td>гражданский брак</td>\n",
       "      <td>1</td>\n",
       "      <td>M</td>\n",
       "      <td>пенсионер</td>\n",
       "      <td>0</td>\n",
       "      <td>118514</td>\n",
       "      <td>свадьба</td>\n",
       "      <td>средний доход</td>\n",
       "      <td>старые</td>\n",
       "    </tr>\n",
       "    <tr>\n",
       "      <td>13</td>\n",
       "      <td>0</td>\n",
       "      <td>1846</td>\n",
       "      <td>54</td>\n",
       "      <td>неоконченное высшее</td>\n",
       "      <td>2</td>\n",
       "      <td>женат / замужем</td>\n",
       "      <td>0</td>\n",
       "      <td>F</td>\n",
       "      <td>сотрудник</td>\n",
       "      <td>0</td>\n",
       "      <td>130458</td>\n",
       "      <td>автомобиль</td>\n",
       "      <td>средний доход</td>\n",
       "      <td>взрослые</td>\n",
       "    </tr>\n",
       "    <tr>\n",
       "      <td>14</td>\n",
       "      <td>0</td>\n",
       "      <td>1844</td>\n",
       "      <td>56</td>\n",
       "      <td>высшее</td>\n",
       "      <td>0</td>\n",
       "      <td>гражданский брак</td>\n",
       "      <td>1</td>\n",
       "      <td>F</td>\n",
       "      <td>компаньон</td>\n",
       "      <td>1</td>\n",
       "      <td>165127</td>\n",
       "      <td>недвижимость</td>\n",
       "      <td>выше среднего доход</td>\n",
       "      <td>взрослые</td>\n",
       "    </tr>\n",
       "  </tbody>\n",
       "</table>\n",
       "</div>"
      ],
      "text/plain": [
       "    children  days_employed  dob_years            education  education_id  \\\n",
       "0          1           8437         42               высшее             0   \n",
       "1          1           4024         36              среднее             1   \n",
       "2          0           5623         33              среднее             1   \n",
       "3          3           4124         32              среднее             1   \n",
       "4          0         340266         53              среднее             1   \n",
       "5          0            926         27               высшее             0   \n",
       "6          0           2879         43               высшее             0   \n",
       "7          0            152         50              среднее             1   \n",
       "8          2           6929         35               высшее             0   \n",
       "9          0           2188         41              среднее             1   \n",
       "10         2           4171         36               высшее             0   \n",
       "11         0            792         40              среднее             1   \n",
       "12         0         365213         65              среднее             1   \n",
       "13         0           1846         54  неоконченное высшее             2   \n",
       "14         0           1844         56               высшее             0   \n",
       "\n",
       "       family_status  family_status_id gender income_type  debt  total_income  \\\n",
       "0    женат / замужем                 0      F   сотрудник     0        253875   \n",
       "1    женат / замужем                 0      F   сотрудник     0        112080   \n",
       "2    женат / замужем                 0      M   сотрудник     0        145885   \n",
       "3    женат / замужем                 0      M   сотрудник     0        267628   \n",
       "4   гражданский брак                 1      F   пенсионер     0        158616   \n",
       "5   гражданский брак                 1      M   компаньон     0        255763   \n",
       "6    женат / замужем                 0      F   компаньон     0        240525   \n",
       "7    женат / замужем                 0      M   сотрудник     0        135823   \n",
       "8   гражданский брак                 1      F   сотрудник     0         95856   \n",
       "9    женат / замужем                 0      M   сотрудник     0        144425   \n",
       "10   женат / замужем                 0      M   компаньон     0        113943   \n",
       "11   женат / замужем                 0      F   сотрудник     0         77069   \n",
       "12  гражданский брак                 1      M   пенсионер     0        118514   \n",
       "13   женат / замужем                 0      F   сотрудник     0        130458   \n",
       "14  гражданский брак                 1      F   компаньон     1        165127   \n",
       "\n",
       "         purpose total_income_overall dob_years_overall  \n",
       "0   недвижимость        высокий доход          взрослые  \n",
       "1     автомобиль        средний доход          взрослые  \n",
       "2   недвижимость  выше среднего доход          взрослые  \n",
       "3    образование        высокий доход          взрослые  \n",
       "4        свадьба  выше среднего доход          взрослые  \n",
       "5   недвижимость        высокий доход           молодые  \n",
       "6   недвижимость        высокий доход          взрослые  \n",
       "7    образование        средний доход          взрослые  \n",
       "8        свадьба         низкий доход          взрослые  \n",
       "9   недвижимость  выше среднего доход          взрослые  \n",
       "10  недвижимость        средний доход          взрослые  \n",
       "11  недвижимость         низкий доход          взрослые  \n",
       "12       свадьба        средний доход            старые  \n",
       "13    автомобиль        средний доход          взрослые  \n",
       "14  недвижимость  выше среднего доход          взрослые  "
      ]
     },
     "execution_count": 39,
     "metadata": {},
     "output_type": "execute_result"
    }
   ],
   "source": [
    "def dob_years_quantile(row):\n",
    "    if row < 30:\n",
    "        return 'молодые'\n",
    "    if 30 <= row < 59:\n",
    "        return 'взрослые'\n",
    "    else:\n",
    "        return 'старые'\n",
    "    \n",
    "data['dob_years_overall'] = data['dob_years'].apply(dob_years_quantile)\n",
    "data.head(15)"
   ]
  },
  {
   "cell_type": "markdown",
   "metadata": {},
   "source": [
    "**Вывод**"
   ]
  },
  {
   "cell_type": "markdown",
   "metadata": {},
   "source": [
    "на данном этапе облегчили себе задачу, что бы в дальнейшем проще ответить на вопросы"
   ]
  },
  {
   "cell_type": "markdown",
   "metadata": {},
   "source": [
    "## Шаг 3. Ответьте на вопросы"
   ]
  },
  {
   "cell_type": "markdown",
   "metadata": {},
   "source": [
    "- Есть ли зависимость между наличием детей и возвратом кредита в срок? Сразу создадим функцию считающая процент просрочки кредитов и обзовем ее fail, она понадобится для итоговых выводов."
   ]
  },
  {
   "cell_type": "code",
   "execution_count": 40,
   "metadata": {},
   "outputs": [
    {
     "data": {
      "text/html": [
       "<div>\n",
       "<style scoped>\n",
       "    .dataframe tbody tr th:only-of-type {\n",
       "        vertical-align: middle;\n",
       "    }\n",
       "\n",
       "    .dataframe tbody tr th {\n",
       "        vertical-align: top;\n",
       "    }\n",
       "\n",
       "    .dataframe thead tr th {\n",
       "        text-align: left;\n",
       "    }\n",
       "\n",
       "    .dataframe thead tr:last-of-type th {\n",
       "        text-align: right;\n",
       "    }\n",
       "</style>\n",
       "<table border=\"1\" class=\"dataframe\">\n",
       "  <thead>\n",
       "    <tr>\n",
       "      <th></th>\n",
       "      <th colspan=\"2\" halign=\"left\">debt</th>\n",
       "      <th>percentage</th>\n",
       "    </tr>\n",
       "    <tr>\n",
       "      <th>debt</th>\n",
       "      <th>0</th>\n",
       "      <th>1</th>\n",
       "      <th></th>\n",
       "    </tr>\n",
       "    <tr>\n",
       "      <th>children</th>\n",
       "      <th></th>\n",
       "      <th></th>\n",
       "      <th></th>\n",
       "    </tr>\n",
       "  </thead>\n",
       "  <tbody>\n",
       "    <tr>\n",
       "      <td>4</td>\n",
       "      <td>37</td>\n",
       "      <td>4</td>\n",
       "      <td>9.760</td>\n",
       "    </tr>\n",
       "    <tr>\n",
       "      <td>2</td>\n",
       "      <td>1926</td>\n",
       "      <td>202</td>\n",
       "      <td>9.490</td>\n",
       "    </tr>\n",
       "    <tr>\n",
       "      <td>1</td>\n",
       "      <td>4410</td>\n",
       "      <td>445</td>\n",
       "      <td>9.170</td>\n",
       "    </tr>\n",
       "    <tr>\n",
       "      <td>3</td>\n",
       "      <td>303</td>\n",
       "      <td>27</td>\n",
       "      <td>8.180</td>\n",
       "    </tr>\n",
       "    <tr>\n",
       "      <td>0</td>\n",
       "      <td>13027</td>\n",
       "      <td>1063</td>\n",
       "      <td>7.540</td>\n",
       "    </tr>\n",
       "    <tr>\n",
       "      <td>5</td>\n",
       "      <td>9</td>\n",
       "      <td>0</td>\n",
       "      <td>0.000</td>\n",
       "    </tr>\n",
       "  </tbody>\n",
       "</table>\n",
       "</div>"
      ],
      "text/plain": [
       "           debt       percentage\n",
       "debt          0     1           \n",
       "children                        \n",
       "4            37     4      9.760\n",
       "2          1926   202      9.490\n",
       "1          4410   445      9.170\n",
       "3           303    27      8.180\n",
       "0         13027  1063      7.540\n",
       "5             9     0      0.000"
      ]
     },
     "execution_count": 40,
     "metadata": {},
     "output_type": "execute_result"
    }
   ],
   "source": [
    "children_debt = data.pivot_table(index='children', columns='debt', aggfunc={'debt':'count'}).fillna(0).astype(int)\n",
    "\n",
    "def fail(data):\n",
    "    data['percentage'] = ((data[('debt', 1)] * 100) / (data[('debt', 0)] + data[('debt', 1)])).round(2)\n",
    "\n",
    "fail(children_debt)\n",
    "children_debt.sort_values(by='percentage', ascending=False)"
   ]
  },
  {
   "cell_type": "code",
   "execution_count": 41,
   "metadata": {},
   "outputs": [
    {
     "name": "stdout",
     "output_type": "stream",
     "text": [
      "          count  debt_count  debt_part\n",
      "children                              \n",
      "4            41           4      9.756\n",
      "2          2128         202      9.492\n",
      "1          4855         445      9.166\n",
      "3           330          27      8.182\n",
      "0         14090        1063      7.544\n",
      "5             9           0      0.000\n"
     ]
    }
   ],
   "source": [
    "data_children = data.groupby('children').agg(count = ('debt','count'), debt_count = ('debt', 'sum'))\n",
    "data_children['debt_part'] = (data_children['debt_count'] / data_children['count']) * 100\n",
    "print(data_children.sort_values(by='debt_part', ascending=False))"
   ]
  },
  {
   "cell_type": "markdown",
   "metadata": {},
   "source": [
    "**Вывод**"
   ]
  },
  {
   "cell_type": "markdown",
   "metadata": {},
   "source": [
    "Если у тебя 5 детей - залог хорошей кредитной истории) Шутка!  Вывод такой: данных по семьям с 4 и 5 детьми недостаточно, их слишком мало что бы сделать правильные выводы, но по остальным категориям можно подытожить: если у человека есть дети и кредит, в случае трудности он предпочтет детей, чем платить кредит. Но разница не критичная."
   ]
  },
  {
   "cell_type": "markdown",
   "metadata": {},
   "source": [
    "- Есть ли зависимость между семейным положением и возвратом кредита в срок?"
   ]
  },
  {
   "cell_type": "code",
   "execution_count": 43,
   "metadata": {},
   "outputs": [
    {
     "data": {
      "text/html": [
       "<div>\n",
       "<style scoped>\n",
       "    .dataframe tbody tr th:only-of-type {\n",
       "        vertical-align: middle;\n",
       "    }\n",
       "\n",
       "    .dataframe tbody tr th {\n",
       "        vertical-align: top;\n",
       "    }\n",
       "\n",
       "    .dataframe thead th {\n",
       "        text-align: right;\n",
       "    }\n",
       "</style>\n",
       "<table border=\"1\" class=\"dataframe\">\n",
       "  <thead>\n",
       "    <tr style=\"text-align: right;\">\n",
       "      <th></th>\n",
       "      <th>family_status_id</th>\n",
       "      <th>(debt, 0)</th>\n",
       "      <th>(debt, 1)</th>\n",
       "      <th>family_status</th>\n",
       "      <th>percentage</th>\n",
       "    </tr>\n",
       "  </thead>\n",
       "  <tbody>\n",
       "    <tr>\n",
       "      <td>4</td>\n",
       "      <td>4</td>\n",
       "      <td>2536</td>\n",
       "      <td>274</td>\n",
       "      <td>Не женат / не замужем</td>\n",
       "      <td>9.750</td>\n",
       "    </tr>\n",
       "    <tr>\n",
       "      <td>1</td>\n",
       "      <td>1</td>\n",
       "      <td>3762</td>\n",
       "      <td>388</td>\n",
       "      <td>гражданский брак</td>\n",
       "      <td>9.350</td>\n",
       "    </tr>\n",
       "    <tr>\n",
       "      <td>0</td>\n",
       "      <td>0</td>\n",
       "      <td>11408</td>\n",
       "      <td>931</td>\n",
       "      <td>женат / замужем</td>\n",
       "      <td>7.550</td>\n",
       "    </tr>\n",
       "    <tr>\n",
       "      <td>3</td>\n",
       "      <td>3</td>\n",
       "      <td>1110</td>\n",
       "      <td>85</td>\n",
       "      <td>в разводе</td>\n",
       "      <td>7.110</td>\n",
       "    </tr>\n",
       "    <tr>\n",
       "      <td>2</td>\n",
       "      <td>2</td>\n",
       "      <td>896</td>\n",
       "      <td>63</td>\n",
       "      <td>вдовец / вдова</td>\n",
       "      <td>6.570</td>\n",
       "    </tr>\n",
       "  </tbody>\n",
       "</table>\n",
       "</div>"
      ],
      "text/plain": [
       "   family_status_id  (debt, 0)  (debt, 1)          family_status  percentage\n",
       "4                 4       2536        274  Не женат / не замужем       9.750\n",
       "1                 1       3762        388       гражданский брак       9.350\n",
       "0                 0      11408        931        женат / замужем       7.550\n",
       "3                 3       1110         85              в разводе       7.110\n",
       "2                 2        896         63         вдовец / вдова       6.570"
      ]
     },
     "execution_count": 43,
     "metadata": {},
     "output_type": "execute_result"
    }
   ],
   "source": [
    "family_status_debt = data.pivot_table(index='family_status_id', columns='debt', aggfunc={'debt':'count'}).merge(family_dict, on='family_status_id')\n",
    "\n",
    "fail(family_status_debt)\n",
    "\n",
    "family_status_debt.sort_values(by='percentage', ascending=False)"
   ]
  },
  {
   "cell_type": "markdown",
   "metadata": {},
   "source": [
    "**Вывод**"
   ]
  },
  {
   "cell_type": "markdown",
   "metadata": {},
   "source": [
    "Самый главный вывод - человек с опытом мудреет. Реально же выстроился жизненый путь: холост, нашел себе пару, женился, развелся или овдовел. Семейный статус действительно влияет на возврат кредита, но тут можно и притянуть возраст."
   ]
  },
  {
   "cell_type": "markdown",
   "metadata": {},
   "source": [
    "- Есть ли зависимость между уровнем дохода и возвратом кредита в срок?"
   ]
  },
  {
   "cell_type": "code",
   "execution_count": 44,
   "metadata": {},
   "outputs": [
    {
     "data": {
      "text/html": [
       "<div>\n",
       "<style scoped>\n",
       "    .dataframe tbody tr th:only-of-type {\n",
       "        vertical-align: middle;\n",
       "    }\n",
       "\n",
       "    .dataframe tbody tr th {\n",
       "        vertical-align: top;\n",
       "    }\n",
       "\n",
       "    .dataframe thead tr th {\n",
       "        text-align: left;\n",
       "    }\n",
       "\n",
       "    .dataframe thead tr:last-of-type th {\n",
       "        text-align: right;\n",
       "    }\n",
       "</style>\n",
       "<table border=\"1\" class=\"dataframe\">\n",
       "  <thead>\n",
       "    <tr>\n",
       "      <th></th>\n",
       "      <th colspan=\"2\" halign=\"left\">debt</th>\n",
       "      <th>percentage</th>\n",
       "    </tr>\n",
       "    <tr>\n",
       "      <th>debt</th>\n",
       "      <th>0</th>\n",
       "      <th>1</th>\n",
       "      <th></th>\n",
       "    </tr>\n",
       "    <tr>\n",
       "      <th>total_income_overall</th>\n",
       "      <th></th>\n",
       "      <th></th>\n",
       "      <th></th>\n",
       "    </tr>\n",
       "  </thead>\n",
       "  <tbody>\n",
       "    <tr>\n",
       "      <td>средний доход</td>\n",
       "      <td>4043</td>\n",
       "      <td>386</td>\n",
       "      <td>8.720</td>\n",
       "    </tr>\n",
       "    <tr>\n",
       "      <td>выше среднего доход</td>\n",
       "      <td>5770</td>\n",
       "      <td>546</td>\n",
       "      <td>8.640</td>\n",
       "    </tr>\n",
       "    <tr>\n",
       "      <td>низкий доход</td>\n",
       "      <td>4905</td>\n",
       "      <td>425</td>\n",
       "      <td>7.970</td>\n",
       "    </tr>\n",
       "    <tr>\n",
       "      <td>высокий доход</td>\n",
       "      <td>4994</td>\n",
       "      <td>384</td>\n",
       "      <td>7.140</td>\n",
       "    </tr>\n",
       "  </tbody>\n",
       "</table>\n",
       "</div>"
      ],
      "text/plain": [
       "                      debt      percentage\n",
       "debt                     0    1           \n",
       "total_income_overall                      \n",
       "средний доход         4043  386      8.720\n",
       "выше среднего доход   5770  546      8.640\n",
       "низкий доход          4905  425      7.970\n",
       "высокий доход         4994  384      7.140"
      ]
     },
     "execution_count": 44,
     "metadata": {},
     "output_type": "execute_result"
    }
   ],
   "source": [
    "income_debt = data.pivot_table(index='total_income_overall', \n",
    "                                                   columns='debt', \n",
    "                                                   aggfunc={'debt':'count'})\n",
    "                                                                                              \n",
    "\n",
    "fail(income_debt)\n",
    "income_debt.sort_values(by='percentage', ascending=False)"
   ]
  },
  {
   "cell_type": "markdown",
   "metadata": {},
   "source": [
    "**Вывод**"
   ]
  },
  {
   "cell_type": "markdown",
   "metadata": {},
   "source": [
    "Очевидно что люди с самым высоким доходом оказаись в лидерах по возврату кредита, и неожиданно что люди с низкими доходами не сильно отстают от них. Средний доход похоже развращет человека, ему хочется больше, так же как и у след. группы - необязательные и импульсивные покупки могут испортить кредитную историю."
   ]
  },
  {
   "cell_type": "markdown",
   "metadata": {},
   "source": [
    "- Как разные цели кредита влияют на его возврат в срок?"
   ]
  },
  {
   "cell_type": "code",
   "execution_count": 45,
   "metadata": {},
   "outputs": [
    {
     "data": {
      "text/html": [
       "<div>\n",
       "<style scoped>\n",
       "    .dataframe tbody tr th:only-of-type {\n",
       "        vertical-align: middle;\n",
       "    }\n",
       "\n",
       "    .dataframe tbody tr th {\n",
       "        vertical-align: top;\n",
       "    }\n",
       "\n",
       "    .dataframe thead tr th {\n",
       "        text-align: left;\n",
       "    }\n",
       "\n",
       "    .dataframe thead tr:last-of-type th {\n",
       "        text-align: right;\n",
       "    }\n",
       "</style>\n",
       "<table border=\"1\" class=\"dataframe\">\n",
       "  <thead>\n",
       "    <tr>\n",
       "      <th></th>\n",
       "      <th colspan=\"2\" halign=\"left\">debt</th>\n",
       "      <th>percentage</th>\n",
       "    </tr>\n",
       "    <tr>\n",
       "      <th>debt</th>\n",
       "      <th>0</th>\n",
       "      <th>1</th>\n",
       "      <th></th>\n",
       "    </tr>\n",
       "    <tr>\n",
       "      <th>purpose</th>\n",
       "      <th></th>\n",
       "      <th></th>\n",
       "      <th></th>\n",
       "    </tr>\n",
       "  </thead>\n",
       "  <tbody>\n",
       "    <tr>\n",
       "      <td>автомобиль</td>\n",
       "      <td>3903</td>\n",
       "      <td>403</td>\n",
       "      <td>9.360</td>\n",
       "    </tr>\n",
       "    <tr>\n",
       "      <td>образование</td>\n",
       "      <td>3643</td>\n",
       "      <td>370</td>\n",
       "      <td>9.220</td>\n",
       "    </tr>\n",
       "    <tr>\n",
       "      <td>свадьба</td>\n",
       "      <td>2138</td>\n",
       "      <td>186</td>\n",
       "      <td>8.000</td>\n",
       "    </tr>\n",
       "    <tr>\n",
       "      <td>недвижимость</td>\n",
       "      <td>10028</td>\n",
       "      <td>782</td>\n",
       "      <td>7.230</td>\n",
       "    </tr>\n",
       "  </tbody>\n",
       "</table>\n",
       "</div>"
      ],
      "text/plain": [
       "               debt      percentage\n",
       "debt              0    1           \n",
       "purpose                            \n",
       "автомобиль     3903  403      9.360\n",
       "образование    3643  370      9.220\n",
       "свадьба        2138  186      8.000\n",
       "недвижимость  10028  782      7.230"
      ]
     },
     "execution_count": 45,
     "metadata": {},
     "output_type": "execute_result"
    }
   ],
   "source": [
    "purpose_debt = data.pivot_table(index='purpose', columns='debt', aggfunc={'debt':'count'})\n",
    "\n",
    "fail(purpose_debt)\n",
    "\n",
    "purpose_debt.sort_values(by='percentage', ascending=False)"
   ]
  },
  {
   "cell_type": "markdown",
   "metadata": {},
   "source": [
    "**Вывод**"
   ]
  },
  {
   "cell_type": "markdown",
   "metadata": {},
   "source": [
    "Доступные автокредиты погубят человечество, возможно выбрал автомобиль по стоимости не соответствующей его доходам, еще и допов и страховок напихали туда. Образование - возможно берется молодыми людьми, которые должны учится и при этом платить. Патовая ситуация - учишься -> нет времени работать -> нечем платить, либо: работаешь -> платишь -> зачем учеба :). Свадьба - все хотят хорошую свадьбу, и видимо расчитвают на хорошие подарки - похоже получается. А недвижимость - очень осознаный шаг, да и срок кредта в таких сделках не маленький, ипотека и все такое, а так же - в России суровый климат, на улицу долго не выживешь - поэтому и платят до последнего."
   ]
  },
  {
   "cell_type": "markdown",
   "metadata": {},
   "source": [
    "## Шаг 4. Общий вывод"
   ]
  },
  {
   "cell_type": "markdown",
   "metadata": {},
   "source": [
    "Теперь мы знаем идеальный портрет заемщика для банка: вдовец без детей с высоким доходом для покупки недвижимости.  \n",
    "Получив \"очень грязные\" данные, обработали и получили ответы на все вопросы.  \n",
    "Некорректность данных вызвана как человеческим фактором, так и техническим. Например: столбец education записан разным регистром - явно человеческий фактор, но вот наличие проблем в одних и тех же сроках в 2 столбцах явно намекает на какую-то закономерную ошибку. Отдельно надо сказать про стаж, в наших иследованиях он не нужен был, поэтому забили на него. Но он очень не корректен, скорее всего техническая проблема, которая у некоторых групп заемщиков переводила стаж из дней в часы."
   ]
  },
  {
   "cell_type": "markdown",
   "metadata": {},
   "source": [
    "## Чек-лист готовности проекта\n",
    "\n",
    "Поставьте 'x' в выполненных пунктах. Далее нажмите Shift+Enter."
   ]
  },
  {
   "cell_type": "markdown",
   "metadata": {},
   "source": [
    "- [x]  открыт файл;\n",
    "- [x]  файл изучен;\n",
    "- [x]  определены пропущенные значения;\n",
    "- [x]  заполнены пропущенные значения;\n",
    "- [x]  есть пояснение, какие пропущенные значения обнаружены;\n",
    "- [x]  описаны возможные причины появления пропусков в данных;\n",
    "- [x]  объяснено, по какому принципу заполнены пропуски;\n",
    "- [x]  заменен вещественный тип данных на целочисленный;\n",
    "- [x]  есть пояснение, какой метод используется для изменения типа данных и почему;\n",
    "- [x]  удалены дубликаты;\n",
    "- [x]  есть пояснение, какой метод используется для поиска и удаления дубликатов;\n",
    "- [x]  описаны возможные причины появления дубликатов в данных;\n",
    "- [x]  выделены леммы в значениях столбца с целями получения кредита;\n",
    "- [x]  описан процесс лемматизации;\n",
    "- [x]  данные категоризированы;\n",
    "- [x]  есть объяснение принципа категоризации данных;\n",
    "- [x]  есть ответ на вопрос: \"Есть ли зависимость между наличием детей и возвратом кредита в срок?\";\n",
    "- [x]  есть ответ на вопрос: \"Есть ли зависимость между семейным положением и возвратом кредита в срок?\";\n",
    "- [x]  есть ответ на вопрос: \"Есть ли зависимость между уровнем дохода и возвратом кредита в срок?\";\n",
    "- [x]  есть ответ на вопрос: \"Как разные цели кредита влияют на его возврат в срок?\";\n",
    "- [x]  в каждом этапе есть выводы;\n",
    "- [x]  есть общий вывод."
   ]
  },
  {
   "cell_type": "code",
   "execution_count": null,
   "metadata": {},
   "outputs": [],
   "source": []
  }
 ],
 "metadata": {
  "ExecuteTimeLog": [
   {
    "duration": 769,
    "start_time": "2021-10-18T16:15:29.912Z"
   },
   {
    "duration": 87,
    "start_time": "2021-10-18T16:15:37.472Z"
   },
   {
    "duration": 50,
    "start_time": "2021-10-18T16:19:02.391Z"
   },
   {
    "duration": 80,
    "start_time": "2021-10-18T16:27:55.449Z"
   },
   {
    "duration": 14,
    "start_time": "2021-10-18T16:38:02.015Z"
   },
   {
    "duration": 342,
    "start_time": "2021-10-18T16:41:00.391Z"
   },
   {
    "duration": 494,
    "start_time": "2021-10-18T16:41:07.084Z"
   },
   {
    "duration": 7,
    "start_time": "2021-10-18T16:43:57.875Z"
   },
   {
    "duration": 6,
    "start_time": "2021-10-18T16:44:09.950Z"
   },
   {
    "duration": 7,
    "start_time": "2021-10-18T16:44:49.241Z"
   },
   {
    "duration": 6,
    "start_time": "2021-10-18T16:45:11.694Z"
   },
   {
    "duration": 40,
    "start_time": "2021-10-18T16:45:32.997Z"
   },
   {
    "duration": 6,
    "start_time": "2021-10-18T16:45:50.099Z"
   },
   {
    "duration": 7,
    "start_time": "2021-10-18T16:46:09.525Z"
   },
   {
    "duration": 12,
    "start_time": "2021-10-18T16:46:51.553Z"
   },
   {
    "duration": 9,
    "start_time": "2021-10-18T16:51:37.525Z"
   },
   {
    "duration": 10,
    "start_time": "2021-10-18T16:52:14.085Z"
   },
   {
    "duration": 9,
    "start_time": "2021-10-18T16:59:56.995Z"
   },
   {
    "duration": 765,
    "start_time": "2021-10-23T20:20:08.759Z"
   },
   {
    "duration": 88,
    "start_time": "2021-10-23T20:22:44.229Z"
   },
   {
    "duration": 122,
    "start_time": "2021-10-23T20:30:16.087Z"
   },
   {
    "duration": 89,
    "start_time": "2021-10-23T20:30:31.313Z"
   },
   {
    "duration": 47,
    "start_time": "2021-10-23T20:30:40.816Z"
   },
   {
    "duration": 15,
    "start_time": "2021-10-23T20:41:59.540Z"
   },
   {
    "duration": 14,
    "start_time": "2021-10-23T20:51:17.076Z"
   },
   {
    "duration": 130,
    "start_time": "2021-10-23T20:52:32.342Z"
   },
   {
    "duration": 100,
    "start_time": "2021-10-23T20:52:52.219Z"
   },
   {
    "duration": 33,
    "start_time": "2021-10-23T20:53:07.349Z"
   },
   {
    "duration": 47,
    "start_time": "2021-10-23T20:53:17.252Z"
   },
   {
    "duration": 66,
    "start_time": "2021-10-23T21:35:39.913Z"
   },
   {
    "duration": 69,
    "start_time": "2021-10-23T21:35:46.508Z"
   },
   {
    "duration": 4678,
    "start_time": "2021-10-23T21:36:54.175Z"
   },
   {
    "duration": 5124,
    "start_time": "2021-10-23T21:39:15.018Z"
   },
   {
    "duration": 704,
    "start_time": "2021-10-23T21:39:48.078Z"
   },
   {
    "duration": 32,
    "start_time": "2021-10-23T21:39:53.962Z"
   },
   {
    "duration": 47,
    "start_time": "2021-10-23T21:39:58.548Z"
   },
   {
    "duration": 16,
    "start_time": "2021-10-23T21:40:03.381Z"
   },
   {
    "duration": 4262,
    "start_time": "2021-10-23T21:40:12.403Z"
   },
   {
    "duration": 14,
    "start_time": "2021-10-23T21:40:59.888Z"
   },
   {
    "duration": 12,
    "start_time": "2021-10-23T21:47:44.450Z"
   },
   {
    "duration": 33,
    "start_time": "2021-10-23T21:52:19.853Z"
   },
   {
    "duration": 34,
    "start_time": "2021-10-23T21:53:05.348Z"
   },
   {
    "duration": 45,
    "start_time": "2021-10-23T21:53:33.989Z"
   },
   {
    "duration": 30,
    "start_time": "2021-10-23T21:53:50.832Z"
   },
   {
    "duration": 13,
    "start_time": "2021-10-23T21:59:39.365Z"
   },
   {
    "duration": 13,
    "start_time": "2021-10-23T21:59:45.844Z"
   },
   {
    "duration": 13,
    "start_time": "2021-10-23T21:59:52.988Z"
   },
   {
    "duration": 13,
    "start_time": "2021-10-23T22:00:07.752Z"
   },
   {
    "duration": 16,
    "start_time": "2021-10-23T22:04:04.063Z"
   },
   {
    "duration": 278,
    "start_time": "2021-10-25T19:34:27.411Z"
   },
   {
    "duration": 825,
    "start_time": "2021-10-25T19:34:39.293Z"
   },
   {
    "duration": 32,
    "start_time": "2021-10-25T19:34:42.773Z"
   },
   {
    "duration": 13,
    "start_time": "2021-10-25T19:34:48.720Z"
   },
   {
    "duration": 12,
    "start_time": "2021-10-25T19:34:53.011Z"
   },
   {
    "duration": 11,
    "start_time": "2021-10-25T19:34:55.110Z"
   },
   {
    "duration": 31,
    "start_time": "2021-10-25T19:34:56.864Z"
   },
   {
    "duration": 14,
    "start_time": "2021-10-25T19:34:59.082Z"
   },
   {
    "duration": 1068,
    "start_time": "2021-10-25T19:35:02.031Z"
   },
   {
    "duration": 222,
    "start_time": "2021-10-25T19:36:50.475Z"
   },
   {
    "duration": 218,
    "start_time": "2021-10-25T19:37:03.915Z"
   },
   {
    "duration": 46,
    "start_time": "2021-10-25T19:37:18.235Z"
   },
   {
    "duration": 1003,
    "start_time": "2021-10-25T19:47:19.179Z"
   },
   {
    "duration": 1033,
    "start_time": "2021-10-25T19:48:15.681Z"
   },
   {
    "duration": 1062,
    "start_time": "2021-10-25T19:49:30.868Z"
   },
   {
    "duration": 46,
    "start_time": "2021-10-25T20:00:48.614Z"
   },
   {
    "duration": 32,
    "start_time": "2021-10-25T20:01:31.189Z"
   },
   {
    "duration": 13,
    "start_time": "2021-10-25T20:05:38.190Z"
   },
   {
    "duration": 30,
    "start_time": "2021-10-25T20:08:28.721Z"
   },
   {
    "duration": 18,
    "start_time": "2021-10-25T20:08:30.868Z"
   },
   {
    "duration": 32,
    "start_time": "2021-10-25T20:09:16.337Z"
   },
   {
    "duration": 41,
    "start_time": "2021-10-25T20:09:42.779Z"
   },
   {
    "duration": 50,
    "start_time": "2021-10-25T20:10:34.682Z"
   },
   {
    "duration": 46,
    "start_time": "2021-10-25T20:13:03.910Z"
   },
   {
    "duration": 58,
    "start_time": "2021-10-25T20:13:23.836Z"
   },
   {
    "duration": 34,
    "start_time": "2021-10-25T20:13:36.765Z"
   },
   {
    "duration": 21,
    "start_time": "2021-10-25T20:13:46.021Z"
   },
   {
    "duration": 50,
    "start_time": "2021-10-25T20:15:11.527Z"
   },
   {
    "duration": 16,
    "start_time": "2021-10-25T20:17:04.332Z"
   },
   {
    "duration": 762,
    "start_time": "2021-10-25T20:17:14.561Z"
   },
   {
    "duration": 30,
    "start_time": "2021-10-25T20:17:20.126Z"
   },
   {
    "duration": 47,
    "start_time": "2021-10-25T20:17:23.881Z"
   },
   {
    "duration": 13,
    "start_time": "2021-10-25T20:17:26.881Z"
   },
   {
    "duration": 12,
    "start_time": "2021-10-25T20:17:29.608Z"
   },
   {
    "duration": 13,
    "start_time": "2021-10-25T20:17:33.961Z"
   },
   {
    "duration": 31,
    "start_time": "2021-10-25T20:17:40.751Z"
   },
   {
    "duration": 15,
    "start_time": "2021-10-25T20:17:44.073Z"
   },
   {
    "duration": 48,
    "start_time": "2021-10-25T20:17:49.547Z"
   },
   {
    "duration": 40,
    "start_time": "2021-10-25T20:18:03.267Z"
   },
   {
    "duration": 9,
    "start_time": "2021-10-25T20:20:06.482Z"
   },
   {
    "duration": 9,
    "start_time": "2021-10-25T20:21:00.559Z"
   },
   {
    "duration": 29,
    "start_time": "2021-10-25T20:21:04.125Z"
   },
   {
    "duration": 46,
    "start_time": "2021-10-25T20:21:56.116Z"
   },
   {
    "duration": 21,
    "start_time": "2021-10-25T20:22:15.753Z"
   },
   {
    "duration": 47,
    "start_time": "2021-10-25T20:32:02.966Z"
   },
   {
    "duration": 10,
    "start_time": "2021-10-25T20:42:56.365Z"
   },
   {
    "duration": 12,
    "start_time": "2021-10-25T20:44:55.842Z"
   },
   {
    "duration": 411,
    "start_time": "2021-10-25T20:48:02.259Z"
   },
   {
    "duration": 28,
    "start_time": "2021-10-25T20:48:29.164Z"
   },
   {
    "duration": 68,
    "start_time": "2021-10-25T20:48:53.053Z"
   },
   {
    "duration": 23,
    "start_time": "2021-10-25T21:12:08.179Z"
   },
   {
    "duration": 34,
    "start_time": "2021-10-25T21:12:24.769Z"
   },
   {
    "duration": 29,
    "start_time": "2021-10-25T21:14:52.003Z"
   },
   {
    "duration": 184,
    "start_time": "2021-10-25T21:16:22.034Z"
   },
   {
    "duration": 235,
    "start_time": "2021-10-25T21:16:35.169Z"
   },
   {
    "duration": 195,
    "start_time": "2021-10-25T21:19:47.776Z"
   },
   {
    "duration": 23,
    "start_time": "2021-10-25T21:21:33.914Z"
   },
   {
    "duration": 243,
    "start_time": "2021-10-25T21:26:25.251Z"
   },
   {
    "duration": 240,
    "start_time": "2021-10-25T21:27:20.858Z"
   },
   {
    "duration": 214,
    "start_time": "2021-10-25T21:28:21.663Z"
   },
   {
    "duration": 235,
    "start_time": "2021-10-25T21:30:09.720Z"
   },
   {
    "duration": 12,
    "start_time": "2021-10-25T21:31:45.282Z"
   },
   {
    "duration": 198,
    "start_time": "2021-10-25T21:31:59.282Z"
   },
   {
    "duration": 5,
    "start_time": "2021-10-25T21:32:17.463Z"
   },
   {
    "duration": 6,
    "start_time": "2021-10-25T21:32:23.910Z"
   },
   {
    "duration": 16,
    "start_time": "2021-10-25T21:32:36.596Z"
   },
   {
    "duration": 18,
    "start_time": "2021-10-25T21:34:35.565Z"
   },
   {
    "duration": 36,
    "start_time": "2021-10-25T21:41:02.944Z"
   },
   {
    "duration": 219,
    "start_time": "2021-10-25T21:41:24.227Z"
   },
   {
    "duration": 34,
    "start_time": "2021-10-25T21:41:56.372Z"
   },
   {
    "duration": 36,
    "start_time": "2021-10-25T21:42:13.030Z"
   },
   {
    "duration": 179,
    "start_time": "2021-10-25T21:43:03.745Z"
   },
   {
    "duration": 9,
    "start_time": "2021-10-25T21:49:03.897Z"
   },
   {
    "duration": 51,
    "start_time": "2021-10-25T21:50:41.777Z"
   },
   {
    "duration": 77,
    "start_time": "2021-10-25T21:54:20.001Z"
   },
   {
    "duration": 4496,
    "start_time": "2021-10-25T21:54:26.061Z"
   },
   {
    "duration": 5018,
    "start_time": "2021-10-25T21:54:46.934Z"
   },
   {
    "duration": 77,
    "start_time": "2021-10-25T21:57:07.461Z"
   },
   {
    "duration": 24,
    "start_time": "2021-10-25T21:57:13.780Z"
   },
   {
    "duration": 91,
    "start_time": "2021-10-25T21:58:23.040Z"
   },
   {
    "duration": 199,
    "start_time": "2021-10-25T21:58:31.694Z"
   },
   {
    "duration": 19,
    "start_time": "2021-10-25T21:58:50.206Z"
   },
   {
    "duration": 33,
    "start_time": "2021-10-25T21:59:14.934Z"
   },
   {
    "duration": 18,
    "start_time": "2021-10-25T21:59:19.464Z"
   },
   {
    "duration": 213,
    "start_time": "2021-10-25T22:02:01.992Z"
   },
   {
    "duration": 37,
    "start_time": "2021-10-25T22:03:00.290Z"
   },
   {
    "duration": 782,
    "start_time": "2021-10-25T22:05:10.787Z"
   },
   {
    "duration": 32,
    "start_time": "2021-10-25T22:05:13.146Z"
   },
   {
    "duration": 49,
    "start_time": "2021-10-25T22:05:14.958Z"
   },
   {
    "duration": 16,
    "start_time": "2021-10-25T22:05:20.682Z"
   },
   {
    "duration": 19,
    "start_time": "2021-10-25T22:05:22.833Z"
   },
   {
    "duration": 13,
    "start_time": "2021-10-25T22:05:24.531Z"
   },
   {
    "duration": 30,
    "start_time": "2021-10-25T22:05:28.440Z"
   },
   {
    "duration": 15,
    "start_time": "2021-10-25T22:05:30.121Z"
   },
   {
    "duration": 9,
    "start_time": "2021-10-25T22:05:34.377Z"
   },
   {
    "duration": 16,
    "start_time": "2021-10-25T22:05:59.682Z"
   },
   {
    "duration": 20,
    "start_time": "2021-10-25T22:06:37.922Z"
   },
   {
    "duration": 39,
    "start_time": "2021-10-25T22:06:46.581Z"
   },
   {
    "duration": 20,
    "start_time": "2021-10-25T22:06:58.972Z"
   },
   {
    "duration": 43,
    "start_time": "2021-10-25T22:08:45.210Z"
   },
   {
    "duration": 20,
    "start_time": "2021-10-25T22:08:54.974Z"
   },
   {
    "duration": 37,
    "start_time": "2021-10-25T22:09:04.673Z"
   },
   {
    "duration": 42,
    "start_time": "2021-10-25T22:18:19.722Z"
   },
   {
    "duration": 21,
    "start_time": "2021-10-25T22:18:21.192Z"
   },
   {
    "duration": 10,
    "start_time": "2021-10-25T22:18:34.851Z"
   },
   {
    "duration": 11,
    "start_time": "2021-10-25T22:19:03.738Z"
   },
   {
    "duration": 69,
    "start_time": "2021-10-25T22:19:10.302Z"
   },
   {
    "duration": 300,
    "start_time": "2021-10-25T22:19:38.980Z"
   },
   {
    "duration": 237,
    "start_time": "2021-10-25T22:21:35.214Z"
   },
   {
    "duration": 31,
    "start_time": "2021-10-25T22:21:57.544Z"
   },
   {
    "duration": 34,
    "start_time": "2021-10-25T22:22:27.161Z"
   },
   {
    "duration": 76,
    "start_time": "2021-10-25T22:28:47.301Z"
   },
   {
    "duration": 179,
    "start_time": "2021-10-25T22:31:54.198Z"
   },
   {
    "duration": 236,
    "start_time": "2021-10-25T22:32:17.183Z"
   },
   {
    "duration": 9,
    "start_time": "2021-10-25T22:34:40.275Z"
   },
   {
    "duration": 6,
    "start_time": "2021-10-25T22:56:17.558Z"
   },
   {
    "duration": 12,
    "start_time": "2021-10-25T22:56:27.838Z"
   },
   {
    "duration": 10,
    "start_time": "2021-10-25T22:59:58.466Z"
   },
   {
    "duration": 17,
    "start_time": "2021-10-25T23:00:05.048Z"
   },
   {
    "duration": 12,
    "start_time": "2021-10-25T23:00:13.719Z"
   },
   {
    "duration": 18,
    "start_time": "2021-10-25T23:01:08.690Z"
   },
   {
    "duration": 75,
    "start_time": "2021-10-25T23:01:10.479Z"
   },
   {
    "duration": 11,
    "start_time": "2021-10-25T23:01:19.436Z"
   },
   {
    "duration": 20,
    "start_time": "2021-10-25T23:02:24.176Z"
   },
   {
    "duration": 17,
    "start_time": "2021-10-25T23:02:27.154Z"
   },
   {
    "duration": 20,
    "start_time": "2021-10-25T23:02:56.703Z"
   },
   {
    "duration": 11,
    "start_time": "2021-10-25T23:08:40.698Z"
   },
   {
    "duration": 1588,
    "start_time": "2021-10-25T23:11:59.371Z"
   },
   {
    "duration": 13,
    "start_time": "2021-10-25T23:12:06.779Z"
   },
   {
    "duration": 14,
    "start_time": "2021-10-25T23:15:41.394Z"
   },
   {
    "duration": 12,
    "start_time": "2021-10-25T23:15:51.545Z"
   },
   {
    "duration": 13,
    "start_time": "2021-10-25T23:16:03.257Z"
   },
   {
    "duration": 12,
    "start_time": "2021-10-25T23:16:10.714Z"
   },
   {
    "duration": 12,
    "start_time": "2021-10-25T23:16:15.892Z"
   },
   {
    "duration": 14,
    "start_time": "2021-10-25T23:16:38.624Z"
   },
   {
    "duration": 72,
    "start_time": "2021-10-25T23:17:53.554Z"
   },
   {
    "duration": 32,
    "start_time": "2021-10-25T23:17:53.878Z"
   },
   {
    "duration": 46,
    "start_time": "2021-10-25T23:17:54.254Z"
   },
   {
    "duration": 14,
    "start_time": "2021-10-25T23:17:55.235Z"
   },
   {
    "duration": 14,
    "start_time": "2021-10-25T23:17:55.666Z"
   },
   {
    "duration": 10,
    "start_time": "2021-10-25T23:17:56.092Z"
   },
   {
    "duration": 31,
    "start_time": "2021-10-25T23:17:56.509Z"
   },
   {
    "duration": 15,
    "start_time": "2021-10-25T23:17:56.701Z"
   },
   {
    "duration": 15,
    "start_time": "2021-10-25T23:17:57.080Z"
   },
   {
    "duration": 40,
    "start_time": "2021-10-25T23:17:59.064Z"
   },
   {
    "duration": 25,
    "start_time": "2021-10-25T23:17:59.985Z"
   },
   {
    "duration": 9,
    "start_time": "2021-10-25T23:18:01.739Z"
   },
   {
    "duration": 10,
    "start_time": "2021-10-25T23:18:02.262Z"
   },
   {
    "duration": 37,
    "start_time": "2021-10-25T23:18:02.787Z"
   },
   {
    "duration": 8,
    "start_time": "2021-10-25T23:18:04.012Z"
   },
   {
    "duration": 10,
    "start_time": "2021-10-25T23:18:04.873Z"
   },
   {
    "duration": 19,
    "start_time": "2021-10-25T23:18:39.343Z"
   },
   {
    "duration": 18,
    "start_time": "2021-10-25T23:18:51.082Z"
   },
   {
    "duration": 21,
    "start_time": "2021-10-25T23:19:24.975Z"
   },
   {
    "duration": 10,
    "start_time": "2021-10-25T23:19:31.328Z"
   },
   {
    "duration": 16,
    "start_time": "2021-10-25T23:19:33.051Z"
   },
   {
    "duration": 12,
    "start_time": "2021-10-25T23:19:35.712Z"
   },
   {
    "duration": 26,
    "start_time": "2021-10-25T23:24:04.130Z"
   },
   {
    "duration": 369,
    "start_time": "2021-10-25T23:24:52.380Z"
   },
   {
    "duration": 10,
    "start_time": "2021-10-25T23:25:13.178Z"
   },
   {
    "duration": 46,
    "start_time": "2021-10-25T23:26:16.900Z"
   },
   {
    "duration": 32,
    "start_time": "2021-10-25T23:31:04.797Z"
   },
   {
    "duration": 247,
    "start_time": "2021-10-25T23:31:25.319Z"
   },
   {
    "duration": 23,
    "start_time": "2021-10-25T23:32:05.054Z"
   },
   {
    "duration": 22,
    "start_time": "2021-10-25T23:32:48.941Z"
   },
   {
    "duration": 22,
    "start_time": "2021-10-25T23:32:59.627Z"
   },
   {
    "duration": 22,
    "start_time": "2021-10-25T23:35:06.864Z"
   },
   {
    "duration": 21,
    "start_time": "2021-10-25T23:39:07.266Z"
   },
   {
    "duration": 21,
    "start_time": "2021-10-25T23:39:37.380Z"
   },
   {
    "duration": 20,
    "start_time": "2021-10-25T23:39:53.191Z"
   },
   {
    "duration": 23,
    "start_time": "2021-10-25T23:40:48.918Z"
   },
   {
    "duration": 22,
    "start_time": "2021-10-25T23:41:26.326Z"
   },
   {
    "duration": 10,
    "start_time": "2021-10-25T23:44:07.071Z"
   },
   {
    "duration": 9,
    "start_time": "2021-10-25T23:46:26.890Z"
   },
   {
    "duration": 9,
    "start_time": "2021-10-25T23:46:27.942Z"
   },
   {
    "duration": 9,
    "start_time": "2021-10-25T23:46:28.982Z"
   },
   {
    "duration": 187,
    "start_time": "2021-10-25T23:51:11.598Z"
   },
   {
    "duration": 19,
    "start_time": "2021-10-25T23:51:25.466Z"
   },
   {
    "duration": 10,
    "start_time": "2021-10-25T23:52:35.551Z"
   },
   {
    "duration": 32,
    "start_time": "2021-10-25T23:55:37.892Z"
   },
   {
    "duration": 11,
    "start_time": "2021-10-25T23:55:43.661Z"
   },
   {
    "duration": 199,
    "start_time": "2021-10-25T23:57:36.250Z"
   },
   {
    "duration": 32,
    "start_time": "2021-10-25T23:59:29.663Z"
   },
   {
    "duration": 34,
    "start_time": "2021-10-26T00:00:24.816Z"
   },
   {
    "duration": 10,
    "start_time": "2021-10-26T00:00:28.951Z"
   },
   {
    "duration": 33,
    "start_time": "2021-10-26T00:00:47.347Z"
   },
   {
    "duration": 10,
    "start_time": "2021-10-26T00:00:50.797Z"
   },
   {
    "duration": 10,
    "start_time": "2021-10-26T00:02:56.362Z"
   },
   {
    "duration": 10,
    "start_time": "2021-10-26T00:02:59.736Z"
   },
   {
    "duration": 10,
    "start_time": "2021-10-26T00:04:05.578Z"
   },
   {
    "duration": 89,
    "start_time": "2021-10-26T00:04:09.134Z"
   },
   {
    "duration": 24,
    "start_time": "2021-10-26T00:04:17.770Z"
   },
   {
    "duration": 1558,
    "start_time": "2021-10-26T00:04:36.565Z"
   },
   {
    "duration": 30,
    "start_time": "2021-10-26T00:04:38.126Z"
   },
   {
    "duration": 47,
    "start_time": "2021-10-26T00:04:38.255Z"
   },
   {
    "duration": 15,
    "start_time": "2021-10-26T00:04:39.887Z"
   },
   {
    "duration": 12,
    "start_time": "2021-10-26T00:04:40.435Z"
   },
   {
    "duration": 10,
    "start_time": "2021-10-26T00:04:40.807Z"
   },
   {
    "duration": 32,
    "start_time": "2021-10-26T00:04:41.180Z"
   },
   {
    "duration": 15,
    "start_time": "2021-10-26T00:04:41.381Z"
   },
   {
    "duration": 15,
    "start_time": "2021-10-26T00:04:41.923Z"
   },
   {
    "duration": 42,
    "start_time": "2021-10-26T00:04:42.332Z"
   },
   {
    "duration": 21,
    "start_time": "2021-10-26T00:04:42.540Z"
   },
   {
    "duration": 10,
    "start_time": "2021-10-26T00:04:42.946Z"
   },
   {
    "duration": 13,
    "start_time": "2021-10-26T00:04:43.139Z"
   },
   {
    "duration": 35,
    "start_time": "2021-10-26T00:04:43.330Z"
   },
   {
    "duration": 10,
    "start_time": "2021-10-26T00:04:43.722Z"
   },
   {
    "duration": 12,
    "start_time": "2021-10-26T00:04:44.243Z"
   },
   {
    "duration": 20,
    "start_time": "2021-10-26T00:04:58.820Z"
   },
   {
    "duration": 18,
    "start_time": "2021-10-26T00:05:07.811Z"
   },
   {
    "duration": 19,
    "start_time": "2021-10-26T00:05:10.481Z"
   },
   {
    "duration": 10,
    "start_time": "2021-10-26T00:05:23.747Z"
   },
   {
    "duration": 17,
    "start_time": "2021-10-26T00:05:25.071Z"
   },
   {
    "duration": 11,
    "start_time": "2021-10-26T00:05:29.039Z"
   },
   {
    "duration": 10,
    "start_time": "2021-10-26T00:05:34.660Z"
   },
   {
    "duration": 11,
    "start_time": "2021-10-26T00:06:06.659Z"
   },
   {
    "duration": 9,
    "start_time": "2021-10-26T00:06:21.128Z"
   },
   {
    "duration": 10,
    "start_time": "2021-10-26T00:06:24.220Z"
   },
   {
    "duration": 94,
    "start_time": "2021-10-26T00:06:26.348Z"
   },
   {
    "duration": 10,
    "start_time": "2021-10-26T00:06:37.937Z"
   },
   {
    "duration": 28,
    "start_time": "2021-10-26T00:06:46.740Z"
   },
   {
    "duration": 48,
    "start_time": "2021-10-26T00:06:51.441Z"
   },
   {
    "duration": 23,
    "start_time": "2021-10-26T00:07:17.121Z"
   },
   {
    "duration": 24,
    "start_time": "2021-10-26T00:07:28.461Z"
   },
   {
    "duration": 25,
    "start_time": "2021-10-26T00:07:33.980Z"
   },
   {
    "duration": 9,
    "start_time": "2021-10-26T00:40:06.025Z"
   },
   {
    "duration": 10,
    "start_time": "2021-10-26T00:40:21.282Z"
   },
   {
    "duration": 818,
    "start_time": "2021-10-26T00:40:32.119Z"
   },
   {
    "duration": 30,
    "start_time": "2021-10-26T00:40:32.939Z"
   },
   {
    "duration": 62,
    "start_time": "2021-10-26T00:40:32.972Z"
   },
   {
    "duration": 16,
    "start_time": "2021-10-26T00:40:33.622Z"
   },
   {
    "duration": 14,
    "start_time": "2021-10-26T00:40:34.024Z"
   },
   {
    "duration": 10,
    "start_time": "2021-10-26T00:40:34.391Z"
   },
   {
    "duration": 35,
    "start_time": "2021-10-26T00:40:34.784Z"
   },
   {
    "duration": 16,
    "start_time": "2021-10-26T00:40:34.966Z"
   },
   {
    "duration": 19,
    "start_time": "2021-10-26T00:40:35.347Z"
   },
   {
    "duration": 42,
    "start_time": "2021-10-26T00:40:35.678Z"
   },
   {
    "duration": 22,
    "start_time": "2021-10-26T00:40:35.872Z"
   },
   {
    "duration": 10,
    "start_time": "2021-10-26T00:40:36.235Z"
   },
   {
    "duration": 10,
    "start_time": "2021-10-26T00:40:36.576Z"
   },
   {
    "duration": 34,
    "start_time": "2021-10-26T00:40:36.774Z"
   },
   {
    "duration": 8,
    "start_time": "2021-10-26T00:40:37.166Z"
   },
   {
    "duration": 11,
    "start_time": "2021-10-26T00:40:37.558Z"
   },
   {
    "duration": 19,
    "start_time": "2021-10-26T00:40:39.752Z"
   },
   {
    "duration": 17,
    "start_time": "2021-10-26T00:40:40.397Z"
   },
   {
    "duration": 20,
    "start_time": "2021-10-26T00:40:41.219Z"
   },
   {
    "duration": 11,
    "start_time": "2021-10-26T00:40:45.149Z"
   },
   {
    "duration": 16,
    "start_time": "2021-10-26T00:40:46.158Z"
   },
   {
    "duration": 12,
    "start_time": "2021-10-26T00:40:48.157Z"
   },
   {
    "duration": 10,
    "start_time": "2021-10-26T00:40:49.772Z"
   },
   {
    "duration": 10,
    "start_time": "2021-10-26T00:40:51.918Z"
   },
   {
    "duration": 9,
    "start_time": "2021-10-26T00:40:54.371Z"
   },
   {
    "duration": 10,
    "start_time": "2021-10-26T00:40:55.668Z"
   },
   {
    "duration": 10,
    "start_time": "2021-10-26T00:40:58.110Z"
   },
   {
    "duration": 27,
    "start_time": "2021-10-26T00:41:02.213Z"
   },
   {
    "duration": 45,
    "start_time": "2021-10-26T00:41:04.506Z"
   },
   {
    "duration": 21,
    "start_time": "2021-10-26T00:41:07.080Z"
   },
   {
    "duration": 24,
    "start_time": "2021-10-26T00:41:16.824Z"
   },
   {
    "duration": 23,
    "start_time": "2021-10-26T00:41:17.805Z"
   },
   {
    "duration": 11,
    "start_time": "2021-10-26T00:43:38.603Z"
   },
   {
    "duration": 4873,
    "start_time": "2021-10-26T00:49:53.941Z"
   },
   {
    "duration": 4372,
    "start_time": "2021-10-26T00:50:20.964Z"
   },
   {
    "duration": 4610,
    "start_time": "2021-10-26T00:51:05.944Z"
   },
   {
    "duration": 4569,
    "start_time": "2021-10-26T00:51:20.550Z"
   },
   {
    "duration": 224,
    "start_time": "2021-10-26T01:00:19.729Z"
   },
   {
    "duration": 242,
    "start_time": "2021-10-26T01:02:44.011Z"
   },
   {
    "duration": 5024,
    "start_time": "2021-10-26T01:03:22.077Z"
   },
   {
    "duration": 4393,
    "start_time": "2021-10-26T01:12:19.927Z"
   },
   {
    "duration": 4385,
    "start_time": "2021-10-26T01:24:04.823Z"
   },
   {
    "duration": 4405,
    "start_time": "2021-10-26T01:24:22.528Z"
   },
   {
    "duration": 4400,
    "start_time": "2021-10-26T01:25:37.075Z"
   },
   {
    "duration": 4410,
    "start_time": "2021-10-26T01:27:05.158Z"
   },
   {
    "duration": 3489,
    "start_time": "2021-10-26T01:27:15.486Z"
   },
   {
    "duration": 3459,
    "start_time": "2021-10-26T01:28:23.581Z"
   },
   {
    "duration": 3458,
    "start_time": "2021-10-26T01:29:56.946Z"
   },
   {
    "duration": 3485,
    "start_time": "2021-10-26T01:30:19.788Z"
   },
   {
    "duration": 3483,
    "start_time": "2021-10-26T01:31:57.855Z"
   },
   {
    "duration": 1355,
    "start_time": "2021-10-26T01:34:03.271Z"
   },
   {
    "duration": 849,
    "start_time": "2021-10-26T01:39:00.908Z"
   },
   {
    "duration": 945,
    "start_time": "2021-10-26T01:39:43.075Z"
   },
   {
    "duration": 213,
    "start_time": "2021-10-26T01:42:50.200Z"
   },
   {
    "duration": 176,
    "start_time": "2021-10-26T01:43:06.262Z"
   },
   {
    "duration": 182,
    "start_time": "2021-10-26T01:43:15.017Z"
   },
   {
    "duration": 9792,
    "start_time": "2021-10-26T01:43:21.879Z"
   },
   {
    "duration": 5,
    "start_time": "2021-10-26T01:45:24.931Z"
   },
   {
    "duration": 988,
    "start_time": "2021-10-26T01:46:26.893Z"
   },
   {
    "duration": 827,
    "start_time": "2021-10-26T01:46:48.706Z"
   },
   {
    "duration": 30,
    "start_time": "2021-10-26T01:46:49.536Z"
   },
   {
    "duration": 66,
    "start_time": "2021-10-26T01:46:49.569Z"
   },
   {
    "duration": 14,
    "start_time": "2021-10-26T01:46:50.430Z"
   },
   {
    "duration": 15,
    "start_time": "2021-10-26T01:46:50.817Z"
   },
   {
    "duration": 11,
    "start_time": "2021-10-26T01:46:51.179Z"
   },
   {
    "duration": 31,
    "start_time": "2021-10-26T01:46:51.576Z"
   },
   {
    "duration": 14,
    "start_time": "2021-10-26T01:46:51.764Z"
   },
   {
    "duration": 15,
    "start_time": "2021-10-26T01:46:52.131Z"
   },
   {
    "duration": 41,
    "start_time": "2021-10-26T01:46:52.658Z"
   },
   {
    "duration": 21,
    "start_time": "2021-10-26T01:46:52.858Z"
   },
   {
    "duration": 9,
    "start_time": "2021-10-26T01:46:53.226Z"
   },
   {
    "duration": 12,
    "start_time": "2021-10-26T01:46:53.411Z"
   },
   {
    "duration": 35,
    "start_time": "2021-10-26T01:46:53.617Z"
   },
   {
    "duration": 9,
    "start_time": "2021-10-26T01:46:54.177Z"
   },
   {
    "duration": 12,
    "start_time": "2021-10-26T01:46:54.604Z"
   },
   {
    "duration": 20,
    "start_time": "2021-10-26T01:46:57.129Z"
   },
   {
    "duration": 19,
    "start_time": "2021-10-26T01:46:57.529Z"
   },
   {
    "duration": 20,
    "start_time": "2021-10-26T01:46:57.721Z"
   },
   {
    "duration": 12,
    "start_time": "2021-10-26T01:46:58.722Z"
   },
   {
    "duration": 16,
    "start_time": "2021-10-26T01:46:58.916Z"
   },
   {
    "duration": 12,
    "start_time": "2021-10-26T01:46:59.964Z"
   },
   {
    "duration": 10,
    "start_time": "2021-10-26T01:47:01.094Z"
   },
   {
    "duration": 10,
    "start_time": "2021-10-26T01:47:02.400Z"
   },
   {
    "duration": 9,
    "start_time": "2021-10-26T01:47:04.398Z"
   },
   {
    "duration": 10,
    "start_time": "2021-10-26T01:47:05.042Z"
   },
   {
    "duration": 10,
    "start_time": "2021-10-26T01:47:07.346Z"
   },
   {
    "duration": 25,
    "start_time": "2021-10-26T01:47:11.670Z"
   },
   {
    "duration": 47,
    "start_time": "2021-10-26T01:47:13.518Z"
   },
   {
    "duration": 21,
    "start_time": "2021-10-26T01:47:21.758Z"
   },
   {
    "duration": 22,
    "start_time": "2021-10-26T01:47:26.505Z"
   },
   {
    "duration": 22,
    "start_time": "2021-10-26T01:47:28.434Z"
   },
   {
    "duration": 11,
    "start_time": "2021-10-26T01:47:37.133Z"
   },
   {
    "duration": 315,
    "start_time": "2021-10-26T01:48:32.192Z"
   },
   {
    "duration": 230,
    "start_time": "2021-10-26T01:50:38.269Z"
   },
   {
    "duration": 10603,
    "start_time": "2021-10-26T01:50:57.222Z"
   },
   {
    "duration": 2510,
    "start_time": "2021-10-26T01:51:20.500Z"
   },
   {
    "duration": 345,
    "start_time": "2021-10-26T01:51:46.872Z"
   },
   {
    "duration": 597,
    "start_time": "2021-10-26T01:53:49.210Z"
   },
   {
    "duration": 1820,
    "start_time": "2021-10-26T01:54:00.223Z"
   },
   {
    "duration": 991,
    "start_time": "2021-10-26T01:54:51.881Z"
   },
   {
    "duration": 901,
    "start_time": "2021-10-26T01:55:11.608Z"
   },
   {
    "duration": 782,
    "start_time": "2021-10-26T01:55:45.315Z"
   },
   {
    "duration": 32,
    "start_time": "2021-10-26T01:55:46.290Z"
   },
   {
    "duration": 46,
    "start_time": "2021-10-26T01:55:46.530Z"
   },
   {
    "duration": 14,
    "start_time": "2021-10-26T01:55:47.521Z"
   },
   {
    "duration": 12,
    "start_time": "2021-10-26T01:55:47.927Z"
   },
   {
    "duration": 9,
    "start_time": "2021-10-26T01:55:48.289Z"
   },
   {
    "duration": 30,
    "start_time": "2021-10-26T01:55:48.681Z"
   },
   {
    "duration": 15,
    "start_time": "2021-10-26T01:55:48.879Z"
   },
   {
    "duration": 16,
    "start_time": "2021-10-26T01:55:49.242Z"
   },
   {
    "duration": 39,
    "start_time": "2021-10-26T01:55:49.630Z"
   },
   {
    "duration": 21,
    "start_time": "2021-10-26T01:55:49.849Z"
   },
   {
    "duration": 9,
    "start_time": "2021-10-26T01:55:50.263Z"
   },
   {
    "duration": 11,
    "start_time": "2021-10-26T01:55:50.608Z"
   },
   {
    "duration": 37,
    "start_time": "2021-10-26T01:55:50.827Z"
   },
   {
    "duration": 8,
    "start_time": "2021-10-26T01:55:51.259Z"
   },
   {
    "duration": 12,
    "start_time": "2021-10-26T01:55:51.675Z"
   },
   {
    "duration": 19,
    "start_time": "2021-10-26T01:55:53.112Z"
   },
   {
    "duration": 18,
    "start_time": "2021-10-26T01:55:53.544Z"
   },
   {
    "duration": 20,
    "start_time": "2021-10-26T01:55:53.746Z"
   },
   {
    "duration": 10,
    "start_time": "2021-10-26T01:55:54.774Z"
   },
   {
    "duration": 16,
    "start_time": "2021-10-26T01:55:55.028Z"
   },
   {
    "duration": 11,
    "start_time": "2021-10-26T01:55:55.528Z"
   },
   {
    "duration": 10,
    "start_time": "2021-10-26T01:55:55.985Z"
   },
   {
    "duration": 10,
    "start_time": "2021-10-26T01:55:56.408Z"
   },
   {
    "duration": 9,
    "start_time": "2021-10-26T01:55:56.824Z"
   },
   {
    "duration": 10,
    "start_time": "2021-10-26T01:55:57.010Z"
   },
   {
    "duration": 10,
    "start_time": "2021-10-26T01:55:57.431Z"
   },
   {
    "duration": 27,
    "start_time": "2021-10-26T01:55:58.241Z"
   },
   {
    "duration": 49,
    "start_time": "2021-10-26T01:55:58.679Z"
   },
   {
    "duration": 24,
    "start_time": "2021-10-26T01:55:59.106Z"
   },
   {
    "duration": 25,
    "start_time": "2021-10-26T01:56:00.341Z"
   },
   {
    "duration": 24,
    "start_time": "2021-10-26T01:56:00.777Z"
   },
   {
    "duration": 10,
    "start_time": "2021-10-26T01:56:06.275Z"
   },
   {
    "duration": 4442,
    "start_time": "2021-10-26T01:56:14.093Z"
   },
   {
    "duration": 3572,
    "start_time": "2021-10-26T01:56:30.793Z"
   },
   {
    "duration": 3574,
    "start_time": "2021-10-26T01:56:57.613Z"
   },
   {
    "duration": 3559,
    "start_time": "2021-10-26T01:58:24.870Z"
   },
   {
    "duration": 3662,
    "start_time": "2021-10-26T14:54:58.419Z"
   },
   {
    "duration": 3663,
    "start_time": "2021-10-26T14:56:07.307Z"
   },
   {
    "duration": 311,
    "start_time": "2021-10-26T16:07:04.184Z"
   },
   {
    "duration": 236,
    "start_time": "2021-10-26T16:08:03.346Z"
   },
   {
    "duration": 210,
    "start_time": "2021-10-26T16:10:58.237Z"
   },
   {
    "duration": 22611,
    "start_time": "2021-10-26T16:11:34.205Z"
   },
   {
    "duration": 6,
    "start_time": "2021-10-26T17:51:11.384Z"
   },
   {
    "duration": 3580,
    "start_time": "2021-10-26T17:53:14.584Z"
   },
   {
    "duration": 746,
    "start_time": "2021-10-26T17:53:43.872Z"
   },
   {
    "duration": 29,
    "start_time": "2021-10-26T17:53:44.621Z"
   },
   {
    "duration": 46,
    "start_time": "2021-10-26T17:53:44.653Z"
   },
   {
    "duration": 17,
    "start_time": "2021-10-26T17:53:45.136Z"
   },
   {
    "duration": 13,
    "start_time": "2021-10-26T17:53:45.501Z"
   },
   {
    "duration": 9,
    "start_time": "2021-10-26T17:53:45.791Z"
   },
   {
    "duration": 31,
    "start_time": "2021-10-26T17:53:46.318Z"
   },
   {
    "duration": 15,
    "start_time": "2021-10-26T17:53:46.656Z"
   },
   {
    "duration": 14,
    "start_time": "2021-10-26T17:53:47.064Z"
   },
   {
    "duration": 40,
    "start_time": "2021-10-26T17:53:47.431Z"
   },
   {
    "duration": 20,
    "start_time": "2021-10-26T17:53:47.624Z"
   },
   {
    "duration": 9,
    "start_time": "2021-10-26T17:53:48.001Z"
   },
   {
    "duration": 11,
    "start_time": "2021-10-26T17:53:48.205Z"
   },
   {
    "duration": 33,
    "start_time": "2021-10-26T17:53:48.361Z"
   },
   {
    "duration": 8,
    "start_time": "2021-10-26T17:53:48.701Z"
   },
   {
    "duration": 10,
    "start_time": "2021-10-26T17:53:49.639Z"
   },
   {
    "duration": 20,
    "start_time": "2021-10-26T17:53:54.215Z"
   },
   {
    "duration": 17,
    "start_time": "2021-10-26T17:53:56.984Z"
   },
   {
    "duration": 20,
    "start_time": "2021-10-26T17:53:57.913Z"
   },
   {
    "duration": 10,
    "start_time": "2021-10-26T17:54:03.152Z"
   },
   {
    "duration": 17,
    "start_time": "2021-10-26T17:54:03.793Z"
   },
   {
    "duration": 12,
    "start_time": "2021-10-26T17:54:05.769Z"
   },
   {
    "duration": 9,
    "start_time": "2021-10-26T17:54:08.799Z"
   },
   {
    "duration": 10,
    "start_time": "2021-10-26T17:54:10.880Z"
   },
   {
    "duration": 9,
    "start_time": "2021-10-26T17:54:17.220Z"
   },
   {
    "duration": 10,
    "start_time": "2021-10-26T17:54:18.151Z"
   },
   {
    "duration": 10,
    "start_time": "2021-10-26T17:54:21.153Z"
   },
   {
    "duration": 28,
    "start_time": "2021-10-26T17:54:23.825Z"
   },
   {
    "duration": 47,
    "start_time": "2021-10-26T17:54:25.952Z"
   },
   {
    "duration": 21,
    "start_time": "2021-10-26T17:54:27.967Z"
   },
   {
    "duration": 24,
    "start_time": "2021-10-26T17:54:32.928Z"
   },
   {
    "duration": 24,
    "start_time": "2021-10-26T17:54:33.572Z"
   },
   {
    "duration": 10,
    "start_time": "2021-10-26T17:54:39.879Z"
   },
   {
    "duration": 4442,
    "start_time": "2021-10-26T17:54:44.903Z"
   },
   {
    "duration": 2011,
    "start_time": "2021-10-26T17:55:17.882Z"
   },
   {
    "duration": 1829,
    "start_time": "2021-10-26T17:56:41.601Z"
   },
   {
    "duration": 1786,
    "start_time": "2021-10-26T17:59:02.102Z"
   },
   {
    "duration": 313,
    "start_time": "2021-10-26T18:08:01.377Z"
   },
   {
    "duration": 217,
    "start_time": "2021-10-26T18:08:25.837Z"
   },
   {
    "duration": 273,
    "start_time": "2021-10-26T18:12:28.505Z"
   },
   {
    "duration": 18,
    "start_time": "2021-10-26T18:13:34.862Z"
   },
   {
    "duration": 16,
    "start_time": "2021-10-26T18:15:16.786Z"
   },
   {
    "duration": 17,
    "start_time": "2021-10-26T18:15:36.491Z"
   },
   {
    "duration": 46,
    "start_time": "2021-10-26T18:17:26.643Z"
   },
   {
    "duration": 238,
    "start_time": "2021-10-26T18:19:45.740Z"
   },
   {
    "duration": 39,
    "start_time": "2021-10-26T18:20:00.842Z"
   },
   {
    "duration": 35,
    "start_time": "2021-10-26T18:20:19.252Z"
   },
   {
    "duration": 37,
    "start_time": "2021-10-26T18:20:46.678Z"
   },
   {
    "duration": 43,
    "start_time": "2021-10-26T18:21:42.181Z"
   },
   {
    "duration": 101,
    "start_time": "2021-10-26T18:22:10.038Z"
   },
   {
    "duration": 20,
    "start_time": "2021-10-26T18:22:12.516Z"
   },
   {
    "duration": 43,
    "start_time": "2021-10-26T18:22:14.291Z"
   },
   {
    "duration": 13,
    "start_time": "2021-10-26T18:22:16.757Z"
   },
   {
    "duration": 13,
    "start_time": "2021-10-26T18:22:17.114Z"
   },
   {
    "duration": 9,
    "start_time": "2021-10-26T18:22:17.483Z"
   },
   {
    "duration": 33,
    "start_time": "2021-10-26T18:22:17.827Z"
   },
   {
    "duration": 15,
    "start_time": "2021-10-26T18:22:18.010Z"
   },
   {
    "duration": 15,
    "start_time": "2021-10-26T18:22:18.552Z"
   },
   {
    "duration": 42,
    "start_time": "2021-10-26T18:22:19.974Z"
   },
   {
    "duration": 20,
    "start_time": "2021-10-26T18:22:21.552Z"
   },
   {
    "duration": 9,
    "start_time": "2021-10-26T18:22:23.851Z"
   },
   {
    "duration": 11,
    "start_time": "2021-10-26T18:22:27.586Z"
   },
   {
    "duration": 35,
    "start_time": "2021-10-26T18:22:28.498Z"
   },
   {
    "duration": 8,
    "start_time": "2021-10-26T18:22:30.111Z"
   },
   {
    "duration": 11,
    "start_time": "2021-10-26T18:22:31.451Z"
   },
   {
    "duration": 19,
    "start_time": "2021-10-26T18:22:36.421Z"
   },
   {
    "duration": 18,
    "start_time": "2021-10-26T18:22:37.682Z"
   },
   {
    "duration": 20,
    "start_time": "2021-10-26T18:22:37.884Z"
   },
   {
    "duration": 11,
    "start_time": "2021-10-26T18:22:39.964Z"
   },
   {
    "duration": 15,
    "start_time": "2021-10-26T18:22:40.587Z"
   },
   {
    "duration": 12,
    "start_time": "2021-10-26T18:22:40.983Z"
   },
   {
    "duration": 9,
    "start_time": "2021-10-26T18:22:41.349Z"
   },
   {
    "duration": 10,
    "start_time": "2021-10-26T18:22:42.380Z"
   },
   {
    "duration": 9,
    "start_time": "2021-10-26T18:22:43.688Z"
   },
   {
    "duration": 9,
    "start_time": "2021-10-26T18:22:44.285Z"
   },
   {
    "duration": 10,
    "start_time": "2021-10-26T18:22:46.173Z"
   },
   {
    "duration": 24,
    "start_time": "2021-10-26T18:22:48.882Z"
   },
   {
    "duration": 45,
    "start_time": "2021-10-26T18:22:51.367Z"
   },
   {
    "duration": 22,
    "start_time": "2021-10-26T18:23:00.464Z"
   },
   {
    "duration": 24,
    "start_time": "2021-10-26T18:23:01.769Z"
   },
   {
    "duration": 23,
    "start_time": "2021-10-26T18:23:02.078Z"
   },
   {
    "duration": 11,
    "start_time": "2021-10-26T18:23:05.659Z"
   },
   {
    "duration": 4498,
    "start_time": "2021-10-26T18:23:10.491Z"
   },
   {
    "duration": 19,
    "start_time": "2021-10-26T18:23:15.689Z"
   },
   {
    "duration": 15,
    "start_time": "2021-10-26T18:23:19.330Z"
   },
   {
    "duration": 44,
    "start_time": "2021-10-26T18:23:21.026Z"
   },
   {
    "duration": 39,
    "start_time": "2021-10-26T18:24:25.095Z"
   },
   {
    "duration": 41,
    "start_time": "2021-10-26T18:25:31.823Z"
   },
   {
    "duration": 19,
    "start_time": "2021-10-26T18:26:15.797Z"
   },
   {
    "duration": 20,
    "start_time": "2021-10-26T18:26:45.675Z"
   },
   {
    "duration": 20,
    "start_time": "2021-10-26T18:28:09.977Z"
   },
   {
    "duration": 35,
    "start_time": "2021-10-26T18:28:18.904Z"
   },
   {
    "duration": 33,
    "start_time": "2021-10-26T18:33:49.921Z"
   },
   {
    "duration": 40,
    "start_time": "2021-10-26T18:34:31.802Z"
   },
   {
    "duration": 34,
    "start_time": "2021-10-26T18:35:36.407Z"
   },
   {
    "duration": 34,
    "start_time": "2021-10-26T18:36:57.853Z"
   },
   {
    "duration": 861,
    "start_time": "2021-10-26T18:37:32.588Z"
   },
   {
    "duration": 33,
    "start_time": "2021-10-26T18:37:33.452Z"
   },
   {
    "duration": 64,
    "start_time": "2021-10-26T18:37:33.489Z"
   },
   {
    "duration": 15,
    "start_time": "2021-10-26T18:37:33.954Z"
   },
   {
    "duration": 13,
    "start_time": "2021-10-26T18:37:34.317Z"
   },
   {
    "duration": 10,
    "start_time": "2021-10-26T18:37:34.856Z"
   },
   {
    "duration": 32,
    "start_time": "2021-10-26T18:37:35.245Z"
   },
   {
    "duration": 14,
    "start_time": "2021-10-26T18:37:35.401Z"
   },
   {
    "duration": 15,
    "start_time": "2021-10-26T18:37:35.754Z"
   },
   {
    "duration": 40,
    "start_time": "2021-10-26T18:37:36.130Z"
   },
   {
    "duration": 21,
    "start_time": "2021-10-26T18:37:36.340Z"
   },
   {
    "duration": 9,
    "start_time": "2021-10-26T18:37:36.699Z"
   },
   {
    "duration": 10,
    "start_time": "2021-10-26T18:37:36.878Z"
   },
   {
    "duration": 35,
    "start_time": "2021-10-26T18:37:37.074Z"
   },
   {
    "duration": 8,
    "start_time": "2021-10-26T18:37:37.625Z"
   },
   {
    "duration": 12,
    "start_time": "2021-10-26T18:37:38.034Z"
   },
   {
    "duration": 19,
    "start_time": "2021-10-26T18:37:39.328Z"
   },
   {
    "duration": 18,
    "start_time": "2021-10-26T18:37:39.729Z"
   },
   {
    "duration": 20,
    "start_time": "2021-10-26T18:37:39.931Z"
   },
   {
    "duration": 10,
    "start_time": "2021-10-26T18:37:41.539Z"
   },
   {
    "duration": 17,
    "start_time": "2021-10-26T18:37:41.706Z"
   },
   {
    "duration": 11,
    "start_time": "2021-10-26T18:37:42.100Z"
   },
   {
    "duration": 9,
    "start_time": "2021-10-26T18:37:42.514Z"
   },
   {
    "duration": 10,
    "start_time": "2021-10-26T18:37:42.867Z"
   },
   {
    "duration": 9,
    "start_time": "2021-10-26T18:37:43.605Z"
   },
   {
    "duration": 10,
    "start_time": "2021-10-26T18:37:43.822Z"
   },
   {
    "duration": 10,
    "start_time": "2021-10-26T18:37:44.214Z"
   },
   {
    "duration": 25,
    "start_time": "2021-10-26T18:37:44.770Z"
   },
   {
    "duration": 49,
    "start_time": "2021-10-26T18:37:45.187Z"
   },
   {
    "duration": 22,
    "start_time": "2021-10-26T18:37:47.184Z"
   },
   {
    "duration": 24,
    "start_time": "2021-10-26T18:37:48.618Z"
   },
   {
    "duration": 23,
    "start_time": "2021-10-26T18:37:48.816Z"
   },
   {
    "duration": 10,
    "start_time": "2021-10-26T18:37:49.808Z"
   },
   {
    "duration": 4483,
    "start_time": "2021-10-26T18:37:50.715Z"
   },
   {
    "duration": 17,
    "start_time": "2021-10-26T18:37:55.322Z"
   },
   {
    "duration": 15,
    "start_time": "2021-10-26T18:37:56.427Z"
   },
   {
    "duration": 43,
    "start_time": "2021-10-26T18:37:57.146Z"
   },
   {
    "duration": 29,
    "start_time": "2021-10-26T18:38:01.437Z"
   },
   {
    "duration": 34,
    "start_time": "2021-10-26T18:38:07.043Z"
   },
   {
    "duration": 457,
    "start_time": "2021-10-26T18:44:28.763Z"
   },
   {
    "duration": 34,
    "start_time": "2021-10-26T18:44:49.088Z"
   },
   {
    "duration": 45,
    "start_time": "2021-10-26T18:47:34.777Z"
   },
   {
    "duration": 36,
    "start_time": "2021-10-26T18:48:42.857Z"
   },
   {
    "duration": 313,
    "start_time": "2021-10-26T18:55:28.909Z"
   },
   {
    "duration": 254,
    "start_time": "2021-10-26T18:56:22.372Z"
   },
   {
    "duration": 38,
    "start_time": "2021-10-26T18:57:28.894Z"
   },
   {
    "duration": 36,
    "start_time": "2021-10-26T19:01:55.219Z"
   },
   {
    "duration": 39,
    "start_time": "2021-10-26T19:03:52.285Z"
   },
   {
    "duration": 236,
    "start_time": "2021-10-26T19:05:36.525Z"
   },
   {
    "duration": 245,
    "start_time": "2021-10-26T19:06:06.533Z"
   },
   {
    "duration": 32,
    "start_time": "2021-10-26T19:06:19.485Z"
   },
   {
    "duration": 22,
    "start_time": "2021-10-26T19:07:09.036Z"
   },
   {
    "duration": 32,
    "start_time": "2021-10-26T19:07:18.755Z"
   },
   {
    "duration": 36,
    "start_time": "2021-10-26T19:08:02.282Z"
   },
   {
    "duration": 287,
    "start_time": "2021-10-26T19:08:15.814Z"
   },
   {
    "duration": 33,
    "start_time": "2021-10-26T19:08:33.730Z"
   },
   {
    "duration": 242,
    "start_time": "2021-10-26T19:08:55.278Z"
   },
   {
    "duration": 34,
    "start_time": "2021-10-26T19:09:01.604Z"
   },
   {
    "duration": 33,
    "start_time": "2021-10-26T19:09:06.114Z"
   },
   {
    "duration": 239,
    "start_time": "2021-10-26T19:10:18.639Z"
   },
   {
    "duration": 218,
    "start_time": "2021-10-26T19:11:19.054Z"
   },
   {
    "duration": 33,
    "start_time": "2021-10-26T19:11:31.729Z"
   },
   {
    "duration": 34,
    "start_time": "2021-10-26T19:13:05.743Z"
   },
   {
    "duration": 797,
    "start_time": "2021-10-26T19:18:18.686Z"
   },
   {
    "duration": 29,
    "start_time": "2021-10-26T19:18:19.485Z"
   },
   {
    "duration": 47,
    "start_time": "2021-10-26T19:18:19.517Z"
   },
   {
    "duration": 15,
    "start_time": "2021-10-26T19:18:20.104Z"
   },
   {
    "duration": 13,
    "start_time": "2021-10-26T19:18:20.521Z"
   },
   {
    "duration": 9,
    "start_time": "2021-10-26T19:18:20.918Z"
   },
   {
    "duration": 31,
    "start_time": "2021-10-26T19:18:21.257Z"
   },
   {
    "duration": 14,
    "start_time": "2021-10-26T19:18:21.432Z"
   },
   {
    "duration": 15,
    "start_time": "2021-10-26T19:18:21.785Z"
   },
   {
    "duration": 40,
    "start_time": "2021-10-26T19:18:22.122Z"
   },
   {
    "duration": 20,
    "start_time": "2021-10-26T19:18:22.313Z"
   },
   {
    "duration": 10,
    "start_time": "2021-10-26T19:18:22.665Z"
   },
   {
    "duration": 10,
    "start_time": "2021-10-26T19:18:22.841Z"
   },
   {
    "duration": 34,
    "start_time": "2021-10-26T19:18:23.017Z"
   },
   {
    "duration": 8,
    "start_time": "2021-10-26T19:18:23.359Z"
   },
   {
    "duration": 10,
    "start_time": "2021-10-26T19:18:23.804Z"
   },
   {
    "duration": 20,
    "start_time": "2021-10-26T19:18:24.758Z"
   },
   {
    "duration": 17,
    "start_time": "2021-10-26T19:18:25.279Z"
   },
   {
    "duration": 20,
    "start_time": "2021-10-26T19:18:25.482Z"
   },
   {
    "duration": 10,
    "start_time": "2021-10-26T19:18:26.374Z"
   },
   {
    "duration": 16,
    "start_time": "2021-10-26T19:18:26.728Z"
   },
   {
    "duration": 12,
    "start_time": "2021-10-26T19:18:27.127Z"
   },
   {
    "duration": 11,
    "start_time": "2021-10-26T19:18:27.486Z"
   },
   {
    "duration": 10,
    "start_time": "2021-10-26T19:18:27.874Z"
   },
   {
    "duration": 10,
    "start_time": "2021-10-26T19:18:28.229Z"
   },
   {
    "duration": 10,
    "start_time": "2021-10-26T19:18:28.434Z"
   },
   {
    "duration": 10,
    "start_time": "2021-10-26T19:18:28.777Z"
   },
   {
    "duration": 25,
    "start_time": "2021-10-26T19:18:29.327Z"
   },
   {
    "duration": 48,
    "start_time": "2021-10-26T19:18:29.697Z"
   },
   {
    "duration": 21,
    "start_time": "2021-10-26T19:18:30.088Z"
   },
   {
    "duration": 24,
    "start_time": "2021-10-26T19:18:30.502Z"
   },
   {
    "duration": 23,
    "start_time": "2021-10-26T19:18:30.674Z"
   },
   {
    "duration": 10,
    "start_time": "2021-10-26T19:18:31.649Z"
   },
   {
    "duration": 4816,
    "start_time": "2021-10-26T19:18:32.498Z"
   },
   {
    "duration": 36,
    "start_time": "2021-10-26T19:18:37.317Z"
   },
   {
    "duration": 22,
    "start_time": "2021-10-26T19:18:37.357Z"
   },
   {
    "duration": 92,
    "start_time": "2021-10-26T19:18:37.382Z"
   },
   {
    "duration": 30,
    "start_time": "2021-10-26T19:18:37.477Z"
   },
   {
    "duration": 49,
    "start_time": "2021-10-26T19:18:37.509Z"
   },
   {
    "duration": 336,
    "start_time": "2021-10-26T19:18:37.560Z"
   },
   {
    "duration": -119939,
    "start_time": "2021-10-26T19:20:37.838Z"
   },
   {
    "duration": 45,
    "start_time": "2021-10-26T19:18:38.446Z"
   },
   {
    "duration": 32,
    "start_time": "2021-10-26T19:18:40.123Z"
   },
   {
    "duration": 241,
    "start_time": "2021-10-26T19:21:17.108Z"
   },
   {
    "duration": 34,
    "start_time": "2021-10-26T19:21:27.884Z"
   },
   {
    "duration": 37,
    "start_time": "2021-10-26T19:22:05.587Z"
   },
   {
    "duration": 35,
    "start_time": "2021-10-26T19:22:22.459Z"
   },
   {
    "duration": 813,
    "start_time": "2021-10-26T19:50:49.005Z"
   },
   {
    "duration": 29,
    "start_time": "2021-10-26T19:50:49.821Z"
   },
   {
    "duration": 45,
    "start_time": "2021-10-26T19:50:49.852Z"
   },
   {
    "duration": 15,
    "start_time": "2021-10-26T19:50:50.298Z"
   },
   {
    "duration": 13,
    "start_time": "2021-10-26T19:50:50.672Z"
   },
   {
    "duration": 9,
    "start_time": "2021-10-26T19:50:51.038Z"
   },
   {
    "duration": 30,
    "start_time": "2021-10-26T19:50:51.374Z"
   },
   {
    "duration": 15,
    "start_time": "2021-10-26T19:50:51.553Z"
   },
   {
    "duration": 14,
    "start_time": "2021-10-26T19:50:52.073Z"
   },
   {
    "duration": 39,
    "start_time": "2021-10-26T19:50:52.567Z"
   },
   {
    "duration": 20,
    "start_time": "2021-10-26T19:50:52.760Z"
   },
   {
    "duration": 10,
    "start_time": "2021-10-26T19:50:53.132Z"
   },
   {
    "duration": 10,
    "start_time": "2021-10-26T19:50:53.312Z"
   },
   {
    "duration": 34,
    "start_time": "2021-10-26T19:50:53.508Z"
   },
   {
    "duration": 8,
    "start_time": "2021-10-26T19:50:53.871Z"
   },
   {
    "duration": 11,
    "start_time": "2021-10-26T19:50:54.237Z"
   },
   {
    "duration": 19,
    "start_time": "2021-10-26T19:50:55.528Z"
   },
   {
    "duration": 18,
    "start_time": "2021-10-26T19:50:55.927Z"
   },
   {
    "duration": 21,
    "start_time": "2021-10-26T19:50:56.146Z"
   },
   {
    "duration": 9,
    "start_time": "2021-10-26T19:50:57.152Z"
   },
   {
    "duration": 17,
    "start_time": "2021-10-26T19:50:58.001Z"
   },
   {
    "duration": 11,
    "start_time": "2021-10-26T19:51:00.176Z"
   },
   {
    "duration": 11,
    "start_time": "2021-10-26T19:51:01.924Z"
   },
   {
    "duration": 10,
    "start_time": "2021-10-26T19:51:03.383Z"
   },
   {
    "duration": 9,
    "start_time": "2021-10-26T19:51:04.752Z"
   },
   {
    "duration": 9,
    "start_time": "2021-10-26T19:51:06.077Z"
   },
   {
    "duration": 10,
    "start_time": "2021-10-26T19:51:07.769Z"
   },
   {
    "duration": 26,
    "start_time": "2021-10-26T19:51:10.692Z"
   },
   {
    "duration": 46,
    "start_time": "2021-10-26T19:51:12.577Z"
   },
   {
    "duration": 29,
    "start_time": "2021-10-26T19:51:15.071Z"
   },
   {
    "duration": 23,
    "start_time": "2021-10-26T19:51:17.111Z"
   },
   {
    "duration": 24,
    "start_time": "2021-10-26T19:51:20.489Z"
   },
   {
    "duration": 10,
    "start_time": "2021-10-26T19:51:24.626Z"
   },
   {
    "duration": 4547,
    "start_time": "2021-10-26T19:51:28.691Z"
   },
   {
    "duration": 19,
    "start_time": "2021-10-26T19:51:39.060Z"
   },
   {
    "duration": 15,
    "start_time": "2021-10-26T19:51:40.333Z"
   },
   {
    "duration": 44,
    "start_time": "2021-10-26T19:51:42.937Z"
   },
   {
    "duration": 29,
    "start_time": "2021-10-26T19:51:43.988Z"
   },
   {
    "duration": 33,
    "start_time": "2021-10-26T19:51:49.830Z"
   },
   {
    "duration": 44,
    "start_time": "2021-10-26T19:52:17.125Z"
   },
   {
    "duration": 35,
    "start_time": "2021-10-26T19:52:36.247Z"
   },
   {
    "duration": 34,
    "start_time": "2021-10-26T19:52:41.872Z"
   },
   {
    "duration": 34,
    "start_time": "2021-10-26T19:52:44.908Z"
   },
   {
    "duration": 34,
    "start_time": "2021-10-26T19:53:03.032Z"
   },
   {
    "duration": 48,
    "start_time": "2021-10-26T19:53:08.414Z"
   },
   {
    "duration": 32,
    "start_time": "2021-10-26T19:53:10.592Z"
   },
   {
    "duration": 11,
    "start_time": "2021-10-26T20:01:26.243Z"
   },
   {
    "duration": 785,
    "start_time": "2021-10-26T20:17:02.053Z"
   },
   {
    "duration": 31,
    "start_time": "2021-10-26T20:17:02.841Z"
   },
   {
    "duration": 45,
    "start_time": "2021-10-26T20:17:03.280Z"
   },
   {
    "duration": 15,
    "start_time": "2021-10-26T20:17:05.910Z"
   },
   {
    "duration": 12,
    "start_time": "2021-10-26T20:17:06.880Z"
   },
   {
    "duration": 10,
    "start_time": "2021-10-26T20:17:07.674Z"
   },
   {
    "duration": 31,
    "start_time": "2021-10-26T20:17:08.047Z"
   },
   {
    "duration": 17,
    "start_time": "2021-10-26T20:17:08.376Z"
   },
   {
    "duration": 16,
    "start_time": "2021-10-26T20:17:08.735Z"
   },
   {
    "duration": 39,
    "start_time": "2021-10-26T20:17:09.105Z"
   },
   {
    "duration": 24,
    "start_time": "2021-10-26T20:17:09.281Z"
   },
   {
    "duration": 10,
    "start_time": "2021-10-26T20:17:10.579Z"
   },
   {
    "duration": 14,
    "start_time": "2021-10-26T20:17:11.122Z"
   },
   {
    "duration": 35,
    "start_time": "2021-10-26T20:17:11.727Z"
   },
   {
    "duration": 8,
    "start_time": "2021-10-26T20:17:12.879Z"
   },
   {
    "duration": 10,
    "start_time": "2021-10-26T20:17:14.001Z"
   },
   {
    "duration": 18,
    "start_time": "2021-10-26T20:17:17.366Z"
   },
   {
    "duration": 16,
    "start_time": "2021-10-26T20:17:18.374Z"
   },
   {
    "duration": 20,
    "start_time": "2021-10-26T20:17:18.917Z"
   },
   {
    "duration": 12,
    "start_time": "2021-10-26T20:17:21.779Z"
   },
   {
    "duration": 16,
    "start_time": "2021-10-26T20:17:22.275Z"
   },
   {
    "duration": 12,
    "start_time": "2021-10-26T20:17:23.283Z"
   },
   {
    "duration": 11,
    "start_time": "2021-10-26T20:17:24.250Z"
   },
   {
    "duration": 10,
    "start_time": "2021-10-26T20:17:25.211Z"
   },
   {
    "duration": 11,
    "start_time": "2021-10-26T20:17:26.434Z"
   },
   {
    "duration": 10,
    "start_time": "2021-10-26T20:17:26.911Z"
   },
   {
    "duration": 11,
    "start_time": "2021-10-26T20:17:28.032Z"
   },
   {
    "duration": 26,
    "start_time": "2021-10-26T20:17:29.557Z"
   },
   {
    "duration": 49,
    "start_time": "2021-10-26T20:17:30.516Z"
   },
   {
    "duration": 22,
    "start_time": "2021-10-26T20:17:31.662Z"
   },
   {
    "duration": 24,
    "start_time": "2021-10-26T20:17:32.686Z"
   },
   {
    "duration": 24,
    "start_time": "2021-10-26T20:17:33.120Z"
   },
   {
    "duration": 11,
    "start_time": "2021-10-26T20:17:35.969Z"
   },
   {
    "duration": 4468,
    "start_time": "2021-10-26T20:17:38.986Z"
   },
   {
    "duration": 17,
    "start_time": "2021-10-26T20:17:48.103Z"
   },
   {
    "duration": 17,
    "start_time": "2021-10-26T20:17:49.038Z"
   },
   {
    "duration": 12,
    "start_time": "2021-10-26T20:17:50.778Z"
   },
   {
    "duration": 30,
    "start_time": "2021-10-26T20:17:53.993Z"
   },
   {
    "duration": 32,
    "start_time": "2021-10-26T20:17:56.023Z"
   },
   {
    "duration": 44,
    "start_time": "2021-10-26T20:18:00.232Z"
   },
   {
    "duration": 36,
    "start_time": "2021-10-26T20:18:03.177Z"
   },
   {
    "duration": 33,
    "start_time": "2021-10-26T20:18:06.575Z"
   },
   {
    "duration": 35,
    "start_time": "2021-10-26T20:18:14.597Z"
   },
   {
    "duration": 35,
    "start_time": "2021-10-26T20:18:17.287Z"
   },
   {
    "duration": 1103,
    "start_time": "2021-10-27T07:04:44.949Z"
   },
   {
    "duration": 19,
    "start_time": "2021-10-27T07:04:46.054Z"
   },
   {
    "duration": 33,
    "start_time": "2021-10-27T07:04:46.075Z"
   },
   {
    "duration": 9,
    "start_time": "2021-10-27T07:04:46.110Z"
   },
   {
    "duration": 8,
    "start_time": "2021-10-27T07:04:46.121Z"
   },
   {
    "duration": 6,
    "start_time": "2021-10-27T07:04:46.131Z"
   },
   {
    "duration": 54,
    "start_time": "2021-10-27T07:04:46.138Z"
   },
   {
    "duration": 10,
    "start_time": "2021-10-27T07:04:46.195Z"
   },
   {
    "duration": 12,
    "start_time": "2021-10-27T07:04:46.207Z"
   },
   {
    "duration": 28,
    "start_time": "2021-10-27T07:04:46.221Z"
   },
   {
    "duration": 33,
    "start_time": "2021-10-27T07:04:46.251Z"
   },
   {
    "duration": 7,
    "start_time": "2021-10-27T07:04:46.286Z"
   },
   {
    "duration": 9,
    "start_time": "2021-10-27T07:04:46.295Z"
   },
   {
    "duration": 25,
    "start_time": "2021-10-27T07:04:46.305Z"
   },
   {
    "duration": 5,
    "start_time": "2021-10-27T07:04:46.332Z"
   },
   {
    "duration": 38,
    "start_time": "2021-10-27T07:04:46.339Z"
   },
   {
    "duration": 14,
    "start_time": "2021-10-27T07:04:46.379Z"
   },
   {
    "duration": 13,
    "start_time": "2021-10-27T07:04:46.394Z"
   },
   {
    "duration": 12,
    "start_time": "2021-10-27T07:04:46.408Z"
   },
   {
    "duration": 9,
    "start_time": "2021-10-27T07:04:46.421Z"
   },
   {
    "duration": 49,
    "start_time": "2021-10-27T07:04:46.432Z"
   },
   {
    "duration": 11,
    "start_time": "2021-10-27T07:04:46.483Z"
   },
   {
    "duration": 8,
    "start_time": "2021-10-27T07:04:46.498Z"
   },
   {
    "duration": 8,
    "start_time": "2021-10-27T07:04:46.508Z"
   },
   {
    "duration": 7,
    "start_time": "2021-10-27T07:04:46.518Z"
   },
   {
    "duration": 9,
    "start_time": "2021-10-27T07:04:46.526Z"
   },
   {
    "duration": 41,
    "start_time": "2021-10-27T07:04:46.536Z"
   },
   {
    "duration": 18,
    "start_time": "2021-10-27T07:04:46.579Z"
   },
   {
    "duration": 29,
    "start_time": "2021-10-27T07:04:46.599Z"
   },
   {
    "duration": 15,
    "start_time": "2021-10-27T07:04:46.630Z"
   },
   {
    "duration": 42,
    "start_time": "2021-10-27T07:04:46.647Z"
   },
   {
    "duration": 17,
    "start_time": "2021-10-27T07:04:46.691Z"
   },
   {
    "duration": 7,
    "start_time": "2021-10-27T07:04:46.710Z"
   },
   {
    "duration": 3713,
    "start_time": "2021-10-27T07:04:46.719Z"
   },
   {
    "duration": 13,
    "start_time": "2021-10-27T07:04:50.433Z"
   },
   {
    "duration": 31,
    "start_time": "2021-10-27T07:04:50.447Z"
   },
   {
    "duration": 8,
    "start_time": "2021-10-27T07:04:50.480Z"
   },
   {
    "duration": 19,
    "start_time": "2021-10-27T07:04:50.490Z"
   },
   {
    "duration": 25,
    "start_time": "2021-10-27T07:04:50.510Z"
   },
   {
    "duration": 56,
    "start_time": "2021-10-27T07:04:50.536Z"
   },
   {
    "duration": 24,
    "start_time": "2021-10-27T07:04:50.593Z"
   },
   {
    "duration": 24,
    "start_time": "2021-10-27T07:04:50.618Z"
   },
   {
    "duration": 43,
    "start_time": "2021-10-27T07:04:50.643Z"
   },
   {
    "duration": 336,
    "start_time": "2021-10-27T17:15:36.921Z"
   },
   {
    "duration": 708,
    "start_time": "2021-10-27T17:16:02.307Z"
   },
   {
    "duration": 19,
    "start_time": "2021-10-27T17:16:03.017Z"
   },
   {
    "duration": 31,
    "start_time": "2021-10-27T17:16:03.038Z"
   },
   {
    "duration": 10,
    "start_time": "2021-10-27T17:16:03.820Z"
   },
   {
    "duration": 9,
    "start_time": "2021-10-27T17:16:04.219Z"
   },
   {
    "duration": 6,
    "start_time": "2021-10-27T17:16:04.632Z"
   },
   {
    "duration": 21,
    "start_time": "2021-10-27T17:16:04.992Z"
   },
   {
    "duration": 11,
    "start_time": "2021-10-27T17:16:05.993Z"
   },
   {
    "duration": 11,
    "start_time": "2021-10-27T17:16:07.247Z"
   },
   {
    "duration": 29,
    "start_time": "2021-10-27T17:16:08.904Z"
   },
   {
    "duration": 15,
    "start_time": "2021-10-27T17:16:10.399Z"
   },
   {
    "duration": 7,
    "start_time": "2021-10-27T17:16:12.497Z"
   },
   {
    "duration": 7,
    "start_time": "2021-10-27T17:16:13.285Z"
   },
   {
    "duration": 23,
    "start_time": "2021-10-27T17:16:15.199Z"
   },
   {
    "duration": 7,
    "start_time": "2021-10-27T17:16:18.027Z"
   },
   {
    "duration": 8,
    "start_time": "2021-10-27T17:16:20.312Z"
   },
   {
    "duration": 15,
    "start_time": "2021-10-27T17:16:26.227Z"
   },
   {
    "duration": 13,
    "start_time": "2021-10-27T17:16:27.865Z"
   },
   {
    "duration": 14,
    "start_time": "2021-10-27T17:16:29.024Z"
   },
   {
    "duration": 7,
    "start_time": "2021-10-27T17:16:34.716Z"
   },
   {
    "duration": 11,
    "start_time": "2021-10-27T17:16:36.235Z"
   },
   {
    "duration": 10,
    "start_time": "2021-10-27T17:16:42.825Z"
   },
   {
    "duration": 8,
    "start_time": "2021-10-27T17:16:45.257Z"
   },
   {
    "duration": 9,
    "start_time": "2021-10-27T17:16:46.570Z"
   },
   {
    "duration": 8,
    "start_time": "2021-10-27T17:16:47.972Z"
   },
   {
    "duration": 7,
    "start_time": "2021-10-27T17:16:48.920Z"
   },
   {
    "duration": 8,
    "start_time": "2021-10-27T17:16:51.045Z"
   },
   {
    "duration": 19,
    "start_time": "2021-10-27T17:16:54.116Z"
   },
   {
    "duration": 31,
    "start_time": "2021-10-27T17:16:55.818Z"
   },
   {
    "duration": 21,
    "start_time": "2021-10-27T17:16:59.358Z"
   },
   {
    "duration": 17,
    "start_time": "2021-10-27T17:17:00.651Z"
   },
   {
    "duration": 17,
    "start_time": "2021-10-27T17:17:01.396Z"
   },
   {
    "duration": 8,
    "start_time": "2021-10-27T17:17:07.971Z"
   },
   {
    "duration": 3631,
    "start_time": "2021-10-27T17:17:10.683Z"
   },
   {
    "duration": 441,
    "start_time": "2021-10-27T17:22:06.683Z"
   },
   {
    "duration": 23,
    "start_time": "2021-10-27T17:22:47.420Z"
   },
   {
    "duration": 26,
    "start_time": "2021-10-27T17:22:56.040Z"
   },
   {
    "duration": 22,
    "start_time": "2021-10-27T17:23:03.084Z"
   },
   {
    "duration": 11,
    "start_time": "2021-10-27T17:23:09.648Z"
   },
   {
    "duration": 12,
    "start_time": "2021-10-27T17:23:20.982Z"
   },
   {
    "duration": 13,
    "start_time": "2021-10-27T17:24:57.641Z"
   },
   {
    "duration": 14,
    "start_time": "2021-10-27T17:31:09.421Z"
   },
   {
    "duration": 716,
    "start_time": "2021-10-27T17:32:04.644Z"
   },
   {
    "duration": 17,
    "start_time": "2021-10-27T17:32:05.362Z"
   },
   {
    "duration": 34,
    "start_time": "2021-10-27T17:32:05.381Z"
   },
   {
    "duration": 9,
    "start_time": "2021-10-27T17:32:06.362Z"
   },
   {
    "duration": 9,
    "start_time": "2021-10-27T17:32:06.750Z"
   },
   {
    "duration": 6,
    "start_time": "2021-10-27T17:32:07.158Z"
   },
   {
    "duration": 19,
    "start_time": "2021-10-27T17:32:07.559Z"
   },
   {
    "duration": 10,
    "start_time": "2021-10-27T17:32:07.957Z"
   },
   {
    "duration": 11,
    "start_time": "2021-10-27T17:32:08.355Z"
   },
   {
    "duration": 29,
    "start_time": "2021-10-27T17:32:08.763Z"
   },
   {
    "duration": 12,
    "start_time": "2021-10-27T17:32:09.170Z"
   },
   {
    "duration": 7,
    "start_time": "2021-10-27T17:32:09.564Z"
   },
   {
    "duration": 7,
    "start_time": "2021-10-27T17:32:09.765Z"
   },
   {
    "duration": 23,
    "start_time": "2021-10-27T17:32:09.958Z"
   },
   {
    "duration": 6,
    "start_time": "2021-10-27T17:32:10.564Z"
   },
   {
    "duration": 7,
    "start_time": "2021-10-27T17:32:10.965Z"
   },
   {
    "duration": 13,
    "start_time": "2021-10-27T17:32:12.374Z"
   },
   {
    "duration": 13,
    "start_time": "2021-10-27T17:32:12.790Z"
   },
   {
    "duration": 13,
    "start_time": "2021-10-27T17:32:12.998Z"
   },
   {
    "duration": 7,
    "start_time": "2021-10-27T17:32:14.237Z"
   },
   {
    "duration": 12,
    "start_time": "2021-10-27T17:32:14.444Z"
   },
   {
    "duration": 9,
    "start_time": "2021-10-27T17:32:14.860Z"
   },
   {
    "duration": 7,
    "start_time": "2021-10-27T17:32:15.254Z"
   },
   {
    "duration": 8,
    "start_time": "2021-10-27T17:32:15.684Z"
   },
   {
    "duration": 8,
    "start_time": "2021-10-27T17:32:16.086Z"
   },
   {
    "duration": 7,
    "start_time": "2021-10-27T17:32:16.291Z"
   },
   {
    "duration": 7,
    "start_time": "2021-10-27T17:32:16.690Z"
   },
   {
    "duration": 18,
    "start_time": "2021-10-27T17:32:17.303Z"
   },
   {
    "duration": 31,
    "start_time": "2021-10-27T17:32:18.134Z"
   },
   {
    "duration": 16,
    "start_time": "2021-10-27T17:32:18.533Z"
   },
   {
    "duration": 16,
    "start_time": "2021-10-27T17:32:18.968Z"
   },
   {
    "duration": 15,
    "start_time": "2021-10-27T17:32:20.146Z"
   },
   {
    "duration": 8,
    "start_time": "2021-10-27T17:32:20.862Z"
   },
   {
    "duration": 3563,
    "start_time": "2021-10-27T17:32:21.622Z"
   },
   {
    "duration": 13,
    "start_time": "2021-10-27T17:32:25.187Z"
   },
   {
    "duration": 11,
    "start_time": "2021-10-27T17:32:25.201Z"
   },
   {
    "duration": 9,
    "start_time": "2021-10-27T17:32:26.189Z"
   },
   {
    "duration": 20,
    "start_time": "2021-10-27T17:32:27.411Z"
   },
   {
    "duration": 20,
    "start_time": "2021-10-27T17:32:29.159Z"
   },
   {
    "duration": 32,
    "start_time": "2021-10-27T17:32:33.114Z"
   },
   {
    "duration": 14,
    "start_time": "2021-10-27T17:32:33.884Z"
   },
   {
    "duration": 24,
    "start_time": "2021-10-27T17:32:37.197Z"
   },
   {
    "duration": 22,
    "start_time": "2021-10-27T17:32:39.716Z"
   },
   {
    "duration": 22,
    "start_time": "2021-10-27T17:32:43.524Z"
   },
   {
    "duration": 20,
    "start_time": "2021-10-27T17:32:46.914Z"
   }
  ],
  "kernelspec": {
   "display_name": "Python 3",
   "language": "python",
   "name": "python3"
  },
  "language_info": {
   "codemirror_mode": {
    "name": "ipython",
    "version": 3
   },
   "file_extension": ".py",
   "mimetype": "text/x-python",
   "name": "python",
   "nbconvert_exporter": "python",
   "pygments_lexer": "ipython3",
   "version": "3.7.8"
  },
  "toc": {
   "base_numbering": 1,
   "nav_menu": {},
   "number_sections": true,
   "sideBar": true,
   "skip_h1_title": true,
   "title_cell": "Table of Contents",
   "title_sidebar": "Contents",
   "toc_cell": false,
   "toc_position": {},
   "toc_section_display": true,
   "toc_window_display": false
  }
 },
 "nbformat": 4,
 "nbformat_minor": 2
}
